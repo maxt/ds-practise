{
 "cells": [
  {
   "cell_type": "code",
   "execution_count": 1,
   "metadata": {},
   "outputs": [],
   "source": [
    "import sqlite3\n",
    "import pandas as pd"
   ]
  },
  {
   "cell_type": "code",
   "execution_count": 2,
   "metadata": {},
   "outputs": [],
   "source": [
    "con = sqlite3.connect(\":memory:\")\n",
    "cur = con.cursor()"
   ]
  },
  {
   "cell_type": "markdown",
   "metadata": {},
   "source": [
    "https://www.cs.toronto.edu/~delve/data/boston/bostonDetail.html"
   ]
  },
  {
   "cell_type": "code",
   "execution_count": 3,
   "metadata": {},
   "outputs": [],
   "source": [
    "data = pd.read_csv('boston.csv')"
   ]
  },
  {
   "cell_type": "code",
   "execution_count": 4,
   "metadata": {},
   "outputs": [
    {
     "data": {
      "text/plain": "506"
     },
     "execution_count": 4,
     "metadata": {},
     "output_type": "execute_result"
    }
   ],
   "source": [
    "data.to_sql(\"boston\", con, index=False, if_exists=\"replace\")"
   ]
  },
  {
   "cell_type": "code",
   "execution_count": 6,
   "metadata": {
    "scrolled": true
   },
   "outputs": [
    {
     "data": {
      "text/plain": "      CRIM    ZN  INDUS  CHAS    NOX     RM   AGE     DIS  RAD    TAX  \\\n0  0.00632  18.0   2.31   0.0  0.538  6.575  65.2  4.0900  1.0  296.0   \n1  0.02731   0.0   7.07   0.0  0.469  6.421  78.9  4.9671  2.0  242.0   \n2  0.02729   0.0   7.07   0.0  0.469  7.185  61.1  4.9671  2.0  242.0   \n3  0.03237   0.0   2.18   0.0  0.458  6.998  45.8  6.0622  3.0  222.0   \n4  0.06905   0.0   2.18   0.0  0.458  7.147  54.2  6.0622  3.0  222.0   \n\n   PTRATIO       B  LSTAT  MEDV  \n0     15.3  396.90   4.98  24.0  \n1     17.8  396.90   9.14  21.6  \n2     17.8  392.83   4.03  34.7  \n3     18.7  394.63   2.94  33.4  \n4     18.7  396.90   5.33  36.2  ",
      "text/html": "<div>\n<style scoped>\n    .dataframe tbody tr th:only-of-type {\n        vertical-align: middle;\n    }\n\n    .dataframe tbody tr th {\n        vertical-align: top;\n    }\n\n    .dataframe thead th {\n        text-align: right;\n    }\n</style>\n<table border=\"1\" class=\"dataframe\">\n  <thead>\n    <tr style=\"text-align: right;\">\n      <th></th>\n      <th>CRIM</th>\n      <th>ZN</th>\n      <th>INDUS</th>\n      <th>CHAS</th>\n      <th>NOX</th>\n      <th>RM</th>\n      <th>AGE</th>\n      <th>DIS</th>\n      <th>RAD</th>\n      <th>TAX</th>\n      <th>PTRATIO</th>\n      <th>B</th>\n      <th>LSTAT</th>\n      <th>MEDV</th>\n    </tr>\n  </thead>\n  <tbody>\n    <tr>\n      <th>0</th>\n      <td>0.00632</td>\n      <td>18.0</td>\n      <td>2.31</td>\n      <td>0.0</td>\n      <td>0.538</td>\n      <td>6.575</td>\n      <td>65.2</td>\n      <td>4.0900</td>\n      <td>1.0</td>\n      <td>296.0</td>\n      <td>15.3</td>\n      <td>396.90</td>\n      <td>4.98</td>\n      <td>24.0</td>\n    </tr>\n    <tr>\n      <th>1</th>\n      <td>0.02731</td>\n      <td>0.0</td>\n      <td>7.07</td>\n      <td>0.0</td>\n      <td>0.469</td>\n      <td>6.421</td>\n      <td>78.9</td>\n      <td>4.9671</td>\n      <td>2.0</td>\n      <td>242.0</td>\n      <td>17.8</td>\n      <td>396.90</td>\n      <td>9.14</td>\n      <td>21.6</td>\n    </tr>\n    <tr>\n      <th>2</th>\n      <td>0.02729</td>\n      <td>0.0</td>\n      <td>7.07</td>\n      <td>0.0</td>\n      <td>0.469</td>\n      <td>7.185</td>\n      <td>61.1</td>\n      <td>4.9671</td>\n      <td>2.0</td>\n      <td>242.0</td>\n      <td>17.8</td>\n      <td>392.83</td>\n      <td>4.03</td>\n      <td>34.7</td>\n    </tr>\n    <tr>\n      <th>3</th>\n      <td>0.03237</td>\n      <td>0.0</td>\n      <td>2.18</td>\n      <td>0.0</td>\n      <td>0.458</td>\n      <td>6.998</td>\n      <td>45.8</td>\n      <td>6.0622</td>\n      <td>3.0</td>\n      <td>222.0</td>\n      <td>18.7</td>\n      <td>394.63</td>\n      <td>2.94</td>\n      <td>33.4</td>\n    </tr>\n    <tr>\n      <th>4</th>\n      <td>0.06905</td>\n      <td>0.0</td>\n      <td>2.18</td>\n      <td>0.0</td>\n      <td>0.458</td>\n      <td>7.147</td>\n      <td>54.2</td>\n      <td>6.0622</td>\n      <td>3.0</td>\n      <td>222.0</td>\n      <td>18.7</td>\n      <td>396.90</td>\n      <td>5.33</td>\n      <td>36.2</td>\n    </tr>\n  </tbody>\n</table>\n</div>"
     },
     "execution_count": 6,
     "metadata": {},
     "output_type": "execute_result"
    }
   ],
   "source": [
    "pd.read_sql(\n",
    "    \"\"\"\n",
    "    SELECT * FROM boston\n",
    "    limit 5\n",
    "    \"\"\",\n",
    "    con,\n",
    ")"
   ]
  },
  {
   "cell_type": "code",
   "execution_count": null,
   "metadata": {},
   "outputs": [],
   "source": []
  },
  {
   "cell_type": "markdown",
   "metadata": {},
   "source": [
    "### Все задания нужно выполнить только с помощью sql"
   ]
  },
  {
   "cell_type": "markdown",
   "metadata": {},
   "source": [
    "1. Выведите количество пустых значений по колонкам CRIM, ZN, INDUS, CHAS, NOX (название колонки, кол-во пустых значений)"
   ]
  },
  {
   "cell_type": "code",
   "execution_count": 7,
   "metadata": {},
   "outputs": [
    {
     "data": {
      "text/plain": "   CRIM   ZN  INDUS  CHAS  NOX\n0     0  372      0   471    0",
      "text/html": "<div>\n<style scoped>\n    .dataframe tbody tr th:only-of-type {\n        vertical-align: middle;\n    }\n\n    .dataframe tbody tr th {\n        vertical-align: top;\n    }\n\n    .dataframe thead th {\n        text-align: right;\n    }\n</style>\n<table border=\"1\" class=\"dataframe\">\n  <thead>\n    <tr style=\"text-align: right;\">\n      <th></th>\n      <th>CRIM</th>\n      <th>ZN</th>\n      <th>INDUS</th>\n      <th>CHAS</th>\n      <th>NOX</th>\n    </tr>\n  </thead>\n  <tbody>\n    <tr>\n      <th>0</th>\n      <td>0</td>\n      <td>372</td>\n      <td>0</td>\n      <td>471</td>\n      <td>0</td>\n    </tr>\n  </tbody>\n</table>\n</div>"
     },
     "execution_count": 7,
     "metadata": {},
     "output_type": "execute_result"
    }
   ],
   "source": [
    "pd.read_sql(\n",
    "    \"\"\"\n",
    "    select \n",
    "    count (*) filter (where CRIM=0.0) as CRIM,\n",
    "    count(*) filter (where zn=0.0) as ZN,\n",
    "    count (*) filter (where INDUS=0.0) as INDUS,\n",
    "    count (*) filter (where CHAS=0.0) as CHAS,\n",
    "    count (*) filter (where NOX=0.0) as NOX from boston\n",
    "    \"\"\",\n",
    "    con,\n",
    ")"
   ]
  },
  {
   "cell_type": "markdown",
   "metadata": {},
   "source": [
    "2. Выведите количество уникальных значений по колонокам CRIM, ZN, INDUS, CHAS, NOX (название колонки, кол-во уникальных значений)"
   ]
  },
  {
   "cell_type": "code",
   "execution_count": 8,
   "metadata": {},
   "outputs": [
    {
     "data": {
      "text/plain": "   CRIM  ZN  INDUS  CHAS  NOX\n0   504  25     76     1   81",
      "text/html": "<div>\n<style scoped>\n    .dataframe tbody tr th:only-of-type {\n        vertical-align: middle;\n    }\n\n    .dataframe tbody tr th {\n        vertical-align: top;\n    }\n\n    .dataframe thead th {\n        text-align: right;\n    }\n</style>\n<table border=\"1\" class=\"dataframe\">\n  <thead>\n    <tr style=\"text-align: right;\">\n      <th></th>\n      <th>CRIM</th>\n      <th>ZN</th>\n      <th>INDUS</th>\n      <th>CHAS</th>\n      <th>NOX</th>\n    </tr>\n  </thead>\n  <tbody>\n    <tr>\n      <th>0</th>\n      <td>504</td>\n      <td>25</td>\n      <td>76</td>\n      <td>1</td>\n      <td>81</td>\n    </tr>\n  </tbody>\n</table>\n</div>"
     },
     "execution_count": 8,
     "metadata": {},
     "output_type": "execute_result"
    }
   ],
   "source": [
    "pd.read_sql(\n",
    "    \"\"\"\n",
    "    select count(distinct CRIM) filter (where CRIM!=0.0) as CRIM,\n",
    "    count (distinct ZN) filter (where ZN!=0.0) as ZN,\n",
    "    count (distinct INDUS) filter (where INDUS!=0.0) as INDUS,\n",
    "    count (distinct CHAS) filter (where CHAS!=0.0) as CHAS,\n",
    "    count (distinct NOX) filter (where NOX!=0.0) as NOX\n",
    "    from boston\n",
    "    \"\"\",\n",
    "    con,\n",
    ")"
   ]
  },
  {
   "cell_type": "markdown",
   "metadata": {},
   "source": [
    "3. Выведите колонки, у которых медиана равна минимальному значению (название колонки) выбирая из CRIM, ZN, INDUS, CHAS, NOX.\n",
    "Напишите какой вывод можно сделать по данным в этих колонках"
   ]
  },
  {
   "cell_type": "code",
   "execution_count": 58,
   "outputs": [
    {
     "data": {
      "text/plain": "  task_result\n0    ZN CHAS ",
      "text/html": "<div>\n<style scoped>\n    .dataframe tbody tr th:only-of-type {\n        vertical-align: middle;\n    }\n\n    .dataframe tbody tr th {\n        vertical-align: top;\n    }\n\n    .dataframe thead th {\n        text-align: right;\n    }\n</style>\n<table border=\"1\" class=\"dataframe\">\n  <thead>\n    <tr style=\"text-align: right;\">\n      <th></th>\n      <th>task_result</th>\n    </tr>\n  </thead>\n  <tbody>\n    <tr>\n      <th>0</th>\n      <td>ZN CHAS</td>\n    </tr>\n  </tbody>\n</table>\n</div>"
     },
     "execution_count": 58,
     "metadata": {},
     "output_type": "execute_result"
    }
   ],
   "source": [
    "pd.read_sql(\n",
    "    \"\"\"\n",
    "    with medians as (\n",
    "    select\n",
    "    nth_value(CRIM, (select count(*)/2 from boston)) over (order by CRIM) as CRIM_MEDIAN,\n",
    "    min(CRIM) over () as MIN_CRIM,\n",
    "    nth_value(ZN, (select count(*)/2 from boston)) over (order by ZN) as ZN_MEDIAN,\n",
    "    min(ZN) over () as MIN_ZN,\n",
    "    nth_value(INDUS, (select count(*)/2 from boston)) over (order by INDUS) as INDUS_MEDIAN,\n",
    "    min(INDUS) over () as MIN_INDUS,\n",
    "    nth_value(CHAS, (select count(*)/2 from boston)) over (order by CHAS) as CHAS_MEDIAN,\n",
    "    min(CHAS) over () as MIN_CHAS,\n",
    "    nth_value(NOX, (select count(*)/2 from boston)) over (order by NOX) as NOX_MEDIAN,\n",
    "    min(NOX) over () as MIN_NOX\n",
    "    from boston  limit 1 offset (select count(*) from boston) /2\n",
    "    )\n",
    "    select\n",
    "     iif(CRIM_MEDIAN=MIN_CRIM, 'CRIM', ' ') ||\n",
    "     iif(ZN_MEDIAN=MIN_ZN, 'ZN', ' ') ||\n",
    "     iif(INDUS_MEDIAN=MIN_INDUS, 'INDUS', ' ') ||\n",
    "     iif(CHAS_MEDIAN=MIN_CHAS, 'CHAS', ' ') ||\n",
    "     iif(NOX_MEDIAN=MIN_NOX, 'NOX', ' ') as task_result\n",
    "    from medians\n",
    "    \"\"\",\n",
    "    con,\n",
    ")"
   ],
   "metadata": {
    "collapsed": false,
    "pycharm": {
     "name": "#%%\n"
    }
   }
  },
  {
   "cell_type": "markdown",
   "source": [
    "Согласно wiki: Если распределение имеет разрывы, то медиана может совпадать с минимальным или максимальным (крайним) возможным значением случайной величины, что противоречит «геометрическому» пониманию этого термина.\n",
    "[Расчет медианы по stackoverflow](https://stackoverflow.com/questions/15763965/how-can-i-calculate-the-median-of-values-in-sqlite)"
   ],
   "metadata": {
    "collapsed": false
   }
  },
  {
   "cell_type": "markdown",
   "metadata": {},
   "source": [
    "4. Выведите разницу между среднем количеством комнат(RM) в домах с самой дорогой стоимостью(MEDV) и 25 самыми дешевыми домами. \n",
    "Аналогично по 50, 100, 200, 300 самыми дешевыми домами. (кол-во домов(25,50,100,200,300), среднее кол-во комнат в них, среднее кол-во комнат в самых дорогих, разница).\n",
    "Напишите влияет ли кол-во комнат на стоимость и как сильно."
   ]
  },
  {
   "cell_type": "code",
   "execution_count": 157,
   "outputs": [
    {
     "data": {
      "text/plain": "    diff_25  diff_50  diff_100  diff_200  diff_300\n0  1.199366     1.78  1.999333  1.776333     1.916",
      "text/html": "<div>\n<style scoped>\n    .dataframe tbody tr th:only-of-type {\n        vertical-align: middle;\n    }\n\n    .dataframe tbody tr th {\n        vertical-align: top;\n    }\n\n    .dataframe thead th {\n        text-align: right;\n    }\n</style>\n<table border=\"1\" class=\"dataframe\">\n  <thead>\n    <tr style=\"text-align: right;\">\n      <th></th>\n      <th>diff_25</th>\n      <th>diff_50</th>\n      <th>diff_100</th>\n      <th>diff_200</th>\n      <th>diff_300</th>\n    </tr>\n  </thead>\n  <tbody>\n    <tr>\n      <th>0</th>\n      <td>1.199366</td>\n      <td>1.78</td>\n      <td>1.999333</td>\n      <td>1.776333</td>\n      <td>1.916</td>\n    </tr>\n  </tbody>\n</table>\n</div>"
     },
     "execution_count": 157,
     "metadata": {},
     "output_type": "execute_result"
    }
   ],
   "source": [
    "pd.read_sql(\n",
    "    \"\"\"\n",
    "    with top_houses as (\n",
    "        select avg(RM) as avg_rm_top_price from boston where medv=(select max(medv) from boston)\n",
    "    ), min_houses_ntiled as (\n",
    "        select\n",
    "            ntile(25) over (order by medv) as ntile_25,\n",
    "            ntile(50) over (order by medv) as ntile_50,\n",
    "            ntile(100) over (order by medv) as ntile_100,\n",
    "            ntile(200) over (order by medv) as ntile_200,\n",
    "            ntile(300) over (order by medv) as ntile_300,\n",
    "        RM\n",
    "        from boston order by medv\n",
    "    )\n",
    "    select\n",
    "        (select max(avg_rm_top_price) from top_houses) - avg(RM) filter (where ntile_25=1) as diff_25,\n",
    "        (select max(avg_rm_top_price) from top_houses) - avg(RM) filter (where ntile_50=1) as diff_50,\n",
    "        (select max(avg_rm_top_price) from top_houses) - avg(RM) filter (where ntile_100=1) as diff_100,\n",
    "        (select max(avg_rm_top_price) from top_houses) - avg(RM) filter (where ntile_200=1) as diff_200,\n",
    "        (select max(avg_rm_top_price) from top_houses) - avg(RM) filter (where ntile_300=1) as diff_300\n",
    "\n",
    "    from min_houses_ntiled\n",
    "    \"\"\",\n",
    "    con,\n",
    ")"
   ],
   "metadata": {
    "collapsed": false,
    "pycharm": {
     "name": "#%%\n"
    }
   }
  },
  {
   "cell_type": "markdown",
   "source": [
    "В целом по разнице в средних на 50, 100, 200, 300 разница прослеживается, в то же время - минимальные 25 при сравнении с максимальными 25 -\n",
    "существенной разницы не показывают. Полагаю можно считать, что в дорогих домах на avg(diff_25, diff_50, diff_100, diff_200, diff_300) комнат в среднем больше, чем в дешевых."
   ],
   "metadata": {
    "collapsed": false
   }
  },
  {
   "cell_type": "markdown",
   "metadata": {},
   "source": [
    "5. Выведите ранги значений колонки LSTAT(процент населения с более низким статусом) в домах с самой дорогой стоимостью (значение LSTAT, стоимость, ранг) среди всех знаечений LSTAT. Напишите какой вывод можно сделать по этим данным."
   ]
  },
  {
   "cell_type": "code",
   "execution_count": 174,
   "outputs": [
    {
     "data": {
      "text/plain": "    LSTAT  MEDV  RANK\n0    1.73  50.0   491\n1    1.92  50.0   491\n2    3.32  50.0   491\n3    3.70  50.0   491\n4    4.45  50.0   491\n5    2.97  50.0   491\n6    2.88  50.0   491\n7    4.63  50.0   491\n8    5.12  50.0   491\n9    7.44  50.0   491\n10   3.16  50.0   491\n11   3.26  50.0   491\n12   3.73  50.0   491\n13   2.96  50.0   491\n14   9.53  50.0   491\n15   8.88  50.0   491",
      "text/html": "<div>\n<style scoped>\n    .dataframe tbody tr th:only-of-type {\n        vertical-align: middle;\n    }\n\n    .dataframe tbody tr th {\n        vertical-align: top;\n    }\n\n    .dataframe thead th {\n        text-align: right;\n    }\n</style>\n<table border=\"1\" class=\"dataframe\">\n  <thead>\n    <tr style=\"text-align: right;\">\n      <th></th>\n      <th>LSTAT</th>\n      <th>MEDV</th>\n      <th>RANK</th>\n    </tr>\n  </thead>\n  <tbody>\n    <tr>\n      <th>0</th>\n      <td>1.73</td>\n      <td>50.0</td>\n      <td>491</td>\n    </tr>\n    <tr>\n      <th>1</th>\n      <td>1.92</td>\n      <td>50.0</td>\n      <td>491</td>\n    </tr>\n    <tr>\n      <th>2</th>\n      <td>3.32</td>\n      <td>50.0</td>\n      <td>491</td>\n    </tr>\n    <tr>\n      <th>3</th>\n      <td>3.70</td>\n      <td>50.0</td>\n      <td>491</td>\n    </tr>\n    <tr>\n      <th>4</th>\n      <td>4.45</td>\n      <td>50.0</td>\n      <td>491</td>\n    </tr>\n    <tr>\n      <th>5</th>\n      <td>2.97</td>\n      <td>50.0</td>\n      <td>491</td>\n    </tr>\n    <tr>\n      <th>6</th>\n      <td>2.88</td>\n      <td>50.0</td>\n      <td>491</td>\n    </tr>\n    <tr>\n      <th>7</th>\n      <td>4.63</td>\n      <td>50.0</td>\n      <td>491</td>\n    </tr>\n    <tr>\n      <th>8</th>\n      <td>5.12</td>\n      <td>50.0</td>\n      <td>491</td>\n    </tr>\n    <tr>\n      <th>9</th>\n      <td>7.44</td>\n      <td>50.0</td>\n      <td>491</td>\n    </tr>\n    <tr>\n      <th>10</th>\n      <td>3.16</td>\n      <td>50.0</td>\n      <td>491</td>\n    </tr>\n    <tr>\n      <th>11</th>\n      <td>3.26</td>\n      <td>50.0</td>\n      <td>491</td>\n    </tr>\n    <tr>\n      <th>12</th>\n      <td>3.73</td>\n      <td>50.0</td>\n      <td>491</td>\n    </tr>\n    <tr>\n      <th>13</th>\n      <td>2.96</td>\n      <td>50.0</td>\n      <td>491</td>\n    </tr>\n    <tr>\n      <th>14</th>\n      <td>9.53</td>\n      <td>50.0</td>\n      <td>491</td>\n    </tr>\n    <tr>\n      <th>15</th>\n      <td>8.88</td>\n      <td>50.0</td>\n      <td>491</td>\n    </tr>\n  </tbody>\n</table>\n</div>"
     },
     "execution_count": 174,
     "metadata": {},
     "output_type": "execute_result"
    }
   ],
   "source": [
    "pd.read_sql(\n",
    "    \"\"\"\n",
    "    with ranks as (\n",
    "    select LSTAT, MEDV ,RANK() over (order by MEDV) as RANK from boston order by MEDV desc\n",
    "    ) select * from ranks where MEDV = (select max(MEDV) from boston)\n",
    "    \"\"\",\n",
    "    con\n",
    ")"
   ],
   "metadata": {
    "collapsed": false,
    "pycharm": {
     "name": "#%%\n"
    }
   }
  },
  {
   "cell_type": "code",
   "execution_count": 148,
   "metadata": {},
   "outputs": [
    {
     "data": {
      "text/plain": "    avg(RM)\n0  6.284634",
      "text/html": "<div>\n<style scoped>\n    .dataframe tbody tr th:only-of-type {\n        vertical-align: middle;\n    }\n\n    .dataframe tbody tr th {\n        vertical-align: top;\n    }\n\n    .dataframe thead th {\n        text-align: right;\n    }\n</style>\n<table border=\"1\" class=\"dataframe\">\n  <thead>\n    <tr style=\"text-align: right;\">\n      <th></th>\n      <th>avg(RM)</th>\n    </tr>\n  </thead>\n  <tbody>\n    <tr>\n      <th>0</th>\n      <td>6.284634</td>\n    </tr>\n  </tbody>\n</table>\n</div>"
     },
     "execution_count": 148,
     "metadata": {},
     "output_type": "execute_result"
    }
   ],
   "source": [
    "pd.read_sql(\n",
    "    \"\"\"\n",
    "    \"\"\",\n",
    "    con,\n",
    ")"
   ]
  },
  {
   "cell_type": "markdown",
   "metadata": {},
   "source": [
    "6. Выведите среднюю стоимость домов граничащих с рекой(CHAS) и нет (граничит/не граничит, стоимость)"
   ]
  },
  {
   "cell_type": "code",
   "execution_count": null,
   "metadata": {},
   "outputs": [],
   "source": [
    "pd.read_sql(\n",
    "    \"\"\"\n",
    "    SELECT * FROM boston\n",
    "    limit 5\n",
    "    \"\"\",\n",
    "    con,\n",
    ")"
   ]
  },
  {
   "cell_type": "markdown",
   "metadata": {},
   "source": [
    "7. Выведите все колонки, у которых среднее значение выше, когда дом граничит с рекой (название колонки) выбирая из CRIM, ZN, INDUS, CHAS, NOX. Напишите какой вывод можно сделать по этим данным."
   ]
  },
  {
   "cell_type": "code",
   "execution_count": null,
   "metadata": {},
   "outputs": [],
   "source": [
    "pd.read_sql(\n",
    "    \"\"\"\n",
    "    SELECT * FROM boston\n",
    "    limit 5\n",
    "    \"\"\",\n",
    "    con,\n",
    ")"
   ]
  },
  {
   "cell_type": "markdown",
   "metadata": {},
   "source": [
    "8. Выведите значения долей промышленной застройки(INDUS), концентрации оксидов азота(NOX) и по их перцентилям - 10, 20 ... 100 ( перцетиль(10,20...100),значение INDUS, значение NOX). Напишите прослеживается между ними взаимосвязь"
   ]
  },
  {
   "cell_type": "code",
   "execution_count": null,
   "metadata": {},
   "outputs": [],
   "source": [
    "pd.read_sql(\n",
    "    \"\"\"\n",
    "    SELECT * FROM boston\n",
    "    limit 5\n",
    "    \"\"\",\n",
    "    con,\n",
    ")"
   ]
  },
  {
   "cell_type": "code",
   "execution_count": null,
   "metadata": {},
   "outputs": [],
   "source": []
  },
  {
   "cell_type": "raw",
   "metadata": {},
   "source": [
    "CRIM - уровень преступности на душу населения\n",
    "ZN - доля земель под жилую застройку зонирована под участки площадью более 25 000 кв. футов.\n",
    "INDUS - доля акров неторгового бизнеса на город.\n",
    "CHAS - 1, если граничит с рекой, 0 иначе\n",
    "NOX - концентрация оксидов азота (частей на 10 миллионов)\n",
    "RM - среднее количество комнат в квартире\n",
    "AGE - доля жилых домов, построенных до 1940 г.\n",
    "DIS - взвешенные расстояния до пяти центров занятости Бостона\n",
    "RAD - индекс доступности к радиальным магистралям\n",
    "TAX - полная ставка налога на имущество за 10 000 долларов США\n",
    "PTRATIO - соотношение учеников и учителей по городам\n",
    "B - 1000(Bk - 0.63)^2, где Bk доля чернокожих людей по городам\n",
    "LSTAT - % более низкого статуса населения\n",
    "MEDV - Средняя стоимость домов в 1000 долларов."
   ]
  },
  {
   "cell_type": "code",
   "execution_count": null,
   "metadata": {},
   "outputs": [],
   "source": []
  }
 ],
 "metadata": {
  "kernelspec": {
   "display_name": "Python 3",
   "language": "python",
   "name": "python3"
  },
  "language_info": {
   "codemirror_mode": {
    "name": "ipython",
    "version": 3
   },
   "file_extension": ".py",
   "mimetype": "text/x-python",
   "name": "python",
   "nbconvert_exporter": "python",
   "pygments_lexer": "ipython3",
   "version": "3.7.6"
  }
 },
 "nbformat": 4,
 "nbformat_minor": 4
}