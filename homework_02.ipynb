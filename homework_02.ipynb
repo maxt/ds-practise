{
 "cells": [
  {
   "cell_type": "markdown",
   "metadata": {},
   "source": [
    "# Hometask 02\n",
    "### Maksim Sorokin"
   ]
  },
  {
   "cell_type": "markdown",
   "metadata": {},
   "source": [
    "Проверить состояние датафрейма и привести его в формат, позволяющий дальнейшее исследование данных:\n",
    "- Привести колонки датафрейма к одному типу данных\n",
    "- Проверить индекс, чтобы он соответствовал порядку строк\n",
    "- Проверить наличие пропусков и в случае обнаружения, определить стратегию их обработки"
   ]
  },
  {
   "cell_type": "code",
   "execution_count": null,
   "metadata": {},
   "outputs": [],
   "source": [
    "import pandas as pd"
   ]
  },
  {
   "cell_type": "code",
   "execution_count": null,
   "metadata": {},
   "outputs": [],
   "source": [
    "df = pd.read_excel('output/dom_objects.xlsx')\n"
   ]
  },
  {
   "cell_type": "markdown",
   "metadata": {},
   "source": [
    "Для исследования в задании 3 необходимы следюущие столбцы из \"сырого\" массива загруженных из api данных,\n",
    "поэтому типы данных и пропуски данных буду смотреть только в тех столбцах, что представляют интерес в целях исследования\n",
    "- регион +\n",
    "- средняя цена за квадратный метр +\n",
    "- объем вводимого жилья\n",
    "- год ввода в эксплуатацию +\n",
    "- этажность +\n",
    "- количество квартир +\n",
    "- жилая площадь +\n",
    "- количество парковочных мест +"
   ]
  },
  {
   "cell_type": "code",
   "execution_count": null,
   "metadata": {},
   "outputs": [],
   "source": [
    "assert df.region.dtype == 'int64'           # регион\n",
    "assert df.objPriceAvg.dtype == 'float64'    # средняя цена за квадратный метр\n",
    "## здесь лежит object, его надо конвертировать\n",
    "df.objReady100PercDt = pd.to_datetime(df.objReady100PercDt, format='%Y-%m-%d')\n",
    "assert df.objSquareLiving.dtype == 'float64'    # жилая площадь (самое подходящее поле для \"Объема вводимого жилья\")\n",
    "assert df.floorMax.dtype == 'float64'                 # этажность\n",
    "assert df.objReady100PercDt.dtype == 'datetime64[ns]' # дата ввода в эксплуатацию\n",
    "assert df.objFlatCnt.dtype == 'int64'       # количество квартир\n",
    "assert df.objSquareLiving.dtype == 'float64' # жилая площадь\n",
    "assert df.objElemParkingCnt.dtype =='int64' # объем парковочных мест"
   ]
  }
 ],
 "metadata": {
  "kernelspec": {
   "display_name": "Python 3.9.7 ('tensorflow')",
   "language": "python",
   "name": "python3"
  },
  "language_info": {
   "name": "python",
   "version": "3.9.7"
  },
  "orig_nbformat": 4,
  "vscode": {
   "interpreter": {
    "hash": "fa0bc865107c7062c66623b84ed7848967abd0ba5cbabe70080959ae0fa18d9a"
   }
  }
 },
 "nbformat": 4,
 "nbformat_minor": 2
}
