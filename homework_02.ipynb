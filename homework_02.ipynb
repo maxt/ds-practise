{
 "cells": [
  {
   "cell_type": "markdown",
   "metadata": {},
   "source": [
    "# Hometask 02\n",
    "### Maksim Sorokin"
   ]
  },
  {
   "cell_type": "markdown",
   "metadata": {},
   "source": [
    "Проверить состояние датафрейма и привести его в формат, позволяющий дальнейшее исследование данных:\n",
    "- Привести колонки датафрейма к одному типу данных\n",
    "- Проверить индекс, чтобы он соответствовал порядку строк\n",
    "- Проверить наличие пропусков и в случае обнаружения, определить стратегию их обработки"
   ]
  },
  {
   "cell_type": "code",
   "execution_count": 54,
   "metadata": {},
   "outputs": [],
   "source": [
    "import pandas as pd"
   ]
  },
  {
   "cell_type": "code",
   "execution_count": 55,
   "metadata": {},
   "outputs": [],
   "source": [
    "df = pd.read_excel('output/dom_objects.xlsx')\n"
   ]
  },
  {
   "cell_type": "markdown",
   "metadata": {},
   "source": [
    "Для исследования в задании 3 необходимы следюущие столбцы из \"сырого\" массива загруженных из api данных,\n",
    "поэтому типы данных и пропуски данных буду смотреть только в тех столбцах, что представляют интерес в целях исследования\n",
    "- регион\n",
    "- средняя цена за квадратный метр\n",
    "- объем вводимого жилья\n",
    "- год ввода в эксплуатацию\n",
    "- этажность\n",
    "- количество квартир\n",
    "- жилая площадь \n",
    "- количество парковочных мест"
   ]
  },
  {
   "cell_type": "code",
   "execution_count": 62,
   "metadata": {},
   "outputs": [
    {
     "name": "stdout",
     "output_type": "stream",
     "text": [
      "<class 'pandas.core.frame.DataFrame'>\n",
      "RangeIndex: 10660 entries, 0 to 10659\n",
      "Data columns (total 68 columns):\n",
      " #   Column                        Non-Null Count  Dtype         \n",
      "---  ------                        --------------  -----         \n",
      " 0   Unnamed: 0                    10660 non-null  int64         \n",
      " 1   id                            10660 non-null  int64         \n",
      " 2   pdId                          10660 non-null  int64         \n",
      " 3   region                        10660 non-null  int64         \n",
      " 4   address                       10634 non-null  object        \n",
      " 5   objElemLivingCnt              10660 non-null  int64         \n",
      " 6   objReady100PercDt             10660 non-null  datetime64[ns]\n",
      " 7   wallMaterialShortDesc         10660 non-null  object        \n",
      " 8   objLkFinishTypeDesc           10660 non-null  object        \n",
      " 9   objLkFreePlanDesc             10648 non-null  object        \n",
      " 10  objElemParkingCnt             10660 non-null  int64         \n",
      " 11  objSquareLiving               10660 non-null  float64       \n",
      " 12  rpdNum                        10660 non-null  object        \n",
      " 13  rpdPdfLink                    10660 non-null  object        \n",
      " 14  rpdIssueDttm                  10660 non-null  object        \n",
      " 15  objLkLatitude                 10650 non-null  float64       \n",
      " 16  objLkLongitude                10650 non-null  float64       \n",
      " 17  objCompensFundFlg             10660 non-null  int64         \n",
      " 18  objProblemFlg                 10660 non-null  int64         \n",
      " 19  objLkClassDesc                10660 non-null  object        \n",
      " 20  loadDttm                      10660 non-null  object        \n",
      " 21  photoRenderDTO                10660 non-null  object        \n",
      " 22  objGuarantyEscrowFlg          10660 non-null  int64         \n",
      " 23  objectType                    10660 non-null  object        \n",
      " 24  residentialBuildings          10660 non-null  int64         \n",
      " 25  newBuildingId                 10660 non-null  int64         \n",
      " 26  objFlatCnt                    10660 non-null  int64         \n",
      " 27  objFlatSq                     10660 non-null  float64       \n",
      " 28  objNonlivElemCnt              10660 non-null  int64         \n",
      " 29  objStatus                     10660 non-null  int64         \n",
      " 30  isAvailableWantLiveHere       10660 non-null  bool          \n",
      " 31  objInfrstrBicycleLaneFlg      10660 non-null  int64         \n",
      " 32  objInfrstrRampFlg             10660 non-null  int64         \n",
      " 33  objInfrstrCurbLoweringFlg     10660 non-null  int64         \n",
      " 34  objElevatorCargoPassengerCnt  10660 non-null  int64         \n",
      " 35  objectTransportInfo           10660 non-null  object        \n",
      " 36  conclusion                    10660 non-null  bool          \n",
      " 37  objGreenHouseFlg              10660 non-null  int64         \n",
      " 38  objEnergyEffShortDesc         10660 non-null  object        \n",
      " 39  infrastructureIndexValue      10659 non-null  float64       \n",
      " 40  devId                         10660 non-null  int64         \n",
      " 41  floorMin                      10658 non-null  float64       \n",
      " 42  floorMax                      10659 non-null  float64       \n",
      " 43  miniUrl                       10632 non-null  object        \n",
      " 44  objFloorCnt                   10659 non-null  float64       \n",
      " 45  quartography                  9477 non-null   object        \n",
      " 46  objTransferPlanDt             10568 non-null  object        \n",
      " 47  objLivCeilingHeight           9410 non-null   object        \n",
      " 48  objInfrstrPlaygrndCnt         10597 non-null  float64       \n",
      " 49  objInfrstrSportGroundCnt      10595 non-null  float64       \n",
      " 50  objInfrstrTrashAreaCnt        10597 non-null  float64       \n",
      " 51  objInfrstrObjPrkngCnt         10592 non-null  float64       \n",
      " 52  objInfrstrNotObjPrkngCnt      10585 non-null  float64       \n",
      " 53  objElevatorWheelchairCnt      10597 non-null  float64       \n",
      " 54  objElevatorPassengerCnt       10597 non-null  float64       \n",
      " 55  objElevatorCargoCnt           10597 non-null  float64       \n",
      " 56  soldOutPerc                   7612 non-null   float64       \n",
      " 57  objPriceAvg                   7608 non-null   float64       \n",
      " 58  generalContractorNm           7395 non-null   object        \n",
      " 59  nonlivFirstFloor              10650 non-null  float64       \n",
      " 60  objLkSaleDepEmail             8625 non-null   object        \n",
      " 61  transportDistIndex            2028 non-null   object        \n",
      " 62  transportDistIndexValue       2028 non-null   float64       \n",
      " 63  nameObj                       8247 non-null   object        \n",
      " 64  greenAreaIndexValue           1577 non-null   float64       \n",
      " 65  airQualityIndexValue          1198 non-null   float64       \n",
      " 66  complexShortNm                882 non-null    object        \n",
      " 67  metro                         408 non-null    object        \n",
      "dtypes: bool(2), datetime64[ns](1), float64(22), int64(20), object(23)\n",
      "memory usage: 5.4+ MB\n"
     ]
    }
   ],
   "source": [
    "assert df.region.dtype == 'int64'           # регион\n",
    "assert df.objPriceAvg.dtype == 'float64'    # средняя цена за квадратный метр\n",
    "## здесь лежит object, его надо конвертировать\n",
    "df.objReady100PercDt = pd.to_datetime(df.objReady100PercDt, format='%Y-%m-%d')\n",
    "assert df.objSquareLiving.dtype == 'float64'    # жилая площадь (самое подходящее поле для \"Объема вводимого жилья\")\n",
    "assert df.floorMax.dtype == 'float64'                 # этажность\n",
    "assert df.objReady100PercDt.dtype == 'datetime64[ns]' # дата ввода в эксплуатацию\n",
    "assert df.objFlatCnt.dtype == 'int64'       # количество квартир\n",
    "assert df.objElemParkingCnt.dtype =='int64' # объем парковочных мест\n",
    "\n",
    "columns_for_research = set()\n",
    "columns_for_research.update(['region','objPriceAvg','objReady100PercDt', 'objSquareLiving', 'floorMax', 'objFlatCnt', 'objElemParkingCng'])"
   ]
  },
  {
   "cell_type": "markdown",
   "metadata": {},
   "source": [
    "Отбрасываю неинтересующую меня информацию, проверяю индекс"
   ]
  },
  {
   "cell_type": "code",
   "execution_count": 61,
   "metadata": {},
   "outputs": [
    {
     "name": "stdout",
     "output_type": "stream",
     "text": [
      "<class 'pandas.core.frame.DataFrame'>\n",
      "RangeIndex: 10660 entries, 0 to 10659\n",
      "Data columns (total 6 columns):\n",
      " #   Column             Non-Null Count  Dtype         \n",
      "---  ------             --------------  -----         \n",
      " 0   region             10660 non-null  int64         \n",
      " 1   objReady100PercDt  10660 non-null  datetime64[ns]\n",
      " 2   objSquareLiving    10660 non-null  float64       \n",
      " 3   objFlatCnt         10660 non-null  int64         \n",
      " 4   floorMax           10659 non-null  float64       \n",
      " 5   objPriceAvg        7608 non-null   float64       \n",
      "dtypes: datetime64[ns](1), float64(3), int64(2)\n",
      "memory usage: 499.8 KB\n"
     ]
    }
   ],
   "source": [
    "df2 = df\n",
    "for a in df.columns:\n",
    "    if a  not in columns_for_research: \n",
    "        df2 = df2.drop(labels=a, axis=1)\n",
    "\n",
    "\n",
    "assert df2.index.is_unique\n",
    "df2.shape\n",
    "df2.head(3)\n",
    "df2.info()\n"
   ]
  },
  {
   "cell_type": "markdown",
   "metadata": {},
   "source": [
    "Видим, большой датафрейм с полным набором занимал 5.4+ MB, а датафрейм с только интересующими нас данными - 499.8 KB\n",
    "Так же по выводу info видимо, что пустые значения есть в столбцах floorMax & objPriceAvg, считаю их:"
   ]
  },
  {
   "cell_type": "code",
   "execution_count": 97,
   "metadata": {},
   "outputs": [
    {
     "data": {
      "text/plain": [
       "region                  0\n",
       "objReady100PercDt       0\n",
       "objSquareLiving         0\n",
       "objFlatCnt              0\n",
       "floorMax                1\n",
       "objPriceAvg          3052\n",
       "dtype: int64"
      ]
     },
     "execution_count": 97,
     "metadata": {},
     "output_type": "execute_result"
    }
   ],
   "source": [
    "df2.isnull().sum()"
   ]
  },
  {
   "cell_type": "markdown",
   "metadata": {},
   "source": [
    "Заменяю единственный пропуск в этажности на среднее значение, контролирую результат"
   ]
  },
  {
   "cell_type": "code",
   "execution_count": 116,
   "metadata": {},
   "outputs": [
    {
     "data": {
      "text/plain": [
       "region                  0\n",
       "objReady100PercDt       0\n",
       "objSquareLiving         0\n",
       "objFlatCnt              0\n",
       "floorMax                0\n",
       "objPriceAvg          3052\n",
       "dtype: int64"
      ]
     },
     "execution_count": 116,
     "metadata": {},
     "output_type": "execute_result"
    }
   ],
   "source": [
    "\n",
    "df_fill_na_floor = df2.fillna({'floorMax': df2.floorMax.mean()})\n",
    "df_fill_na_floor.isnull().sum()"
   ]
  },
  {
   "cell_type": "markdown",
   "metadata": {},
   "source": [
    "А вот с ценой - вычищаю эти строки совсем, проверяю результат"
   ]
  },
  {
   "cell_type": "code",
   "execution_count": 118,
   "metadata": {},
   "outputs": [
    {
     "data": {
      "text/plain": [
       "(7608, 6)"
      ]
     },
     "execution_count": 118,
     "metadata": {},
     "output_type": "execute_result"
    }
   ],
   "source": [
    "final_df = df_fill_na_floor.dropna(how='any')\n",
    "final_df.shape"
   ]
  },
  {
   "cell_type": "markdown",
   "metadata": {},
   "source": [
    "Сохраняю рафинированный датафрейм для исследования в рамках следующего задания"
   ]
  },
  {
   "cell_type": "code",
   "execution_count": 120,
   "metadata": {},
   "outputs": [],
   "source": [
    "final_df.to_pickle(\"output/dom_refined.pkl\")"
   ]
  }
 ],
 "metadata": {
  "kernelspec": {
   "display_name": "Python 3.9.7 ('tensorflow')",
   "language": "python",
   "name": "python3"
  },
  "language_info": {
   "codemirror_mode": {
    "name": "ipython",
    "version": 3
   },
   "file_extension": ".py",
   "mimetype": "text/x-python",
   "name": "python",
   "nbconvert_exporter": "python",
   "pygments_lexer": "ipython3",
   "version": "3.9.7"
  },
  "orig_nbformat": 4,
  "vscode": {
   "interpreter": {
    "hash": "fa0bc865107c7062c66623b84ed7848967abd0ba5cbabe70080959ae0fa18d9a"
   }
  }
 },
 "nbformat": 4,
 "nbformat_minor": 2
}
