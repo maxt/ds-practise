{
 "cells": [
  {
   "cell_type": "code",
   "execution_count": 18,
   "metadata": {
    "collapsed": false,
    "pycharm": {
     "name": "#%%\n"
    }
   },
   "outputs": [],
   "source": [
    "import zipfile\n",
    "import json\n",
    "import pandas as pd\n",
    "from tqdm import tqdm\n",
    "from os.path import exists\n",
    "### nltk sutff\n",
    "from nltk.tokenize import WordPunctTokenizer\n",
    "from nltk.sentiment.vader import SentimentIntensityAnalyzer\n",
    "from nltk.stem import WordNetLemmatizer\n",
    "from nltk.stem import PorterStemmer\n",
    "import nltk\n"
   ]
  },
  {
   "cell_type": "code",
   "execution_count": 19,
   "metadata": {
    "collapsed": false,
    "pycharm": {
     "name": "#%%\n"
    }
   },
   "outputs": [],
   "source": [
    "# https://www.kaggle.com/balraj98/movie-genre-prediction-from-wiki-plot-using-bert\n",
    "def get_wiki_data():\n",
    "    if not exists('wiki_movie_plots_deduped.csv'):\n",
    "        with zipfile.ZipFile('wiki_movie_plots_deduped.csv.zip', 'r') as zip_ref:\n",
    "            zip_ref.extractall('.')\n",
    "    plots = pd.read_csv('wiki_movie_plots_deduped.csv')\n",
    "    wiki = plots.drop(columns=['Release Year', 'Origin/Ethnicity', 'Director', 'Cast', 'Wiki Page'])\n",
    "    wiki = wiki[['Title', 'Plot', 'Genre']]\n",
    "    return wiki\n"
   ]
  },
  {
   "cell_type": "code",
   "execution_count": 20,
   "metadata": {
    "collapsed": false,
    "pycharm": {
     "name": "#%%\n"
    }
   },
   "outputs": [],
   "source": [
    "# https://www.kaggle.com/datasets/cryptexcode/mpst-movie-plot-synopses-with-tags\n",
    "def get_mpst_data():\n",
    "    if not exists('mpst_full_data.csv'):\n",
    "        with zipfile.ZipFile('mpst-movie-plot-synopses-with-tags.zip', 'r') as zip_ref:\n",
    "            zip_ref.extractall('.')\n",
    "    plots_mpst = pd.read_csv('mpst_full_data.csv')\n",
    "    mpst = plots_mpst.drop(columns=['imdb_id', 'split','synopsis_source'])\n",
    "    mpst = mpst.rename(columns={'title':'Title', 'plot_synopsis': 'Plot','tags':'Genre'})\n",
    "    mpst.head()\n",
    "    return mpst\n"
   ]
  },
  {
   "cell_type": "code",
   "execution_count": 21,
   "metadata": {
    "collapsed": false,
    "pycharm": {
     "name": "#%%\n"
    }
   },
   "outputs": [],
   "source": [
    "# Парсинг json с описанием жанра и преобразование в список жанров, разделенных запятой\n",
    "def get_genres_as_list(input: str):\n",
    "    input = input.replace('\\'','\"')\n",
    "    json_s = json.loads(input)\n",
    "    t = []\n",
    "    for a in json_s:\n",
    "        t.append(a['name'])\n",
    "    res = ', '.join(t)\n",
    "    return res\n",
    "\n",
    "# https://www.kaggle.com/datasets/rounakbanik/the-movies-dataset?select=movies_metadata.csv\n",
    "def get_movies_dataset_data():\n",
    "    if not exists('movies_metadata.csv'):\n",
    "        with zipfile.ZipFile('movies_metadata.csv.zip', 'r') as zip_ref:\n",
    "            zip_ref.extractall('.')\n",
    "    current_dataset = pd.read_csv('movies_metadata.csv')\n",
    "    current_dataset = current_dataset.drop(columns=['adult', 'belongs_to_collection', 'budget', 'homepage','id', 'imdb_id','original_language', 'video', 'vote_average', 'vote_count', 'status', 'spoken_languages', 'runtime','revenue', 'release_date', 'production_countries', 'production_companies', 'original_title' ,'poster_path', 'tagline','popularity'])\n",
    "    current_dataset['Genre'] = current_dataset['genres'].apply(get_genres_as_list )\n",
    "    current_dataset.drop(columns='genres')\n",
    "    current_dataset = current_dataset.rename(columns={'title':'Title', 'overview': 'Plot'})\n",
    "    current_dataset = current_dataset[['Title', 'Plot', 'Genre']]\n",
    "    return current_dataset"
   ]
  },
  {
   "cell_type": "code",
   "execution_count": 22,
   "metadata": {
    "collapsed": false,
    "pycharm": {
     "name": "#%%\n"
    }
   },
   "outputs": [
    {
     "name": "stdout",
     "output_type": "stream",
     "text": [
      "(95180, 3)\n"
     ]
    },
    {
     "name": "stderr",
     "output_type": "stream",
     "text": [
      "/var/folders/52/g94rqcwd0r55zsr1ccm405300000gp/T/ipykernel_34205/3916261343.py:16: DtypeWarning: Columns (10) have mixed types. Specify dtype option on import or set low_memory=False.\n",
      "  current_dataset = pd.read_csv('movies_metadata.csv')\n"
     ]
    },
    {
     "data": {
      "text/html": [
       "<div>\n",
       "<style scoped>\n",
       "    .dataframe tbody tr th:only-of-type {\n",
       "        vertical-align: middle;\n",
       "    }\n",
       "\n",
       "    .dataframe tbody tr th {\n",
       "        vertical-align: top;\n",
       "    }\n",
       "\n",
       "    .dataframe thead th {\n",
       "        text-align: right;\n",
       "    }\n",
       "</style>\n",
       "<table border=\"1\" class=\"dataframe\">\n",
       "  <thead>\n",
       "    <tr style=\"text-align: right;\">\n",
       "      <th></th>\n",
       "      <th>Title</th>\n",
       "      <th>Plot</th>\n",
       "      <th>Genre</th>\n",
       "    </tr>\n",
       "  </thead>\n",
       "  <tbody>\n",
       "    <tr>\n",
       "      <th>0</th>\n",
       "      <td>I tre volti della paura</td>\n",
       "      <td>Note: this synopsis is for the orginal Italian...</td>\n",
       "      <td>cult, horror, gothic, murder, atmospheric</td>\n",
       "    </tr>\n",
       "    <tr>\n",
       "      <th>1</th>\n",
       "      <td>Dungeons &amp; Dragons: The Book of Vile Darkness</td>\n",
       "      <td>Two thousand years ago, Nhagruul the Foul, a s...</td>\n",
       "      <td>violence</td>\n",
       "    </tr>\n",
       "    <tr>\n",
       "      <th>2</th>\n",
       "      <td>The Shop Around the Corner</td>\n",
       "      <td>Matuschek's, a gift store in Budapest, is the ...</td>\n",
       "      <td>romantic</td>\n",
       "    </tr>\n",
       "    <tr>\n",
       "      <th>3</th>\n",
       "      <td>Mr. Holland's Opus</td>\n",
       "      <td>Glenn Holland, not a morning person by anyone'...</td>\n",
       "      <td>inspiring, romantic, stupid, feel-good</td>\n",
       "    </tr>\n",
       "    <tr>\n",
       "      <th>4</th>\n",
       "      <td>Scarface</td>\n",
       "      <td>In May 1980, a Cuban man named Tony Montana (A...</td>\n",
       "      <td>cruelty, murder, dramatic, cult, violence, atm...</td>\n",
       "    </tr>\n",
       "  </tbody>\n",
       "</table>\n",
       "</div>"
      ],
      "text/plain": [
       "                                           Title  \\\n",
       "0                        I tre volti della paura   \n",
       "1  Dungeons & Dragons: The Book of Vile Darkness   \n",
       "2                     The Shop Around the Corner   \n",
       "3                             Mr. Holland's Opus   \n",
       "4                                       Scarface   \n",
       "\n",
       "                                                Plot  \\\n",
       "0  Note: this synopsis is for the orginal Italian...   \n",
       "1  Two thousand years ago, Nhagruul the Foul, a s...   \n",
       "2  Matuschek's, a gift store in Budapest, is the ...   \n",
       "3  Glenn Holland, not a morning person by anyone'...   \n",
       "4  In May 1980, a Cuban man named Tony Montana (A...   \n",
       "\n",
       "                                               Genre  \n",
       "0          cult, horror, gothic, murder, atmospheric  \n",
       "1                                           violence  \n",
       "2                                           romantic  \n",
       "3             inspiring, romantic, stupid, feel-good  \n",
       "4  cruelty, murder, dramatic, cult, violence, atm...  "
      ]
     },
     "execution_count": 22,
     "metadata": {},
     "output_type": "execute_result"
    }
   ],
   "source": [
    "mpst = get_mpst_data()\n",
    "wiki = get_wiki_data()\n",
    "movies = get_movies_dataset_data()\n",
    "merged_dataset = pd.concat([mpst, wiki,movies])\n",
    "print(merged_dataset.shape)\n",
    "merged_dataset.head()"
   ]
  },
  {
   "cell_type": "code",
   "execution_count": 23,
   "metadata": {
    "collapsed": false,
    "pycharm": {
     "name": "#%%\n"
    }
   },
   "outputs": [
    {
     "name": "stdout",
     "output_type": "stream",
     "text": [
      "Уникальных значений в поле жанр: 11914\n"
     ]
    }
   ],
   "source": [
    "unique_genres_count = merged_dataset['Genre'].unique().shape[0]\n",
    "print(f'Уникальных значений в поле жанр: {unique_genres_count}')"
   ]
  },
  {
   "cell_type": "code",
   "execution_count": 24,
   "metadata": {
    "collapsed": false,
    "pycharm": {
     "name": "#%%\n"
    }
   },
   "outputs": [
    {
     "name": "stderr",
     "output_type": "stream",
     "text": [
      "94220it [00:10, 9324.99it/s] "
     ]
    },
    {
     "name": "stdout",
     "output_type": "stream",
     "text": [
      "Общее количество уникальны слов без лемматизации и стемминга: 33821695, исключений: 0\n"
     ]
    },
    {
     "name": "stderr",
     "output_type": "stream",
     "text": [
      "\n"
     ]
    }
   ],
   "source": [
    "merged_dataset = merged_dataset.dropna()\n",
    "tokenizer = WordPunctTokenizer()\n",
    "all_words = list()\n",
    "exception_count = 0\n",
    "for a, t in tqdm(merged_dataset.iterrows()):\n",
    "    try:\n",
    "        for cc in tokenizer.tokenize(t['Plot']):\n",
    "            all_words.append(cc)\n",
    "    except:\n",
    "        exception_count+=1\n",
    "        print(t['Plot'])\n",
    "len_total_words_without_processing = len(all_words)\n",
    "print(f'Общее количество уникальны слов без лемматизации и стемминга: {len_total_words_without_processing}, исключений: {exception_count}')\n"
   ]
  },
  {
   "cell_type": "code",
   "execution_count": 25,
   "metadata": {
    "collapsed": false,
    "pycharm": {
     "name": "#%%\n"
    }
   },
   "outputs": [
    {
     "data": {
      "text/html": [
       "<div>\n",
       "<style scoped>\n",
       "    .dataframe tbody tr th:only-of-type {\n",
       "        vertical-align: middle;\n",
       "    }\n",
       "\n",
       "    .dataframe tbody tr th {\n",
       "        vertical-align: top;\n",
       "    }\n",
       "\n",
       "    .dataframe thead th {\n",
       "        text-align: right;\n",
       "    }\n",
       "</style>\n",
       "<table border=\"1\" class=\"dataframe\">\n",
       "  <thead>\n",
       "    <tr style=\"text-align: right;\">\n",
       "      <th></th>\n",
       "      <th>Title</th>\n",
       "      <th>Plot</th>\n",
       "      <th>Genre</th>\n",
       "      <th>Processed plot</th>\n",
       "    </tr>\n",
       "  </thead>\n",
       "  <tbody>\n",
       "    <tr>\n",
       "      <th>0</th>\n",
       "      <td>I tre volti della paura</td>\n",
       "      <td>Note: this synopsis is for the orginal Italian...</td>\n",
       "      <td>cult, horror, gothic, murder, atmospheric</td>\n",
       "      <td>note : thi synopsi is for the orgin italian re...</td>\n",
       "    </tr>\n",
       "    <tr>\n",
       "      <th>1</th>\n",
       "      <td>Dungeons &amp; Dragons: The Book of Vile Darkness</td>\n",
       "      <td>Two thousand years ago, Nhagruul the Foul, a s...</td>\n",
       "      <td>violence</td>\n",
       "      <td>two thousand year ago , nhagruul the foul , a ...</td>\n",
       "    </tr>\n",
       "    <tr>\n",
       "      <th>2</th>\n",
       "      <td>The Shop Around the Corner</td>\n",
       "      <td>Matuschek's, a gift store in Budapest, is the ...</td>\n",
       "      <td>romantic</td>\n",
       "      <td>matuschek ' s , a gift store in budapest , is ...</td>\n",
       "    </tr>\n",
       "    <tr>\n",
       "      <th>3</th>\n",
       "      <td>Mr. Holland's Opus</td>\n",
       "      <td>Glenn Holland, not a morning person by anyone'...</td>\n",
       "      <td>inspiring, romantic, stupid, feel-good</td>\n",
       "      <td>glenn holland , not a morn person by anyon ' s...</td>\n",
       "    </tr>\n",
       "    <tr>\n",
       "      <th>4</th>\n",
       "      <td>Scarface</td>\n",
       "      <td>In May 1980, a Cuban man named Tony Montana (A...</td>\n",
       "      <td>cruelty, murder, dramatic, cult, violence, atm...</td>\n",
       "      <td>in may 1980 , a cuban man name toni montana ( ...</td>\n",
       "    </tr>\n",
       "  </tbody>\n",
       "</table>\n",
       "</div>"
      ],
      "text/plain": [
       "                                           Title  \\\n",
       "0                        I tre volti della paura   \n",
       "1  Dungeons & Dragons: The Book of Vile Darkness   \n",
       "2                     The Shop Around the Corner   \n",
       "3                             Mr. Holland's Opus   \n",
       "4                                       Scarface   \n",
       "\n",
       "                                                Plot  \\\n",
       "0  Note: this synopsis is for the orginal Italian...   \n",
       "1  Two thousand years ago, Nhagruul the Foul, a s...   \n",
       "2  Matuschek's, a gift store in Budapest, is the ...   \n",
       "3  Glenn Holland, not a morning person by anyone'...   \n",
       "4  In May 1980, a Cuban man named Tony Montana (A...   \n",
       "\n",
       "                                               Genre  \\\n",
       "0          cult, horror, gothic, murder, atmospheric   \n",
       "1                                           violence   \n",
       "2                                           romantic   \n",
       "3             inspiring, romantic, stupid, feel-good   \n",
       "4  cruelty, murder, dramatic, cult, violence, atm...   \n",
       "\n",
       "                                      Processed plot  \n",
       "0  note : thi synopsi is for the orgin italian re...  \n",
       "1  two thousand year ago , nhagruul the foul , a ...  \n",
       "2  matuschek ' s , a gift store in budapest , is ...  \n",
       "3  glenn holland , not a morn person by anyon ' s...  \n",
       "4  in may 1980 , a cuban man name toni montana ( ...  "
      ]
     },
     "execution_count": 25,
     "metadata": {},
     "output_type": "execute_result"
    }
   ],
   "source": [
    "lem = WordNetLemmatizer()\n",
    "stem = PorterStemmer()\n",
    "\n",
    "def process_plot(plot: str):\n",
    "    tokenized_plot = tokenizer.tokenize(plot)\n",
    "    processed = []\n",
    "    for a in tokenized_plot:\n",
    "        w1 = stem.stem(lem.lemmatize(a))\n",
    "        processed.append(w1)\n",
    "    res = ' '.join(processed)\n",
    "    return res\n",
    "\n",
    "merged_dataset['Processed plot'] = merged_dataset['Plot'].apply(process_plot)\n",
    "merged_dataset.head()"
   ]
  },
  {
   "cell_type": "code",
   "execution_count": 26,
   "metadata": {},
   "outputs": [],
   "source": [
    "merged_dataset.to_csv('merged_dataset.csv')"
   ]
  },
  {
   "cell_type": "code",
   "execution_count": 27,
   "metadata": {
    "collapsed": false,
    "pycharm": {
     "name": "#%%\n"
    }
   },
   "outputs": [
    {
     "name": "stderr",
     "output_type": "stream",
     "text": [
      "[nltk_data] Downloading package vader_lexicon to\n",
      "[nltk_data]     /Users/max/nltk_data...\n",
      "[nltk_data]   Package vader_lexicon is already up-to-date!\n",
      "94220it [02:41, 583.27it/s] "
     ]
    },
    {
     "name": "stdout",
     "output_type": "stream",
     "text": [
      "Статистика по polarity_score на сырых данных сюжета: negative: 215, positive: 35, neutral: 93970\n"
     ]
    },
    {
     "name": "stderr",
     "output_type": "stream",
     "text": [
      "\n"
     ]
    }
   ],
   "source": [
    "def get_sentiment(obj: tuple):\n",
    "    neg = obj['neg']\n",
    "    neu = obj['neu']\n",
    "    pos = obj['pos']\n",
    "    if neg > neu:\n",
    "        if neg > pos:\n",
    "            return 'neg'\n",
    "        else:\n",
    "            return 'pos'\n",
    "    else:\n",
    "        if neu > pos:\n",
    "            return 'neu'\n",
    "        else:\n",
    "            return 'pos'\n",
    "\n",
    "nltk.downloader.download('vader_lexicon')\n",
    "sia = SentimentIntensityAnalyzer()\n",
    "sentiments = list()\n",
    "limit = 1000\n",
    "current_iteration = 0\n",
    "for a, t in tqdm(merged_dataset.iterrows()):\n",
    "    current_result = get_sentiment(sia.polarity_scores(t['Processed plot']))\n",
    "    sentiments.append(current_result)\n",
    "    current_iteration+=1\n",
    "negatives_count = sentiments.count('neg')\n",
    "postigive_count = sentiments.count('pos')\n",
    "neutral_count   = sentiments.count('neu')\n",
    "print(f'Статистика по polarity_score на сырых данных сюжета: negative: {negatives_count}, positive: {postigive_count}, neutral: {neutral_count}')"
   ]
  },
  {
   "cell_type": "markdown",
   "metadata": {
    "collapsed": false,
    "pycharm": {
     "name": "#%% md\n"
    }
   },
   "source": [
    "Статистика по polarity_score на сырых данных сюжета: negative: 283, positive: 78, neutral: 93859 - результаты на необработанном Plot"
   ]
  },
  {
   "cell_type": "code",
   "execution_count": 28,
   "metadata": {
    "collapsed": false,
    "pycharm": {
     "name": "#%%\n"
    }
   },
   "outputs": [
    {
     "data": {
      "text/plain": [
       "<AxesSubplot:title={'center':'Количество фильмов с разным sentiment'}, xlabel='Sentiment'>"
      ]
     },
     "execution_count": 28,
     "metadata": {},
     "output_type": "execute_result"
    },
    {
     "data": {
      "image/png": "[encoded data removed]",
      "text/plain": [
       "<Figure size 432x288 with 1 Axes>"
      ]
     },
     "metadata": {
      "needs_background": "light"
     },
     "output_type": "display_data"
    }
   ],
   "source": [
    "merged_dataset['Sentiment'] = sentiments\n",
    "merged_dataset.head()\n",
    "films_count_by_year = merged_dataset.groupby(['Sentiment'])['Title'].count()\n",
    "films_count_by_year.plot(title = 'Количество фильмов с разным sentiment')\n"
   ]
  },
  {
   "cell_type": "code",
   "execution_count": null,
   "metadata": {
    "collapsed": false,
    "pycharm": {
     "name": "#%%\n"
    }
   },
   "outputs": [],
   "source": []
  }
 ],
 "metadata": {
  "kernelspec": {
   "display_name": "tensorflow",
   "language": "python",
   "name": "python3"
  },
  "language_info": {
   "codemirror_mode": {
    "name": "ipython",
    "version": 3
   },
   "file_extension": ".py",
   "mimetype": "text/x-python",
   "name": "python",
   "nbconvert_exporter": "python",
   "pygments_lexer": "ipython3",
   "version": "3.9.7"
  },
  "vscode": {
   "interpreter": {
    "hash": "fa0bc865107c7062c66623b84ed7848967abd0ba5cbabe70080959ae0fa18d9a"
   }
  }
 },
 "nbformat": 4,
 "nbformat_minor": 0
}
