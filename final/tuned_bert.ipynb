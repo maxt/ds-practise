{
 "cells": [
  {
   "cell_type": "code",
   "execution_count": 9,
   "metadata": {},
   "outputs": [],
   "source": [
    "import pandas as pd\n",
    "import zipfile\n",
    "from os.path import exists"
   ]
  },
  {
   "cell_type": "code",
   "execution_count": 10,
   "metadata": {},
   "outputs": [
    {
     "data": {
      "text/html": [
       "<div>\n",
       "<style scoped>\n",
       "    .dataframe tbody tr th:only-of-type {\n",
       "        vertical-align: middle;\n",
       "    }\n",
       "\n",
       "    .dataframe tbody tr th {\n",
       "        vertical-align: top;\n",
       "    }\n",
       "\n",
       "    .dataframe thead th {\n",
       "        text-align: right;\n",
       "    }\n",
       "</style>\n",
       "<table border=\"1\" class=\"dataframe\">\n",
       "  <thead>\n",
       "    <tr style=\"text-align: right;\">\n",
       "      <th></th>\n",
       "      <th>Unnamed: 0</th>\n",
       "      <th>Genre</th>\n",
       "      <th>Processed plot</th>\n",
       "    </tr>\n",
       "  </thead>\n",
       "  <tbody>\n",
       "    <tr>\n",
       "      <th>0</th>\n",
       "      <td>0</td>\n",
       "      <td>cult, horror, gothic, murder, atmospheric</td>\n",
       "      <td>note : thi synopsi is for the orgin italian re...</td>\n",
       "    </tr>\n",
       "    <tr>\n",
       "      <th>1</th>\n",
       "      <td>1</td>\n",
       "      <td>violence</td>\n",
       "      <td>two thousand year ago , nhagruul the foul , a ...</td>\n",
       "    </tr>\n",
       "    <tr>\n",
       "      <th>2</th>\n",
       "      <td>2</td>\n",
       "      <td>romantic</td>\n",
       "      <td>matuschek ' s , a gift store in budapest , is ...</td>\n",
       "    </tr>\n",
       "    <tr>\n",
       "      <th>3</th>\n",
       "      <td>3</td>\n",
       "      <td>inspiring, romantic, stupid, feel-good</td>\n",
       "      <td>glenn holland , not a morn person by anyon ' s...</td>\n",
       "    </tr>\n",
       "    <tr>\n",
       "      <th>4</th>\n",
       "      <td>4</td>\n",
       "      <td>cruelty, murder, dramatic, cult, violence, atm...</td>\n",
       "      <td>in may 1980 , a cuban man name toni montana ( ...</td>\n",
       "    </tr>\n",
       "  </tbody>\n",
       "</table>\n",
       "</div>"
      ],
      "text/plain": [
       "   Unnamed: 0                                              Genre  \\\n",
       "0           0          cult, horror, gothic, murder, atmospheric   \n",
       "1           1                                           violence   \n",
       "2           2                                           romantic   \n",
       "3           3             inspiring, romantic, stupid, feel-good   \n",
       "4           4  cruelty, murder, dramatic, cult, violence, atm...   \n",
       "\n",
       "                                      Processed plot  \n",
       "0  note : thi synopsi is for the orgin italian re...  \n",
       "1  two thousand year ago , nhagruul the foul , a ...  \n",
       "2  matuschek ' s , a gift store in budapest , is ...  \n",
       "3  glenn holland , not a morn person by anyon ' s...  \n",
       "4  in may 1980 , a cuban man name toni montana ( ...  "
      ]
     },
     "execution_count": 10,
     "metadata": {},
     "output_type": "execute_result"
    }
   ],
   "source": [
    "prep_dataset = None\n",
    "if exists('merged_dataset.csv'):\n",
    "    dataset = pd.read_csv('merged_dataset.csv')\n",
    "    dataset = dataset.drop(columns=['Plot','Title', 'Unnamed: 0'])\n",
    "    dataset.head()\n",
    "    prep_dataset = dataset\n",
    "elif exists('prepared.zip'):\n",
    "    with zipfile.ZipFile('prepared.zip', 'r') as zip_ref:\n",
    "        zip_ref.extractall('.')\n",
    "        prep_dataset = pd.read_csv('prepared.csv')\n",
    "prep_dataset.head()"
   ]
  }
 ],
 "metadata": {
  "kernelspec": {
   "display_name": "ds-practise",
   "language": "python",
   "name": "python3"
  },
  "language_info": {
   "codemirror_mode": {
    "name": "ipython",
    "version": 3
   },
   "file_extension": ".py",
   "mimetype": "text/x-python",
   "name": "python",
   "nbconvert_exporter": "python",
   "pygments_lexer": "ipython3",
   "version": "3.9.7"
  },
  "orig_nbformat": 4,
  "vscode": {
   "interpreter": {
    "hash": "4676742b88cfe92009507386bd6f30f01ba523675ef5eef0cf8284a053b8305a"
   }
  }
 },
 "nbformat": 4,
 "nbformat_minor": 2
}
