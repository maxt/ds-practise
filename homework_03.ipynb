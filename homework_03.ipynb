{
 "cells": [
  {
   "cell_type": "markdown",
   "metadata": {},
   "source": [
    "# Hometask 03\n",
    "### Maksim Sorokin"
   ]
  },
  {
   "cell_type": "markdown",
   "metadata": {},
   "source": [
    "#### Реализовать с помощью объектно-ориентированного подхода предыдущие 2 задания. Создайте для каждой из задач отдельный класс, который позволяет ее решить.\n",
    "\n",
    "Собрать информацию о всех строящихся объектах на сайте \"наш.дом.рф\"\n",
    "Cохранить ее в pandas dataframe, а также в excel, pickle, БД\n",
    "\n",
    "Проверить состояние датафрейма и привести его в формат, позволяющий дальнейшее исследование данных\n",
    "\n",
    "Сделать визуализацию для мини-исследования рынка строящейся недвижимости в одном или нескольких регионах с помощью pandas, matplotlib, seaborn, plotly и других инструментов."
   ]
  },
  {
   "cell_type": "code",
   "execution_count": 13,
   "metadata": {},
   "outputs": [],
   "source": [
    "import requests\n",
    "import pandas as pd\n",
    "import openpyxl\n",
    "from tqdm import tqdm\n",
    "from pandas import DataFrame\n",
    "from sqlalchemy import create_engine\n",
    "import os.path"
   ]
  },
  {
   "cell_type": "code",
   "execution_count": 14,
   "metadata": {},
   "outputs": [],
   "source": [
    "class DomRfRestClient:\n",
    "\n",
    "    def getTotal(self):\n",
    "        url = f'https://xn--80az8a.xn--d1aqf.xn--p1ai/%D1%81%D0%B5%D1%80%D0%B2%D0%B8%D1%81%D1%8B/api/kn/object?offset=1&limit=100&sortField=devId.devShortCleanNm&sortType=asc&objStatus=0'\n",
    "        res = requests.get(url)\n",
    "        return res.json().get('data').get('total')\n",
    "\n",
    "    def getIds(self,offset_ = 1, limit_ = 100):\n",
    "        url = f'https://xn--80az8a.xn--d1aqf.xn--p1ai/%D1%81%D0%B5%D1%80%D0%B2%D0%B8%D1%81%D1%8B/api/kn/object?offset={offset_}&limit={limit_}&sortField=devId.devShortCleanNm&sortType=asc&objStatus=0'\n",
    "        res = requests.get(url)\n",
    "        objects_data = res.json()\n",
    "        objects_data.get('data').get('list')[0]\n",
    "        objects_list = objects_data.get('data').get('list')\n",
    "        l = list()\n",
    "        for a in objects_list:\n",
    "            l.append(a['objId'])\n",
    "        return l\n",
    "\n",
    "    def get_object_by_id(self, id):\n",
    "        url = f'https://xn--80az8a.xn--d1aqf.xn--p1ai/%D1%81%D0%B5%D1%80%D0%B2%D0%B8%D1%81%D1%8B/api/object/{id}'\n",
    "        answ = requests.get(url)\n",
    "        return answ.json()\n",
    "    "
   ]
  },
  {
   "cell_type": "code",
   "execution_count": 15,
   "metadata": {},
   "outputs": [],
   "source": [
    "class DomRfDataLoader:\n",
    "\n",
    "    client: DomRfRestClient\n",
    "    \n",
    "    def __init__(self,a:DomRfRestClient):\n",
    "        self.client = a\n",
    "\n",
    "    def get_all_ids(self):\n",
    "        all_objects_list = list()\n",
    "        work_in_progress = True\n",
    "        offset = 1\n",
    "        total_objects =  self.client.getTotal()\n",
    "        iterations = total_objects // 100\n",
    "        print('Expected iterations count: ')\n",
    "        if (total_objects % 100) > 0:\n",
    "            iterations+=1\n",
    "\n",
    "        for a in tqdm(range(iterations)):\n",
    "            all_objects_list.extend(self.client.getIds(a*100))\n",
    "\n",
    "        assert len(all_objects_list) == total_objects, 'Didn\\'t load the whole dataset'\n",
    "        print('Loaded '+str(len(all_objects_list)) + ' entries, total '+str(total_objects))\n",
    "        return all_objects_list\n",
    "\n",
    "    def get_all_objects(self):\n",
    "        all_objects_full_list = list()\n",
    "        ids_with_errors = list()\n",
    "        for a in tqdm(self.get_all_ids()):\n",
    "            try:\n",
    "                all_objects_full_list.append(self.client.get_object_by_id(a))\n",
    "            except:\n",
    "                ids_with_errors.append(a)\n",
    "\n",
    "        print('Additional processing of failed ids')\n",
    "        for b in tqdm(ids_with_errors):\n",
    "            all_objects_full_list.append(self.client.get_object_by_id(b))\n",
    "\n",
    "        assert len(all_objects_full_list) == self.client.getTotal(), 'Didn\\'t load the whole dataset'\n",
    "        return all_objects_full_list"
   ]
  },
  {
   "cell_type": "code",
   "execution_count": 22,
   "metadata": {},
   "outputs": [],
   "source": [
    "class DomRfDataSaver:\n",
    "    elements: list\n",
    "    internal_df: DataFrame\n",
    "    \n",
    "    def __init__(self, list):\n",
    "        self.elements = list\n",
    "        self.internal_df = DataFrame()\n",
    "        for c in tqdm(self.elements):\n",
    "            temp_result_dict = dict(c.get('data'))\n",
    "            developer_dict = temp_result_dict.get('developer')\n",
    "            if developer_dict:\n",
    "                devId = developer_dict.get('devId')\n",
    "                del temp_result_dict['developer']\n",
    "                temp_result_dict['devId'] = devId\n",
    "            temp_df = DataFrame([temp_result_dict])\n",
    "        self.internal_df = pd.concat([self.internal_df,temp_df], ignore_index = True)\n",
    "\n",
    "    def save_csv(self, file_name: str):\n",
    "        self.internal_df.to_csv(file_name)\n",
    "\n",
    "    def save_xlsx(self, file_name: str):\n",
    "        self.internal_df.to_excel(file_name)\n",
    "\n",
    "    def save_sql(self, file_name: str):\n",
    "        result_df_str =  self.internal_df.applymap(str)\n",
    "        engine = create_engine('sqlite://', echo=False)\n",
    "        result_df_str.to_sql(file_name, con=engine)\n",
    "            "
   ]
  },
  {
   "cell_type": "code",
   "execution_count": 17,
   "metadata": {},
   "outputs": [
    {
     "name": "stdout",
     "output_type": "stream",
     "text": [
      "Expected iterations count: \n"
     ]
    },
    {
     "name": "stderr",
     "output_type": "stream",
     "text": [
      "100%|██████████| 10/10 [00:13<00:00,  1.38s/it]\n"
     ]
    },
    {
     "name": "stdout",
     "output_type": "stream",
     "text": [
      "Loaded 1000 entries, total 1000\n"
     ]
    },
    {
     "name": "stderr",
     "output_type": "stream",
     "text": [
      "100%|██████████| 1000/1000 [02:15<00:00,  7.40it/s]\n"
     ]
    },
    {
     "name": "stdout",
     "output_type": "stream",
     "text": [
      "Additional processing of failed ids\n"
     ]
    },
    {
     "name": "stderr",
     "output_type": "stream",
     "text": [
      "0it [00:00, ?it/s]\n"
     ]
    }
   ],
   "source": [
    "if not os.path.exists('output2/dom_objects.xlsx'):\n",
    "    restClient = DomRfRestClient()\n",
    "    loader = DomRfDataLoader(restClient)\n",
    "    all_houses_list = loader.get_all_objects()"
   ]
  },
  {
   "cell_type": "code",
   "execution_count": 23,
   "metadata": {},
   "outputs": [
    {
     "name": "stderr",
     "output_type": "stream",
     "text": [
      "100%|██████████| 1000/1000 [00:00<00:00, 1357.91it/s]\n"
     ]
    }
   ],
   "source": [
    "dataSaver = DomRfDataSaver(all_houses_list)\n",
    "dataSaver.save_csv('output2/dom_objects.csv')\n",
    "dataSaver.save_xlsx('output2/dom_objects.xlsx')\n",
    "dataSaver.save_sql('output_2/dom_objects')\n"
   ]
  },
  {
   "cell_type": "code",
   "execution_count": null,
   "metadata": {},
   "outputs": [],
   "source": []
  }
 ],
 "metadata": {
  "kernelspec": {
   "display_name": "Python 3.9.7 ('ds-practise': venv)",
   "language": "python",
   "name": "python3"
  },
  "language_info": {
   "codemirror_mode": {
    "name": "ipython",
    "version": 3
   },
   "file_extension": ".py",
   "mimetype": "text/x-python",
   "name": "python",
   "nbconvert_exporter": "python",
   "pygments_lexer": "ipython3",
   "version": "3.9.7"
  },
  "orig_nbformat": 4,
  "vscode": {
   "interpreter": {
    "hash": "4676742b88cfe92009507386bd6f30f01ba523675ef5eef0cf8284a053b8305a"
   }
  }
 },
 "nbformat": 4,
 "nbformat_minor": 2
}
