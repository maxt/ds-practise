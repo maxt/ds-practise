{
  "cells": [
    {
      "cell_type": "code",
      "execution_count": 116,
      "metadata": {
        "colab": {
          "base_uri": "https://localhost:8080/"
        },
        "id": "BIvhwE4zxX0s",
        "outputId": "bca0a72d-5557-4e0b-8557-4667ef1b9fc6"
      },
      "outputs": [],
      "source": [
        "#Установка нужных пакетов\n",
        "#pip install --upgrade nltk gensim bokeh umap-learn\n",
        "\n",
        "import itertools\n",
        "import string\n",
        "\n",
        "import numpy as np\n",
        "import umap\n",
        "from nltk.tokenize import WordPunctTokenizer\n",
        "\n",
        "from matplotlib import pyplot as plt\n",
        "\n",
        "from IPython.display import clear_output"
      ]
    },
    {
      "cell_type": "code",
      "execution_count": 117,
      "metadata": {
        "colab": {
          "base_uri": "https://localhost:8080/"
        },
        "id": "hF9WPCtfxZR9",
        "outputId": "7442ba42-a17b-478b-ae9b-e5f1784d7323"
      },
      "outputs": [],
      "source": [
        "# выгружаем датасет:\n",
        "#wget https://www.dropbox.com/s/obaitrix9jyu84r/quora.txt?dl=1 -O ./quora.txt -nc"
      ]
    },
    {
      "cell_type": "code",
      "execution_count": 118,
      "metadata": {
        "colab": {
          "base_uri": "https://localhost:8080/",
          "height": 35
        },
        "id": "MaFpN9pvxtNg",
        "outputId": "d7aa8e42-ce7d-4f8e-ac33-4166a640c220"
      },
      "outputs": [
        {
          "data": {
            "text/plain": [
              "\"What TV shows or books help you read people's body language?\\n\""
            ]
          },
          "execution_count": 118,
          "metadata": {},
          "output_type": "execute_result"
        }
      ],
      "source": [
        "data = list(open(\"./quora.txt\", encoding=\"utf-8\"))\n",
        "data[50]"
      ]
    },
    {
      "cell_type": "code",
      "execution_count": 119,
      "metadata": {
        "colab": {
          "base_uri": "https://localhost:8080/"
        },
        "id": "HvXRbOKGx0l_",
        "outputId": "f265a2aa-fc44-4763-bc87-fe05ee0a7203"
      },
      "outputs": [
        {
          "name": "stdout",
          "output_type": "stream",
          "text": [
            "['What', 'TV', 'shows', 'or', 'books', 'help', 'you', 'read', 'people', \"'\", 's', 'body', 'language', '?']\n"
          ]
        }
      ],
      "source": [
        "tokenizer = WordPunctTokenizer()\n",
        "\n",
        "print(tokenizer.tokenize(data[50]))"
      ]
    },
    {
      "cell_type": "markdown",
      "metadata": {
        "id": "ovkxi_QOySCl"
      },
      "source": [
        "#Задание 1: Перевести все слова в нижний регистр (NLTK) из data и добавьте как лист токенов в листе data_tok\n"
      ]
    },
    {
      "cell_type": "code",
      "execution_count": 120,
      "metadata": {
        "id": "EK7uvHi6zeWY"
      },
      "outputs": [],
      "source": [
        "data_tok = list()\n",
        "for a in data:\n",
        "    current_token = tokenizer.tokenize(a)\n",
        "    row = list()\n",
        "    for b in current_token:\n",
        "        row.append(b.lower())\n",
        "    data_tok.append(row)\n",
        "\n",
        "#checking\n",
        "\n",
        "assert all(isinstance(row, (list, tuple)) for row in data_tok), \"please convert each line into a list of tokens (strings)\"\n",
        "is_latin = lambda tok: all('a' <= x.lower() <= 'z' for x in tok)\n",
        "assert all(map(lambda l: not is_latin(l) or l.islower(), map(' '.join, data_tok))), \"please make sure to lowercase the data\"\n"
      ]
    },
    {
      "cell_type": "markdown",
      "metadata": {
        "id": "dtKeoLCYzY4j"
      },
      "source": [
        "###Задание 2: Подсчитайте топ10 самых популярных лем в рамках data"
      ]
    },
    {
      "cell_type": "code",
      "execution_count": 121,
      "metadata": {},
      "outputs": [
        {
          "name": "stderr",
          "output_type": "stream",
          "text": [
            "[nltk_data] Downloading package wordnet to /Users/max/nltk_data...\n",
            "[nltk_data]   Package wordnet is already up-to-date!\n",
            "[nltk_data] Downloading package omw-1.4 to /Users/max/nltk_data...\n",
            "[nltk_data]   Package omw-1.4 is already up-to-date!\n"
          ]
        }
      ],
      "source": [
        "import nltk\n",
        "nltk.download('wordnet')\n",
        "nltk.download('omw-1.4')\n",
        "from nltk.stem import WordNetLemmatizer\n",
        "from nltk.stem import PorterStemmer\n",
        "from nltk.tokenize import word_tokenize\n",
        "\n",
        "ps = PorterStemmer()\n",
        "lemmatizer = WordNetLemmatizer()"
      ]
    },
    {
      "cell_type": "code",
      "execution_count": 122,
      "metadata": {
        "id": "a_BxzSv9yR0w"
      },
      "outputs": [
        {
          "data": {
            "text/plain": [
              "[('?', 552413),\n",
              " ('the', 252068),\n",
              " ('what', 214798),\n",
              " ('is', 185392),\n",
              " ('a', 155726),\n",
              " ('i', 149735),\n",
              " ('to', 141788),\n",
              " ('in', 139787),\n",
              " ('how', 135687),\n",
              " ('of', 112001)]"
            ]
          },
          "execution_count": 122,
          "metadata": {},
          "output_type": "execute_result"
        }
      ],
      "source": [
        "all_tokens = list()\n",
        "for a in data_tok:\n",
        "    all_tokens.extend(a)\n",
        "dict = nltk.FreqDist(all_tokens)\n",
        "top10 = dict.most_common(10)\n",
        "top10"
      ]
    },
    {
      "cell_type": "code",
      "execution_count": null,
      "metadata": {},
      "outputs": [],
      "source": []
    },
    {
      "cell_type": "markdown",
      "metadata": {
        "id": "a1SM3sn1zf1b"
      },
      "source": [
        "###Задание 3: Подсчитайте количество разных слов до и после лемматизации"
      ]
    },
    {
      "cell_type": "code",
      "execution_count": 123,
      "metadata": {
        "id": "Q88BIteDzpWR"
      },
      "outputs": [
        {
          "name": "stdout",
          "output_type": "stream",
          "text": [
            "Before lemmatization: 7131337, after lemmatization: 80304\n"
          ]
        }
      ],
      "source": [
        "count_before_lemm = len(all_tokens)\n",
        "after_lemm = set()\n",
        "for a in all_tokens:\n",
        "    after_lemm.add(lemmatizer.lemmatize(a))\n",
        "count_after_lemm = len(after_lemm)\n",
        "print(f'Before lemmatization: {count_before_lemm}, after lemmatization: {count_after_lemm}')\n"
      ]
    },
    {
      "cell_type": "markdown",
      "metadata": {
        "id": "uxKa8yUUzqNN"
      },
      "source": [
        "###Задание 4: Подсчитайте количество разных слов до и после стемминга"
      ]
    },
    {
      "cell_type": "code",
      "execution_count": 124,
      "metadata": {
        "id": "x91DX51qzszR"
      },
      "outputs": [
        {
          "name": "stdout",
          "output_type": "stream",
          "text": [
            "Before stemming: 7131337, after stemming: 67026\n"
          ]
        }
      ],
      "source": [
        "count_before_stemm = len(all_tokens)\n",
        "after_stemm = set()\n",
        "for a in all_tokens:\n",
        "    after_stemm.add(ps.stem(a))\n",
        "count_after_stemm = len(after_stemm)\n",
        "print(f'Before stemming: {count_before_stemm}, after stemming: {count_after_stemm}')"
      ]
    },
    {
      "cell_type": "markdown",
      "metadata": {
        "id": "XXA7Fe_izuqh"
      },
      "source": [
        "###Задание 5: Подсчитайте количество разных слов\n",
        "\n"
      ]
    },
    {
      "cell_type": "code",
      "execution_count": 125,
      "metadata": {
        "id": "BGgmHzUAzwqO"
      },
      "outputs": [
        {
          "name": "stdout",
          "output_type": "stream",
          "text": [
            "Count stem after lem: 66835, count lem after stem: 66818\n"
          ]
        }
      ],
      "source": [
        "stem_after_lemm = set()\n",
        "for a in after_lemm:\n",
        "    stem_after_lemm.add(ps.stem(a))\n",
        "count_stem_after_lem = len(stem_after_lemm)\n",
        "\n",
        "lemm_after_stem = set()\n",
        "for a in after_stemm:\n",
        "    lemm_after_stem.add(lemmatizer.lemmatize(a))\n",
        "count_lemm_after_stem = len(lemm_after_stem)\n",
        "\n",
        "print(f'Count stem after lem: {count_stem_after_lem}, count lem after stem: {count_lemm_after_stem}')"
      ]
    },
    {
      "cell_type": "markdown",
      "metadata": {
        "id": "At9iloRCVShn"
      },
      "source": [
        "REGEXP\n",
        "\n",
        "https://www.programiz.com/python-programming/regex \n",
        "\n",
        "https://docs.python.org/3/howto/regex.html"
      ]
    },
    {
      "cell_type": "code",
      "execution_count": 126,
      "metadata": {
        "colab": {
          "base_uri": "https://localhost:8080/"
        },
        "id": "521aLisyVUg_",
        "outputId": "fd21b30e-aadf-47eb-e776-ba59ff427d7f"
      },
      "outputs": [
        {
          "name": "stdout",
          "output_type": "stream",
          "text": [
            "Search unsuccessful.\n"
          ]
        }
      ],
      "source": [
        "import re\n",
        "\n",
        "pattern = 'a*s'\n",
        "test_string = 'abyss'\n",
        "result = re.match(pattern, test_string)\n",
        "\n",
        "if result:\n",
        "  print(\"Search successful.\")\n",
        "else:\n",
        "  print(\"Search unsuccessful.\")\t"
      ]
    },
    {
      "cell_type": "code",
      "execution_count": 127,
      "metadata": {},
      "outputs": [
        {
          "name": "stdout",
          "output_type": "stream",
          "text": [
            "MATCH: str: hackerrank bla bla bla  contains the word hackerrank\n",
            "MATCH: str: not as good as hackerrank contains the word hackerrank\n",
            "MISSS: str: does not contains hacker_rank doesn't contain the word hackerrank\n"
          ]
        }
      ],
      "source": [
        "###Задание 6: \n",
        "###https://www.hackerrank.com/challenges/matching-specific-string/problem?isFullScreen=true \n",
        "def check_hackerrank(t: str):\n",
        "    p = re.compile('.*?hackerrank.*?')\n",
        "    if p.match(t):\n",
        "        print(f'MATCH: str: {t} contains the word hackerrank')\n",
        "        return True\n",
        "    else:\n",
        "        print(f'MISSS: str: {t} doesn\\'t contain the word hackerrank')\n",
        "        return False\n",
        "\n",
        "assert check_hackerrank('hackerrank bla bla bla ') #start\n",
        "assert check_hackerrank('not as good as hackerrank') # end\n",
        "assert not check_hackerrank('does not contains hacker_rank') # missed\n"
      ]
    },
    {
      "cell_type": "code",
      "execution_count": 128,
      "metadata": {},
      "outputs": [],
      "source": [
        "\n",
        "###Задание 7: \n",
        "###https://www.hackerrank.com/challenges/matching-whitespace-non-whitespace-character/problem?isFullScreen=true\n",
        "### implement pattern XX_XX_XX\n",
        "\n",
        "def check_pattern(t: str):\n",
        "    tt = re.compile('^(..)\\s(..)\\s(..)$')\n",
        "    return tt.match(t)\n",
        "\n",
        "assert check_pattern('10 11 12')\n",
        "assert check_pattern('df 12 f5')\n",
        "assert not check_pattern(' . df 23 gd ')"
      ]
    },
    {
      "cell_type": "code",
      "execution_count": 129,
      "metadata": {},
      "outputs": [],
      "source": [
        "###Задание 8: \n",
        "###https://www.hackerrank.com/challenges/matching-start-end/problem?isFullScreen=true\n",
        "def check_pattern_task8(t: str):\n",
        "    tt = re.compile('^(\\d)(\\D{6})\\.$')\n",
        "    return tt.match(t)\n",
        "\n",
        "assert check_pattern_task8('9mmmmmm.')\n",
        "assert not check_pattern_task8(' 9mmmmmm.')\n",
        "assert not check_pattern_task8('9mmmmmmm.')\n",
        "assert not check_pattern_task8('9mmmmmmm')\n",
        "assert not check_pattern_task8(' 9mmmmm. ')"
      ]
    },
    {
      "cell_type": "code",
      "execution_count": 130,
      "metadata": {},
      "outputs": [],
      "source": [
        "###Задание 9: \n",
        "###https://www.hackerrank.com/challenges/matching-word-boundaries/problem?isFullScreen=true\n",
        "###You have a test String .\n",
        "##Your task is to write a regex which will match word starting with vowel (a,e,i,o, u, A, E, I , O or U).\n",
        "##The matched word can be of any length. The matched word should consist of letters (lowercase and uppercase both) only.\n",
        "##The matched word must start and end with a word boundary.\n",
        "\n",
        "def check_pattern_task9(t: str):\n",
        "    tt = re.compile('^[aeiouAEIOU]\\S+$')\n",
        "    return tt.match(t)\n",
        "\n",
        "assert check_pattern_task9('aLFLFLFLF')\n",
        "assert not check_pattern_task9('bLFLFLFLF')\n",
        "assert not check_pattern_task9('bLFLF LFLF')\n",
        "assert not check_pattern_task9('9bLFLF LFLF')\n",
        "assert not check_pattern_task9(' 9bLFLF LFLF')\n"
      ]
    },
    {
      "cell_type": "markdown",
      "metadata": {
        "id": "Csv2YN2IRXJB"
      },
      "source": [
        "Bag Of Words (BOW)"
      ]
    },
    {
      "cell_type": "code",
      "execution_count": 131,
      "metadata": {
        "colab": {
          "base_uri": "https://localhost:8080/"
        },
        "id": "O8YWG3JhSFeZ",
        "outputId": "325b4fa5-7d56-4993-b4d0-1aae78bad94e"
      },
      "outputs": [
        {
          "name": "stdout",
          "output_type": "stream",
          "text": [
            "['welcome', 'to', 'great', 'learning', ',', 'now', 'start', 'learning']\n",
            "['learning', 'is', 'a', 'good', 'practice']\n",
            "['welcome', 'to', 'great', 'learning', ',', 'now', 'start', 'is', 'a', 'good', 'practice']\n",
            "['welcome', 'great', 'learning', 'now', 'start', 'good', 'practice']\n",
            "[1, 1, 2, 1, 1, 0, 0]\n",
            "[0, 0, 1, 0, 0, 1, 1]\n"
          ]
        }
      ],
      "source": [
        "def vectorize(tokens):\n",
        "    ''' This function takes list of words in a sentence as input \n",
        "    and returns a vector of size of filtered_vocab.It puts 0 if the \n",
        "    word is not present in tokens and count of token if present.'''\n",
        "    vector=[]\n",
        "    for w in filtered_vocab:\n",
        "        vector.append(tokens.count(w))\n",
        "    return vector\n",
        "def unique(sequence):\n",
        "    '''This functions returns a list in which the order remains \n",
        "    same and no item repeats.Using the set() function does not \n",
        "    preserve the original ordering,so i didnt use that instead'''\n",
        "    seen = set()\n",
        "    return [x for x in sequence if not (x in seen or seen.add(x))]\n",
        "\n",
        "#create a list of stopwords.You can import stopwords from nltk too\n",
        "stopwords=[\"to\",\"is\",\"a\"]\n",
        "\n",
        "#list of special characters.You can use regular expressions too\n",
        "special_char=[\",\",\":\",\" \",\";\",\".\",\"?\"]\n",
        "\n",
        "#Write the sentences in the corpus,in our case, just two \n",
        "string1=\"Welcome to Great Learning , Now start learning\"\n",
        "string2=\"Learning is a good practice\"\n",
        "\n",
        "#convert them to lower case\n",
        "string1=string1.lower()\n",
        "string2=string2.lower()\n",
        "\n",
        "#split the sentences into tokens\n",
        "tokens1=string1.split()\n",
        "tokens2=string2.split()\n",
        "print(tokens1)\n",
        "print(tokens2)\n",
        "\n",
        "#create a vocabulary list\n",
        "vocab=unique(tokens1+tokens2)\n",
        "print(vocab)\n",
        "\n",
        "#filter the vocabulary list\n",
        "filtered_vocab=[]\n",
        "for w in vocab: \n",
        "    if w not in stopwords and w not in special_char: \n",
        "        filtered_vocab.append(w)\n",
        "print(filtered_vocab)\n",
        "\n",
        "#convert sentences into vectords\n",
        "vector1=vectorize(tokens1)\n",
        "print(vector1)\n",
        "vector2=vectorize(tokens2)\n",
        "print(vector2)"
      ]
    },
    {
      "cell_type": "markdown",
      "metadata": {
        "id": "MOZ1qx05Q46b"
      },
      "source": [
        "Задание 10: Реализовать Bag of words на data_tok (можно на NLTK, можно без)"
      ]
    },
    {
      "cell_type": "code",
      "execution_count": 132,
      "metadata": {
        "id": "Tew2nQN4OCiW"
      },
      "outputs": [
        {
          "data": {
            "text/plain": [
              "array([[1, 0, 0, ..., 0, 0, 0],\n",
              "       [1, 0, 1, ..., 0, 0, 0],\n",
              "       [1, 1, 0, ..., 1, 0, 0],\n",
              "       ...,\n",
              "       [1, 0, 0, ..., 1, 0, 0],\n",
              "       [1, 0, 0, ..., 0, 0, 0],\n",
              "       [1, 1, 1, ..., 0, 0, 0]])"
            ]
          },
          "execution_count": 132,
          "metadata": {},
          "output_type": "execute_result"
        }
      ],
      "source": [
        "###https://www.geeksforgeeks.org/bag-of-words-bow-model-in-nlp/\n",
        "X = []\n",
        "for data in data_tok:\n",
        "    vector = []\n",
        "    for word_ in top10:\n",
        "        word = word_[0]\n",
        "        if word in data:\n",
        "            vector.append(1)\n",
        "        else:\n",
        "            vector.append(0)\n",
        "    X.append(vector)\n",
        "X = np.asarray(X)\n",
        "X"
      ]
    }
  ],
  "metadata": {
    "colab": {
      "provenance": [],
      "toc_visible": true
    },
    "kernelspec": {
      "display_name": "Python 3.9.7 ('tensorflow')",
      "language": "python",
      "name": "python3"
    },
    "language_info": {
      "codemirror_mode": {
        "name": "ipython",
        "version": 3
      },
      "file_extension": ".py",
      "mimetype": "text/x-python",
      "name": "python",
      "nbconvert_exporter": "python",
      "pygments_lexer": "ipython3",
      "version": "3.9.7"
    },
    "vscode": {
      "interpreter": {
        "hash": "fa0bc865107c7062c66623b84ed7848967abd0ba5cbabe70080959ae0fa18d9a"
      }
    }
  },
  "nbformat": 4,
  "nbformat_minor": 0
}
