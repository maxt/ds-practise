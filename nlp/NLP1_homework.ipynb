{
  "cells": [
    {
      "cell_type": "markdown",
      "metadata": {
        "id": "dH7qx_irU4Y8"
      },
      "source": [
        "Домашняя работа №1\n",
        "\n",
        "NLP5: \n",
        "классная работа, задача 5: нужно сделать на нашем датасет data сначала лемматизацию, потом стемминг и наоборот\n",
        "\n",
        "ML1_1:\n",
        "https://www.hackerrank.com/challenges/capturing-non-capturing-groups/problem?isFullScreen=true\n",
        "\n",
        "ML1_2:\n",
        "https://www.hackerrank.com/challenges/branch-reset-groups/problem?isFullScreen=true\n"
      ]
    },
    {
      "cell_type": "code",
      "execution_count": 14,
      "metadata": {},
      "outputs": [
        {
          "name": "stderr",
          "output_type": "stream",
          "text": [
            "[nltk_data] Downloading package wordnet to /Users/max/nltk_data...\n",
            "[nltk_data]   Package wordnet is already up-to-date!\n",
            "[nltk_data] Downloading package omw-1.4 to /Users/max/nltk_data...\n",
            "[nltk_data]   Package omw-1.4 is already up-to-date!\n"
          ]
        }
      ],
      "source": [
        "import nltk\n",
        "import itertools\n",
        "import string\n",
        "\n",
        "import numpy as np\n",
        "from nltk.tokenize import WordPunctTokenizer\n",
        "\n",
        "from matplotlib import pyplot as plt\n",
        "nltk.download('wordnet')\n",
        "nltk.download('omw-1.4')\n",
        "from nltk.stem import WordNetLemmatizer\n",
        "from nltk.stem import PorterStemmer\n",
        "from nltk.tokenize import word_tokenize\n",
        "\n",
        "ps = PorterStemmer()\n",
        "lemmatizer = WordNetLemmatizer()"
      ]
    },
    {
      "cell_type": "code",
      "execution_count": 15,
      "metadata": {
        "id": "xJfkstKpqsXp"
      },
      "outputs": [
        {
          "name": "stdout",
          "output_type": "stream",
          "text": [
            "vocabulary size: 87820\n",
            "Before lemmatization: 7131337, after lemmatization: 80304\n",
            "Before stemming: 7131337, after stemming: 67026\n",
            "Count stem after lem: 66835, count lem after stem: 66818\n"
          ]
        }
      ],
      "source": [
        "# задача 5 классная работа: \n",
        "#работаю локально в visualstudio code, quora.txt залит в репозиторий и лежит рядом\n",
        "data = list(open(\"./quora.txt\", encoding=\"utf-8\"))\n",
        "tokenizer = WordPunctTokenizer()\n",
        "data_tok = list()\n",
        "for a in data:\n",
        "    current_token = tokenizer.tokenize(a)\n",
        "    row = list()\n",
        "    for b in current_token:\n",
        "        row.append(b.lower())\n",
        "    data_tok.append(row)\n",
        "\n",
        "#checking\n",
        "\n",
        "assert all(isinstance(row, (list, tuple)) for row in data_tok), \"please convert each line into a list of tokens (strings)\"\n",
        "is_latin = lambda tok: all('a' <= x.lower() <= 'z' for x in tok)\n",
        "assert all(map(lambda l: not is_latin(l) or l.islower(), map(' '.join, data_tok))), \"please make sure to lowercase the data\"\n",
        "\n",
        "all_tokens = list()\n",
        "for a in data_tok:\n",
        "    all_tokens.extend(a)\n",
        "dict = nltk.FreqDist(all_tokens)\n",
        "len_dict = len(dict)\n",
        "print(f'vocabulary size: {len_dict}')\n",
        "top10 = dict.most_common(80000)\n",
        "\n",
        "count_before_lemm = len(all_tokens)\n",
        "after_lemm = set()\n",
        "for a in all_tokens:\n",
        "    after_lemm.add(lemmatizer.lemmatize(a))\n",
        "count_after_lemm = len(after_lemm)\n",
        "print(f'Before lemmatization: {count_before_lemm}, after lemmatization: {count_after_lemm}')\n",
        "\n",
        "count_before_stemm = len(all_tokens)\n",
        "after_stemm = set()\n",
        "for a in all_tokens:\n",
        "    after_stemm.add(ps.stem(a))\n",
        "count_after_stemm = len(after_stemm)\n",
        "print(f'Before stemming: {count_before_stemm}, after stemming: {count_after_stemm}')\n",
        "\n",
        "#### код выше перетащил из классной работы первого занятия. а здесь считаю то, что нужно для домашки\n",
        "stem_after_lemm = set()\n",
        "for a in after_lemm:\n",
        "    stem_after_lemm.add(ps.stem(a))\n",
        "count_stem_after_lem = len(stem_after_lemm)\n",
        "\n",
        "lemm_after_stem = set()\n",
        "for a in after_stemm:\n",
        "    lemm_after_stem.add(lemmatizer.lemmatize(a))\n",
        "count_lemm_after_stem = len(lemm_after_stem)\n",
        "\n",
        "print(f'Count stem after lem: {count_stem_after_lem}, count lem after stem: {count_lemm_after_stem}')\n"
      ]
    },
    {
      "cell_type": "code",
      "execution_count": 16,
      "metadata": {},
      "outputs": [],
      "source": [
        "## регулярки, первое \n",
        "import re\n",
        "###https://www.hackerrank.com/challenges/capturing-non-capturing-groups/problem?isFullScreen=true\n",
        "def check_pattern_task_oks(t: str):\n",
        "    tt = re.compile('^(.*)?(okokok)(.*)$')\n",
        "    return tt.match(t)\n",
        "\n",
        "assert check_pattern_task_oks('okokok! cya')\n",
        "assert not check_pattern_task_oks(' okok ok')\n",
        "assert not check_pattern_task_oks('!ok ok ok.')\n",
        "assert not check_pattern_task_oks('kokoko')\n",
        "assert not check_pattern_task_oks(' k1k1k. ')"
      ]
    },
    {
      "cell_type": "code",
      "execution_count": 17,
      "metadata": {},
      "outputs": [],
      "source": [
        "# регулярки, второе\n",
        "def check_pattern_task(t: str):\n",
        "    tt = re.compile('^(\\d{2}-\\d{2}-\\d{2}-\\d{2})|(\\d{2}---\\d{2}---\\d{2}---\\d{2})|(\\d{2}:\\d{2}:\\d{2}:\\d{2})|(\\d{2}\\.\\d{2}\\.\\d{2}\\.\\d{2})$')\n",
        "    return tt.match(t)\n",
        "\n",
        "assert check_pattern_task('10-11-12-14')\n",
        "assert check_pattern_task('10---11---12---14')\n",
        "assert check_pattern_task('10:11:12:14')\n",
        "assert check_pattern_task('10.11.12.14')\n",
        "assert not check_pattern_task('10:11.12.14')\n",
        "assert not check_pattern_task('mm.aa.xx.14')\n"
      ]
    }
  ],
  "metadata": {
    "colab": {
      "name": "NLP1_homework",
      "provenance": [],
      "toc_visible": true
    },
    "kernelspec": {
      "display_name": "Python 3.9.7 ('tensorflow')",
      "language": "python",
      "name": "python3"
    },
    "language_info": {
      "codemirror_mode": {
        "name": "ipython",
        "version": 3
      },
      "file_extension": ".py",
      "mimetype": "text/x-python",
      "name": "python",
      "nbconvert_exporter": "python",
      "pygments_lexer": "ipython3",
      "version": "3.9.7"
    },
    "vscode": {
      "interpreter": {
        "hash": "fa0bc865107c7062c66623b84ed7848967abd0ba5cbabe70080959ae0fa18d9a"
      }
    }
  },
  "nbformat": 4,
  "nbformat_minor": 0
}
