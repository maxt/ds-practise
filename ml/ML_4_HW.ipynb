{
 "cells": [
  {
   "cell_type": "code",
   "execution_count": 42,
   "metadata": {},
   "outputs": [],
   "source": [
    "import pandas as pd\n",
    "import numpy as np\n",
    "from sklearn.model_selection import train_test_split\n",
    "from sklearn.tree import DecisionTreeClassifier\n",
    "from sklearn.metrics import accuracy_score\n",
    "from sklearn.ensemble import BaggingClassifier\n",
    "from sklearn.ensemble import RandomForestClassifier\n",
    "from pandas import DataFrame\n",
    "\n",
    "from sklearn.ensemble import GradientBoostingClassifier\n",
    "from sklearn.model_selection import cross_val_score\n",
    "from sklearn.preprocessing import LabelEncoder\n",
    "import xgboost"
   ]
  },
  {
   "cell_type": "markdown",
   "metadata": {},
   "source": [
    "https://archive.ics.uci.edu/ml/datasets/wine+quality"
   ]
  },
  {
   "cell_type": "code",
   "execution_count": 30,
   "metadata": {},
   "outputs": [],
   "source": [
    "data = pd.read_csv('winequality-red.csv', sep = ';')"
   ]
  },
  {
   "cell_type": "markdown",
   "metadata": {},
   "source": [
    "1.Разделите выборку на обучающую и тестовую в отношении 70%/30%"
   ]
  },
  {
   "cell_type": "code",
   "execution_count": 31,
   "metadata": {},
   "outputs": [],
   "source": [
    "y = data.quality\n",
    "X = data.drop(columns='quality')\n",
    "\n",
    "learn_df, test_df, learn_y, test_y = train_test_split(X, y, test_size=0.3)\n"
   ]
  },
  {
   "cell_type": "markdown",
   "metadata": {},
   "source": [
    "2.Оцените качество по метрике accuracy для классификаторов:\n",
    "\n",
    "DecisionTreeClassifier\n",
    "\n",
    "BaggingClassifier со 100 деревьями\n",
    "\n",
    "RandomForestClassifier со 100 деревьями\n",
    "\n",
    "Сравните результаты и напишите какой вывод можно сделать."
   ]
  },
  {
   "cell_type": "code",
   "execution_count": 32,
   "metadata": {},
   "outputs": [
    {
     "name": "stdout",
     "output_type": "stream",
     "text": [
      "Accuracy for DecisionTreeClassifier:  0.5770833333333333\n"
     ]
    }
   ],
   "source": [
    "tree_classifier_model = DecisionTreeClassifier()\n",
    "tree_classifier_model.fit(learn_df, learn_y)\n",
    "tree_classifier_predict = tree_classifier_model.predict(test_df)\n",
    "tree_accuracy = accuracy_score(test_y, tree_classifier_predict)\n",
    "print('Accuracy for DecisionTreeClassifier: ', tree_accuracy)"
   ]
  },
  {
   "cell_type": "code",
   "execution_count": 33,
   "metadata": {},
   "outputs": [
    {
     "name": "stdout",
     "output_type": "stream",
     "text": [
      "Accuracy for BaggingClassifier with 100 trees:  0.6645833333333333\n"
     ]
    }
   ],
   "source": [
    "bc_with_trees = BaggingClassifier(base_estimator=tree_classifier_model, n_estimators=100)\n",
    "bc_with_trees.fit(learn_df, learn_y)\n",
    "bc_with_trees_predict = bc_with_trees.predict(test_df)\n",
    "bc_with_trees_accuracy = accuracy_score(test_y, bc_with_trees_predict)\n",
    "print('Accuracy for BaggingClassifier with 100 trees: ', bc_with_trees_accuracy)"
   ]
  },
  {
   "cell_type": "code",
   "execution_count": 34,
   "metadata": {},
   "outputs": [
    {
     "name": "stdout",
     "output_type": "stream",
     "text": [
      "Accuracy for RandomForestClassifier with n_estimators=100:  0.66875\n"
     ]
    }
   ],
   "source": [
    "def get_random_forest_accuracy_with_n_trees(trees_count:int):\n",
    "    random_forest_model = RandomForestClassifier(n_estimators=trees_count)\n",
    "    random_forest_model.fit(learn_df, learn_y)\n",
    "    random_forest_predict = random_forest_model.predict(test_df)\n",
    "    random_forest_accuracy = accuracy_score(test_y, random_forest_predict)\n",
    "    return random_forest_accuracy\n",
    "\n",
    "random_forest_accuracy = get_random_forest_accuracy_with_n_trees(100)\n",
    "\n",
    "print('Accuracy for RandomForestClassifier with n_estimators=100: ', random_forest_accuracy)"
   ]
  },
  {
   "cell_type": "markdown",
   "metadata": {},
   "source": [
    "Вывод: Bagging дает лучшие результаты, чем простое применение DecisionTreeClassifier,\n",
    "однако RandomForestClassifier, использующий внутри тот же DecisionTreeClassifier дает ещё лучшие результаты"
   ]
  },
  {
   "cell_type": "markdown",
   "metadata": {},
   "source": [
    "3.Посчитайте качество на тестовой выборке по метрике accuracy для классификатора RandomForestClassifier, используя значения деревьев:\n",
    "    \n",
    "10, 50, 100, 200, далее с шагом 200 до 5000 деревьев.\n",
    "Постройте график зависимости качества от числа деревьев.\n",
    "\n"
   ]
  },
  {
   "cell_type": "code",
   "execution_count": 35,
   "metadata": {},
   "outputs": [
    {
     "name": "stderr",
     "output_type": "stream",
     "text": [
      "/Users/max/git/github/ds-practise/ds-practise/lib/python3.9/site-packages/pandas/core/indexes/base.py:6999: FutureWarning: In a future version, the Index constructor will not infer numeric dtypes when passed object-dtype sequences (matching Series behavior)\n",
      "  return Index(sequences[0], name=names)\n"
     ]
    },
    {
     "data": {
      "text/html": [
       "<div>\n",
       "<style scoped>\n",
       "    .dataframe tbody tr th:only-of-type {\n",
       "        vertical-align: middle;\n",
       "    }\n",
       "\n",
       "    .dataframe tbody tr th {\n",
       "        vertical-align: top;\n",
       "    }\n",
       "\n",
       "    .dataframe thead th {\n",
       "        text-align: right;\n",
       "    }\n",
       "</style>\n",
       "<table border=\"1\" class=\"dataframe\">\n",
       "  <thead>\n",
       "    <tr style=\"text-align: right;\">\n",
       "      <th></th>\n",
       "      <th>accuracy</th>\n",
       "    </tr>\n",
       "    <tr>\n",
       "      <th>n_trees</th>\n",
       "      <th></th>\n",
       "    </tr>\n",
       "  </thead>\n",
       "  <tbody>\n",
       "    <tr>\n",
       "      <th>200</th>\n",
       "      <td>0.681250</td>\n",
       "    </tr>\n",
       "    <tr>\n",
       "      <th>400</th>\n",
       "      <td>0.681250</td>\n",
       "    </tr>\n",
       "    <tr>\n",
       "      <th>600</th>\n",
       "      <td>0.670833</td>\n",
       "    </tr>\n",
       "    <tr>\n",
       "      <th>800</th>\n",
       "      <td>0.677083</td>\n",
       "    </tr>\n",
       "    <tr>\n",
       "      <th>1000</th>\n",
       "      <td>0.685417</td>\n",
       "    </tr>\n",
       "  </tbody>\n",
       "</table>\n",
       "</div>"
      ],
      "text/plain": [
       "         accuracy\n",
       "n_trees          \n",
       "200      0.681250\n",
       "400      0.681250\n",
       "600      0.670833\n",
       "800      0.677083\n",
       "1000     0.685417"
      ]
     },
     "execution_count": 35,
     "metadata": {},
     "output_type": "execute_result"
    }
   ],
   "source": [
    "accuracy_by_n = DataFrame(columns=['n_trees', 'accuracy'])\n",
    "\n",
    "for a in range(1,25):\n",
    "    current_model = RandomForestClassifier(n_estimators=a*200)\n",
    "    current_n = a*200\n",
    "    current_accuracy = get_random_forest_accuracy_with_n_trees(current_n)\n",
    "    row_df = DataFrame.from_dict({'n_trees': [current_n], 'accuracy': [current_accuracy]})\n",
    "    accuracy_by_n = pd.concat([accuracy_by_n, row_df])\n",
    "accuracy_by_n = accuracy_by_n.reset_index(drop=True)\n",
    "accuracy_by_n = accuracy_by_n.set_index('n_trees')\n",
    "accuracy_by_n.head()"
   ]
  },
  {
   "cell_type": "code",
   "execution_count": 36,
   "metadata": {},
   "outputs": [
    {
     "data": {
      "text/plain": [
       "<AxesSubplot: xlabel='n_trees'>"
      ]
     },
     "execution_count": 36,
     "metadata": {},
     "output_type": "execute_result"
    },
    {
     "data": {
      "image/png": "[encoded data removed]",
      "text/plain": [
       "<Figure size 640x480 with 1 Axes>"
      ]
     },
     "metadata": {},
     "output_type": "display_data"
    }
   ],
   "source": [
    "accuracy_by_n.plot()\n",
    "\n"
   ]
  },
  {
   "cell_type": "markdown",
   "metadata": {},
   "source": [
    "4.Обучите реализации градиентного бустинга с параметрами по умолчанию из библиотек sklearn и xgboost. Сравните значение метрики accuracy по cross_val_score"
   ]
  },
  {
   "cell_type": "code",
   "execution_count": 37,
   "metadata": {},
   "outputs": [
    {
     "name": "stdout",
     "output_type": "stream",
     "text": [
      "Cross_val_score for gradient boosting sklearn: [0.65178571 0.68303571 0.62946429 0.64285714 0.67713004]\n",
      "xgboost library version 1.7.1\n",
      "Cross_val_score for gradient boosting xgboost: [0.63392857 0.68303571 0.67410714 0.65625    0.69058296]\n"
     ]
    }
   ],
   "source": [
    "sk_learn_gradient_boosting_model = GradientBoostingClassifier()\n",
    "cross_val_score_sk_gradient_boosting = cross_val_score(sk_learn_gradient_boosting_model, learn_df, learn_y, scoring='accuracy')\n",
    "print(f'Cross_val_score for gradient boosting sklearn: {cross_val_score_sk_gradient_boosting}')\n",
    "\n",
    "print(f'xgboost library version {xgboost.__version__}')\n",
    "xgboost_gradient_boosting_model = xgboost.XGBClassifier()\n",
    "\n",
    "le = LabelEncoder()\n",
    "learn_y_labeled = le.fit_transform(learn_y)\n",
    "test_y_labeled = le.fit_transform(test_y)\n",
    "\n",
    "cross_val_score_xgboost_gradient_boosting = cross_val_score(xgboost_gradient_boosting_model, learn_df, learn_y_labeled, scoring='accuracy', error_score='raise')\n",
    "print(f'Cross_val_score for gradient boosting xgboost: {cross_val_score_xgboost_gradient_boosting}')\n",
    "\n",
    "mean_sklearn = cross_val_score_sk_gradient_boosting.mean()\n",
    "mean_xgboost = cross_val_score_xgboost_gradient_boosting.mean()\n",
    "\n",
    "assert mean_xgboost > mean_sklearn"
   ]
  },
  {
   "cell_type": "markdown",
   "metadata": {},
   "source": [
    "Вывод: реализация градиентного бустинга с параметрами по умолчанию в xgboost дает лучшие результаты по метрике accuracy по сравнению с реализацией в sklearn"
   ]
  },
  {
   "cell_type": "markdown",
   "metadata": {},
   "source": [
    "5.Подберите оптимальные параметры этих алгоритмов с помощью GridSearchCV(cv=3).\n",
    "Параметры для оптимизации:\n",
    "\n",
    "скорость обучения\n",
    "\n",
    "количество деревьев\n",
    "\n",
    "глубина деревьев\n",
    "\n",
    "Сравните значение метрики accuracy и скорость работы. Выведите лучшие параметры алгоритмов."
   ]
  },
  {
   "cell_type": "code",
   "execution_count": 38,
   "metadata": {},
   "outputs": [],
   "source": [
    "from sklearn.model_selection import GridSearchCV\n",
    "\n",
    "dict_param_grid = {'learning_rate':[0.1, 0.3, 0.5, 0.7, 1, 1.5, 2,5],\n",
    "'n_estimators': [1, 10, 25, 50],\n",
    "'max_depth': range(1,12)}\n"
   ]
  },
  {
   "cell_type": "code",
   "execution_count": 39,
   "metadata": {},
   "outputs": [
    {
     "name": "stdout",
     "output_type": "stream",
     "text": [
      "0.6416666666666667\n",
      "{'learning_rate': 0.1, 'max_depth': 4, 'n_estimators': 50}\n",
      "CPU times: user 3min 56s, sys: 1.55 s, total: 3min 58s\n",
      "Wall time: 3min 58s\n"
     ]
    }
   ],
   "source": [
    "%%time \n",
    "\n",
    "grid_sklearn = GridSearchCV(sk_learn_gradient_boosting_model, cv=3, param_grid=dict_param_grid)\n",
    "\n",
    "grid_sklearn.fit(learn_df, learn_y)\n",
    "predicted  = grid_sklearn.predict(test_df)\n",
    "accuracy = accuracy_score(test_y, predicted)\n",
    "print(accuracy)\n",
    "print(grid_sklearn.best_params_)\n"
   ]
  },
  {
   "cell_type": "code",
   "execution_count": 41,
   "metadata": {},
   "outputs": [
    {
     "name": "stdout",
     "output_type": "stream",
     "text": [
      "0.63125\n",
      "{'learning_rate': 0.3, 'max_depth': 6, 'n_estimators': 50}\n",
      "CPU times: user 4min 58s, sys: 2min 28s, total: 7min 26s\n",
      "Wall time: 1min 9s\n"
     ]
    }
   ],
   "source": [
    "%%time\n",
    "grid_xgboost = GridSearchCV(xgboost_gradient_boosting_model, cv=3, param_grid=dict_param_grid)\n",
    "\n",
    "grid_xgboost.fit(learn_df, learn_y_labeled)\n",
    "predicted  = grid_xgboost.predict(test_df)\n",
    "\n",
    "accuracy = accuracy_score(test_y_labeled, predicted)\n",
    "print(accuracy)\n",
    "print(grid_xgboost.best_params_)\n"
   ]
  },
  {
   "cell_type": "markdown",
   "metadata": {},
   "source": [
    "6.Обучите реализации градиентного бустинга с параметрами по умолчанию из библиотек lightgbm и catboost. Сравните значение метрики accuracy по cross_val_score по всем четырем реализациям."
   ]
  },
  {
   "cell_type": "code",
   "execution_count": null,
   "metadata": {},
   "outputs": [],
   "source": []
  },
  {
   "cell_type": "markdown",
   "metadata": {},
   "source": [
    "7.Подберите оптимальные параметры для алгоритмов градиентного бустинга из библиотек lightgbm и catboost с теми же условиями. Выведите лучшие параметры алгоритмов.\n",
    "Сравните значение метрики accuracy и скорость по этим четырем реализациям."
   ]
  },
  {
   "cell_type": "code",
   "execution_count": null,
   "metadata": {},
   "outputs": [],
   "source": []
  },
  {
   "cell_type": "markdown",
   "metadata": {},
   "source": [
    "8.Подберите оптимальные параметры алгоритма из библиотеки xgbost с помощью [optuna](https://github.com/optuna/optuna) . Параметры для оптимизации:\n",
    "\n",
    "скорость обучения\n",
    "\n",
    "количество деревьев\n",
    "\n",
    "глубина деревьев\n",
    "\n",
    "Сравните результат с поиском по сетке из sklearn. Выведите лучшие параметры алгоритма, найденные даным способом."
   ]
  },
  {
   "cell_type": "code",
   "execution_count": null,
   "metadata": {},
   "outputs": [],
   "source": []
  },
  {
   "cell_type": "markdown",
   "metadata": {},
   "source": [
    "9.Выведите качество по метрике accuracy стэкинга (StackingClassifier) 4-х алгоритмов с базовыми параметрами градиентного бустинга."
   ]
  },
  {
   "cell_type": "code",
   "execution_count": null,
   "metadata": {},
   "outputs": [],
   "source": []
  },
  {
   "cell_type": "markdown",
   "metadata": {},
   "source": [
    "10.Выведите качество по метрике accuracy стэкинга 4-х алгоритмов с оптимальными параметрами градиентного бустинга. Сравните результаты с предыдущим шагом и напишите какой вывод можно из этого сделать."
   ]
  },
  {
   "cell_type": "code",
   "execution_count": null,
   "metadata": {},
   "outputs": [],
   "source": []
  }
 ],
 "metadata": {
  "kernelspec": {
   "display_name": "Python 3.9.7 ('ds-practise': venv)",
   "language": "python",
   "name": "python3"
  },
  "language_info": {
   "codemirror_mode": {
    "name": "ipython",
    "version": 3
   },
   "file_extension": ".py",
   "mimetype": "text/x-python",
   "name": "python",
   "nbconvert_exporter": "python",
   "pygments_lexer": "ipython3",
   "version": "3.9.7"
  },
  "vscode": {
   "interpreter": {
    "hash": "4676742b88cfe92009507386bd6f30f01ba523675ef5eef0cf8284a053b8305a"
   }
  }
 },
 "nbformat": 4,
 "nbformat_minor": 2
}
