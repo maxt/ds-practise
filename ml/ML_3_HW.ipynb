{
 "cells": [
  {
   "cell_type": "code",
   "execution_count": 537,
   "metadata": {},
   "outputs": [],
   "source": [
    "from sklearn.datasets import load_boston\n",
    "import pandas as pd\n",
    "import numpy as np\n",
    "from sklearn.linear_model import LinearRegression\n",
    "from sklearn.linear_model import Lasso\n",
    "from sklearn.linear_model import Ridge\n",
    "from sklearn.metrics import r2_score\n",
    "from sklearn.linear_model import RidgeCV\n",
    "from sklearn.linear_model import LassoCV\n",
    "from sklearn.model_selection import GridSearchCV\n",
    "from sklearn.pipeline import Pipeline\n",
    "from sklearn.preprocessing import StandardScaler\n",
    "from sklearn.preprocessing import MinMaxScaler\n",
    "from sklearn.pipeline import make_pipeline\n",
    "from sklearn.preprocessing import PolynomialFeatures"
   ]
  },
  {
   "cell_type": "code",
   "execution_count": 538,
   "metadata": {},
   "outputs": [],
   "source": [
    "RANDOM_STATE = 42"
   ]
  },
  {
   "cell_type": "code",
   "execution_count": 539,
   "metadata": {},
   "outputs": [
    {
     "name": "stderr",
     "output_type": "stream",
     "text": [
      "/Users/max/git/github/ds-practise/ds-practise/lib/python3.9/site-packages/sklearn/utils/deprecation.py:87: FutureWarning: Function load_boston is deprecated; `load_boston` is deprecated in 1.0 and will be removed in 1.2.\n",
      "\n",
      "    The Boston housing prices dataset has an ethical problem. You can refer to\n",
      "    the documentation of this function for further details.\n",
      "\n",
      "    The scikit-learn maintainers therefore strongly discourage the use of this\n",
      "    dataset unless the purpose of the code is to study and educate about\n",
      "    ethical issues in data science and machine learning.\n",
      "\n",
      "    In this special case, you can fetch the dataset from the original\n",
      "    source::\n",
      "\n",
      "        import pandas as pd\n",
      "        import numpy as np\n",
      "\n",
      "        data_url = \"http://lib.stat.cmu.edu/datasets/boston\"\n",
      "        raw_df = pd.read_csv(data_url, sep=\"\\s+\", skiprows=22, header=None)\n",
      "        data = np.hstack([raw_df.values[::2, :], raw_df.values[1::2, :2]])\n",
      "        target = raw_df.values[1::2, 2]\n",
      "\n",
      "    Alternative datasets include the California housing dataset (i.e.\n",
      "    :func:`~sklearn.datasets.fetch_california_housing`) and the Ames housing\n",
      "    dataset. You can load the datasets as follows::\n",
      "\n",
      "        from sklearn.datasets import fetch_california_housing\n",
      "        housing = fetch_california_housing()\n",
      "\n",
      "    for the California housing dataset and::\n",
      "\n",
      "        from sklearn.datasets import fetch_openml\n",
      "        housing = fetch_openml(name=\"house_prices\", as_frame=True)\n",
      "\n",
      "    for the Ames housing dataset.\n",
      "  warnings.warn(msg, category=FutureWarning)\n"
     ]
    },
    {
     "data": {
      "text/html": [
       "<div>\n",
       "<style scoped>\n",
       "    .dataframe tbody tr th:only-of-type {\n",
       "        vertical-align: middle;\n",
       "    }\n",
       "\n",
       "    .dataframe tbody tr th {\n",
       "        vertical-align: top;\n",
       "    }\n",
       "\n",
       "    .dataframe thead th {\n",
       "        text-align: right;\n",
       "    }\n",
       "</style>\n",
       "<table border=\"1\" class=\"dataframe\">\n",
       "  <thead>\n",
       "    <tr style=\"text-align: right;\">\n",
       "      <th></th>\n",
       "      <th>CRIM</th>\n",
       "      <th>ZN</th>\n",
       "      <th>INDUS</th>\n",
       "      <th>CHAS</th>\n",
       "      <th>NOX</th>\n",
       "      <th>RM</th>\n",
       "      <th>AGE</th>\n",
       "      <th>DIS</th>\n",
       "      <th>RAD</th>\n",
       "      <th>TAX</th>\n",
       "      <th>PTRATIO</th>\n",
       "      <th>B</th>\n",
       "      <th>LSTAT</th>\n",
       "    </tr>\n",
       "  </thead>\n",
       "  <tbody>\n",
       "    <tr>\n",
       "      <th>0</th>\n",
       "      <td>0.00632</td>\n",
       "      <td>18.0</td>\n",
       "      <td>2.31</td>\n",
       "      <td>0.0</td>\n",
       "      <td>0.538</td>\n",
       "      <td>6.575</td>\n",
       "      <td>65.2</td>\n",
       "      <td>4.0900</td>\n",
       "      <td>1.0</td>\n",
       "      <td>296.0</td>\n",
       "      <td>15.3</td>\n",
       "      <td>396.90</td>\n",
       "      <td>4.98</td>\n",
       "    </tr>\n",
       "    <tr>\n",
       "      <th>1</th>\n",
       "      <td>0.02731</td>\n",
       "      <td>0.0</td>\n",
       "      <td>7.07</td>\n",
       "      <td>0.0</td>\n",
       "      <td>0.469</td>\n",
       "      <td>6.421</td>\n",
       "      <td>78.9</td>\n",
       "      <td>4.9671</td>\n",
       "      <td>2.0</td>\n",
       "      <td>242.0</td>\n",
       "      <td>17.8</td>\n",
       "      <td>396.90</td>\n",
       "      <td>9.14</td>\n",
       "    </tr>\n",
       "    <tr>\n",
       "      <th>2</th>\n",
       "      <td>0.02729</td>\n",
       "      <td>0.0</td>\n",
       "      <td>7.07</td>\n",
       "      <td>0.0</td>\n",
       "      <td>0.469</td>\n",
       "      <td>7.185</td>\n",
       "      <td>61.1</td>\n",
       "      <td>4.9671</td>\n",
       "      <td>2.0</td>\n",
       "      <td>242.0</td>\n",
       "      <td>17.8</td>\n",
       "      <td>392.83</td>\n",
       "      <td>4.03</td>\n",
       "    </tr>\n",
       "    <tr>\n",
       "      <th>3</th>\n",
       "      <td>0.03237</td>\n",
       "      <td>0.0</td>\n",
       "      <td>2.18</td>\n",
       "      <td>0.0</td>\n",
       "      <td>0.458</td>\n",
       "      <td>6.998</td>\n",
       "      <td>45.8</td>\n",
       "      <td>6.0622</td>\n",
       "      <td>3.0</td>\n",
       "      <td>222.0</td>\n",
       "      <td>18.7</td>\n",
       "      <td>394.63</td>\n",
       "      <td>2.94</td>\n",
       "    </tr>\n",
       "    <tr>\n",
       "      <th>4</th>\n",
       "      <td>0.06905</td>\n",
       "      <td>0.0</td>\n",
       "      <td>2.18</td>\n",
       "      <td>0.0</td>\n",
       "      <td>0.458</td>\n",
       "      <td>7.147</td>\n",
       "      <td>54.2</td>\n",
       "      <td>6.0622</td>\n",
       "      <td>3.0</td>\n",
       "      <td>222.0</td>\n",
       "      <td>18.7</td>\n",
       "      <td>396.90</td>\n",
       "      <td>5.33</td>\n",
       "    </tr>\n",
       "    <tr>\n",
       "      <th>...</th>\n",
       "      <td>...</td>\n",
       "      <td>...</td>\n",
       "      <td>...</td>\n",
       "      <td>...</td>\n",
       "      <td>...</td>\n",
       "      <td>...</td>\n",
       "      <td>...</td>\n",
       "      <td>...</td>\n",
       "      <td>...</td>\n",
       "      <td>...</td>\n",
       "      <td>...</td>\n",
       "      <td>...</td>\n",
       "      <td>...</td>\n",
       "    </tr>\n",
       "    <tr>\n",
       "      <th>501</th>\n",
       "      <td>0.06263</td>\n",
       "      <td>0.0</td>\n",
       "      <td>11.93</td>\n",
       "      <td>0.0</td>\n",
       "      <td>0.573</td>\n",
       "      <td>6.593</td>\n",
       "      <td>69.1</td>\n",
       "      <td>2.4786</td>\n",
       "      <td>1.0</td>\n",
       "      <td>273.0</td>\n",
       "      <td>21.0</td>\n",
       "      <td>391.99</td>\n",
       "      <td>9.67</td>\n",
       "    </tr>\n",
       "    <tr>\n",
       "      <th>502</th>\n",
       "      <td>0.04527</td>\n",
       "      <td>0.0</td>\n",
       "      <td>11.93</td>\n",
       "      <td>0.0</td>\n",
       "      <td>0.573</td>\n",
       "      <td>6.120</td>\n",
       "      <td>76.7</td>\n",
       "      <td>2.2875</td>\n",
       "      <td>1.0</td>\n",
       "      <td>273.0</td>\n",
       "      <td>21.0</td>\n",
       "      <td>396.90</td>\n",
       "      <td>9.08</td>\n",
       "    </tr>\n",
       "    <tr>\n",
       "      <th>503</th>\n",
       "      <td>0.06076</td>\n",
       "      <td>0.0</td>\n",
       "      <td>11.93</td>\n",
       "      <td>0.0</td>\n",
       "      <td>0.573</td>\n",
       "      <td>6.976</td>\n",
       "      <td>91.0</td>\n",
       "      <td>2.1675</td>\n",
       "      <td>1.0</td>\n",
       "      <td>273.0</td>\n",
       "      <td>21.0</td>\n",
       "      <td>396.90</td>\n",
       "      <td>5.64</td>\n",
       "    </tr>\n",
       "    <tr>\n",
       "      <th>504</th>\n",
       "      <td>0.10959</td>\n",
       "      <td>0.0</td>\n",
       "      <td>11.93</td>\n",
       "      <td>0.0</td>\n",
       "      <td>0.573</td>\n",
       "      <td>6.794</td>\n",
       "      <td>89.3</td>\n",
       "      <td>2.3889</td>\n",
       "      <td>1.0</td>\n",
       "      <td>273.0</td>\n",
       "      <td>21.0</td>\n",
       "      <td>393.45</td>\n",
       "      <td>6.48</td>\n",
       "    </tr>\n",
       "    <tr>\n",
       "      <th>505</th>\n",
       "      <td>0.04741</td>\n",
       "      <td>0.0</td>\n",
       "      <td>11.93</td>\n",
       "      <td>0.0</td>\n",
       "      <td>0.573</td>\n",
       "      <td>6.030</td>\n",
       "      <td>80.8</td>\n",
       "      <td>2.5050</td>\n",
       "      <td>1.0</td>\n",
       "      <td>273.0</td>\n",
       "      <td>21.0</td>\n",
       "      <td>396.90</td>\n",
       "      <td>7.88</td>\n",
       "    </tr>\n",
       "  </tbody>\n",
       "</table>\n",
       "<p>506 rows × 13 columns</p>\n",
       "</div>"
      ],
      "text/plain": [
       "        CRIM    ZN  INDUS  CHAS    NOX     RM   AGE     DIS  RAD    TAX  \\\n",
       "0    0.00632  18.0   2.31   0.0  0.538  6.575  65.2  4.0900  1.0  296.0   \n",
       "1    0.02731   0.0   7.07   0.0  0.469  6.421  78.9  4.9671  2.0  242.0   \n",
       "2    0.02729   0.0   7.07   0.0  0.469  7.185  61.1  4.9671  2.0  242.0   \n",
       "3    0.03237   0.0   2.18   0.0  0.458  6.998  45.8  6.0622  3.0  222.0   \n",
       "4    0.06905   0.0   2.18   0.0  0.458  7.147  54.2  6.0622  3.0  222.0   \n",
       "..       ...   ...    ...   ...    ...    ...   ...     ...  ...    ...   \n",
       "501  0.06263   0.0  11.93   0.0  0.573  6.593  69.1  2.4786  1.0  273.0   \n",
       "502  0.04527   0.0  11.93   0.0  0.573  6.120  76.7  2.2875  1.0  273.0   \n",
       "503  0.06076   0.0  11.93   0.0  0.573  6.976  91.0  2.1675  1.0  273.0   \n",
       "504  0.10959   0.0  11.93   0.0  0.573  6.794  89.3  2.3889  1.0  273.0   \n",
       "505  0.04741   0.0  11.93   0.0  0.573  6.030  80.8  2.5050  1.0  273.0   \n",
       "\n",
       "     PTRATIO       B  LSTAT  \n",
       "0       15.3  396.90   4.98  \n",
       "1       17.8  396.90   9.14  \n",
       "2       17.8  392.83   4.03  \n",
       "3       18.7  394.63   2.94  \n",
       "4       18.7  396.90   5.33  \n",
       "..       ...     ...    ...  \n",
       "501     21.0  391.99   9.67  \n",
       "502     21.0  396.90   9.08  \n",
       "503     21.0  396.90   5.64  \n",
       "504     21.0  393.45   6.48  \n",
       "505     21.0  396.90   7.88  \n",
       "\n",
       "[506 rows x 13 columns]"
      ]
     },
     "execution_count": 539,
     "metadata": {},
     "output_type": "execute_result"
    }
   ],
   "source": [
    "dataset = load_boston()\n",
    "X = pd.DataFrame(dataset.data)\n",
    "X.columns = dataset.feature_names\n",
    "y = dataset.target\n",
    "X"
   ]
  },
  {
   "cell_type": "markdown",
   "metadata": {},
   "source": [
    "1. Разделите выборку на обучающую и тестовую в отношении 80%/20%"
   ]
  },
  {
   "cell_type": "code",
   "execution_count": 540,
   "metadata": {},
   "outputs": [
    {
     "name": "stdout",
     "output_type": "stream",
     "text": [
      "Size of learn df: 405, size of test df: 101\n",
      "Size of learn_y: 405, size of test y: 101\n"
     ]
    }
   ],
   "source": [
    "learn_df = X.sample(frac = 0.8)\n",
    "test_df = X.drop(learn_df.index)\n",
    "print('Size of learn df: '+ str(len(learn_df))+ ', size of test df: '+str(len(test_df)))\n",
    "learn_y, test_y = np.split(y,[int(len(y)*0.8)+1])       # получаем идентичную разбивку df & y\n",
    "print('Size of learn_y: '+str(len(learn_y)) + ', size of test y: '+str(len(test_y)))"
   ]
  },
  {
   "cell_type": "markdown",
   "metadata": {},
   "source": [
    "2. Обучите стандартную регрессию, а также Ridge и  Lasso и параметрами по умолчанию и выведите их R2 на тестовой выборке"
   ]
  },
  {
   "cell_type": "code",
   "execution_count": 541,
   "metadata": {},
   "outputs": [
    {
     "data": {
      "text/plain": [
       "-2.6260240450327936"
      ]
     },
     "execution_count": 541,
     "metadata": {},
     "output_type": "execute_result"
    }
   ],
   "source": [
    "reg = LinearRegression().fit(learn_df, learn_y)\n",
    "predicted_y = reg.predict(test_df)\n",
    "r2_score(test_y, predicted_y)"
   ]
  },
  {
   "cell_type": "code",
   "execution_count": 542,
   "metadata": {
    "collapsed": false,
    "pycharm": {
     "name": "#%%\n"
    }
   },
   "outputs": [
    {
     "data": {
      "text/plain": [
       "-2.6108424015707064"
      ]
     },
     "execution_count": 542,
     "metadata": {},
     "output_type": "execute_result"
    }
   ],
   "source": [
    "ridge = Ridge()\n",
    "ridge.fit(learn_df, learn_y)\n",
    "predicted_ridge_y = ridge.predict(test_df)\n",
    "r2_score(test_y, predicted_ridge_y)"
   ]
  },
  {
   "cell_type": "code",
   "execution_count": 543,
   "metadata": {
    "collapsed": false,
    "pycharm": {
     "name": "#%%\n"
    }
   },
   "outputs": [
    {
     "data": {
      "text/plain": [
       "-2.5055359999484668"
      ]
     },
     "execution_count": 543,
     "metadata": {},
     "output_type": "execute_result"
    }
   ],
   "source": [
    "lasso = Lasso()\n",
    "lasso.fit(learn_df, learn_y)\n",
    "predicted_lasso_y = lasso.predict(test_df)\n",
    "r2_score(test_y,predicted_lasso_y)"
   ]
  },
  {
   "cell_type": "markdown",
   "metadata": {},
   "source": [
    "3. Для Ridge и Lasso подберите коэффициент регуляризации(используйте GridSearchCV, RidgeCV, LassoCV) в пределах от $10^{-5}$ до $10^5$ (по степеням 10). Посчитайте R2 на тестовой выборке по лучшим моделям и сравните с предыдущими результатами. Напишите как изменился результат"
   ]
  },
  {
   "cell_type": "code",
   "execution_count": 551,
   "metadata": {},
   "outputs": [
    {
     "data": {
      "text/plain": [
       "{'mean_fit_time': array([0.00128741, 0.00093331, 0.00081639, 0.00077324, 0.00069017,\n",
       "        0.00069017, 0.00070763, 0.00063939, 0.00064321, 0.0006144 ,\n",
       "        0.00062699]),\n",
       " 'std_fit_time': array([3.55720181e-04, 6.12568925e-05, 9.36035107e-06, 4.59670526e-05,\n",
       "        1.94333227e-05, 3.14883706e-05, 8.14851783e-05, 2.42894127e-05,\n",
       "        2.10918394e-05, 1.33939475e-05, 4.40522183e-05]),\n",
       " 'mean_score_time': array([0.0006362 , 0.00052843, 0.00046968, 0.0004302 , 0.00040107,\n",
       "        0.00043702, 0.00038977, 0.00036564, 0.00037379, 0.00035882,\n",
       "        0.00035839]),\n",
       " 'std_score_time': array([6.83940753e-05, 3.12583397e-05, 1.13973059e-05, 1.66542503e-05,\n",
       "        2.13461202e-06, 8.50580460e-05, 1.57395271e-05, 4.88519610e-06,\n",
       "        6.79287963e-06, 8.22181207e-06, 7.12133587e-06]),\n",
       " 'param_alpha_per_target': masked_array(data=[-15, -10, -9, -12, -11, 10, 11, 8, 9, 14, 15],\n",
       "              mask=[False, False, False, False, False, False, False, False,\n",
       "                    False, False, False],\n",
       "        fill_value='?',\n",
       "             dtype=object),\n",
       " 'params': [{'alpha_per_target': -15},\n",
       "  {'alpha_per_target': -10},\n",
       "  {'alpha_per_target': -9},\n",
       "  {'alpha_per_target': -12},\n",
       "  {'alpha_per_target': -11},\n",
       "  {'alpha_per_target': 10},\n",
       "  {'alpha_per_target': 11},\n",
       "  {'alpha_per_target': 8},\n",
       "  {'alpha_per_target': 9},\n",
       "  {'alpha_per_target': 14},\n",
       "  {'alpha_per_target': 15}],\n",
       " 'split0_test_score': array([-0.46429461, -0.46429461, -0.46429461, -0.46429461, -0.46429461,\n",
       "        -0.46429461, -0.46429461, -0.46429461, -0.46429461, -0.46429461,\n",
       "        -0.46429461]),\n",
       " 'split1_test_score': array([-0.34035207, -0.34035207, -0.34035207, -0.34035207, -0.34035207,\n",
       "        -0.34035207, -0.34035207, -0.34035207, -0.34035207, -0.34035207,\n",
       "        -0.34035207]),\n",
       " 'split2_test_score': array([-0.84329728, -0.84329728, -0.84329728, -0.84329728, -0.84329728,\n",
       "        -0.84329728, -0.84329728, -0.84329728, -0.84329728, -0.84329728,\n",
       "        -0.84329728]),\n",
       " 'split3_test_score': array([-0.48959974, -0.48959974, -0.48959974, -0.48959974, -0.48959974,\n",
       "        -0.48959974, -0.48959974, -0.48959974, -0.48959974, -0.48959974,\n",
       "        -0.48959974]),\n",
       " 'split4_test_score': array([-0.38047734, -0.38047734, -0.38047734, -0.38047734, -0.38047734,\n",
       "        -0.38047734, -0.38047734, -0.38047734, -0.38047734, -0.38047734,\n",
       "        -0.38047734]),\n",
       " 'mean_test_score': array([-0.50360421, -0.50360421, -0.50360421, -0.50360421, -0.50360421,\n",
       "        -0.50360421, -0.50360421, -0.50360421, -0.50360421, -0.50360421,\n",
       "        -0.50360421]),\n",
       " 'std_test_score': array([0.17829427, 0.17829427, 0.17829427, 0.17829427, 0.17829427,\n",
       "        0.17829427, 0.17829427, 0.17829427, 0.17829427, 0.17829427,\n",
       "        0.17829427]),\n",
       " 'rank_test_score': array([1, 1, 1, 1, 1, 1, 1, 1, 1, 1, 1], dtype=int32)}"
      ]
     },
     "execution_count": 551,
     "metadata": {},
     "output_type": "execute_result"
    }
   ],
   "source": [
    "parameters = {'alpha_per_target':[10^-5, 10^-4, 10^-3, 10^-2, 10^-1, 10^0, 10^1, 10^2, 10^3, 10^4, 10^5]}\n",
    "gcv = GridSearchCV(RidgeCV(), parameters)   \n",
    "gcv.fit(learn_df, learn_y) \n",
    "gcv.cv_results_\n",
    "\n"
   ]
  },
  {
   "cell_type": "code",
   "execution_count": 546,
   "metadata": {},
   "outputs": [
    {
     "ename": "ValueError",
     "evalue": "\nAll the 55 fits failed.\nIt is very likely that your model is misconfigured.\nYou can try to debug the error by setting error_score='raise'.\n\nBelow are more details about the failures:\n--------------------------------------------------------------------------------\n5 fits failed with the following error:\nTraceback (most recent call last):\n  File \"/Users/max/git/github/ds-practise/ds-practise/lib/python3.9/site-packages/sklearn/model_selection/_validation.py\", line 686, in _fit_and_score\n    estimator.fit(X_train, y_train, **fit_params)\n  File \"/Users/max/git/github/ds-practise/ds-practise/lib/python3.9/site-packages/sklearn/linear_model/_coordinate_descent.py\", line 1681, in fit\n    check_scalar_alpha(alphas, \"alphas\")\n  File \"/Users/max/git/github/ds-practise/ds-practise/lib/python3.9/site-packages/sklearn/utils/validation.py\", line 1480, in check_scalar\n    raise ValueError(\nValueError: alphas == -15, must be >= 0.0.\n\n--------------------------------------------------------------------------------\n5 fits failed with the following error:\nTraceback (most recent call last):\n  File \"/Users/max/git/github/ds-practise/ds-practise/lib/python3.9/site-packages/sklearn/model_selection/_validation.py\", line 686, in _fit_and_score\n    estimator.fit(X_train, y_train, **fit_params)\n  File \"/Users/max/git/github/ds-practise/ds-practise/lib/python3.9/site-packages/sklearn/linear_model/_coordinate_descent.py\", line 1681, in fit\n    check_scalar_alpha(alphas, \"alphas\")\n  File \"/Users/max/git/github/ds-practise/ds-practise/lib/python3.9/site-packages/sklearn/utils/validation.py\", line 1480, in check_scalar\n    raise ValueError(\nValueError: alphas == -10, must be >= 0.0.\n\n--------------------------------------------------------------------------------\n5 fits failed with the following error:\nTraceback (most recent call last):\n  File \"/Users/max/git/github/ds-practise/ds-practise/lib/python3.9/site-packages/sklearn/model_selection/_validation.py\", line 686, in _fit_and_score\n    estimator.fit(X_train, y_train, **fit_params)\n  File \"/Users/max/git/github/ds-practise/ds-practise/lib/python3.9/site-packages/sklearn/linear_model/_coordinate_descent.py\", line 1681, in fit\n    check_scalar_alpha(alphas, \"alphas\")\n  File \"/Users/max/git/github/ds-practise/ds-practise/lib/python3.9/site-packages/sklearn/utils/validation.py\", line 1480, in check_scalar\n    raise ValueError(\nValueError: alphas == -9, must be >= 0.0.\n\n--------------------------------------------------------------------------------\n5 fits failed with the following error:\nTraceback (most recent call last):\n  File \"/Users/max/git/github/ds-practise/ds-practise/lib/python3.9/site-packages/sklearn/model_selection/_validation.py\", line 686, in _fit_and_score\n    estimator.fit(X_train, y_train, **fit_params)\n  File \"/Users/max/git/github/ds-practise/ds-practise/lib/python3.9/site-packages/sklearn/linear_model/_coordinate_descent.py\", line 1681, in fit\n    check_scalar_alpha(alphas, \"alphas\")\n  File \"/Users/max/git/github/ds-practise/ds-practise/lib/python3.9/site-packages/sklearn/utils/validation.py\", line 1480, in check_scalar\n    raise ValueError(\nValueError: alphas == -12, must be >= 0.0.\n\n--------------------------------------------------------------------------------\n5 fits failed with the following error:\nTraceback (most recent call last):\n  File \"/Users/max/git/github/ds-practise/ds-practise/lib/python3.9/site-packages/sklearn/model_selection/_validation.py\", line 686, in _fit_and_score\n    estimator.fit(X_train, y_train, **fit_params)\n  File \"/Users/max/git/github/ds-practise/ds-practise/lib/python3.9/site-packages/sklearn/linear_model/_coordinate_descent.py\", line 1681, in fit\n    check_scalar_alpha(alphas, \"alphas\")\n  File \"/Users/max/git/github/ds-practise/ds-practise/lib/python3.9/site-packages/sklearn/utils/validation.py\", line 1480, in check_scalar\n    raise ValueError(\nValueError: alphas == -11, must be >= 0.0.\n\n--------------------------------------------------------------------------------\n30 fits failed with the following error:\nTraceback (most recent call last):\n  File \"/Users/max/git/github/ds-practise/ds-practise/lib/python3.9/site-packages/sklearn/model_selection/_validation.py\", line 686, in _fit_and_score\n    estimator.fit(X_train, y_train, **fit_params)\n  File \"/Users/max/git/github/ds-practise/ds-practise/lib/python3.9/site-packages/sklearn/linear_model/_coordinate_descent.py\", line 1687, in fit\n    alphas = np.tile(np.sort(alphas)[::-1], (n_l1_ratio, 1))\n  File \"<__array_function__ internals>\", line 180, in sort\n  File \"/Users/max/git/github/ds-practise/ds-practise/lib/python3.9/site-packages/numpy/core/fromnumeric.py\", line 1004, in sort\n    a.sort(axis=axis, kind=kind, order=order)\nnumpy.AxisError: axis -1 is out of bounds for array of dimension 0\n",
     "output_type": "error",
     "traceback": [
      "\u001b[0;31m---------------------------------------------------------------------------\u001b[0m",
      "\u001b[0;31mValueError\u001b[0m                                Traceback (most recent call last)",
      "Cell \u001b[0;32mIn [546], line 3\u001b[0m\n\u001b[1;32m      1\u001b[0m parameters \u001b[39m=\u001b[39m {\u001b[39m'\u001b[39m\u001b[39malphas\u001b[39m\u001b[39m'\u001b[39m:[\u001b[39m10\u001b[39m\u001b[39m^\u001b[39m\u001b[39m-\u001b[39m\u001b[39m5\u001b[39m, \u001b[39m10\u001b[39m\u001b[39m^\u001b[39m\u001b[39m-\u001b[39m\u001b[39m4\u001b[39m, \u001b[39m10\u001b[39m\u001b[39m^\u001b[39m\u001b[39m-\u001b[39m\u001b[39m3\u001b[39m, \u001b[39m10\u001b[39m\u001b[39m^\u001b[39m\u001b[39m-\u001b[39m\u001b[39m2\u001b[39m, \u001b[39m10\u001b[39m\u001b[39m^\u001b[39m\u001b[39m-\u001b[39m\u001b[39m1\u001b[39m, \u001b[39m10\u001b[39m\u001b[39m^\u001b[39m\u001b[39m0\u001b[39m, \u001b[39m10\u001b[39m\u001b[39m^\u001b[39m\u001b[39m1\u001b[39m, \u001b[39m10\u001b[39m\u001b[39m^\u001b[39m\u001b[39m2\u001b[39m, \u001b[39m10\u001b[39m\u001b[39m^\u001b[39m\u001b[39m3\u001b[39m, \u001b[39m10\u001b[39m\u001b[39m^\u001b[39m\u001b[39m4\u001b[39m, \u001b[39m10\u001b[39m\u001b[39m^\u001b[39m\u001b[39m5\u001b[39m]}\n\u001b[1;32m      2\u001b[0m gcv \u001b[39m=\u001b[39m GridSearchCV(LassoCV(), parameters)   \n\u001b[0;32m----> 3\u001b[0m gcv\u001b[39m.\u001b[39;49mfit(learn_df, learn_y) \n\u001b[1;32m      4\u001b[0m gcv\u001b[39m.\u001b[39mcv_results_\n",
      "File \u001b[0;32m~/git/github/ds-practise/ds-practise/lib/python3.9/site-packages/sklearn/model_selection/_search.py:875\u001b[0m, in \u001b[0;36mBaseSearchCV.fit\u001b[0;34m(self, X, y, groups, **fit_params)\u001b[0m\n\u001b[1;32m    869\u001b[0m     results \u001b[39m=\u001b[39m \u001b[39mself\u001b[39m\u001b[39m.\u001b[39m_format_results(\n\u001b[1;32m    870\u001b[0m         all_candidate_params, n_splits, all_out, all_more_results\n\u001b[1;32m    871\u001b[0m     )\n\u001b[1;32m    873\u001b[0m     \u001b[39mreturn\u001b[39;00m results\n\u001b[0;32m--> 875\u001b[0m \u001b[39mself\u001b[39;49m\u001b[39m.\u001b[39;49m_run_search(evaluate_candidates)\n\u001b[1;32m    877\u001b[0m \u001b[39m# multimetric is determined here because in the case of a callable\u001b[39;00m\n\u001b[1;32m    878\u001b[0m \u001b[39m# self.scoring the return type is only known after calling\u001b[39;00m\n\u001b[1;32m    879\u001b[0m first_test_score \u001b[39m=\u001b[39m all_out[\u001b[39m0\u001b[39m][\u001b[39m\"\u001b[39m\u001b[39mtest_scores\u001b[39m\u001b[39m\"\u001b[39m]\n",
      "File \u001b[0;32m~/git/github/ds-practise/ds-practise/lib/python3.9/site-packages/sklearn/model_selection/_search.py:1379\u001b[0m, in \u001b[0;36mGridSearchCV._run_search\u001b[0;34m(self, evaluate_candidates)\u001b[0m\n\u001b[1;32m   1377\u001b[0m \u001b[39mdef\u001b[39;00m \u001b[39m_run_search\u001b[39m(\u001b[39mself\u001b[39m, evaluate_candidates):\n\u001b[1;32m   1378\u001b[0m     \u001b[39m\"\"\"Search all candidates in param_grid\"\"\"\u001b[39;00m\n\u001b[0;32m-> 1379\u001b[0m     evaluate_candidates(ParameterGrid(\u001b[39mself\u001b[39;49m\u001b[39m.\u001b[39;49mparam_grid))\n",
      "File \u001b[0;32m~/git/github/ds-practise/ds-practise/lib/python3.9/site-packages/sklearn/model_selection/_search.py:852\u001b[0m, in \u001b[0;36mBaseSearchCV.fit.<locals>.evaluate_candidates\u001b[0;34m(candidate_params, cv, more_results)\u001b[0m\n\u001b[1;32m    845\u001b[0m \u001b[39melif\u001b[39;00m \u001b[39mlen\u001b[39m(out) \u001b[39m!=\u001b[39m n_candidates \u001b[39m*\u001b[39m n_splits:\n\u001b[1;32m    846\u001b[0m     \u001b[39mraise\u001b[39;00m \u001b[39mValueError\u001b[39;00m(\n\u001b[1;32m    847\u001b[0m         \u001b[39m\"\u001b[39m\u001b[39mcv.split and cv.get_n_splits returned \u001b[39m\u001b[39m\"\u001b[39m\n\u001b[1;32m    848\u001b[0m         \u001b[39m\"\u001b[39m\u001b[39minconsistent results. Expected \u001b[39m\u001b[39m{}\u001b[39;00m\u001b[39m \u001b[39m\u001b[39m\"\u001b[39m\n\u001b[1;32m    849\u001b[0m         \u001b[39m\"\u001b[39m\u001b[39msplits, got \u001b[39m\u001b[39m{}\u001b[39;00m\u001b[39m\"\u001b[39m\u001b[39m.\u001b[39mformat(n_splits, \u001b[39mlen\u001b[39m(out) \u001b[39m/\u001b[39m\u001b[39m/\u001b[39m n_candidates)\n\u001b[1;32m    850\u001b[0m     )\n\u001b[0;32m--> 852\u001b[0m _warn_or_raise_about_fit_failures(out, \u001b[39mself\u001b[39;49m\u001b[39m.\u001b[39;49merror_score)\n\u001b[1;32m    854\u001b[0m \u001b[39m# For callable self.scoring, the return type is only know after\u001b[39;00m\n\u001b[1;32m    855\u001b[0m \u001b[39m# calling. If the return type is a dictionary, the error scores\u001b[39;00m\n\u001b[1;32m    856\u001b[0m \u001b[39m# can now be inserted with the correct key. The type checking\u001b[39;00m\n\u001b[1;32m    857\u001b[0m \u001b[39m# of out will be done in `_insert_error_scores`.\u001b[39;00m\n\u001b[1;32m    858\u001b[0m \u001b[39mif\u001b[39;00m callable(\u001b[39mself\u001b[39m\u001b[39m.\u001b[39mscoring):\n",
      "File \u001b[0;32m~/git/github/ds-practise/ds-practise/lib/python3.9/site-packages/sklearn/model_selection/_validation.py:367\u001b[0m, in \u001b[0;36m_warn_or_raise_about_fit_failures\u001b[0;34m(results, error_score)\u001b[0m\n\u001b[1;32m    360\u001b[0m \u001b[39mif\u001b[39;00m num_failed_fits \u001b[39m==\u001b[39m num_fits:\n\u001b[1;32m    361\u001b[0m     all_fits_failed_message \u001b[39m=\u001b[39m (\n\u001b[1;32m    362\u001b[0m         \u001b[39mf\u001b[39m\u001b[39m\"\u001b[39m\u001b[39m\\n\u001b[39;00m\u001b[39mAll the \u001b[39m\u001b[39m{\u001b[39;00mnum_fits\u001b[39m}\u001b[39;00m\u001b[39m fits failed.\u001b[39m\u001b[39m\\n\u001b[39;00m\u001b[39m\"\u001b[39m\n\u001b[1;32m    363\u001b[0m         \u001b[39m\"\u001b[39m\u001b[39mIt is very likely that your model is misconfigured.\u001b[39m\u001b[39m\\n\u001b[39;00m\u001b[39m\"\u001b[39m\n\u001b[1;32m    364\u001b[0m         \u001b[39m\"\u001b[39m\u001b[39mYou can try to debug the error by setting error_score=\u001b[39m\u001b[39m'\u001b[39m\u001b[39mraise\u001b[39m\u001b[39m'\u001b[39m\u001b[39m.\u001b[39m\u001b[39m\\n\u001b[39;00m\u001b[39m\\n\u001b[39;00m\u001b[39m\"\u001b[39m\n\u001b[1;32m    365\u001b[0m         \u001b[39mf\u001b[39m\u001b[39m\"\u001b[39m\u001b[39mBelow are more details about the failures:\u001b[39m\u001b[39m\\n\u001b[39;00m\u001b[39m{\u001b[39;00mfit_errors_summary\u001b[39m}\u001b[39;00m\u001b[39m\"\u001b[39m\n\u001b[1;32m    366\u001b[0m     )\n\u001b[0;32m--> 367\u001b[0m     \u001b[39mraise\u001b[39;00m \u001b[39mValueError\u001b[39;00m(all_fits_failed_message)\n\u001b[1;32m    369\u001b[0m \u001b[39melse\u001b[39;00m:\n\u001b[1;32m    370\u001b[0m     some_fits_failed_message \u001b[39m=\u001b[39m (\n\u001b[1;32m    371\u001b[0m         \u001b[39mf\u001b[39m\u001b[39m\"\u001b[39m\u001b[39m\\n\u001b[39;00m\u001b[39m{\u001b[39;00mnum_failed_fits\u001b[39m}\u001b[39;00m\u001b[39m fits failed out of a total of \u001b[39m\u001b[39m{\u001b[39;00mnum_fits\u001b[39m}\u001b[39;00m\u001b[39m.\u001b[39m\u001b[39m\\n\u001b[39;00m\u001b[39m\"\u001b[39m\n\u001b[1;32m    372\u001b[0m         \u001b[39m\"\u001b[39m\u001b[39mThe score on these train-test partitions for these parameters\u001b[39m\u001b[39m\"\u001b[39m\n\u001b[0;32m   (...)\u001b[0m\n\u001b[1;32m    376\u001b[0m         \u001b[39mf\u001b[39m\u001b[39m\"\u001b[39m\u001b[39mBelow are more details about the failures:\u001b[39m\u001b[39m\\n\u001b[39;00m\u001b[39m{\u001b[39;00mfit_errors_summary\u001b[39m}\u001b[39;00m\u001b[39m\"\u001b[39m\n\u001b[1;32m    377\u001b[0m     )\n",
      "\u001b[0;31mValueError\u001b[0m: \nAll the 55 fits failed.\nIt is very likely that your model is misconfigured.\nYou can try to debug the error by setting error_score='raise'.\n\nBelow are more details about the failures:\n--------------------------------------------------------------------------------\n5 fits failed with the following error:\nTraceback (most recent call last):\n  File \"/Users/max/git/github/ds-practise/ds-practise/lib/python3.9/site-packages/sklearn/model_selection/_validation.py\", line 686, in _fit_and_score\n    estimator.fit(X_train, y_train, **fit_params)\n  File \"/Users/max/git/github/ds-practise/ds-practise/lib/python3.9/site-packages/sklearn/linear_model/_coordinate_descent.py\", line 1681, in fit\n    check_scalar_alpha(alphas, \"alphas\")\n  File \"/Users/max/git/github/ds-practise/ds-practise/lib/python3.9/site-packages/sklearn/utils/validation.py\", line 1480, in check_scalar\n    raise ValueError(\nValueError: alphas == -15, must be >= 0.0.\n\n--------------------------------------------------------------------------------\n5 fits failed with the following error:\nTraceback (most recent call last):\n  File \"/Users/max/git/github/ds-practise/ds-practise/lib/python3.9/site-packages/sklearn/model_selection/_validation.py\", line 686, in _fit_and_score\n    estimator.fit(X_train, y_train, **fit_params)\n  File \"/Users/max/git/github/ds-practise/ds-practise/lib/python3.9/site-packages/sklearn/linear_model/_coordinate_descent.py\", line 1681, in fit\n    check_scalar_alpha(alphas, \"alphas\")\n  File \"/Users/max/git/github/ds-practise/ds-practise/lib/python3.9/site-packages/sklearn/utils/validation.py\", line 1480, in check_scalar\n    raise ValueError(\nValueError: alphas == -10, must be >= 0.0.\n\n--------------------------------------------------------------------------------\n5 fits failed with the following error:\nTraceback (most recent call last):\n  File \"/Users/max/git/github/ds-practise/ds-practise/lib/python3.9/site-packages/sklearn/model_selection/_validation.py\", line 686, in _fit_and_score\n    estimator.fit(X_train, y_train, **fit_params)\n  File \"/Users/max/git/github/ds-practise/ds-practise/lib/python3.9/site-packages/sklearn/linear_model/_coordinate_descent.py\", line 1681, in fit\n    check_scalar_alpha(alphas, \"alphas\")\n  File \"/Users/max/git/github/ds-practise/ds-practise/lib/python3.9/site-packages/sklearn/utils/validation.py\", line 1480, in check_scalar\n    raise ValueError(\nValueError: alphas == -9, must be >= 0.0.\n\n--------------------------------------------------------------------------------\n5 fits failed with the following error:\nTraceback (most recent call last):\n  File \"/Users/max/git/github/ds-practise/ds-practise/lib/python3.9/site-packages/sklearn/model_selection/_validation.py\", line 686, in _fit_and_score\n    estimator.fit(X_train, y_train, **fit_params)\n  File \"/Users/max/git/github/ds-practise/ds-practise/lib/python3.9/site-packages/sklearn/linear_model/_coordinate_descent.py\", line 1681, in fit\n    check_scalar_alpha(alphas, \"alphas\")\n  File \"/Users/max/git/github/ds-practise/ds-practise/lib/python3.9/site-packages/sklearn/utils/validation.py\", line 1480, in check_scalar\n    raise ValueError(\nValueError: alphas == -12, must be >= 0.0.\n\n--------------------------------------------------------------------------------\n5 fits failed with the following error:\nTraceback (most recent call last):\n  File \"/Users/max/git/github/ds-practise/ds-practise/lib/python3.9/site-packages/sklearn/model_selection/_validation.py\", line 686, in _fit_and_score\n    estimator.fit(X_train, y_train, **fit_params)\n  File \"/Users/max/git/github/ds-practise/ds-practise/lib/python3.9/site-packages/sklearn/linear_model/_coordinate_descent.py\", line 1681, in fit\n    check_scalar_alpha(alphas, \"alphas\")\n  File \"/Users/max/git/github/ds-practise/ds-practise/lib/python3.9/site-packages/sklearn/utils/validation.py\", line 1480, in check_scalar\n    raise ValueError(\nValueError: alphas == -11, must be >= 0.0.\n\n--------------------------------------------------------------------------------\n30 fits failed with the following error:\nTraceback (most recent call last):\n  File \"/Users/max/git/github/ds-practise/ds-practise/lib/python3.9/site-packages/sklearn/model_selection/_validation.py\", line 686, in _fit_and_score\n    estimator.fit(X_train, y_train, **fit_params)\n  File \"/Users/max/git/github/ds-practise/ds-practise/lib/python3.9/site-packages/sklearn/linear_model/_coordinate_descent.py\", line 1687, in fit\n    alphas = np.tile(np.sort(alphas)[::-1], (n_l1_ratio, 1))\n  File \"<__array_function__ internals>\", line 180, in sort\n  File \"/Users/max/git/github/ds-practise/ds-practise/lib/python3.9/site-packages/numpy/core/fromnumeric.py\", line 1004, in sort\n    a.sort(axis=axis, kind=kind, order=order)\nnumpy.AxisError: axis -1 is out of bounds for array of dimension 0\n"
     ]
    }
   ],
   "source": [
    "parameters = {'alphas':[10^-5, 10^-4, 10^-3, 10^-2, 10^-1, 10^0, 10^1, 10^2, 10^3, 10^4, 10^5]}\n",
    "gcv = GridSearchCV(LassoCV(), parameters)   \n",
    "gcv.fit(learn_df, learn_y) \n",
    "gcv.cv_results_"
   ]
  },
  {
   "cell_type": "code",
   "execution_count": null,
   "metadata": {},
   "outputs": [],
   "source": [
    "def tune_with_coeff_of_regularization(engine, engine_name: str):\n",
    "    instance = engine(alphas=[ 1.e-05, 1.e-04, 1.e-03, 1.e-02, 1.e-01, 1.e+00, 1.e+01, 1.e+02, 1.e+03, 1.e+04, 1.e+05])\n",
    "    instance.fit(learn_df, learn_y)\n",
    "    print('Коээффициент регуляризации: ('+ engine_name+') '+ str(instance.alpha_))\n",
    "    instance_predicted = instance.predict(test_df)\n",
    "    return r2_score(test_y, instance_predicted)"
   ]
  },
  {
   "cell_type": "code",
   "execution_count": null,
   "metadata": {},
   "outputs": [
    {
     "name": "stdout",
     "output_type": "stream",
     "text": [
      "Коээффициент регуляризации: (LassoCV) 100000.0\n"
     ]
    },
    {
     "data": {
      "text/plain": [
       "-2.429411562364625"
      ]
     },
     "execution_count": 499,
     "metadata": {},
     "output_type": "execute_result"
    }
   ],
   "source": [
    "tune_with_coeff_of_regularization(LassoCV, 'LassoCV')"
   ]
  },
  {
   "cell_type": "code",
   "execution_count": null,
   "metadata": {},
   "outputs": [
    {
     "name": "stdout",
     "output_type": "stream",
     "text": [
      "Коээффициент регуляризации: (RidgeCV) 100000.0\n"
     ]
    },
    {
     "data": {
      "text/plain": [
       "-2.489064252154143"
      ]
     },
     "execution_count": 500,
     "metadata": {},
     "output_type": "execute_result"
    }
   ],
   "source": [
    "tune_with_coeff_of_regularization(RidgeCV, 'RidgeCV')"
   ]
  },
  {
   "cell_type": "markdown",
   "metadata": {},
   "source": [
    "4. Проведите масштабирование выборки(используйте Pipeline, StandardScaler, MinMaxScaler), посчитайте R2 и сравните с предыдущими результатами. Напишите как изменился результат"
   ]
  },
  {
   "cell_type": "code",
   "execution_count": null,
   "metadata": {},
   "outputs": [
    {
     "data": {
      "text/plain": [
       "-2.6978568126168017"
      ]
     },
     "execution_count": 501,
     "metadata": {},
     "output_type": "execute_result"
    }
   ],
   "source": [
    "lasso_pipeline = make_pipeline(StandardScaler(), RidgeCV())\n",
    "lasso_pipeline.fit(learn_df, learn_y)\n",
    "lasso_pipeline_predicted = lasso_pipeline.predict(test_df)\n",
    "r2_score(test_y, lasso_pipeline_predicted)"
   ]
  },
  {
   "cell_type": "code",
   "execution_count": null,
   "metadata": {},
   "outputs": [
    {
     "data": {
      "text/plain": [
       "-2.5084783900877277"
      ]
     },
     "execution_count": 502,
     "metadata": {},
     "output_type": "execute_result"
    }
   ],
   "source": [
    "lasso_pipeline = make_pipeline(MinMaxScaler(), RidgeCV())\n",
    "lasso_pipeline.fit(learn_df, learn_y)\n",
    "lasso_pipeline_predicted = lasso_pipeline.predict(test_df)\n",
    "r2_score(test_y, lasso_pipeline_predicted)"
   ]
  },
  {
   "cell_type": "code",
   "execution_count": null,
   "metadata": {},
   "outputs": [
    {
     "data": {
      "text/plain": [
       "-2.5244940013462487"
      ]
     },
     "execution_count": 503,
     "metadata": {},
     "output_type": "execute_result"
    }
   ],
   "source": [
    "lasso_pipeline = make_pipeline(StandardScaler(), LassoCV())\n",
    "lasso_pipeline.fit(learn_df, learn_y)\n",
    "lasso_pipeline_predicted = lasso_pipeline.predict(test_df)\n",
    "r2_score(test_y, lasso_pipeline_predicted)"
   ]
  },
  {
   "cell_type": "code",
   "execution_count": null,
   "metadata": {},
   "outputs": [
    {
     "data": {
      "text/plain": [
       "-2.4889120973216676"
      ]
     },
     "execution_count": 504,
     "metadata": {},
     "output_type": "execute_result"
    }
   ],
   "source": [
    "lasso_pipeline = make_pipeline(MinMaxScaler(), LassoCV())\n",
    "lasso_pipeline.fit(learn_df, learn_y)\n",
    "lasso_pipeline_predicted = lasso_pipeline.predict(test_df)\n",
    "r2_score(test_y, lasso_pipeline_predicted)"
   ]
  },
  {
   "cell_type": "markdown",
   "metadata": {},
   "source": [
    "5. Подберите коэффициент регуляризации для Ridge и Lasso на масштабированных данных, посчитайте R2 и сравните с предыдущими результатами. Напишите как изменился результат"
   ]
  },
  {
   "cell_type": "code",
   "execution_count": null,
   "metadata": {},
   "outputs": [
    {
     "data": {
      "text/plain": [
       "-2.439720646307861"
      ]
     },
     "execution_count": 505,
     "metadata": {},
     "output_type": "execute_result"
    }
   ],
   "source": [
    "lasso_pipeline = make_pipeline(StandardScaler(), RidgeCV(alphas=[ 1.e-05, 1.e-04, 1.e-03, 1.e-02, 1.e-01, 1.e+00, 1.e+01, 1.e+02, 1.e+03, 1.e+04, 1.e+05]))\n",
    "lasso_pipeline.fit(learn_df, learn_y)\n",
    "lasso_pipeline_predicted = lasso_pipeline.predict(test_df)\n",
    "r2_score(test_y, lasso_pipeline_predicted)"
   ]
  },
  {
   "cell_type": "code",
   "execution_count": null,
   "metadata": {},
   "outputs": [
    {
     "data": {
      "text/plain": [
       "-2.437457000415071"
      ]
     },
     "execution_count": 506,
     "metadata": {},
     "output_type": "execute_result"
    }
   ],
   "source": [
    "lasso_pipeline = make_pipeline(MinMaxScaler(), RidgeCV(alphas=[ 1.e-05, 1.e-04, 1.e-03, 1.e-02, 1.e-01, 1.e+00, 1.e+01, 1.e+02, 1.e+03, 1.e+04, 1.e+05]))\n",
    "lasso_pipeline.fit(learn_df, learn_y)\n",
    "lasso_pipeline_predicted = lasso_pipeline.predict(test_df)\n",
    "r2_score(test_y, lasso_pipeline_predicted)"
   ]
  },
  {
   "cell_type": "code",
   "execution_count": null,
   "metadata": {},
   "outputs": [
    {
     "data": {
      "text/plain": [
       "-2.440353322273285"
      ]
     },
     "execution_count": 507,
     "metadata": {},
     "output_type": "execute_result"
    }
   ],
   "source": [
    "lasso_pipeline = make_pipeline(StandardScaler(), LassoCV(alphas=[ 1.e-05, 1.e-04, 1.e-03, 1.e-02, 1.e-01, 1.e+00, 1.e+01, 1.e+02, 1.e+03, 1.e+04, 1.e+05]))\n",
    "lasso_pipeline.fit(learn_df, learn_y)\n",
    "lasso_pipeline_predicted = lasso_pipeline.predict(test_df)\n",
    "r2_score(test_y, lasso_pipeline_predicted)"
   ]
  },
  {
   "cell_type": "code",
   "execution_count": null,
   "metadata": {},
   "outputs": [
    {
     "data": {
      "text/plain": [
       "-2.488937279758694"
      ]
     },
     "execution_count": 508,
     "metadata": {},
     "output_type": "execute_result"
    }
   ],
   "source": [
    "lasso_pipeline = make_pipeline(MinMaxScaler(), LassoCV(alphas=[ 1.e-05, 1.e-04, 1.e-03, 1.e-02, 1.e-01, 1.e+00, 1.e+01, 1.e+02, 1.e+03, 1.e+04, 1.e+05]))\n",
    "lasso_pipeline.fit(learn_df, learn_y)\n",
    "lasso_pipeline_predicted = lasso_pipeline.predict(test_df)\n",
    "r2_score(test_y, lasso_pipeline_predicted)"
   ]
  },
  {
   "cell_type": "markdown",
   "metadata": {},
   "source": [
    "6. Добавьте попарные произведения признаков и их квадраты (используйте PolynomialFeatures) на масштабированных признаках, посчитайте R2 и сравните с предыдущими результатами. Напишите как изменился результат"
   ]
  },
  {
   "cell_type": "code",
   "execution_count": null,
   "metadata": {},
   "outputs": [
    {
     "data": {
      "text/plain": [
       "-3.068749841240489"
      ]
     },
     "execution_count": 521,
     "metadata": {},
     "output_type": "execute_result"
    }
   ],
   "source": [
    "pp = Pipeline(steps=[('scaler', StandardScaler()),('transform', PolynomialFeatures()), ('RidgeCV', RidgeCV())])\n",
    "pp.fit(learn_df, learn_y)\n",
    "predicted = pp.predict(test_df)\n",
    "r2_score(test_y, predicted)\n"
   ]
  },
  {
   "cell_type": "code",
   "execution_count": null,
   "metadata": {},
   "outputs": [
    {
     "data": {
      "text/plain": [
       "-2.563229280194797"
      ]
     },
     "execution_count": 522,
     "metadata": {},
     "output_type": "execute_result"
    }
   ],
   "source": [
    "pp = Pipeline(steps=[('scaler', MinMaxScaler()),('transform', PolynomialFeatures()), ('RidgeCV', RidgeCV())])\n",
    "pp.fit(learn_df, learn_y)\n",
    "predicted = pp.predict(test_df)\n",
    "r2_score(test_y, predicted)\n"
   ]
  },
  {
   "cell_type": "code",
   "execution_count": null,
   "metadata": {},
   "outputs": [
    {
     "name": "stderr",
     "output_type": "stream",
     "text": [
      "/Users/max/git/github/ds-practise/ds-practise/lib/python3.9/site-packages/sklearn/linear_model/_coordinate_descent.py:634: ConvergenceWarning: Objective did not converge. You might want to increase the number of iterations. Duality gap: 6.612394655167009, tolerance: 3.1607934413580248\n",
      "  model = cd_fast.enet_coordinate_descent_gram(\n",
      "/Users/max/git/github/ds-practise/ds-practise/lib/python3.9/site-packages/sklearn/linear_model/_coordinate_descent.py:634: ConvergenceWarning: Objective did not converge. You might want to increase the number of iterations. Duality gap: 8.666523977448378, tolerance: 3.1607934413580248\n",
      "  model = cd_fast.enet_coordinate_descent_gram(\n",
      "/Users/max/git/github/ds-practise/ds-practise/lib/python3.9/site-packages/sklearn/linear_model/_coordinate_descent.py:634: ConvergenceWarning: Objective did not converge. You might want to increase the number of iterations. Duality gap: 44.419717669115926, tolerance: 3.1607934413580248\n",
      "  model = cd_fast.enet_coordinate_descent_gram(\n",
      "/Users/max/git/github/ds-practise/ds-practise/lib/python3.9/site-packages/sklearn/linear_model/_coordinate_descent.py:634: ConvergenceWarning: Objective did not converge. You might want to increase the number of iterations. Duality gap: 148.86244315210206, tolerance: 3.1607934413580248\n",
      "  model = cd_fast.enet_coordinate_descent_gram(\n",
      "/Users/max/git/github/ds-practise/ds-practise/lib/python3.9/site-packages/sklearn/linear_model/_coordinate_descent.py:634: ConvergenceWarning: Objective did not converge. You might want to increase the number of iterations. Duality gap: 272.6066127103077, tolerance: 3.1607934413580248\n",
      "  model = cd_fast.enet_coordinate_descent_gram(\n",
      "/Users/max/git/github/ds-practise/ds-practise/lib/python3.9/site-packages/sklearn/linear_model/_coordinate_descent.py:634: ConvergenceWarning: Objective did not converge. You might want to increase the number of iterations. Duality gap: 388.75916625856553, tolerance: 3.1607934413580248\n",
      "  model = cd_fast.enet_coordinate_descent_gram(\n",
      "/Users/max/git/github/ds-practise/ds-practise/lib/python3.9/site-packages/sklearn/linear_model/_coordinate_descent.py:634: ConvergenceWarning: Objective did not converge. You might want to increase the number of iterations. Duality gap: 7.174283422529697, tolerance: 3.036862404320987\n",
      "  model = cd_fast.enet_coordinate_descent_gram(\n",
      "/Users/max/git/github/ds-practise/ds-practise/lib/python3.9/site-packages/sklearn/linear_model/_coordinate_descent.py:634: ConvergenceWarning: Objective did not converge. You might want to increase the number of iterations. Duality gap: 6.491656616057298, tolerance: 3.036862404320987\n",
      "  model = cd_fast.enet_coordinate_descent_gram(\n",
      "/Users/max/git/github/ds-practise/ds-practise/lib/python3.9/site-packages/sklearn/linear_model/_coordinate_descent.py:634: ConvergenceWarning: Objective did not converge. You might want to increase the number of iterations. Duality gap: 6.892205460469995, tolerance: 3.036862404320987\n",
      "  model = cd_fast.enet_coordinate_descent_gram(\n",
      "/Users/max/git/github/ds-practise/ds-practise/lib/python3.9/site-packages/sklearn/linear_model/_coordinate_descent.py:634: ConvergenceWarning: Objective did not converge. You might want to increase the number of iterations. Duality gap: 7.199117837117228, tolerance: 3.036862404320987\n",
      "  model = cd_fast.enet_coordinate_descent_gram(\n",
      "/Users/max/git/github/ds-practise/ds-practise/lib/python3.9/site-packages/sklearn/linear_model/_coordinate_descent.py:634: ConvergenceWarning: Objective did not converge. You might want to increase the number of iterations. Duality gap: 4.929001275944756, tolerance: 3.036862404320987\n",
      "  model = cd_fast.enet_coordinate_descent_gram(\n",
      "/Users/max/git/github/ds-practise/ds-practise/lib/python3.9/site-packages/sklearn/linear_model/_coordinate_descent.py:634: ConvergenceWarning: Objective did not converge. You might want to increase the number of iterations. Duality gap: 23.258496370970533, tolerance: 3.036862404320987\n",
      "  model = cd_fast.enet_coordinate_descent_gram(\n",
      "/Users/max/git/github/ds-practise/ds-practise/lib/python3.9/site-packages/sklearn/linear_model/_coordinate_descent.py:634: ConvergenceWarning: Objective did not converge. You might want to increase the number of iterations. Duality gap: 43.45759590330272, tolerance: 3.036862404320987\n",
      "  model = cd_fast.enet_coordinate_descent_gram(\n",
      "/Users/max/git/github/ds-practise/ds-practise/lib/python3.9/site-packages/sklearn/linear_model/_coordinate_descent.py:634: ConvergenceWarning: Objective did not converge. You might want to increase the number of iterations. Duality gap: 61.80133101870524, tolerance: 3.036862404320987\n",
      "  model = cd_fast.enet_coordinate_descent_gram(\n",
      "/Users/max/git/github/ds-practise/ds-practise/lib/python3.9/site-packages/sklearn/linear_model/_coordinate_descent.py:634: ConvergenceWarning: Objective did not converge. You might want to increase the number of iterations. Duality gap: 82.35961495955053, tolerance: 3.036862404320987\n",
      "  model = cd_fast.enet_coordinate_descent_gram(\n",
      "/Users/max/git/github/ds-practise/ds-practise/lib/python3.9/site-packages/sklearn/linear_model/_coordinate_descent.py:634: ConvergenceWarning: Objective did not converge. You might want to increase the number of iterations. Duality gap: 82.74556879712327, tolerance: 3.036862404320987\n",
      "  model = cd_fast.enet_coordinate_descent_gram(\n",
      "/Users/max/git/github/ds-practise/ds-practise/lib/python3.9/site-packages/sklearn/linear_model/_coordinate_descent.py:634: ConvergenceWarning: Objective did not converge. You might want to increase the number of iterations. Duality gap: 114.65306093998515, tolerance: 3.036862404320987\n",
      "  model = cd_fast.enet_coordinate_descent_gram(\n",
      "/Users/max/git/github/ds-practise/ds-practise/lib/python3.9/site-packages/sklearn/linear_model/_coordinate_descent.py:634: ConvergenceWarning: Objective did not converge. You might want to increase the number of iterations. Duality gap: 98.63438119923012, tolerance: 3.036862404320987\n",
      "  model = cd_fast.enet_coordinate_descent_gram(\n",
      "/Users/max/git/github/ds-practise/ds-practise/lib/python3.9/site-packages/sklearn/linear_model/_coordinate_descent.py:634: ConvergenceWarning: Objective did not converge. You might want to increase the number of iterations. Duality gap: 890.2460381216079, tolerance: 3.036862404320987\n",
      "  model = cd_fast.enet_coordinate_descent_gram(\n",
      "/Users/max/git/github/ds-practise/ds-practise/lib/python3.9/site-packages/sklearn/linear_model/_coordinate_descent.py:634: ConvergenceWarning: Objective did not converge. You might want to increase the number of iterations. Duality gap: 1665.1735119539353, tolerance: 3.036862404320987\n",
      "  model = cd_fast.enet_coordinate_descent_gram(\n",
      "/Users/max/git/github/ds-practise/ds-practise/lib/python3.9/site-packages/sklearn/linear_model/_coordinate_descent.py:634: ConvergenceWarning: Objective did not converge. You might want to increase the number of iterations. Duality gap: 1897.5928801955106, tolerance: 3.036862404320987\n",
      "  model = cd_fast.enet_coordinate_descent_gram(\n",
      "/Users/max/git/github/ds-practise/ds-practise/lib/python3.9/site-packages/sklearn/linear_model/_coordinate_descent.py:634: ConvergenceWarning: Objective did not converge. You might want to increase the number of iterations. Duality gap: 1918.4248897228936, tolerance: 3.036862404320987\n",
      "  model = cd_fast.enet_coordinate_descent_gram(\n",
      "/Users/max/git/github/ds-practise/ds-practise/lib/python3.9/site-packages/sklearn/linear_model/_coordinate_descent.py:634: ConvergenceWarning: Objective did not converge. You might want to increase the number of iterations. Duality gap: 1763.761742179, tolerance: 3.036862404320987\n",
      "  model = cd_fast.enet_coordinate_descent_gram(\n",
      "/Users/max/git/github/ds-practise/ds-practise/lib/python3.9/site-packages/sklearn/linear_model/_coordinate_descent.py:634: ConvergenceWarning: Objective did not converge. You might want to increase the number of iterations. Duality gap: 2.9074288112242357, tolerance: 2.3857702469135806\n",
      "  model = cd_fast.enet_coordinate_descent_gram(\n",
      "/Users/max/git/github/ds-practise/ds-practise/lib/python3.9/site-packages/sklearn/linear_model/_coordinate_descent.py:634: ConvergenceWarning: Objective did not converge. You might want to increase the number of iterations. Duality gap: 2.909866856654844, tolerance: 2.3857702469135806\n",
      "  model = cd_fast.enet_coordinate_descent_gram(\n",
      "/Users/max/git/github/ds-practise/ds-practise/lib/python3.9/site-packages/sklearn/linear_model/_coordinate_descent.py:634: ConvergenceWarning: Objective did not converge. You might want to increase the number of iterations. Duality gap: 4.01038850394616, tolerance: 2.3857702469135806\n",
      "  model = cd_fast.enet_coordinate_descent_gram(\n",
      "/Users/max/git/github/ds-practise/ds-practise/lib/python3.9/site-packages/sklearn/linear_model/_coordinate_descent.py:634: ConvergenceWarning: Objective did not converge. You might want to increase the number of iterations. Duality gap: 3.2732850707943726, tolerance: 2.3857702469135806\n",
      "  model = cd_fast.enet_coordinate_descent_gram(\n",
      "/Users/max/git/github/ds-practise/ds-practise/lib/python3.9/site-packages/sklearn/linear_model/_coordinate_descent.py:634: ConvergenceWarning: Objective did not converge. You might want to increase the number of iterations. Duality gap: 10.910932994011091, tolerance: 2.3857702469135806\n",
      "  model = cd_fast.enet_coordinate_descent_gram(\n",
      "/Users/max/git/github/ds-practise/ds-practise/lib/python3.9/site-packages/sklearn/linear_model/_coordinate_descent.py:634: ConvergenceWarning: Objective did not converge. You might want to increase the number of iterations. Duality gap: 43.97175809721011, tolerance: 2.3857702469135806\n",
      "  model = cd_fast.enet_coordinate_descent_gram(\n",
      "/Users/max/git/github/ds-practise/ds-practise/lib/python3.9/site-packages/sklearn/linear_model/_coordinate_descent.py:634: ConvergenceWarning: Objective did not converge. You might want to increase the number of iterations. Duality gap: 61.21476544365032, tolerance: 2.3857702469135806\n",
      "  model = cd_fast.enet_coordinate_descent_gram(\n",
      "/Users/max/git/github/ds-practise/ds-practise/lib/python3.9/site-packages/sklearn/linear_model/_coordinate_descent.py:634: ConvergenceWarning: Objective did not converge. You might want to increase the number of iterations. Duality gap: 69.05237715509065, tolerance: 2.3857702469135806\n",
      "  model = cd_fast.enet_coordinate_descent_gram(\n",
      "/Users/max/git/github/ds-practise/ds-practise/lib/python3.9/site-packages/sklearn/linear_model/_coordinate_descent.py:634: ConvergenceWarning: Objective did not converge. You might want to increase the number of iterations. Duality gap: 87.83327130106773, tolerance: 2.3857702469135806\n",
      "  model = cd_fast.enet_coordinate_descent_gram(\n",
      "/Users/max/git/github/ds-practise/ds-practise/lib/python3.9/site-packages/sklearn/linear_model/_coordinate_descent.py:634: ConvergenceWarning: Objective did not converge. You might want to increase the number of iterations. Duality gap: 97.81669367762879, tolerance: 2.3857702469135806\n",
      "  model = cd_fast.enet_coordinate_descent_gram(\n",
      "/Users/max/git/github/ds-practise/ds-practise/lib/python3.9/site-packages/sklearn/linear_model/_coordinate_descent.py:634: ConvergenceWarning: Objective did not converge. You might want to increase the number of iterations. Duality gap: 91.628620414951, tolerance: 2.3857702469135806\n",
      "  model = cd_fast.enet_coordinate_descent_gram(\n",
      "/Users/max/git/github/ds-practise/ds-practise/lib/python3.9/site-packages/sklearn/linear_model/_coordinate_descent.py:634: ConvergenceWarning: Objective did not converge. You might want to increase the number of iterations. Duality gap: 98.27934790926338, tolerance: 2.3857702469135806\n",
      "  model = cd_fast.enet_coordinate_descent_gram(\n",
      "/Users/max/git/github/ds-practise/ds-practise/lib/python3.9/site-packages/sklearn/linear_model/_coordinate_descent.py:634: ConvergenceWarning: Objective did not converge. You might want to increase the number of iterations. Duality gap: 112.9672595785687, tolerance: 2.3857702469135806\n",
      "  model = cd_fast.enet_coordinate_descent_gram(\n",
      "/Users/max/git/github/ds-practise/ds-practise/lib/python3.9/site-packages/sklearn/linear_model/_coordinate_descent.py:634: ConvergenceWarning: Objective did not converge. You might want to increase the number of iterations. Duality gap: 174.15708195431398, tolerance: 2.3857702469135806\n",
      "  model = cd_fast.enet_coordinate_descent_gram(\n",
      "/Users/max/git/github/ds-practise/ds-practise/lib/python3.9/site-packages/sklearn/linear_model/_coordinate_descent.py:634: ConvergenceWarning: Objective did not converge. You might want to increase the number of iterations. Duality gap: 237.35004731015397, tolerance: 2.3857702469135806\n",
      "  model = cd_fast.enet_coordinate_descent_gram(\n",
      "/Users/max/git/github/ds-practise/ds-practise/lib/python3.9/site-packages/sklearn/linear_model/_coordinate_descent.py:634: ConvergenceWarning: Objective did not converge. You might want to increase the number of iterations. Duality gap: 15.53961651485588, tolerance: 2.7054198024691365\n",
      "  model = cd_fast.enet_coordinate_descent_gram(\n",
      "/Users/max/git/github/ds-practise/ds-practise/lib/python3.9/site-packages/sklearn/linear_model/_coordinate_descent.py:634: ConvergenceWarning: Objective did not converge. You might want to increase the number of iterations. Duality gap: 257.3234052759617, tolerance: 2.7054198024691365\n",
      "  model = cd_fast.enet_coordinate_descent_gram(\n",
      "/Users/max/git/github/ds-practise/ds-practise/lib/python3.9/site-packages/sklearn/linear_model/_coordinate_descent.py:634: ConvergenceWarning: Objective did not converge. You might want to increase the number of iterations. Duality gap: 286.70753843613056, tolerance: 2.7054198024691365\n",
      "  model = cd_fast.enet_coordinate_descent_gram(\n",
      "/Users/max/git/github/ds-practise/ds-practise/lib/python3.9/site-packages/sklearn/linear_model/_coordinate_descent.py:634: ConvergenceWarning: Objective did not converge. You might want to increase the number of iterations. Duality gap: 336.2981292256118, tolerance: 2.7054198024691365\n",
      "  model = cd_fast.enet_coordinate_descent_gram(\n",
      "/Users/max/git/github/ds-practise/ds-practise/lib/python3.9/site-packages/sklearn/linear_model/_coordinate_descent.py:634: ConvergenceWarning: Objective did not converge. You might want to increase the number of iterations. Duality gap: 268.432027435756, tolerance: 2.7054198024691365\n",
      "  model = cd_fast.enet_coordinate_descent_gram(\n",
      "/Users/max/git/github/ds-practise/ds-practise/lib/python3.9/site-packages/sklearn/linear_model/_coordinate_descent.py:634: ConvergenceWarning: Objective did not converge. You might want to increase the number of iterations. Duality gap: 1109.5573632754877, tolerance: 2.7054198024691365\n",
      "  model = cd_fast.enet_coordinate_descent_gram(\n",
      "/Users/max/git/github/ds-practise/ds-practise/lib/python3.9/site-packages/sklearn/linear_model/_coordinate_descent.py:634: ConvergenceWarning: Objective did not converge. You might want to increase the number of iterations. Duality gap: 3.7404578761379526, tolerance: 2.4347806172839515\n",
      "  model = cd_fast.enet_coordinate_descent_gram(\n",
      "/Users/max/git/github/ds-practise/ds-practise/lib/python3.9/site-packages/sklearn/linear_model/_coordinate_descent.py:634: ConvergenceWarning: Objective did not converge. You might want to increase the number of iterations. Duality gap: 6.869777741252619, tolerance: 2.4347806172839515\n",
      "  model = cd_fast.enet_coordinate_descent_gram(\n",
      "/Users/max/git/github/ds-practise/ds-practise/lib/python3.9/site-packages/sklearn/linear_model/_coordinate_descent.py:634: ConvergenceWarning: Objective did not converge. You might want to increase the number of iterations. Duality gap: 7.894194195698219, tolerance: 2.4347806172839515\n",
      "  model = cd_fast.enet_coordinate_descent_gram(\n",
      "/Users/max/git/github/ds-practise/ds-practise/lib/python3.9/site-packages/sklearn/linear_model/_coordinate_descent.py:634: ConvergenceWarning: Objective did not converge. You might want to increase the number of iterations. Duality gap: 8.519625179935247, tolerance: 2.4347806172839515\n",
      "  model = cd_fast.enet_coordinate_descent_gram(\n",
      "/Users/max/git/github/ds-practise/ds-practise/lib/python3.9/site-packages/sklearn/linear_model/_coordinate_descent.py:634: ConvergenceWarning: Objective did not converge. You might want to increase the number of iterations. Duality gap: 27.025904733203788, tolerance: 2.4347806172839515\n",
      "  model = cd_fast.enet_coordinate_descent_gram(\n"
     ]
    },
    {
     "data": {
      "text/plain": [
       "-2.4680898125653252"
      ]
     },
     "execution_count": 523,
     "metadata": {},
     "output_type": "execute_result"
    }
   ],
   "source": [
    "pp = Pipeline(steps=[('scaler', StandardScaler()),('transform', PolynomialFeatures()), ('LassoCV', LassoCV())])\n",
    "pp.fit(learn_df, learn_y)\n",
    "predicted = pp.predict(test_df)\n",
    "r2_score(test_y, predicted)"
   ]
  },
  {
   "cell_type": "code",
   "execution_count": null,
   "metadata": {},
   "outputs": [
    {
     "name": "stderr",
     "output_type": "stream",
     "text": [
      "/Users/max/git/github/ds-practise/ds-practise/lib/python3.9/site-packages/sklearn/linear_model/_coordinate_descent.py:634: ConvergenceWarning: Objective did not converge. You might want to increase the number of iterations. Duality gap: 3.9408472796567366, tolerance: 3.1607934413580248\n",
      "  model = cd_fast.enet_coordinate_descent_gram(\n",
      "/Users/max/git/github/ds-practise/ds-practise/lib/python3.9/site-packages/sklearn/linear_model/_coordinate_descent.py:634: ConvergenceWarning: Objective did not converge. You might want to increase the number of iterations. Duality gap: 8.958922084195365, tolerance: 3.1607934413580248\n",
      "  model = cd_fast.enet_coordinate_descent_gram(\n",
      "/Users/max/git/github/ds-practise/ds-practise/lib/python3.9/site-packages/sklearn/linear_model/_coordinate_descent.py:634: ConvergenceWarning: Objective did not converge. You might want to increase the number of iterations. Duality gap: 11.520820084097068, tolerance: 3.1607934413580248\n",
      "  model = cd_fast.enet_coordinate_descent_gram(\n",
      "/Users/max/git/github/ds-practise/ds-practise/lib/python3.9/site-packages/sklearn/linear_model/_coordinate_descent.py:634: ConvergenceWarning: Objective did not converge. You might want to increase the number of iterations. Duality gap: 10.649391361977905, tolerance: 3.1607934413580248\n",
      "  model = cd_fast.enet_coordinate_descent_gram(\n",
      "/Users/max/git/github/ds-practise/ds-practise/lib/python3.9/site-packages/sklearn/linear_model/_coordinate_descent.py:634: ConvergenceWarning: Objective did not converge. You might want to increase the number of iterations. Duality gap: 10.48261850885683, tolerance: 3.1607934413580248\n",
      "  model = cd_fast.enet_coordinate_descent_gram(\n",
      "/Users/max/git/github/ds-practise/ds-practise/lib/python3.9/site-packages/sklearn/linear_model/_coordinate_descent.py:634: ConvergenceWarning: Objective did not converge. You might want to increase the number of iterations. Duality gap: 8.470703704828338, tolerance: 3.1607934413580248\n",
      "  model = cd_fast.enet_coordinate_descent_gram(\n",
      "/Users/max/git/github/ds-practise/ds-practise/lib/python3.9/site-packages/sklearn/linear_model/_coordinate_descent.py:634: ConvergenceWarning: Objective did not converge. You might want to increase the number of iterations. Duality gap: 4.326313870107697, tolerance: 3.1607934413580248\n",
      "  model = cd_fast.enet_coordinate_descent_gram(\n",
      "/Users/max/git/github/ds-practise/ds-practise/lib/python3.9/site-packages/sklearn/linear_model/_coordinate_descent.py:634: ConvergenceWarning: Objective did not converge. You might want to increase the number of iterations. Duality gap: 3.3735958972392837, tolerance: 3.1607934413580248\n",
      "  model = cd_fast.enet_coordinate_descent_gram(\n",
      "/Users/max/git/github/ds-practise/ds-practise/lib/python3.9/site-packages/sklearn/linear_model/_coordinate_descent.py:634: ConvergenceWarning: Objective did not converge. You might want to increase the number of iterations. Duality gap: 44.445317960489774, tolerance: 3.1607934413580248\n",
      "  model = cd_fast.enet_coordinate_descent_gram(\n",
      "/Users/max/git/github/ds-practise/ds-practise/lib/python3.9/site-packages/sklearn/linear_model/_coordinate_descent.py:634: ConvergenceWarning: Objective did not converge. You might want to increase the number of iterations. Duality gap: 96.13625232921913, tolerance: 3.1607934413580248\n",
      "  model = cd_fast.enet_coordinate_descent_gram(\n",
      "/Users/max/git/github/ds-practise/ds-practise/lib/python3.9/site-packages/sklearn/linear_model/_coordinate_descent.py:634: ConvergenceWarning: Objective did not converge. You might want to increase the number of iterations. Duality gap: 88.11149021205347, tolerance: 3.1607934413580248\n",
      "  model = cd_fast.enet_coordinate_descent_gram(\n",
      "/Users/max/git/github/ds-practise/ds-practise/lib/python3.9/site-packages/sklearn/linear_model/_coordinate_descent.py:634: ConvergenceWarning: Objective did not converge. You might want to increase the number of iterations. Duality gap: 96.57527543261313, tolerance: 3.1607934413580248\n",
      "  model = cd_fast.enet_coordinate_descent_gram(\n",
      "/Users/max/git/github/ds-practise/ds-practise/lib/python3.9/site-packages/sklearn/linear_model/_coordinate_descent.py:634: ConvergenceWarning: Objective did not converge. You might want to increase the number of iterations. Duality gap: 93.21525632366684, tolerance: 3.1607934413580248\n",
      "  model = cd_fast.enet_coordinate_descent_gram(\n",
      "/Users/max/git/github/ds-practise/ds-practise/lib/python3.9/site-packages/sklearn/linear_model/_coordinate_descent.py:634: ConvergenceWarning: Objective did not converge. You might want to increase the number of iterations. Duality gap: 103.64097520624273, tolerance: 3.1607934413580248\n",
      "  model = cd_fast.enet_coordinate_descent_gram(\n",
      "/Users/max/git/github/ds-practise/ds-practise/lib/python3.9/site-packages/sklearn/linear_model/_coordinate_descent.py:634: ConvergenceWarning: Objective did not converge. You might want to increase the number of iterations. Duality gap: 141.66987205000623, tolerance: 3.1607934413580248\n",
      "  model = cd_fast.enet_coordinate_descent_gram(\n",
      "/Users/max/git/github/ds-practise/ds-practise/lib/python3.9/site-packages/sklearn/linear_model/_coordinate_descent.py:634: ConvergenceWarning: Objective did not converge. You might want to increase the number of iterations. Duality gap: 96.65237996148062, tolerance: 3.1607934413580248\n",
      "  model = cd_fast.enet_coordinate_descent_gram(\n",
      "/Users/max/git/github/ds-practise/ds-practise/lib/python3.9/site-packages/sklearn/linear_model/_coordinate_descent.py:634: ConvergenceWarning: Objective did not converge. You might want to increase the number of iterations. Duality gap: 100.25542249305363, tolerance: 3.1607934413580248\n",
      "  model = cd_fast.enet_coordinate_descent_gram(\n",
      "/Users/max/git/github/ds-practise/ds-practise/lib/python3.9/site-packages/sklearn/linear_model/_coordinate_descent.py:634: ConvergenceWarning: Objective did not converge. You might want to increase the number of iterations. Duality gap: 201.34244380223026, tolerance: 3.1607934413580248\n",
      "  model = cd_fast.enet_coordinate_descent_gram(\n",
      "/Users/max/git/github/ds-practise/ds-practise/lib/python3.9/site-packages/sklearn/linear_model/_coordinate_descent.py:634: ConvergenceWarning: Objective did not converge. You might want to increase the number of iterations. Duality gap: 219.21176452411237, tolerance: 3.1607934413580248\n",
      "  model = cd_fast.enet_coordinate_descent_gram(\n",
      "/Users/max/git/github/ds-practise/ds-practise/lib/python3.9/site-packages/sklearn/linear_model/_coordinate_descent.py:634: ConvergenceWarning: Objective did not converge. You might want to increase the number of iterations. Duality gap: 166.8235632979813, tolerance: 3.1607934413580248\n",
      "  model = cd_fast.enet_coordinate_descent_gram(\n",
      "/Users/max/git/github/ds-practise/ds-practise/lib/python3.9/site-packages/sklearn/linear_model/_coordinate_descent.py:634: ConvergenceWarning: Objective did not converge. You might want to increase the number of iterations. Duality gap: 176.30456050321663, tolerance: 3.1607934413580248\n",
      "  model = cd_fast.enet_coordinate_descent_gram(\n",
      "/Users/max/git/github/ds-practise/ds-practise/lib/python3.9/site-packages/sklearn/linear_model/_coordinate_descent.py:634: ConvergenceWarning: Objective did not converge. You might want to increase the number of iterations. Duality gap: 251.52481755479675, tolerance: 3.1607934413580248\n",
      "  model = cd_fast.enet_coordinate_descent_gram(\n",
      "/Users/max/git/github/ds-practise/ds-practise/lib/python3.9/site-packages/sklearn/linear_model/_coordinate_descent.py:634: ConvergenceWarning: Objective did not converge. You might want to increase the number of iterations. Duality gap: 276.7758336340157, tolerance: 3.1607934413580248\n",
      "  model = cd_fast.enet_coordinate_descent_gram(\n",
      "/Users/max/git/github/ds-practise/ds-practise/lib/python3.9/site-packages/sklearn/linear_model/_coordinate_descent.py:634: ConvergenceWarning: Objective did not converge. You might want to increase the number of iterations. Duality gap: 287.27281165487875, tolerance: 3.1607934413580248\n",
      "  model = cd_fast.enet_coordinate_descent_gram(\n",
      "/Users/max/git/github/ds-practise/ds-practise/lib/python3.9/site-packages/sklearn/linear_model/_coordinate_descent.py:634: ConvergenceWarning: Objective did not converge. You might want to increase the number of iterations. Duality gap: 241.85752344287175, tolerance: 3.1607934413580248\n",
      "  model = cd_fast.enet_coordinate_descent_gram(\n",
      "/Users/max/git/github/ds-practise/ds-practise/lib/python3.9/site-packages/sklearn/linear_model/_coordinate_descent.py:634: ConvergenceWarning: Objective did not converge. You might want to increase the number of iterations. Duality gap: 312.3509061566474, tolerance: 3.1607934413580248\n",
      "  model = cd_fast.enet_coordinate_descent_gram(\n",
      "/Users/max/git/github/ds-practise/ds-practise/lib/python3.9/site-packages/sklearn/linear_model/_coordinate_descent.py:634: ConvergenceWarning: Objective did not converge. You might want to increase the number of iterations. Duality gap: 350.63376212429284, tolerance: 3.1607934413580248\n",
      "  model = cd_fast.enet_coordinate_descent_gram(\n",
      "/Users/max/git/github/ds-practise/ds-practise/lib/python3.9/site-packages/sklearn/linear_model/_coordinate_descent.py:634: ConvergenceWarning: Objective did not converge. You might want to increase the number of iterations. Duality gap: 459.2642122140096, tolerance: 3.1607934413580248\n",
      "  model = cd_fast.enet_coordinate_descent_gram(\n",
      "/Users/max/git/github/ds-practise/ds-practise/lib/python3.9/site-packages/sklearn/linear_model/_coordinate_descent.py:634: ConvergenceWarning: Objective did not converge. You might want to increase the number of iterations. Duality gap: 612.4458640158591, tolerance: 3.1607934413580248\n",
      "  model = cd_fast.enet_coordinate_descent_gram(\n",
      "/Users/max/git/github/ds-practise/ds-practise/lib/python3.9/site-packages/sklearn/linear_model/_coordinate_descent.py:634: ConvergenceWarning: Objective did not converge. You might want to increase the number of iterations. Duality gap: 974.4667898993721, tolerance: 3.1607934413580248\n",
      "  model = cd_fast.enet_coordinate_descent_gram(\n",
      "/Users/max/git/github/ds-practise/ds-practise/lib/python3.9/site-packages/sklearn/linear_model/_coordinate_descent.py:634: ConvergenceWarning: Objective did not converge. You might want to increase the number of iterations. Duality gap: 1018.1867161211594, tolerance: 3.1607934413580248\n",
      "  model = cd_fast.enet_coordinate_descent_gram(\n",
      "/Users/max/git/github/ds-practise/ds-practise/lib/python3.9/site-packages/sklearn/linear_model/_coordinate_descent.py:634: ConvergenceWarning: Objective did not converge. You might want to increase the number of iterations. Duality gap: 918.3170352410198, tolerance: 3.1607934413580248\n",
      "  model = cd_fast.enet_coordinate_descent_gram(\n",
      "/Users/max/git/github/ds-practise/ds-practise/lib/python3.9/site-packages/sklearn/linear_model/_coordinate_descent.py:634: ConvergenceWarning: Objective did not converge. You might want to increase the number of iterations. Duality gap: 910.7490096921574, tolerance: 3.1607934413580248\n",
      "  model = cd_fast.enet_coordinate_descent_gram(\n",
      "/Users/max/git/github/ds-practise/ds-practise/lib/python3.9/site-packages/sklearn/linear_model/_coordinate_descent.py:634: ConvergenceWarning: Objective did not converge. You might want to increase the number of iterations. Duality gap: 1108.0037358189948, tolerance: 3.1607934413580248\n",
      "  model = cd_fast.enet_coordinate_descent_gram(\n",
      "/Users/max/git/github/ds-practise/ds-practise/lib/python3.9/site-packages/sklearn/linear_model/_coordinate_descent.py:634: ConvergenceWarning: Objective did not converge. You might want to increase the number of iterations. Duality gap: 1413.9890652332524, tolerance: 3.1607934413580248\n",
      "  model = cd_fast.enet_coordinate_descent_gram(\n",
      "/Users/max/git/github/ds-practise/ds-practise/lib/python3.9/site-packages/sklearn/linear_model/_coordinate_descent.py:634: ConvergenceWarning: Objective did not converge. You might want to increase the number of iterations. Duality gap: 1400.2566599987222, tolerance: 3.1607934413580248\n",
      "  model = cd_fast.enet_coordinate_descent_gram(\n",
      "/Users/max/git/github/ds-practise/ds-practise/lib/python3.9/site-packages/sklearn/linear_model/_coordinate_descent.py:634: ConvergenceWarning: Objective did not converge. You might want to increase the number of iterations. Duality gap: 1335.8646692737311, tolerance: 3.1607934413580248\n",
      "  model = cd_fast.enet_coordinate_descent_gram(\n",
      "/Users/max/git/github/ds-practise/ds-practise/lib/python3.9/site-packages/sklearn/linear_model/_coordinate_descent.py:634: ConvergenceWarning: Objective did not converge. You might want to increase the number of iterations. Duality gap: 1097.630808969825, tolerance: 3.1607934413580248\n",
      "  model = cd_fast.enet_coordinate_descent_gram(\n",
      "/Users/max/git/github/ds-practise/ds-practise/lib/python3.9/site-packages/sklearn/linear_model/_coordinate_descent.py:634: ConvergenceWarning: Objective did not converge. You might want to increase the number of iterations. Duality gap: 1046.2180194526227, tolerance: 3.1607934413580248\n",
      "  model = cd_fast.enet_coordinate_descent_gram(\n",
      "/Users/max/git/github/ds-practise/ds-practise/lib/python3.9/site-packages/sklearn/linear_model/_coordinate_descent.py:634: ConvergenceWarning: Objective did not converge. You might want to increase the number of iterations. Duality gap: 1271.208594368316, tolerance: 3.1607934413580248\n",
      "  model = cd_fast.enet_coordinate_descent_gram(\n",
      "/Users/max/git/github/ds-practise/ds-practise/lib/python3.9/site-packages/sklearn/linear_model/_coordinate_descent.py:634: ConvergenceWarning: Objective did not converge. You might want to increase the number of iterations. Duality gap: 1188.787487829759, tolerance: 3.1607934413580248\n",
      "  model = cd_fast.enet_coordinate_descent_gram(\n",
      "/Users/max/git/github/ds-practise/ds-practise/lib/python3.9/site-packages/sklearn/linear_model/_coordinate_descent.py:634: ConvergenceWarning: Objective did not converge. You might want to increase the number of iterations. Duality gap: 1383.3434272924878, tolerance: 3.1607934413580248\n",
      "  model = cd_fast.enet_coordinate_descent_gram(\n",
      "/Users/max/git/github/ds-practise/ds-practise/lib/python3.9/site-packages/sklearn/linear_model/_coordinate_descent.py:634: ConvergenceWarning: Objective did not converge. You might want to increase the number of iterations. Duality gap: 1840.953446037147, tolerance: 3.1607934413580248\n",
      "  model = cd_fast.enet_coordinate_descent_gram(\n",
      "/Users/max/git/github/ds-practise/ds-practise/lib/python3.9/site-packages/sklearn/linear_model/_coordinate_descent.py:634: ConvergenceWarning: Objective did not converge. You might want to increase the number of iterations. Duality gap: 2239.4815573368014, tolerance: 3.1607934413580248\n",
      "  model = cd_fast.enet_coordinate_descent_gram(\n",
      "/Users/max/git/github/ds-practise/ds-practise/lib/python3.9/site-packages/sklearn/linear_model/_coordinate_descent.py:634: ConvergenceWarning: Objective did not converge. You might want to increase the number of iterations. Duality gap: 2522.3942029682803, tolerance: 3.1607934413580248\n",
      "  model = cd_fast.enet_coordinate_descent_gram(\n",
      "/Users/max/git/github/ds-practise/ds-practise/lib/python3.9/site-packages/sklearn/linear_model/_coordinate_descent.py:634: ConvergenceWarning: Objective did not converge. You might want to increase the number of iterations. Duality gap: 2797.0144035231187, tolerance: 3.1607934413580248\n",
      "  model = cd_fast.enet_coordinate_descent_gram(\n",
      "/Users/max/git/github/ds-practise/ds-practise/lib/python3.9/site-packages/sklearn/linear_model/_coordinate_descent.py:634: ConvergenceWarning: Objective did not converge. You might want to increase the number of iterations. Duality gap: 3019.024746595147, tolerance: 3.1607934413580248\n",
      "  model = cd_fast.enet_coordinate_descent_gram(\n",
      "/Users/max/git/github/ds-practise/ds-practise/lib/python3.9/site-packages/sklearn/linear_model/_coordinate_descent.py:634: ConvergenceWarning: Objective did not converge. You might want to increase the number of iterations. Duality gap: 3104.9880600390225, tolerance: 3.1607934413580248\n",
      "  model = cd_fast.enet_coordinate_descent_gram(\n",
      "/Users/max/git/github/ds-practise/ds-practise/lib/python3.9/site-packages/sklearn/linear_model/_coordinate_descent.py:634: ConvergenceWarning: Objective did not converge. You might want to increase the number of iterations. Duality gap: 3326.3905258534596, tolerance: 3.1607934413580248\n",
      "  model = cd_fast.enet_coordinate_descent_gram(\n",
      "/Users/max/git/github/ds-practise/ds-practise/lib/python3.9/site-packages/sklearn/linear_model/_coordinate_descent.py:634: ConvergenceWarning: Objective did not converge. You might want to increase the number of iterations. Duality gap: 3743.187546927071, tolerance: 3.1607934413580248\n",
      "  model = cd_fast.enet_coordinate_descent_gram(\n",
      "/Users/max/git/github/ds-practise/ds-practise/lib/python3.9/site-packages/sklearn/linear_model/_coordinate_descent.py:634: ConvergenceWarning: Objective did not converge. You might want to increase the number of iterations. Duality gap: 4125.24020235028, tolerance: 3.1607934413580248\n",
      "  model = cd_fast.enet_coordinate_descent_gram(\n",
      "/Users/max/git/github/ds-practise/ds-practise/lib/python3.9/site-packages/sklearn/linear_model/_coordinate_descent.py:634: ConvergenceWarning: Objective did not converge. You might want to increase the number of iterations. Duality gap: 3.150368482689373, tolerance: 3.036862404320987\n",
      "  model = cd_fast.enet_coordinate_descent_gram(\n",
      "/Users/max/git/github/ds-practise/ds-practise/lib/python3.9/site-packages/sklearn/linear_model/_coordinate_descent.py:634: ConvergenceWarning: Objective did not converge. You might want to increase the number of iterations. Duality gap: 6.208302205643122, tolerance: 3.036862404320987\n",
      "  model = cd_fast.enet_coordinate_descent_gram(\n",
      "/Users/max/git/github/ds-practise/ds-practise/lib/python3.9/site-packages/sklearn/linear_model/_coordinate_descent.py:634: ConvergenceWarning: Objective did not converge. You might want to increase the number of iterations. Duality gap: 13.716118618707696, tolerance: 3.036862404320987\n",
      "  model = cd_fast.enet_coordinate_descent_gram(\n",
      "/Users/max/git/github/ds-practise/ds-practise/lib/python3.9/site-packages/sklearn/linear_model/_coordinate_descent.py:634: ConvergenceWarning: Objective did not converge. You might want to increase the number of iterations. Duality gap: 15.054800379464723, tolerance: 3.036862404320987\n",
      "  model = cd_fast.enet_coordinate_descent_gram(\n",
      "/Users/max/git/github/ds-practise/ds-practise/lib/python3.9/site-packages/sklearn/linear_model/_coordinate_descent.py:634: ConvergenceWarning: Objective did not converge. You might want to increase the number of iterations. Duality gap: 14.177581225674658, tolerance: 3.036862404320987\n",
      "  model = cd_fast.enet_coordinate_descent_gram(\n",
      "/Users/max/git/github/ds-practise/ds-practise/lib/python3.9/site-packages/sklearn/linear_model/_coordinate_descent.py:634: ConvergenceWarning: Objective did not converge. You might want to increase the number of iterations. Duality gap: 20.7961449160357, tolerance: 3.036862404320987\n",
      "  model = cd_fast.enet_coordinate_descent_gram(\n",
      "/Users/max/git/github/ds-practise/ds-practise/lib/python3.9/site-packages/sklearn/linear_model/_coordinate_descent.py:634: ConvergenceWarning: Objective did not converge. You might want to increase the number of iterations. Duality gap: 18.924813755274954, tolerance: 3.036862404320987\n",
      "  model = cd_fast.enet_coordinate_descent_gram(\n",
      "/Users/max/git/github/ds-practise/ds-practise/lib/python3.9/site-packages/sklearn/linear_model/_coordinate_descent.py:634: ConvergenceWarning: Objective did not converge. You might want to increase the number of iterations. Duality gap: 21.570689703130483, tolerance: 3.036862404320987\n",
      "  model = cd_fast.enet_coordinate_descent_gram(\n",
      "/Users/max/git/github/ds-practise/ds-practise/lib/python3.9/site-packages/sklearn/linear_model/_coordinate_descent.py:634: ConvergenceWarning: Objective did not converge. You might want to increase the number of iterations. Duality gap: 81.50059120368314, tolerance: 3.036862404320987\n",
      "  model = cd_fast.enet_coordinate_descent_gram(\n",
      "/Users/max/git/github/ds-practise/ds-practise/lib/python3.9/site-packages/sklearn/linear_model/_coordinate_descent.py:634: ConvergenceWarning: Objective did not converge. You might want to increase the number of iterations. Duality gap: 91.39526931068758, tolerance: 3.036862404320987\n",
      "  model = cd_fast.enet_coordinate_descent_gram(\n",
      "/Users/max/git/github/ds-practise/ds-practise/lib/python3.9/site-packages/sklearn/linear_model/_coordinate_descent.py:634: ConvergenceWarning: Objective did not converge. You might want to increase the number of iterations. Duality gap: 152.57996354835632, tolerance: 3.036862404320987\n",
      "  model = cd_fast.enet_coordinate_descent_gram(\n",
      "/Users/max/git/github/ds-practise/ds-practise/lib/python3.9/site-packages/sklearn/linear_model/_coordinate_descent.py:634: ConvergenceWarning: Objective did not converge. You might want to increase the number of iterations. Duality gap: 157.80169981092695, tolerance: 3.036862404320987\n",
      "  model = cd_fast.enet_coordinate_descent_gram(\n",
      "/Users/max/git/github/ds-practise/ds-practise/lib/python3.9/site-packages/sklearn/linear_model/_coordinate_descent.py:634: ConvergenceWarning: Objective did not converge. You might want to increase the number of iterations. Duality gap: 129.4370533380934, tolerance: 3.036862404320987\n",
      "  model = cd_fast.enet_coordinate_descent_gram(\n",
      "/Users/max/git/github/ds-practise/ds-practise/lib/python3.9/site-packages/sklearn/linear_model/_coordinate_descent.py:634: ConvergenceWarning: Objective did not converge. You might want to increase the number of iterations. Duality gap: 350.564664210302, tolerance: 3.036862404320987\n",
      "  model = cd_fast.enet_coordinate_descent_gram(\n",
      "/Users/max/git/github/ds-practise/ds-practise/lib/python3.9/site-packages/sklearn/linear_model/_coordinate_descent.py:634: ConvergenceWarning: Objective did not converge. You might want to increase the number of iterations. Duality gap: 592.8903178728433, tolerance: 3.036862404320987\n",
      "  model = cd_fast.enet_coordinate_descent_gram(\n",
      "/Users/max/git/github/ds-practise/ds-practise/lib/python3.9/site-packages/sklearn/linear_model/_coordinate_descent.py:634: ConvergenceWarning: Objective did not converge. You might want to increase the number of iterations. Duality gap: 581.0833251229706, tolerance: 3.036862404320987\n",
      "  model = cd_fast.enet_coordinate_descent_gram(\n",
      "/Users/max/git/github/ds-practise/ds-practise/lib/python3.9/site-packages/sklearn/linear_model/_coordinate_descent.py:634: ConvergenceWarning: Objective did not converge. You might want to increase the number of iterations. Duality gap: 427.54006424265026, tolerance: 3.036862404320987\n",
      "  model = cd_fast.enet_coordinate_descent_gram(\n",
      "/Users/max/git/github/ds-practise/ds-practise/lib/python3.9/site-packages/sklearn/linear_model/_coordinate_descent.py:634: ConvergenceWarning: Objective did not converge. You might want to increase the number of iterations. Duality gap: 360.97508313860817, tolerance: 3.036862404320987\n",
      "  model = cd_fast.enet_coordinate_descent_gram(\n",
      "/Users/max/git/github/ds-practise/ds-practise/lib/python3.9/site-packages/sklearn/linear_model/_coordinate_descent.py:634: ConvergenceWarning: Objective did not converge. You might want to increase the number of iterations. Duality gap: 360.97528314437295, tolerance: 3.036862404320987\n",
      "  model = cd_fast.enet_coordinate_descent_gram(\n",
      "/Users/max/git/github/ds-practise/ds-practise/lib/python3.9/site-packages/sklearn/linear_model/_coordinate_descent.py:634: ConvergenceWarning: Objective did not converge. You might want to increase the number of iterations. Duality gap: 412.48196730919153, tolerance: 3.036862404320987\n",
      "  model = cd_fast.enet_coordinate_descent_gram(\n",
      "/Users/max/git/github/ds-practise/ds-practise/lib/python3.9/site-packages/sklearn/linear_model/_coordinate_descent.py:634: ConvergenceWarning: Objective did not converge. You might want to increase the number of iterations. Duality gap: 713.1933742009678, tolerance: 3.036862404320987\n",
      "  model = cd_fast.enet_coordinate_descent_gram(\n",
      "/Users/max/git/github/ds-practise/ds-practise/lib/python3.9/site-packages/sklearn/linear_model/_coordinate_descent.py:634: ConvergenceWarning: Objective did not converge. You might want to increase the number of iterations. Duality gap: 1021.113454610404, tolerance: 3.036862404320987\n",
      "  model = cd_fast.enet_coordinate_descent_gram(\n",
      "/Users/max/git/github/ds-practise/ds-practise/lib/python3.9/site-packages/sklearn/linear_model/_coordinate_descent.py:634: ConvergenceWarning: Objective did not converge. You might want to increase the number of iterations. Duality gap: 1300.7981865339352, tolerance: 3.036862404320987\n",
      "  model = cd_fast.enet_coordinate_descent_gram(\n",
      "/Users/max/git/github/ds-practise/ds-practise/lib/python3.9/site-packages/sklearn/linear_model/_coordinate_descent.py:634: ConvergenceWarning: Objective did not converge. You might want to increase the number of iterations. Duality gap: 1619.260795893526, tolerance: 3.036862404320987\n",
      "  model = cd_fast.enet_coordinate_descent_gram(\n",
      "/Users/max/git/github/ds-practise/ds-practise/lib/python3.9/site-packages/sklearn/linear_model/_coordinate_descent.py:634: ConvergenceWarning: Objective did not converge. You might want to increase the number of iterations. Duality gap: 2341.740207471479, tolerance: 3.036862404320987\n",
      "  model = cd_fast.enet_coordinate_descent_gram(\n",
      "/Users/max/git/github/ds-practise/ds-practise/lib/python3.9/site-packages/sklearn/linear_model/_coordinate_descent.py:634: ConvergenceWarning: Objective did not converge. You might want to increase the number of iterations. Duality gap: 2961.815438223104, tolerance: 3.036862404320987\n",
      "  model = cd_fast.enet_coordinate_descent_gram(\n",
      "/Users/max/git/github/ds-practise/ds-practise/lib/python3.9/site-packages/sklearn/linear_model/_coordinate_descent.py:634: ConvergenceWarning: Objective did not converge. You might want to increase the number of iterations. Duality gap: 3701.4585825642152, tolerance: 3.036862404320987\n",
      "  model = cd_fast.enet_coordinate_descent_gram(\n",
      "/Users/max/git/github/ds-practise/ds-practise/lib/python3.9/site-packages/sklearn/linear_model/_coordinate_descent.py:634: ConvergenceWarning: Objective did not converge. You might want to increase the number of iterations. Duality gap: 4849.58970889338, tolerance: 3.036862404320987\n",
      "  model = cd_fast.enet_coordinate_descent_gram(\n",
      "/Users/max/git/github/ds-practise/ds-practise/lib/python3.9/site-packages/sklearn/linear_model/_coordinate_descent.py:634: ConvergenceWarning: Objective did not converge. You might want to increase the number of iterations. Duality gap: 5515.445552849234, tolerance: 3.036862404320987\n",
      "  model = cd_fast.enet_coordinate_descent_gram(\n",
      "/Users/max/git/github/ds-practise/ds-practise/lib/python3.9/site-packages/sklearn/linear_model/_coordinate_descent.py:634: ConvergenceWarning: Objective did not converge. You might want to increase the number of iterations. Duality gap: 5572.039475222044, tolerance: 3.036862404320987\n",
      "  model = cd_fast.enet_coordinate_descent_gram(\n",
      "/Users/max/git/github/ds-practise/ds-practise/lib/python3.9/site-packages/sklearn/linear_model/_coordinate_descent.py:634: ConvergenceWarning: Objective did not converge. You might want to increase the number of iterations. Duality gap: 5468.15370093938, tolerance: 3.036862404320987\n",
      "  model = cd_fast.enet_coordinate_descent_gram(\n",
      "/Users/max/git/github/ds-practise/ds-practise/lib/python3.9/site-packages/sklearn/linear_model/_coordinate_descent.py:634: ConvergenceWarning: Objective did not converge. You might want to increase the number of iterations. Duality gap: 5216.3477866518615, tolerance: 3.036862404320987\n",
      "  model = cd_fast.enet_coordinate_descent_gram(\n",
      "/Users/max/git/github/ds-practise/ds-practise/lib/python3.9/site-packages/sklearn/linear_model/_coordinate_descent.py:634: ConvergenceWarning: Objective did not converge. You might want to increase the number of iterations. Duality gap: 5241.144737811601, tolerance: 3.036862404320987\n",
      "  model = cd_fast.enet_coordinate_descent_gram(\n",
      "/Users/max/git/github/ds-practise/ds-practise/lib/python3.9/site-packages/sklearn/linear_model/_coordinate_descent.py:634: ConvergenceWarning: Objective did not converge. You might want to increase the number of iterations. Duality gap: 5325.10558178696, tolerance: 3.036862404320987\n",
      "  model = cd_fast.enet_coordinate_descent_gram(\n",
      "/Users/max/git/github/ds-practise/ds-practise/lib/python3.9/site-packages/sklearn/linear_model/_coordinate_descent.py:634: ConvergenceWarning: Objective did not converge. You might want to increase the number of iterations. Duality gap: 5389.396757711048, tolerance: 3.036862404320987\n",
      "  model = cd_fast.enet_coordinate_descent_gram(\n",
      "/Users/max/git/github/ds-practise/ds-practise/lib/python3.9/site-packages/sklearn/linear_model/_coordinate_descent.py:634: ConvergenceWarning: Objective did not converge. You might want to increase the number of iterations. Duality gap: 5735.319923245917, tolerance: 3.036862404320987\n",
      "  model = cd_fast.enet_coordinate_descent_gram(\n",
      "/Users/max/git/github/ds-practise/ds-practise/lib/python3.9/site-packages/sklearn/linear_model/_coordinate_descent.py:634: ConvergenceWarning: Objective did not converge. You might want to increase the number of iterations. Duality gap: 6111.551760180782, tolerance: 3.036862404320987\n",
      "  model = cd_fast.enet_coordinate_descent_gram(\n",
      "/Users/max/git/github/ds-practise/ds-practise/lib/python3.9/site-packages/sklearn/linear_model/_coordinate_descent.py:634: ConvergenceWarning: Objective did not converge. You might want to increase the number of iterations. Duality gap: 6388.777542226713, tolerance: 3.036862404320987\n",
      "  model = cd_fast.enet_coordinate_descent_gram(\n",
      "/Users/max/git/github/ds-practise/ds-practise/lib/python3.9/site-packages/sklearn/linear_model/_coordinate_descent.py:634: ConvergenceWarning: Objective did not converge. You might want to increase the number of iterations. Duality gap: 6577.458832945453, tolerance: 3.036862404320987\n",
      "  model = cd_fast.enet_coordinate_descent_gram(\n",
      "/Users/max/git/github/ds-practise/ds-practise/lib/python3.9/site-packages/sklearn/linear_model/_coordinate_descent.py:634: ConvergenceWarning: Objective did not converge. You might want to increase the number of iterations. Duality gap: 6489.258157917727, tolerance: 3.036862404320987\n",
      "  model = cd_fast.enet_coordinate_descent_gram(\n",
      "/Users/max/git/github/ds-practise/ds-practise/lib/python3.9/site-packages/sklearn/linear_model/_coordinate_descent.py:634: ConvergenceWarning: Objective did not converge. You might want to increase the number of iterations. Duality gap: 6436.86318667921, tolerance: 3.036862404320987\n",
      "  model = cd_fast.enet_coordinate_descent_gram(\n",
      "/Users/max/git/github/ds-practise/ds-practise/lib/python3.9/site-packages/sklearn/linear_model/_coordinate_descent.py:634: ConvergenceWarning: Objective did not converge. You might want to increase the number of iterations. Duality gap: 6343.423562229278, tolerance: 3.036862404320987\n",
      "  model = cd_fast.enet_coordinate_descent_gram(\n",
      "/Users/max/git/github/ds-practise/ds-practise/lib/python3.9/site-packages/sklearn/linear_model/_coordinate_descent.py:634: ConvergenceWarning: Objective did not converge. You might want to increase the number of iterations. Duality gap: 6387.203771106095, tolerance: 3.036862404320987\n",
      "  model = cd_fast.enet_coordinate_descent_gram(\n",
      "/Users/max/git/github/ds-practise/ds-practise/lib/python3.9/site-packages/sklearn/linear_model/_coordinate_descent.py:634: ConvergenceWarning: Objective did not converge. You might want to increase the number of iterations. Duality gap: 31.348325412862323, tolerance: 2.3857702469135806\n",
      "  model = cd_fast.enet_coordinate_descent_gram(\n",
      "/Users/max/git/github/ds-practise/ds-practise/lib/python3.9/site-packages/sklearn/linear_model/_coordinate_descent.py:634: ConvergenceWarning: Objective did not converge. You might want to increase the number of iterations. Duality gap: 60.83085060691519, tolerance: 2.3857702469135806\n",
      "  model = cd_fast.enet_coordinate_descent_gram(\n",
      "/Users/max/git/github/ds-practise/ds-practise/lib/python3.9/site-packages/sklearn/linear_model/_coordinate_descent.py:634: ConvergenceWarning: Objective did not converge. You might want to increase the number of iterations. Duality gap: 102.27454610065615, tolerance: 2.3857702469135806\n",
      "  model = cd_fast.enet_coordinate_descent_gram(\n",
      "/Users/max/git/github/ds-practise/ds-practise/lib/python3.9/site-packages/sklearn/linear_model/_coordinate_descent.py:634: ConvergenceWarning: Objective did not converge. You might want to increase the number of iterations. Duality gap: 107.12276200318593, tolerance: 2.3857702469135806\n",
      "  model = cd_fast.enet_coordinate_descent_gram(\n",
      "/Users/max/git/github/ds-practise/ds-practise/lib/python3.9/site-packages/sklearn/linear_model/_coordinate_descent.py:634: ConvergenceWarning: Objective did not converge. You might want to increase the number of iterations. Duality gap: 87.04604113395908, tolerance: 2.3857702469135806\n",
      "  model = cd_fast.enet_coordinate_descent_gram(\n",
      "/Users/max/git/github/ds-practise/ds-practise/lib/python3.9/site-packages/sklearn/linear_model/_coordinate_descent.py:634: ConvergenceWarning: Objective did not converge. You might want to increase the number of iterations. Duality gap: 120.24869788755313, tolerance: 2.3857702469135806\n",
      "  model = cd_fast.enet_coordinate_descent_gram(\n",
      "/Users/max/git/github/ds-practise/ds-practise/lib/python3.9/site-packages/sklearn/linear_model/_coordinate_descent.py:634: ConvergenceWarning: Objective did not converge. You might want to increase the number of iterations. Duality gap: 224.26521416469404, tolerance: 2.3857702469135806\n",
      "  model = cd_fast.enet_coordinate_descent_gram(\n",
      "/Users/max/git/github/ds-practise/ds-practise/lib/python3.9/site-packages/sklearn/linear_model/_coordinate_descent.py:634: ConvergenceWarning: Objective did not converge. You might want to increase the number of iterations. Duality gap: 571.5026892077749, tolerance: 2.3857702469135806\n",
      "  model = cd_fast.enet_coordinate_descent_gram(\n",
      "/Users/max/git/github/ds-practise/ds-practise/lib/python3.9/site-packages/sklearn/linear_model/_coordinate_descent.py:634: ConvergenceWarning: Objective did not converge. You might want to increase the number of iterations. Duality gap: 715.5803701788973, tolerance: 2.3857702469135806\n",
      "  model = cd_fast.enet_coordinate_descent_gram(\n",
      "/Users/max/git/github/ds-practise/ds-practise/lib/python3.9/site-packages/sklearn/linear_model/_coordinate_descent.py:634: ConvergenceWarning: Objective did not converge. You might want to increase the number of iterations. Duality gap: 770.2603747015382, tolerance: 2.3857702469135806\n",
      "  model = cd_fast.enet_coordinate_descent_gram(\n",
      "/Users/max/git/github/ds-practise/ds-practise/lib/python3.9/site-packages/sklearn/linear_model/_coordinate_descent.py:634: ConvergenceWarning: Objective did not converge. You might want to increase the number of iterations. Duality gap: 916.1655128271614, tolerance: 2.3857702469135806\n",
      "  model = cd_fast.enet_coordinate_descent_gram(\n",
      "/Users/max/git/github/ds-practise/ds-practise/lib/python3.9/site-packages/sklearn/linear_model/_coordinate_descent.py:634: ConvergenceWarning: Objective did not converge. You might want to increase the number of iterations. Duality gap: 987.063370192498, tolerance: 2.3857702469135806\n",
      "  model = cd_fast.enet_coordinate_descent_gram(\n",
      "/Users/max/git/github/ds-practise/ds-practise/lib/python3.9/site-packages/sklearn/linear_model/_coordinate_descent.py:634: ConvergenceWarning: Objective did not converge. You might want to increase the number of iterations. Duality gap: 981.1212958959513, tolerance: 2.3857702469135806\n",
      "  model = cd_fast.enet_coordinate_descent_gram(\n",
      "/Users/max/git/github/ds-practise/ds-practise/lib/python3.9/site-packages/sklearn/linear_model/_coordinate_descent.py:634: ConvergenceWarning: Objective did not converge. You might want to increase the number of iterations. Duality gap: 981.1440037927568, tolerance: 2.3857702469135806\n",
      "  model = cd_fast.enet_coordinate_descent_gram(\n",
      "/Users/max/git/github/ds-practise/ds-practise/lib/python3.9/site-packages/sklearn/linear_model/_coordinate_descent.py:634: ConvergenceWarning: Objective did not converge. You might want to increase the number of iterations. Duality gap: 1049.5675582588901, tolerance: 2.3857702469135806\n",
      "  model = cd_fast.enet_coordinate_descent_gram(\n",
      "/Users/max/git/github/ds-practise/ds-practise/lib/python3.9/site-packages/sklearn/linear_model/_coordinate_descent.py:634: ConvergenceWarning: Objective did not converge. You might want to increase the number of iterations. Duality gap: 1045.0658217452528, tolerance: 2.3857702469135806\n",
      "  model = cd_fast.enet_coordinate_descent_gram(\n",
      "/Users/max/git/github/ds-practise/ds-practise/lib/python3.9/site-packages/sklearn/linear_model/_coordinate_descent.py:634: ConvergenceWarning: Objective did not converge. You might want to increase the number of iterations. Duality gap: 1126.8881197003539, tolerance: 2.3857702469135806\n",
      "  model = cd_fast.enet_coordinate_descent_gram(\n",
      "/Users/max/git/github/ds-practise/ds-practise/lib/python3.9/site-packages/sklearn/linear_model/_coordinate_descent.py:634: ConvergenceWarning: Objective did not converge. You might want to increase the number of iterations. Duality gap: 895.2708059767701, tolerance: 2.3857702469135806\n",
      "  model = cd_fast.enet_coordinate_descent_gram(\n",
      "/Users/max/git/github/ds-practise/ds-practise/lib/python3.9/site-packages/sklearn/linear_model/_coordinate_descent.py:634: ConvergenceWarning: Objective did not converge. You might want to increase the number of iterations. Duality gap: 805.5156424022098, tolerance: 2.3857702469135806\n",
      "  model = cd_fast.enet_coordinate_descent_gram(\n",
      "/Users/max/git/github/ds-practise/ds-practise/lib/python3.9/site-packages/sklearn/linear_model/_coordinate_descent.py:634: ConvergenceWarning: Objective did not converge. You might want to increase the number of iterations. Duality gap: 806.7844427748059, tolerance: 2.3857702469135806\n",
      "  model = cd_fast.enet_coordinate_descent_gram(\n",
      "/Users/max/git/github/ds-practise/ds-practise/lib/python3.9/site-packages/sklearn/linear_model/_coordinate_descent.py:634: ConvergenceWarning: Objective did not converge. You might want to increase the number of iterations. Duality gap: 856.4672065624036, tolerance: 2.3857702469135806\n",
      "  model = cd_fast.enet_coordinate_descent_gram(\n",
      "/Users/max/git/github/ds-practise/ds-practise/lib/python3.9/site-packages/sklearn/linear_model/_coordinate_descent.py:634: ConvergenceWarning: Objective did not converge. You might want to increase the number of iterations. Duality gap: 859.6819479292208, tolerance: 2.3857702469135806\n",
      "  model = cd_fast.enet_coordinate_descent_gram(\n",
      "/Users/max/git/github/ds-practise/ds-practise/lib/python3.9/site-packages/sklearn/linear_model/_coordinate_descent.py:634: ConvergenceWarning: Objective did not converge. You might want to increase the number of iterations. Duality gap: 840.071010692971, tolerance: 2.3857702469135806\n",
      "  model = cd_fast.enet_coordinate_descent_gram(\n",
      "/Users/max/git/github/ds-practise/ds-practise/lib/python3.9/site-packages/sklearn/linear_model/_coordinate_descent.py:634: ConvergenceWarning: Objective did not converge. You might want to increase the number of iterations. Duality gap: 755.0164067382539, tolerance: 2.3857702469135806\n",
      "  model = cd_fast.enet_coordinate_descent_gram(\n",
      "/Users/max/git/github/ds-practise/ds-practise/lib/python3.9/site-packages/sklearn/linear_model/_coordinate_descent.py:634: ConvergenceWarning: Objective did not converge. You might want to increase the number of iterations. Duality gap: 981.129662840227, tolerance: 2.3857702469135806\n",
      "  model = cd_fast.enet_coordinate_descent_gram(\n",
      "/Users/max/git/github/ds-practise/ds-practise/lib/python3.9/site-packages/sklearn/linear_model/_coordinate_descent.py:634: ConvergenceWarning: Objective did not converge. You might want to increase the number of iterations. Duality gap: 1212.8524216064852, tolerance: 2.3857702469135806\n",
      "  model = cd_fast.enet_coordinate_descent_gram(\n",
      "/Users/max/git/github/ds-practise/ds-practise/lib/python3.9/site-packages/sklearn/linear_model/_coordinate_descent.py:634: ConvergenceWarning: Objective did not converge. You might want to increase the number of iterations. Duality gap: 1668.232235100273, tolerance: 2.3857702469135806\n",
      "  model = cd_fast.enet_coordinate_descent_gram(\n",
      "/Users/max/git/github/ds-practise/ds-practise/lib/python3.9/site-packages/sklearn/linear_model/_coordinate_descent.py:634: ConvergenceWarning: Objective did not converge. You might want to increase the number of iterations. Duality gap: 1756.690178628638, tolerance: 2.3857702469135806\n",
      "  model = cd_fast.enet_coordinate_descent_gram(\n",
      "/Users/max/git/github/ds-practise/ds-practise/lib/python3.9/site-packages/sklearn/linear_model/_coordinate_descent.py:634: ConvergenceWarning: Objective did not converge. You might want to increase the number of iterations. Duality gap: 1912.8247390639954, tolerance: 2.3857702469135806\n",
      "  model = cd_fast.enet_coordinate_descent_gram(\n",
      "/Users/max/git/github/ds-practise/ds-practise/lib/python3.9/site-packages/sklearn/linear_model/_coordinate_descent.py:634: ConvergenceWarning: Objective did not converge. You might want to increase the number of iterations. Duality gap: 2003.0065360075932, tolerance: 2.3857702469135806\n",
      "  model = cd_fast.enet_coordinate_descent_gram(\n",
      "/Users/max/git/github/ds-practise/ds-practise/lib/python3.9/site-packages/sklearn/linear_model/_coordinate_descent.py:634: ConvergenceWarning: Objective did not converge. You might want to increase the number of iterations. Duality gap: 1954.1881276721797, tolerance: 2.3857702469135806\n",
      "  model = cd_fast.enet_coordinate_descent_gram(\n",
      "/Users/max/git/github/ds-practise/ds-practise/lib/python3.9/site-packages/sklearn/linear_model/_coordinate_descent.py:634: ConvergenceWarning: Objective did not converge. You might want to increase the number of iterations. Duality gap: 1974.706422470037, tolerance: 2.3857702469135806\n",
      "  model = cd_fast.enet_coordinate_descent_gram(\n",
      "/Users/max/git/github/ds-practise/ds-practise/lib/python3.9/site-packages/sklearn/linear_model/_coordinate_descent.py:634: ConvergenceWarning: Objective did not converge. You might want to increase the number of iterations. Duality gap: 1920.2244460981856, tolerance: 2.3857702469135806\n",
      "  model = cd_fast.enet_coordinate_descent_gram(\n",
      "/Users/max/git/github/ds-practise/ds-practise/lib/python3.9/site-packages/sklearn/linear_model/_coordinate_descent.py:634: ConvergenceWarning: Objective did not converge. You might want to increase the number of iterations. Duality gap: 1957.036376188751, tolerance: 2.3857702469135806\n",
      "  model = cd_fast.enet_coordinate_descent_gram(\n",
      "/Users/max/git/github/ds-practise/ds-practise/lib/python3.9/site-packages/sklearn/linear_model/_coordinate_descent.py:634: ConvergenceWarning: Objective did not converge. You might want to increase the number of iterations. Duality gap: 2117.1034631913753, tolerance: 2.3857702469135806\n",
      "  model = cd_fast.enet_coordinate_descent_gram(\n",
      "/Users/max/git/github/ds-practise/ds-practise/lib/python3.9/site-packages/sklearn/linear_model/_coordinate_descent.py:634: ConvergenceWarning: Objective did not converge. You might want to increase the number of iterations. Duality gap: 2325.853676213388, tolerance: 2.3857702469135806\n",
      "  model = cd_fast.enet_coordinate_descent_gram(\n",
      "/Users/max/git/github/ds-practise/ds-practise/lib/python3.9/site-packages/sklearn/linear_model/_coordinate_descent.py:634: ConvergenceWarning: Objective did not converge. You might want to increase the number of iterations. Duality gap: 2320.1716691987276, tolerance: 2.3857702469135806\n",
      "  model = cd_fast.enet_coordinate_descent_gram(\n",
      "/Users/max/git/github/ds-practise/ds-practise/lib/python3.9/site-packages/sklearn/linear_model/_coordinate_descent.py:634: ConvergenceWarning: Objective did not converge. You might want to increase the number of iterations. Duality gap: 2249.511743080886, tolerance: 2.3857702469135806\n",
      "  model = cd_fast.enet_coordinate_descent_gram(\n",
      "/Users/max/git/github/ds-practise/ds-practise/lib/python3.9/site-packages/sklearn/linear_model/_coordinate_descent.py:634: ConvergenceWarning: Objective did not converge. You might want to increase the number of iterations. Duality gap: 2234.924775254847, tolerance: 2.3857702469135806\n",
      "  model = cd_fast.enet_coordinate_descent_gram(\n",
      "/Users/max/git/github/ds-practise/ds-practise/lib/python3.9/site-packages/sklearn/linear_model/_coordinate_descent.py:634: ConvergenceWarning: Objective did not converge. You might want to increase the number of iterations. Duality gap: 2232.915591222798, tolerance: 2.3857702469135806\n",
      "  model = cd_fast.enet_coordinate_descent_gram(\n",
      "/Users/max/git/github/ds-practise/ds-practise/lib/python3.9/site-packages/sklearn/linear_model/_coordinate_descent.py:634: ConvergenceWarning: Objective did not converge. You might want to increase the number of iterations. Duality gap: 2408.921073709951, tolerance: 2.3857702469135806\n",
      "  model = cd_fast.enet_coordinate_descent_gram(\n",
      "/Users/max/git/github/ds-practise/ds-practise/lib/python3.9/site-packages/sklearn/linear_model/_coordinate_descent.py:634: ConvergenceWarning: Objective did not converge. You might want to increase the number of iterations. Duality gap: 2596.70395099292, tolerance: 2.3857702469135806\n",
      "  model = cd_fast.enet_coordinate_descent_gram(\n",
      "/Users/max/git/github/ds-practise/ds-practise/lib/python3.9/site-packages/sklearn/linear_model/_coordinate_descent.py:634: ConvergenceWarning: Objective did not converge. You might want to increase the number of iterations. Duality gap: 2821.340097104523, tolerance: 2.3857702469135806\n",
      "  model = cd_fast.enet_coordinate_descent_gram(\n",
      "/Users/max/git/github/ds-practise/ds-practise/lib/python3.9/site-packages/sklearn/linear_model/_coordinate_descent.py:634: ConvergenceWarning: Objective did not converge. You might want to increase the number of iterations. Duality gap: 2952.919355868162, tolerance: 2.3857702469135806\n",
      "  model = cd_fast.enet_coordinate_descent_gram(\n",
      "/Users/max/git/github/ds-practise/ds-practise/lib/python3.9/site-packages/sklearn/linear_model/_coordinate_descent.py:634: ConvergenceWarning: Objective did not converge. You might want to increase the number of iterations. Duality gap: 5.554887704729481, tolerance: 2.7054198024691365\n",
      "  model = cd_fast.enet_coordinate_descent_gram(\n",
      "/Users/max/git/github/ds-practise/ds-practise/lib/python3.9/site-packages/sklearn/linear_model/_coordinate_descent.py:634: ConvergenceWarning: Objective did not converge. You might want to increase the number of iterations. Duality gap: 6.644740497969906, tolerance: 2.7054198024691365\n",
      "  model = cd_fast.enet_coordinate_descent_gram(\n",
      "/Users/max/git/github/ds-practise/ds-practise/lib/python3.9/site-packages/sklearn/linear_model/_coordinate_descent.py:634: ConvergenceWarning: Objective did not converge. You might want to increase the number of iterations. Duality gap: 50.99489579528381, tolerance: 2.7054198024691365\n",
      "  model = cd_fast.enet_coordinate_descent_gram(\n",
      "/Users/max/git/github/ds-practise/ds-practise/lib/python3.9/site-packages/sklearn/linear_model/_coordinate_descent.py:634: ConvergenceWarning: Objective did not converge. You might want to increase the number of iterations. Duality gap: 62.88834065188712, tolerance: 2.7054198024691365\n",
      "  model = cd_fast.enet_coordinate_descent_gram(\n",
      "/Users/max/git/github/ds-practise/ds-practise/lib/python3.9/site-packages/sklearn/linear_model/_coordinate_descent.py:634: ConvergenceWarning: Objective did not converge. You might want to increase the number of iterations. Duality gap: 68.20921053999336, tolerance: 2.7054198024691365\n",
      "  model = cd_fast.enet_coordinate_descent_gram(\n",
      "/Users/max/git/github/ds-practise/ds-practise/lib/python3.9/site-packages/sklearn/linear_model/_coordinate_descent.py:634: ConvergenceWarning: Objective did not converge. You might want to increase the number of iterations. Duality gap: 98.15174310805378, tolerance: 2.7054198024691365\n",
      "  model = cd_fast.enet_coordinate_descent_gram(\n",
      "/Users/max/git/github/ds-practise/ds-practise/lib/python3.9/site-packages/sklearn/linear_model/_coordinate_descent.py:634: ConvergenceWarning: Objective did not converge. You might want to increase the number of iterations. Duality gap: 97.9209872441279, tolerance: 2.7054198024691365\n",
      "  model = cd_fast.enet_coordinate_descent_gram(\n",
      "/Users/max/git/github/ds-practise/ds-practise/lib/python3.9/site-packages/sklearn/linear_model/_coordinate_descent.py:634: ConvergenceWarning: Objective did not converge. You might want to increase the number of iterations. Duality gap: 125.51136407806189, tolerance: 2.7054198024691365\n",
      "  model = cd_fast.enet_coordinate_descent_gram(\n",
      "/Users/max/git/github/ds-practise/ds-practise/lib/python3.9/site-packages/sklearn/linear_model/_coordinate_descent.py:634: ConvergenceWarning: Objective did not converge. You might want to increase the number of iterations. Duality gap: 147.2892695217124, tolerance: 2.7054198024691365\n",
      "  model = cd_fast.enet_coordinate_descent_gram(\n",
      "/Users/max/git/github/ds-practise/ds-practise/lib/python3.9/site-packages/sklearn/linear_model/_coordinate_descent.py:634: ConvergenceWarning: Objective did not converge. You might want to increase the number of iterations. Duality gap: 144.55168862860228, tolerance: 2.7054198024691365\n",
      "  model = cd_fast.enet_coordinate_descent_gram(\n",
      "/Users/max/git/github/ds-practise/ds-practise/lib/python3.9/site-packages/sklearn/linear_model/_coordinate_descent.py:634: ConvergenceWarning: Objective did not converge. You might want to increase the number of iterations. Duality gap: 131.26999514037016, tolerance: 2.7054198024691365\n",
      "  model = cd_fast.enet_coordinate_descent_gram(\n",
      "/Users/max/git/github/ds-practise/ds-practise/lib/python3.9/site-packages/sklearn/linear_model/_coordinate_descent.py:634: ConvergenceWarning: Objective did not converge. You might want to increase the number of iterations. Duality gap: 118.29083174800326, tolerance: 2.7054198024691365\n",
      "  model = cd_fast.enet_coordinate_descent_gram(\n",
      "/Users/max/git/github/ds-practise/ds-practise/lib/python3.9/site-packages/sklearn/linear_model/_coordinate_descent.py:634: ConvergenceWarning: Objective did not converge. You might want to increase the number of iterations. Duality gap: 172.30136352913178, tolerance: 2.7054198024691365\n",
      "  model = cd_fast.enet_coordinate_descent_gram(\n",
      "/Users/max/git/github/ds-practise/ds-practise/lib/python3.9/site-packages/sklearn/linear_model/_coordinate_descent.py:634: ConvergenceWarning: Objective did not converge. You might want to increase the number of iterations. Duality gap: 268.4178013186538, tolerance: 2.7054198024691365\n",
      "  model = cd_fast.enet_coordinate_descent_gram(\n",
      "/Users/max/git/github/ds-practise/ds-practise/lib/python3.9/site-packages/sklearn/linear_model/_coordinate_descent.py:634: ConvergenceWarning: Objective did not converge. You might want to increase the number of iterations. Duality gap: 338.9379364475353, tolerance: 2.7054198024691365\n",
      "  model = cd_fast.enet_coordinate_descent_gram(\n",
      "/Users/max/git/github/ds-practise/ds-practise/lib/python3.9/site-packages/sklearn/linear_model/_coordinate_descent.py:634: ConvergenceWarning: Objective did not converge. You might want to increase the number of iterations. Duality gap: 229.08591983262158, tolerance: 2.7054198024691365\n",
      "  model = cd_fast.enet_coordinate_descent_gram(\n",
      "/Users/max/git/github/ds-practise/ds-practise/lib/python3.9/site-packages/sklearn/linear_model/_coordinate_descent.py:634: ConvergenceWarning: Objective did not converge. You might want to increase the number of iterations. Duality gap: 308.54818512397105, tolerance: 2.7054198024691365\n",
      "  model = cd_fast.enet_coordinate_descent_gram(\n",
      "/Users/max/git/github/ds-practise/ds-practise/lib/python3.9/site-packages/sklearn/linear_model/_coordinate_descent.py:634: ConvergenceWarning: Objective did not converge. You might want to increase the number of iterations. Duality gap: 413.2586584692872, tolerance: 2.7054198024691365\n",
      "  model = cd_fast.enet_coordinate_descent_gram(\n",
      "/Users/max/git/github/ds-practise/ds-practise/lib/python3.9/site-packages/sklearn/linear_model/_coordinate_descent.py:634: ConvergenceWarning: Objective did not converge. You might want to increase the number of iterations. Duality gap: 410.3673409330986, tolerance: 2.7054198024691365\n",
      "  model = cd_fast.enet_coordinate_descent_gram(\n",
      "/Users/max/git/github/ds-practise/ds-practise/lib/python3.9/site-packages/sklearn/linear_model/_coordinate_descent.py:634: ConvergenceWarning: Objective did not converge. You might want to increase the number of iterations. Duality gap: 526.5915425470921, tolerance: 2.7054198024691365\n",
      "  model = cd_fast.enet_coordinate_descent_gram(\n",
      "/Users/max/git/github/ds-practise/ds-practise/lib/python3.9/site-packages/sklearn/linear_model/_coordinate_descent.py:634: ConvergenceWarning: Objective did not converge. You might want to increase the number of iterations. Duality gap: 536.8824852430298, tolerance: 2.7054198024691365\n",
      "  model = cd_fast.enet_coordinate_descent_gram(\n",
      "/Users/max/git/github/ds-practise/ds-practise/lib/python3.9/site-packages/sklearn/linear_model/_coordinate_descent.py:634: ConvergenceWarning: Objective did not converge. You might want to increase the number of iterations. Duality gap: 446.2511175376203, tolerance: 2.7054198024691365\n",
      "  model = cd_fast.enet_coordinate_descent_gram(\n",
      "/Users/max/git/github/ds-practise/ds-practise/lib/python3.9/site-packages/sklearn/linear_model/_coordinate_descent.py:634: ConvergenceWarning: Objective did not converge. You might want to increase the number of iterations. Duality gap: 510.28041784280504, tolerance: 2.7054198024691365\n",
      "  model = cd_fast.enet_coordinate_descent_gram(\n",
      "/Users/max/git/github/ds-practise/ds-practise/lib/python3.9/site-packages/sklearn/linear_model/_coordinate_descent.py:634: ConvergenceWarning: Objective did not converge. You might want to increase the number of iterations. Duality gap: 529.6021116345582, tolerance: 2.7054198024691365\n",
      "  model = cd_fast.enet_coordinate_descent_gram(\n",
      "/Users/max/git/github/ds-practise/ds-practise/lib/python3.9/site-packages/sklearn/linear_model/_coordinate_descent.py:634: ConvergenceWarning: Objective did not converge. You might want to increase the number of iterations. Duality gap: 590.512049547764, tolerance: 2.7054198024691365\n",
      "  model = cd_fast.enet_coordinate_descent_gram(\n",
      "/Users/max/git/github/ds-practise/ds-practise/lib/python3.9/site-packages/sklearn/linear_model/_coordinate_descent.py:634: ConvergenceWarning: Objective did not converge. You might want to increase the number of iterations. Duality gap: 691.8005301694757, tolerance: 2.7054198024691365\n",
      "  model = cd_fast.enet_coordinate_descent_gram(\n",
      "/Users/max/git/github/ds-practise/ds-practise/lib/python3.9/site-packages/sklearn/linear_model/_coordinate_descent.py:634: ConvergenceWarning: Objective did not converge. You might want to increase the number of iterations. Duality gap: 716.0131945932444, tolerance: 2.7054198024691365\n",
      "  model = cd_fast.enet_coordinate_descent_gram(\n",
      "/Users/max/git/github/ds-practise/ds-practise/lib/python3.9/site-packages/sklearn/linear_model/_coordinate_descent.py:634: ConvergenceWarning: Objective did not converge. You might want to increase the number of iterations. Duality gap: 981.6929030097199, tolerance: 2.7054198024691365\n",
      "  model = cd_fast.enet_coordinate_descent_gram(\n",
      "/Users/max/git/github/ds-practise/ds-practise/lib/python3.9/site-packages/sklearn/linear_model/_coordinate_descent.py:634: ConvergenceWarning: Objective did not converge. You might want to increase the number of iterations. Duality gap: 1014.8056920115814, tolerance: 2.7054198024691365\n",
      "  model = cd_fast.enet_coordinate_descent_gram(\n",
      "/Users/max/git/github/ds-practise/ds-practise/lib/python3.9/site-packages/sklearn/linear_model/_coordinate_descent.py:634: ConvergenceWarning: Objective did not converge. You might want to increase the number of iterations. Duality gap: 980.5911611014562, tolerance: 2.7054198024691365\n",
      "  model = cd_fast.enet_coordinate_descent_gram(\n",
      "/Users/max/git/github/ds-practise/ds-practise/lib/python3.9/site-packages/sklearn/linear_model/_coordinate_descent.py:634: ConvergenceWarning: Objective did not converge. You might want to increase the number of iterations. Duality gap: 906.5312834560627, tolerance: 2.7054198024691365\n",
      "  model = cd_fast.enet_coordinate_descent_gram(\n",
      "/Users/max/git/github/ds-practise/ds-practise/lib/python3.9/site-packages/sklearn/linear_model/_coordinate_descent.py:634: ConvergenceWarning: Objective did not converge. You might want to increase the number of iterations. Duality gap: 901.1597456929921, tolerance: 2.7054198024691365\n",
      "  model = cd_fast.enet_coordinate_descent_gram(\n",
      "/Users/max/git/github/ds-practise/ds-practise/lib/python3.9/site-packages/sklearn/linear_model/_coordinate_descent.py:634: ConvergenceWarning: Objective did not converge. You might want to increase the number of iterations. Duality gap: 915.143591165237, tolerance: 2.7054198024691365\n",
      "  model = cd_fast.enet_coordinate_descent_gram(\n",
      "/Users/max/git/github/ds-practise/ds-practise/lib/python3.9/site-packages/sklearn/linear_model/_coordinate_descent.py:634: ConvergenceWarning: Objective did not converge. You might want to increase the number of iterations. Duality gap: 921.2228245164752, tolerance: 2.7054198024691365\n",
      "  model = cd_fast.enet_coordinate_descent_gram(\n",
      "/Users/max/git/github/ds-practise/ds-practise/lib/python3.9/site-packages/sklearn/linear_model/_coordinate_descent.py:634: ConvergenceWarning: Objective did not converge. You might want to increase the number of iterations. Duality gap: 1263.967686137239, tolerance: 2.7054198024691365\n",
      "  model = cd_fast.enet_coordinate_descent_gram(\n",
      "/Users/max/git/github/ds-practise/ds-practise/lib/python3.9/site-packages/sklearn/linear_model/_coordinate_descent.py:634: ConvergenceWarning: Objective did not converge. You might want to increase the number of iterations. Duality gap: 1541.260431153305, tolerance: 2.7054198024691365\n",
      "  model = cd_fast.enet_coordinate_descent_gram(\n",
      "/Users/max/git/github/ds-practise/ds-practise/lib/python3.9/site-packages/sklearn/linear_model/_coordinate_descent.py:634: ConvergenceWarning: Objective did not converge. You might want to increase the number of iterations. Duality gap: 1740.7548675071466, tolerance: 2.7054198024691365\n",
      "  model = cd_fast.enet_coordinate_descent_gram(\n",
      "/Users/max/git/github/ds-practise/ds-practise/lib/python3.9/site-packages/sklearn/linear_model/_coordinate_descent.py:634: ConvergenceWarning: Objective did not converge. You might want to increase the number of iterations. Duality gap: 2066.496488234696, tolerance: 2.7054198024691365\n",
      "  model = cd_fast.enet_coordinate_descent_gram(\n",
      "/Users/max/git/github/ds-practise/ds-practise/lib/python3.9/site-packages/sklearn/linear_model/_coordinate_descent.py:634: ConvergenceWarning: Objective did not converge. You might want to increase the number of iterations. Duality gap: 2374.75443917789, tolerance: 2.7054198024691365\n",
      "  model = cd_fast.enet_coordinate_descent_gram(\n",
      "/Users/max/git/github/ds-practise/ds-practise/lib/python3.9/site-packages/sklearn/linear_model/_coordinate_descent.py:634: ConvergenceWarning: Objective did not converge. You might want to increase the number of iterations. Duality gap: 2632.2741750569003, tolerance: 2.7054198024691365\n",
      "  model = cd_fast.enet_coordinate_descent_gram(\n",
      "/Users/max/git/github/ds-practise/ds-practise/lib/python3.9/site-packages/sklearn/linear_model/_coordinate_descent.py:634: ConvergenceWarning: Objective did not converge. You might want to increase the number of iterations. Duality gap: 2765.762926627305, tolerance: 2.7054198024691365\n",
      "  model = cd_fast.enet_coordinate_descent_gram(\n",
      "/Users/max/git/github/ds-practise/ds-practise/lib/python3.9/site-packages/sklearn/linear_model/_coordinate_descent.py:634: ConvergenceWarning: Objective did not converge. You might want to increase the number of iterations. Duality gap: 3033.6351133977823, tolerance: 2.7054198024691365\n",
      "  model = cd_fast.enet_coordinate_descent_gram(\n",
      "/Users/max/git/github/ds-practise/ds-practise/lib/python3.9/site-packages/sklearn/linear_model/_coordinate_descent.py:634: ConvergenceWarning: Objective did not converge. You might want to increase the number of iterations. Duality gap: 5.067979886098328, tolerance: 2.4347806172839515\n",
      "  model = cd_fast.enet_coordinate_descent_gram(\n",
      "/Users/max/git/github/ds-practise/ds-practise/lib/python3.9/site-packages/sklearn/linear_model/_coordinate_descent.py:634: ConvergenceWarning: Objective did not converge. You might want to increase the number of iterations. Duality gap: 12.070338177451049, tolerance: 2.4347806172839515\n",
      "  model = cd_fast.enet_coordinate_descent_gram(\n",
      "/Users/max/git/github/ds-practise/ds-practise/lib/python3.9/site-packages/sklearn/linear_model/_coordinate_descent.py:634: ConvergenceWarning: Objective did not converge. You might want to increase the number of iterations. Duality gap: 11.695799967539642, tolerance: 2.4347806172839515\n",
      "  model = cd_fast.enet_coordinate_descent_gram(\n",
      "/Users/max/git/github/ds-practise/ds-practise/lib/python3.9/site-packages/sklearn/linear_model/_coordinate_descent.py:634: ConvergenceWarning: Objective did not converge. You might want to increase the number of iterations. Duality gap: 24.077665873093792, tolerance: 2.4347806172839515\n",
      "  model = cd_fast.enet_coordinate_descent_gram(\n",
      "/Users/max/git/github/ds-practise/ds-practise/lib/python3.9/site-packages/sklearn/linear_model/_coordinate_descent.py:634: ConvergenceWarning: Objective did not converge. You might want to increase the number of iterations. Duality gap: 20.0411341566396, tolerance: 2.4347806172839515\n",
      "  model = cd_fast.enet_coordinate_descent_gram(\n",
      "/Users/max/git/github/ds-practise/ds-practise/lib/python3.9/site-packages/sklearn/linear_model/_coordinate_descent.py:634: ConvergenceWarning: Objective did not converge. You might want to increase the number of iterations. Duality gap: 18.385552508094406, tolerance: 2.4347806172839515\n",
      "  model = cd_fast.enet_coordinate_descent_gram(\n",
      "/Users/max/git/github/ds-practise/ds-practise/lib/python3.9/site-packages/sklearn/linear_model/_coordinate_descent.py:634: ConvergenceWarning: Objective did not converge. You might want to increase the number of iterations. Duality gap: 30.189731621216197, tolerance: 2.4347806172839515\n",
      "  model = cd_fast.enet_coordinate_descent_gram(\n",
      "/Users/max/git/github/ds-practise/ds-practise/lib/python3.9/site-packages/sklearn/linear_model/_coordinate_descent.py:634: ConvergenceWarning: Objective did not converge. You might want to increase the number of iterations. Duality gap: 74.51161030922594, tolerance: 2.4347806172839515\n",
      "  model = cd_fast.enet_coordinate_descent_gram(\n",
      "/Users/max/git/github/ds-practise/ds-practise/lib/python3.9/site-packages/sklearn/linear_model/_coordinate_descent.py:634: ConvergenceWarning: Objective did not converge. You might want to increase the number of iterations. Duality gap: 159.7214814058607, tolerance: 2.4347806172839515\n",
      "  model = cd_fast.enet_coordinate_descent_gram(\n",
      "/Users/max/git/github/ds-practise/ds-practise/lib/python3.9/site-packages/sklearn/linear_model/_coordinate_descent.py:634: ConvergenceWarning: Objective did not converge. You might want to increase the number of iterations. Duality gap: 168.740027328422, tolerance: 2.4347806172839515\n",
      "  model = cd_fast.enet_coordinate_descent_gram(\n",
      "/Users/max/git/github/ds-practise/ds-practise/lib/python3.9/site-packages/sklearn/linear_model/_coordinate_descent.py:634: ConvergenceWarning: Objective did not converge. You might want to increase the number of iterations. Duality gap: 186.53598935710033, tolerance: 2.4347806172839515\n",
      "  model = cd_fast.enet_coordinate_descent_gram(\n",
      "/Users/max/git/github/ds-practise/ds-practise/lib/python3.9/site-packages/sklearn/linear_model/_coordinate_descent.py:634: ConvergenceWarning: Objective did not converge. You might want to increase the number of iterations. Duality gap: 169.06122433206474, tolerance: 2.4347806172839515\n",
      "  model = cd_fast.enet_coordinate_descent_gram(\n",
      "/Users/max/git/github/ds-practise/ds-practise/lib/python3.9/site-packages/sklearn/linear_model/_coordinate_descent.py:634: ConvergenceWarning: Objective did not converge. You might want to increase the number of iterations. Duality gap: 93.45740009547808, tolerance: 2.4347806172839515\n",
      "  model = cd_fast.enet_coordinate_descent_gram(\n",
      "/Users/max/git/github/ds-practise/ds-practise/lib/python3.9/site-packages/sklearn/linear_model/_coordinate_descent.py:634: ConvergenceWarning: Objective did not converge. You might want to increase the number of iterations. Duality gap: 49.56553927127243, tolerance: 2.4347806172839515\n",
      "  model = cd_fast.enet_coordinate_descent_gram(\n",
      "/Users/max/git/github/ds-practise/ds-practise/lib/python3.9/site-packages/sklearn/linear_model/_coordinate_descent.py:634: ConvergenceWarning: Objective did not converge. You might want to increase the number of iterations. Duality gap: 67.53467672438273, tolerance: 2.4347806172839515\n",
      "  model = cd_fast.enet_coordinate_descent_gram(\n",
      "/Users/max/git/github/ds-practise/ds-practise/lib/python3.9/site-packages/sklearn/linear_model/_coordinate_descent.py:634: ConvergenceWarning: Objective did not converge. You might want to increase the number of iterations. Duality gap: 76.01512412096417, tolerance: 2.4347806172839515\n",
      "  model = cd_fast.enet_coordinate_descent_gram(\n",
      "/Users/max/git/github/ds-practise/ds-practise/lib/python3.9/site-packages/sklearn/linear_model/_coordinate_descent.py:634: ConvergenceWarning: Objective did not converge. You might want to increase the number of iterations. Duality gap: 117.38713242394442, tolerance: 2.4347806172839515\n",
      "  model = cd_fast.enet_coordinate_descent_gram(\n",
      "/Users/max/git/github/ds-practise/ds-practise/lib/python3.9/site-packages/sklearn/linear_model/_coordinate_descent.py:634: ConvergenceWarning: Objective did not converge. You might want to increase the number of iterations. Duality gap: 170.05795726798897, tolerance: 2.4347806172839515\n",
      "  model = cd_fast.enet_coordinate_descent_gram(\n",
      "/Users/max/git/github/ds-practise/ds-practise/lib/python3.9/site-packages/sklearn/linear_model/_coordinate_descent.py:634: ConvergenceWarning: Objective did not converge. You might want to increase the number of iterations. Duality gap: 403.3943773187384, tolerance: 2.4347806172839515\n",
      "  model = cd_fast.enet_coordinate_descent_gram(\n",
      "/Users/max/git/github/ds-practise/ds-practise/lib/python3.9/site-packages/sklearn/linear_model/_coordinate_descent.py:634: ConvergenceWarning: Objective did not converge. You might want to increase the number of iterations. Duality gap: 629.4377556673171, tolerance: 2.4347806172839515\n",
      "  model = cd_fast.enet_coordinate_descent_gram(\n",
      "/Users/max/git/github/ds-practise/ds-practise/lib/python3.9/site-packages/sklearn/linear_model/_coordinate_descent.py:634: ConvergenceWarning: Objective did not converge. You might want to increase the number of iterations. Duality gap: 609.0989864684816, tolerance: 2.4347806172839515\n",
      "  model = cd_fast.enet_coordinate_descent_gram(\n",
      "/Users/max/git/github/ds-practise/ds-practise/lib/python3.9/site-packages/sklearn/linear_model/_coordinate_descent.py:634: ConvergenceWarning: Objective did not converge. You might want to increase the number of iterations. Duality gap: 497.37950693488347, tolerance: 2.4347806172839515\n",
      "  model = cd_fast.enet_coordinate_descent_gram(\n",
      "/Users/max/git/github/ds-practise/ds-practise/lib/python3.9/site-packages/sklearn/linear_model/_coordinate_descent.py:634: ConvergenceWarning: Objective did not converge. You might want to increase the number of iterations. Duality gap: 619.2190845729365, tolerance: 2.4347806172839515\n",
      "  model = cd_fast.enet_coordinate_descent_gram(\n",
      "/Users/max/git/github/ds-practise/ds-practise/lib/python3.9/site-packages/sklearn/linear_model/_coordinate_descent.py:634: ConvergenceWarning: Objective did not converge. You might want to increase the number of iterations. Duality gap: 759.2755241471223, tolerance: 2.4347806172839515\n",
      "  model = cd_fast.enet_coordinate_descent_gram(\n",
      "/Users/max/git/github/ds-practise/ds-practise/lib/python3.9/site-packages/sklearn/linear_model/_coordinate_descent.py:634: ConvergenceWarning: Objective did not converge. You might want to increase the number of iterations. Duality gap: 879.7749170473126, tolerance: 2.4347806172839515\n",
      "  model = cd_fast.enet_coordinate_descent_gram(\n",
      "/Users/max/git/github/ds-practise/ds-practise/lib/python3.9/site-packages/sklearn/linear_model/_coordinate_descent.py:634: ConvergenceWarning: Objective did not converge. You might want to increase the number of iterations. Duality gap: 1401.3384718959023, tolerance: 2.4347806172839515\n",
      "  model = cd_fast.enet_coordinate_descent_gram(\n",
      "/Users/max/git/github/ds-practise/ds-practise/lib/python3.9/site-packages/sklearn/linear_model/_coordinate_descent.py:634: ConvergenceWarning: Objective did not converge. You might want to increase the number of iterations. Duality gap: 1560.7895519565827, tolerance: 2.4347806172839515\n",
      "  model = cd_fast.enet_coordinate_descent_gram(\n",
      "/Users/max/git/github/ds-practise/ds-practise/lib/python3.9/site-packages/sklearn/linear_model/_coordinate_descent.py:634: ConvergenceWarning: Objective did not converge. You might want to increase the number of iterations. Duality gap: 1708.1454378567341, tolerance: 2.4347806172839515\n",
      "  model = cd_fast.enet_coordinate_descent_gram(\n",
      "/Users/max/git/github/ds-practise/ds-practise/lib/python3.9/site-packages/sklearn/linear_model/_coordinate_descent.py:634: ConvergenceWarning: Objective did not converge. You might want to increase the number of iterations. Duality gap: 1706.9481203638552, tolerance: 2.4347806172839515\n",
      "  model = cd_fast.enet_coordinate_descent_gram(\n",
      "/Users/max/git/github/ds-practise/ds-practise/lib/python3.9/site-packages/sklearn/linear_model/_coordinate_descent.py:634: ConvergenceWarning: Objective did not converge. You might want to increase the number of iterations. Duality gap: 1679.662179225501, tolerance: 2.4347806172839515\n",
      "  model = cd_fast.enet_coordinate_descent_gram(\n",
      "/Users/max/git/github/ds-practise/ds-practise/lib/python3.9/site-packages/sklearn/linear_model/_coordinate_descent.py:634: ConvergenceWarning: Objective did not converge. You might want to increase the number of iterations. Duality gap: 1634.7925191813229, tolerance: 2.4347806172839515\n",
      "  model = cd_fast.enet_coordinate_descent_gram(\n",
      "/Users/max/git/github/ds-practise/ds-practise/lib/python3.9/site-packages/sklearn/linear_model/_coordinate_descent.py:634: ConvergenceWarning: Objective did not converge. You might want to increase the number of iterations. Duality gap: 1661.9477334103467, tolerance: 2.4347806172839515\n",
      "  model = cd_fast.enet_coordinate_descent_gram(\n",
      "/Users/max/git/github/ds-practise/ds-practise/lib/python3.9/site-packages/sklearn/linear_model/_coordinate_descent.py:634: ConvergenceWarning: Objective did not converge. You might want to increase the number of iterations. Duality gap: 1622.2429817650136, tolerance: 2.4347806172839515\n",
      "  model = cd_fast.enet_coordinate_descent_gram(\n",
      "/Users/max/git/github/ds-practise/ds-practise/lib/python3.9/site-packages/sklearn/linear_model/_coordinate_descent.py:634: ConvergenceWarning: Objective did not converge. You might want to increase the number of iterations. Duality gap: 1498.4985905156664, tolerance: 2.4347806172839515\n",
      "  model = cd_fast.enet_coordinate_descent_gram(\n",
      "/Users/max/git/github/ds-practise/ds-practise/lib/python3.9/site-packages/sklearn/linear_model/_coordinate_descent.py:634: ConvergenceWarning: Objective did not converge. You might want to increase the number of iterations. Duality gap: 1365.2278760872032, tolerance: 2.4347806172839515\n",
      "  model = cd_fast.enet_coordinate_descent_gram(\n",
      "/Users/max/git/github/ds-practise/ds-practise/lib/python3.9/site-packages/sklearn/linear_model/_coordinate_descent.py:634: ConvergenceWarning: Objective did not converge. You might want to increase the number of iterations. Duality gap: 1476.3460494595438, tolerance: 2.4347806172839515\n",
      "  model = cd_fast.enet_coordinate_descent_gram(\n",
      "/Users/max/git/github/ds-practise/ds-practise/lib/python3.9/site-packages/sklearn/linear_model/_coordinate_descent.py:634: ConvergenceWarning: Objective did not converge. You might want to increase the number of iterations. Duality gap: 1620.8166378102087, tolerance: 2.4347806172839515\n",
      "  model = cd_fast.enet_coordinate_descent_gram(\n",
      "/Users/max/git/github/ds-practise/ds-practise/lib/python3.9/site-packages/sklearn/linear_model/_coordinate_descent.py:634: ConvergenceWarning: Objective did not converge. You might want to increase the number of iterations. Duality gap: 1855.1728038010606, tolerance: 2.4347806172839515\n",
      "  model = cd_fast.enet_coordinate_descent_gram(\n",
      "/Users/max/git/github/ds-practise/ds-practise/lib/python3.9/site-packages/sklearn/linear_model/_coordinate_descent.py:634: ConvergenceWarning: Objective did not converge. You might want to increase the number of iterations. Duality gap: 1820.3376009887852, tolerance: 2.4347806172839515\n",
      "  model = cd_fast.enet_coordinate_descent_gram(\n",
      "/Users/max/git/github/ds-practise/ds-practise/lib/python3.9/site-packages/sklearn/linear_model/_coordinate_descent.py:634: ConvergenceWarning: Objective did not converge. You might want to increase the number of iterations. Duality gap: 1717.1996999933763, tolerance: 2.4347806172839515\n",
      "  model = cd_fast.enet_coordinate_descent_gram(\n",
      "/Users/max/git/github/ds-practise/ds-practise/lib/python3.9/site-packages/sklearn/linear_model/_coordinate_descent.py:634: ConvergenceWarning: Objective did not converge. You might want to increase the number of iterations. Duality gap: 1710.559264765734, tolerance: 2.4347806172839515\n",
      "  model = cd_fast.enet_coordinate_descent_gram(\n",
      "/Users/max/git/github/ds-practise/ds-practise/lib/python3.9/site-packages/sklearn/linear_model/_coordinate_descent.py:634: ConvergenceWarning: Objective did not converge. You might want to increase the number of iterations. Duality gap: 1786.3350796250197, tolerance: 2.4347806172839515\n",
      "  model = cd_fast.enet_coordinate_descent_gram(\n"
     ]
    },
    {
     "data": {
      "text/plain": [
       "-2.4816337324638655"
      ]
     },
     "execution_count": 519,
     "metadata": {},
     "output_type": "execute_result"
    }
   ],
   "source": [
    "pp = Pipeline(steps=[('scaler', MinMaxScaler()),('transform', PolynomialFeatures()), ('LassoCV', LassoCV())])\n",
    "pp.fit(learn_df, learn_y)\n",
    "predicted = pp.predict(test_df)\n",
    "r2_score(test_y, predicted)"
   ]
  },
  {
   "cell_type": "markdown",
   "metadata": {},
   "source": [
    "7. Подберите наилучшую модель (используйте Pipeline, GridSearchSCV) подбирая тип регуляризации (L1,L2), коэффициент регуляризации, метод масштабирования и степень полинома в PolynomialFeatures. Выведите итоговые параметры и результат R2. Напишите как изменился R2 по сравнению с предыдущими экспериментами"
   ]
  },
  {
   "cell_type": "code",
   "execution_count": null,
   "metadata": {},
   "outputs": [],
   "source": []
  },
  {
   "cell_type": "markdown",
   "metadata": {},
   "source": [
    "http://archive.ics.uci.edu/ml/datasets/Adult"
   ]
  },
  {
   "cell_type": "code",
   "execution_count": null,
   "metadata": {},
   "outputs": [],
   "source": [
    "link = 'https://raw.githubusercontent.com/jbrownlee/Datasets/master/adult-all.csv'\n",
    "data = pd.read_csv(link, header=None)"
   ]
  },
  {
   "cell_type": "code",
   "execution_count": null,
   "metadata": {},
   "outputs": [
    {
     "data": {
      "text/html": [
       "<div>\n",
       "<style scoped>\n",
       "    .dataframe tbody tr th:only-of-type {\n",
       "        vertical-align: middle;\n",
       "    }\n",
       "\n",
       "    .dataframe tbody tr th {\n",
       "        vertical-align: top;\n",
       "    }\n",
       "\n",
       "    .dataframe thead th {\n",
       "        text-align: right;\n",
       "    }\n",
       "</style>\n",
       "<table border=\"1\" class=\"dataframe\">\n",
       "  <thead>\n",
       "    <tr style=\"text-align: right;\">\n",
       "      <th></th>\n",
       "      <th>0</th>\n",
       "      <th>1</th>\n",
       "      <th>2</th>\n",
       "      <th>3</th>\n",
       "      <th>4</th>\n",
       "      <th>5</th>\n",
       "      <th>6</th>\n",
       "      <th>7</th>\n",
       "      <th>8</th>\n",
       "      <th>9</th>\n",
       "      <th>10</th>\n",
       "      <th>11</th>\n",
       "      <th>12</th>\n",
       "      <th>13</th>\n",
       "      <th>14</th>\n",
       "    </tr>\n",
       "  </thead>\n",
       "  <tbody>\n",
       "    <tr>\n",
       "      <th>0</th>\n",
       "      <td>39</td>\n",
       "      <td>State-gov</td>\n",
       "      <td>77516</td>\n",
       "      <td>Bachelors</td>\n",
       "      <td>13</td>\n",
       "      <td>Never-married</td>\n",
       "      <td>Adm-clerical</td>\n",
       "      <td>Not-in-family</td>\n",
       "      <td>White</td>\n",
       "      <td>Male</td>\n",
       "      <td>2174</td>\n",
       "      <td>0</td>\n",
       "      <td>40</td>\n",
       "      <td>United-States</td>\n",
       "      <td>&lt;=50K</td>\n",
       "    </tr>\n",
       "    <tr>\n",
       "      <th>1</th>\n",
       "      <td>50</td>\n",
       "      <td>Self-emp-not-inc</td>\n",
       "      <td>83311</td>\n",
       "      <td>Bachelors</td>\n",
       "      <td>13</td>\n",
       "      <td>Married-civ-spouse</td>\n",
       "      <td>Exec-managerial</td>\n",
       "      <td>Husband</td>\n",
       "      <td>White</td>\n",
       "      <td>Male</td>\n",
       "      <td>0</td>\n",
       "      <td>0</td>\n",
       "      <td>13</td>\n",
       "      <td>United-States</td>\n",
       "      <td>&lt;=50K</td>\n",
       "    </tr>\n",
       "    <tr>\n",
       "      <th>2</th>\n",
       "      <td>38</td>\n",
       "      <td>Private</td>\n",
       "      <td>215646</td>\n",
       "      <td>HS-grad</td>\n",
       "      <td>9</td>\n",
       "      <td>Divorced</td>\n",
       "      <td>Handlers-cleaners</td>\n",
       "      <td>Not-in-family</td>\n",
       "      <td>White</td>\n",
       "      <td>Male</td>\n",
       "      <td>0</td>\n",
       "      <td>0</td>\n",
       "      <td>40</td>\n",
       "      <td>United-States</td>\n",
       "      <td>&lt;=50K</td>\n",
       "    </tr>\n",
       "    <tr>\n",
       "      <th>3</th>\n",
       "      <td>53</td>\n",
       "      <td>Private</td>\n",
       "      <td>234721</td>\n",
       "      <td>11th</td>\n",
       "      <td>7</td>\n",
       "      <td>Married-civ-spouse</td>\n",
       "      <td>Handlers-cleaners</td>\n",
       "      <td>Husband</td>\n",
       "      <td>Black</td>\n",
       "      <td>Male</td>\n",
       "      <td>0</td>\n",
       "      <td>0</td>\n",
       "      <td>40</td>\n",
       "      <td>United-States</td>\n",
       "      <td>&lt;=50K</td>\n",
       "    </tr>\n",
       "    <tr>\n",
       "      <th>4</th>\n",
       "      <td>28</td>\n",
       "      <td>Private</td>\n",
       "      <td>338409</td>\n",
       "      <td>Bachelors</td>\n",
       "      <td>13</td>\n",
       "      <td>Married-civ-spouse</td>\n",
       "      <td>Prof-specialty</td>\n",
       "      <td>Wife</td>\n",
       "      <td>Black</td>\n",
       "      <td>Female</td>\n",
       "      <td>0</td>\n",
       "      <td>0</td>\n",
       "      <td>40</td>\n",
       "      <td>Cuba</td>\n",
       "      <td>&lt;=50K</td>\n",
       "    </tr>\n",
       "  </tbody>\n",
       "</table>\n",
       "</div>"
      ],
      "text/plain": [
       "   0                 1       2          3   4                   5   \\\n",
       "0  39         State-gov   77516  Bachelors  13       Never-married   \n",
       "1  50  Self-emp-not-inc   83311  Bachelors  13  Married-civ-spouse   \n",
       "2  38           Private  215646    HS-grad   9            Divorced   \n",
       "3  53           Private  234721       11th   7  Married-civ-spouse   \n",
       "4  28           Private  338409  Bachelors  13  Married-civ-spouse   \n",
       "\n",
       "                  6              7      8       9     10  11  12  \\\n",
       "0       Adm-clerical  Not-in-family  White    Male  2174   0  40   \n",
       "1    Exec-managerial        Husband  White    Male     0   0  13   \n",
       "2  Handlers-cleaners  Not-in-family  White    Male     0   0  40   \n",
       "3  Handlers-cleaners        Husband  Black    Male     0   0  40   \n",
       "4     Prof-specialty           Wife  Black  Female     0   0  40   \n",
       "\n",
       "              13     14  \n",
       "0  United-States  <=50K  \n",
       "1  United-States  <=50K  \n",
       "2  United-States  <=50K  \n",
       "3  United-States  <=50K  \n",
       "4           Cuba  <=50K  "
      ]
     },
     "execution_count": 511,
     "metadata": {},
     "output_type": "execute_result"
    }
   ],
   "source": [
    "data.head()"
   ]
  },
  {
   "cell_type": "markdown",
   "metadata": {},
   "source": [
    "8. Разделите выборку на признаки и целевую переменную(колонка со зачениями {<=50K,>50K}). Замените целевую переменную на числовые значения."
   ]
  },
  {
   "cell_type": "code",
   "execution_count": null,
   "metadata": {},
   "outputs": [],
   "source": []
  },
  {
   "cell_type": "markdown",
   "metadata": {},
   "source": [
    "9. Выясните, присутствуют ли в данных пропуски. Заполните их самыми частыми значениями (испольуйте SimpleImputer)"
   ]
  },
  {
   "cell_type": "code",
   "execution_count": null,
   "metadata": {},
   "outputs": [],
   "source": []
  },
  {
   "cell_type": "markdown",
   "metadata": {},
   "source": [
    "10. Выберите колонки с числовыми и категориальными переменными."
   ]
  },
  {
   "cell_type": "code",
   "execution_count": null,
   "metadata": {},
   "outputs": [],
   "source": []
  },
  {
   "cell_type": "markdown",
   "metadata": {},
   "source": [
    "11. Создайте пайплайн по обработке колонок(используйте OneHotEncoder,MinMaxScaler)."
   ]
  },
  {
   "cell_type": "code",
   "execution_count": null,
   "metadata": {},
   "outputs": [],
   "source": []
  },
  {
   "cell_type": "markdown",
   "metadata": {},
   "source": [
    "12. Посчитайте метрики accuracy и f1_score на предсказании только самого частого класса в целевой переменной."
   ]
  },
  {
   "cell_type": "code",
   "execution_count": null,
   "metadata": {},
   "outputs": [],
   "source": []
  },
  {
   "cell_type": "markdown",
   "metadata": {},
   "source": [
    "13. Посчитайте cross_val_score по алгоритмам LogisticRegression, SVC, LinearSVC по метрикам accuracy и f1_score.\n",
    "Напишите удалось ли превзойти предыдущий результат."
   ]
  },
  {
   "cell_type": "code",
   "execution_count": null,
   "metadata": {},
   "outputs": [],
   "source": []
  },
  {
   "cell_type": "markdown",
   "metadata": {},
   "source": [
    "14. Можно заметить что в данных присутствуют значения '?', замените их самыми частыми значениями (испольуйте SimpleImputer)"
   ]
  },
  {
   "cell_type": "code",
   "execution_count": null,
   "metadata": {},
   "outputs": [],
   "source": []
  },
  {
   "cell_type": "markdown",
   "metadata": {},
   "source": [
    "15. Посчитайте cross_val_score на новых данных. Напишите удалось ли улучшить результат."
   ]
  },
  {
   "cell_type": "code",
   "execution_count": null,
   "metadata": {},
   "outputs": [],
   "source": []
  },
  {
   "cell_type": "markdown",
   "metadata": {},
   "source": [
    "16. Посчитайте cross_val_score, если просто удалить значения '?'. Напишите как изменился результат"
   ]
  },
  {
   "cell_type": "code",
   "execution_count": null,
   "metadata": {},
   "outputs": [],
   "source": []
  },
  {
   "cell_type": "markdown",
   "metadata": {},
   "source": [
    " 17. Посчитайте cross_val_score для RandomForestClassifier,GradientBoostingClassifier. Напишите как изменился результат и какой вывод можно из этого сделать."
   ]
  },
  {
   "cell_type": "code",
   "execution_count": null,
   "metadata": {},
   "outputs": [],
   "source": []
  },
  {
   "cell_type": "markdown",
   "metadata": {},
   "source": [
    "18. Подберите наилучшую модель, подбирая методы обработки колонок - масштабирование признаков, кодирование признаков и заполнение пропусков. Параметры алгоритмов оставьте по умолчанию. Выведите итоговые параметры и результат accuracy и f1_score."
   ]
  },
  {
   "cell_type": "code",
   "execution_count": null,
   "metadata": {},
   "outputs": [],
   "source": []
  }
 ],
 "metadata": {
  "kernelspec": {
   "display_name": "Python 3.9.7 ('ds-practise': venv)",
   "language": "python",
   "name": "python3"
  },
  "language_info": {
   "codemirror_mode": {
    "name": "ipython",
    "version": 3
   },
   "file_extension": ".py",
   "mimetype": "text/x-python",
   "name": "python",
   "nbconvert_exporter": "python",
   "pygments_lexer": "ipython3",
   "version": "3.9.7"
  },
  "vscode": {
   "interpreter": {
    "hash": "4676742b88cfe92009507386bd6f30f01ba523675ef5eef0cf8284a053b8305a"
   }
  }
 },
 "nbformat": 4,
 "nbformat_minor": 2
}
