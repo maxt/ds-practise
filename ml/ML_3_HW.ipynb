{
 "cells": [
  {
   "cell_type": "code",
   "execution_count": 1363,
   "metadata": {},
   "outputs": [],
   "source": [
    "from sklearn.datasets import load_boston\n",
    "import pandas as pd\n",
    "import numpy as np\n",
    "from sklearn.linear_model import LinearRegression\n",
    "from sklearn.linear_model import Lasso\n",
    "from sklearn.linear_model import Ridge\n",
    "from sklearn.metrics import r2_score\n",
    "from sklearn.linear_model import RidgeCV\n",
    "from sklearn.linear_model import LassoCV\n",
    "from sklearn.model_selection import GridSearchCV\n",
    "from sklearn.pipeline import Pipeline\n",
    "from sklearn.preprocessing import StandardScaler\n",
    "from sklearn.preprocessing import MinMaxScaler\n",
    "from sklearn.pipeline import make_pipeline\n",
    "from sklearn.preprocessing import PolynomialFeatures\n"
   ]
  },
  {
   "cell_type": "code",
   "execution_count": 1364,
   "metadata": {},
   "outputs": [],
   "source": [
    "RANDOM_STATE = 42"
   ]
  },
  {
   "cell_type": "code",
   "execution_count": 1365,
   "metadata": {},
   "outputs": [
    {
     "name": "stderr",
     "output_type": "stream",
     "text": [
      "/Users/17299765/git/github/ds-practise/ds-practise/lib/python3.9/site-packages/sklearn/utils/deprecation.py:87: FutureWarning: Function load_boston is deprecated; `load_boston` is deprecated in 1.0 and will be removed in 1.2.\n",
      "\n",
      "    The Boston housing prices dataset has an ethical problem. You can refer to\n",
      "    the documentation of this function for further details.\n",
      "\n",
      "    The scikit-learn maintainers therefore strongly discourage the use of this\n",
      "    dataset unless the purpose of the code is to study and educate about\n",
      "    ethical issues in data science and machine learning.\n",
      "\n",
      "    In this special case, you can fetch the dataset from the original\n",
      "    source::\n",
      "\n",
      "        import pandas as pd\n",
      "        import numpy as np\n",
      "\n",
      "        data_url = \"http://lib.stat.cmu.edu/datasets/boston\"\n",
      "        raw_df = pd.read_csv(data_url, sep=\"\\s+\", skiprows=22, header=None)\n",
      "        data = np.hstack([raw_df.values[::2, :], raw_df.values[1::2, :2]])\n",
      "        target = raw_df.values[1::2, 2]\n",
      "\n",
      "    Alternative datasets include the California housing dataset (i.e.\n",
      "    :func:`~sklearn.datasets.fetch_california_housing`) and the Ames housing\n",
      "    dataset. You can load the datasets as follows::\n",
      "\n",
      "        from sklearn.datasets import fetch_california_housing\n",
      "        housing = fetch_california_housing()\n",
      "\n",
      "    for the California housing dataset and::\n",
      "\n",
      "        from sklearn.datasets import fetch_openml\n",
      "        housing = fetch_openml(name=\"house_prices\", as_frame=True)\n",
      "\n",
      "    for the Ames housing dataset.\n",
      "  warnings.warn(msg, category=FutureWarning)\n"
     ]
    },
    {
     "data": {
      "text/plain": "        CRIM    ZN  INDUS  CHAS    NOX     RM   AGE     DIS  RAD    TAX  \\\n0    0.00632  18.0   2.31   0.0  0.538  6.575  65.2  4.0900  1.0  296.0   \n1    0.02731   0.0   7.07   0.0  0.469  6.421  78.9  4.9671  2.0  242.0   \n2    0.02729   0.0   7.07   0.0  0.469  7.185  61.1  4.9671  2.0  242.0   \n3    0.03237   0.0   2.18   0.0  0.458  6.998  45.8  6.0622  3.0  222.0   \n4    0.06905   0.0   2.18   0.0  0.458  7.147  54.2  6.0622  3.0  222.0   \n..       ...   ...    ...   ...    ...    ...   ...     ...  ...    ...   \n501  0.06263   0.0  11.93   0.0  0.573  6.593  69.1  2.4786  1.0  273.0   \n502  0.04527   0.0  11.93   0.0  0.573  6.120  76.7  2.2875  1.0  273.0   \n503  0.06076   0.0  11.93   0.0  0.573  6.976  91.0  2.1675  1.0  273.0   \n504  0.10959   0.0  11.93   0.0  0.573  6.794  89.3  2.3889  1.0  273.0   \n505  0.04741   0.0  11.93   0.0  0.573  6.030  80.8  2.5050  1.0  273.0   \n\n     PTRATIO       B  LSTAT  \n0       15.3  396.90   4.98  \n1       17.8  396.90   9.14  \n2       17.8  392.83   4.03  \n3       18.7  394.63   2.94  \n4       18.7  396.90   5.33  \n..       ...     ...    ...  \n501     21.0  391.99   9.67  \n502     21.0  396.90   9.08  \n503     21.0  396.90   5.64  \n504     21.0  393.45   6.48  \n505     21.0  396.90   7.88  \n\n[506 rows x 13 columns]",
      "text/html": "<div>\n<style scoped>\n    .dataframe tbody tr th:only-of-type {\n        vertical-align: middle;\n    }\n\n    .dataframe tbody tr th {\n        vertical-align: top;\n    }\n\n    .dataframe thead th {\n        text-align: right;\n    }\n</style>\n<table border=\"1\" class=\"dataframe\">\n  <thead>\n    <tr style=\"text-align: right;\">\n      <th></th>\n      <th>CRIM</th>\n      <th>ZN</th>\n      <th>INDUS</th>\n      <th>CHAS</th>\n      <th>NOX</th>\n      <th>RM</th>\n      <th>AGE</th>\n      <th>DIS</th>\n      <th>RAD</th>\n      <th>TAX</th>\n      <th>PTRATIO</th>\n      <th>B</th>\n      <th>LSTAT</th>\n    </tr>\n  </thead>\n  <tbody>\n    <tr>\n      <th>0</th>\n      <td>0.00632</td>\n      <td>18.0</td>\n      <td>2.31</td>\n      <td>0.0</td>\n      <td>0.538</td>\n      <td>6.575</td>\n      <td>65.2</td>\n      <td>4.0900</td>\n      <td>1.0</td>\n      <td>296.0</td>\n      <td>15.3</td>\n      <td>396.90</td>\n      <td>4.98</td>\n    </tr>\n    <tr>\n      <th>1</th>\n      <td>0.02731</td>\n      <td>0.0</td>\n      <td>7.07</td>\n      <td>0.0</td>\n      <td>0.469</td>\n      <td>6.421</td>\n      <td>78.9</td>\n      <td>4.9671</td>\n      <td>2.0</td>\n      <td>242.0</td>\n      <td>17.8</td>\n      <td>396.90</td>\n      <td>9.14</td>\n    </tr>\n    <tr>\n      <th>2</th>\n      <td>0.02729</td>\n      <td>0.0</td>\n      <td>7.07</td>\n      <td>0.0</td>\n      <td>0.469</td>\n      <td>7.185</td>\n      <td>61.1</td>\n      <td>4.9671</td>\n      <td>2.0</td>\n      <td>242.0</td>\n      <td>17.8</td>\n      <td>392.83</td>\n      <td>4.03</td>\n    </tr>\n    <tr>\n      <th>3</th>\n      <td>0.03237</td>\n      <td>0.0</td>\n      <td>2.18</td>\n      <td>0.0</td>\n      <td>0.458</td>\n      <td>6.998</td>\n      <td>45.8</td>\n      <td>6.0622</td>\n      <td>3.0</td>\n      <td>222.0</td>\n      <td>18.7</td>\n      <td>394.63</td>\n      <td>2.94</td>\n    </tr>\n    <tr>\n      <th>4</th>\n      <td>0.06905</td>\n      <td>0.0</td>\n      <td>2.18</td>\n      <td>0.0</td>\n      <td>0.458</td>\n      <td>7.147</td>\n      <td>54.2</td>\n      <td>6.0622</td>\n      <td>3.0</td>\n      <td>222.0</td>\n      <td>18.7</td>\n      <td>396.90</td>\n      <td>5.33</td>\n    </tr>\n    <tr>\n      <th>...</th>\n      <td>...</td>\n      <td>...</td>\n      <td>...</td>\n      <td>...</td>\n      <td>...</td>\n      <td>...</td>\n      <td>...</td>\n      <td>...</td>\n      <td>...</td>\n      <td>...</td>\n      <td>...</td>\n      <td>...</td>\n      <td>...</td>\n    </tr>\n    <tr>\n      <th>501</th>\n      <td>0.06263</td>\n      <td>0.0</td>\n      <td>11.93</td>\n      <td>0.0</td>\n      <td>0.573</td>\n      <td>6.593</td>\n      <td>69.1</td>\n      <td>2.4786</td>\n      <td>1.0</td>\n      <td>273.0</td>\n      <td>21.0</td>\n      <td>391.99</td>\n      <td>9.67</td>\n    </tr>\n    <tr>\n      <th>502</th>\n      <td>0.04527</td>\n      <td>0.0</td>\n      <td>11.93</td>\n      <td>0.0</td>\n      <td>0.573</td>\n      <td>6.120</td>\n      <td>76.7</td>\n      <td>2.2875</td>\n      <td>1.0</td>\n      <td>273.0</td>\n      <td>21.0</td>\n      <td>396.90</td>\n      <td>9.08</td>\n    </tr>\n    <tr>\n      <th>503</th>\n      <td>0.06076</td>\n      <td>0.0</td>\n      <td>11.93</td>\n      <td>0.0</td>\n      <td>0.573</td>\n      <td>6.976</td>\n      <td>91.0</td>\n      <td>2.1675</td>\n      <td>1.0</td>\n      <td>273.0</td>\n      <td>21.0</td>\n      <td>396.90</td>\n      <td>5.64</td>\n    </tr>\n    <tr>\n      <th>504</th>\n      <td>0.10959</td>\n      <td>0.0</td>\n      <td>11.93</td>\n      <td>0.0</td>\n      <td>0.573</td>\n      <td>6.794</td>\n      <td>89.3</td>\n      <td>2.3889</td>\n      <td>1.0</td>\n      <td>273.0</td>\n      <td>21.0</td>\n      <td>393.45</td>\n      <td>6.48</td>\n    </tr>\n    <tr>\n      <th>505</th>\n      <td>0.04741</td>\n      <td>0.0</td>\n      <td>11.93</td>\n      <td>0.0</td>\n      <td>0.573</td>\n      <td>6.030</td>\n      <td>80.8</td>\n      <td>2.5050</td>\n      <td>1.0</td>\n      <td>273.0</td>\n      <td>21.0</td>\n      <td>396.90</td>\n      <td>7.88</td>\n    </tr>\n  </tbody>\n</table>\n<p>506 rows × 13 columns</p>\n</div>"
     },
     "execution_count": 1365,
     "metadata": {},
     "output_type": "execute_result"
    }
   ],
   "source": [
    "dataset = load_boston()\n",
    "X = pd.DataFrame(dataset.data)\n",
    "X.columns = dataset.feature_names\n",
    "y = dataset.target\n",
    "X"
   ]
  },
  {
   "cell_type": "markdown",
   "metadata": {},
   "source": [
    "1. Разделите выборку на обучающую и тестовую в отношении 80%/20%"
   ]
  },
  {
   "cell_type": "code",
   "execution_count": 1366,
   "metadata": {},
   "outputs": [
    {
     "name": "stdout",
     "output_type": "stream",
     "text": [
      "Size of learn df: 405, size of test df: 101\n",
      "Size of learn_y: 405, size of test y: 101\n"
     ]
    }
   ],
   "source": [
    "learn_df = X.sample(frac = 0.8)\n",
    "test_df = X.drop(learn_df.index)\n",
    "print('Size of learn df: '+ str(len(learn_df))+ ', size of test df: '+str(len(test_df)))\n",
    "learn_y, test_y = np.split(y,[int(len(y)*0.8)+1])       # получаем идентичную разбивку df & y\n",
    "print('Size of learn_y: '+str(len(learn_y)) + ', size of test y: '+str(len(test_y)))"
   ]
  },
  {
   "cell_type": "markdown",
   "metadata": {},
   "source": [
    "2. Обучите стандартную регрессию, а также Ridge и  Lasso и параметрами по умолчанию и выведите их R2 на тестовой выборке"
   ]
  },
  {
   "cell_type": "code",
   "execution_count": 1367,
   "metadata": {},
   "outputs": [
    {
     "data": {
      "text/plain": "-2.2690186786692306"
     },
     "execution_count": 1367,
     "metadata": {},
     "output_type": "execute_result"
    }
   ],
   "source": [
    "reg = LinearRegression().fit(learn_df, learn_y)\n",
    "predicted_y = reg.predict(test_df)\n",
    "r2_score(test_y, predicted_y)"
   ]
  },
  {
   "cell_type": "code",
   "execution_count": 1368,
   "metadata": {
    "collapsed": false,
    "pycharm": {
     "name": "#%%\n"
    }
   },
   "outputs": [
    {
     "data": {
      "text/plain": "-2.2838629255786675"
     },
     "execution_count": 1368,
     "metadata": {},
     "output_type": "execute_result"
    }
   ],
   "source": [
    "ridge = Ridge()\n",
    "ridge.fit(learn_df, learn_y)\n",
    "predicted_ridge_y = ridge.predict(test_df)\n",
    "r2_score(test_y, predicted_ridge_y)"
   ]
  },
  {
   "cell_type": "code",
   "execution_count": 1369,
   "metadata": {
    "collapsed": false,
    "pycharm": {
     "name": "#%%\n"
    }
   },
   "outputs": [
    {
     "data": {
      "text/plain": "-2.3207097413954756"
     },
     "execution_count": 1369,
     "metadata": {},
     "output_type": "execute_result"
    }
   ],
   "source": [
    "lasso = Lasso()\n",
    "lasso.fit(learn_df, learn_y)\n",
    "predicted_lasso_y = lasso.predict(test_df)\n",
    "r2_score(test_y,predicted_lasso_y)"
   ]
  },
  {
   "cell_type": "markdown",
   "metadata": {},
   "source": [
    "3. Для Ridge и Lasso подберите коэффициент регуляризации(используйте GridSearchCV, RidgeCV, LassoCV) в пределах от $10^{-5}$ до $10^5$ (по степеням 10). Посчитайте R2 на тестовой выборке по лучшим моделям и сравните с предыдущими результатами. Напишите как изменился результат"
   ]
  },
  {
   "cell_type": "code",
   "execution_count": 1370,
   "outputs": [],
   "source": [
    "\n",
    "alpha_arr = [10**-5, 10**-4, 10**-3, 10**-2, 10**-1, 10**0, 10**1, 10**2, 10**3, 10**4, 10**5]\n",
    "alpha_dict = {'alpha': alpha_arr}"
   ],
   "metadata": {
    "collapsed": false,
    "pycharm": {
     "name": "#%%\n"
    }
   }
  },
  {
   "cell_type": "code",
   "execution_count": 1371,
   "metadata": {},
   "outputs": [
    {
     "data": {
      "text/plain": "{'alpha': 100000}"
     },
     "execution_count": 1371,
     "metadata": {},
     "output_type": "execute_result"
    }
   ],
   "source": [
    "gcv = GridSearchCV(Ridge(random_state=RANDOM_STATE), alpha_dict, refit=False)\n",
    "gcv.fit(learn_df, learn_y)\n",
    "gcv.best_params_\n"
   ]
  },
  {
   "cell_type": "code",
   "execution_count": 1372,
   "outputs": [
    {
     "data": {
      "text/plain": "100000.0"
     },
     "execution_count": 1372,
     "metadata": {},
     "output_type": "execute_result"
    }
   ],
   "source": [
    "rcv = RidgeCV(alphas=alpha_arr)\n",
    "rcv.fit(learn_df, learn_y)\n",
    "predicted_rcv_y = rcv.predict(test_df)\n",
    "rcv.alpha_\n"
   ],
   "metadata": {
    "collapsed": false,
    "pycharm": {
     "name": "#%%\n"
    }
   }
  },
  {
   "cell_type": "code",
   "execution_count": 1373,
   "outputs": [
    {
     "data": {
      "text/plain": "10.0"
     },
     "execution_count": 1373,
     "metadata": {},
     "output_type": "execute_result"
    }
   ],
   "source": [
    "lcv = LassoCV(alphas = alpha_arr, random_state=RANDOM_STATE, selection='random')\n",
    "lcv.fit(learn_df, learn_y)\n",
    "predicted_lcv_y = lcv.predict(test_df)\n",
    "lcv.alpha_"
   ],
   "metadata": {
    "collapsed": false,
    "pycharm": {
     "name": "#%%\n"
    }
   }
  },
  {
   "cell_type": "code",
   "execution_count": 1374,
   "outputs": [
    {
     "data": {
      "text/plain": "{'alpha': 1000}"
     },
     "execution_count": 1374,
     "metadata": {},
     "output_type": "execute_result"
    }
   ],
   "source": [
    "glcv = GridSearchCV(Lasso(random_state=RANDOM_STATE, selection='random'), alpha_dict, refit=False)\n",
    "glcv.fit(learn_df, learn_y)\n",
    "glcv.best_params_"
   ],
   "metadata": {
    "collapsed": false,
    "pycharm": {
     "name": "#%%\n"
    }
   }
  },
  {
   "cell_type": "markdown",
   "metadata": {},
   "source": [
    "4. Проведите масштабирование выборки(используйте Pipeline, StandardScaler, MinMaxScaler), посчитайте R2 и сравните с предыдущими результатами. Напишите как изменился результат"
   ]
  },
  {
   "cell_type": "code",
   "execution_count": 1375,
   "metadata": {},
   "outputs": [
    {
     "data": {
      "text/plain": "-2.2686242620594355"
     },
     "execution_count": 1375,
     "metadata": {},
     "output_type": "execute_result"
    }
   ],
   "source": [
    "lasso_pipeline = make_pipeline(StandardScaler(), RidgeCV())\n",
    "lasso_pipeline.fit(learn_df, learn_y)\n",
    "lasso_pipeline_predicted = lasso_pipeline.predict(test_df)\n",
    "r2_score(test_y, lasso_pipeline_predicted)"
   ]
  },
  {
   "cell_type": "code",
   "execution_count": 1376,
   "metadata": {},
   "outputs": [
    {
     "data": {
      "text/plain": "-2.309348422060499"
     },
     "execution_count": 1376,
     "metadata": {},
     "output_type": "execute_result"
    }
   ],
   "source": [
    "lasso_pipeline = make_pipeline(MinMaxScaler(), RidgeCV())\n",
    "lasso_pipeline.fit(learn_df, learn_y)\n",
    "lasso_pipeline_predicted = lasso_pipeline.predict(test_df)\n",
    "r2_score(test_y, lasso_pipeline_predicted)"
   ]
  },
  {
   "cell_type": "code",
   "execution_count": 1377,
   "metadata": {},
   "outputs": [
    {
     "data": {
      "text/plain": "-2.4196633924469664"
     },
     "execution_count": 1377,
     "metadata": {},
     "output_type": "execute_result"
    }
   ],
   "source": [
    "lasso_pipeline = make_pipeline(StandardScaler(), LassoCV())\n",
    "lasso_pipeline.fit(learn_df, learn_y)\n",
    "lasso_pipeline_predicted = lasso_pipeline.predict(test_df)\n",
    "r2_score(test_y, lasso_pipeline_predicted)"
   ]
  },
  {
   "cell_type": "code",
   "execution_count": 1378,
   "metadata": {},
   "outputs": [
    {
     "data": {
      "text/plain": "-2.4207616913002514"
     },
     "execution_count": 1378,
     "metadata": {},
     "output_type": "execute_result"
    }
   ],
   "source": [
    "lasso_pipeline = make_pipeline(MinMaxScaler(), LassoCV())\n",
    "lasso_pipeline.fit(learn_df, learn_y)\n",
    "lasso_pipeline_predicted = lasso_pipeline.predict(test_df)\n",
    "r2_score(test_y, lasso_pipeline_predicted)"
   ]
  },
  {
   "cell_type": "markdown",
   "metadata": {},
   "source": [
    "5. Подберите коэффициент регуляризации для Ridge и Lasso на масштабированных данных, посчитайте R2 и сравните с предыдущими результатами. Напишите как изменился результат"
   ]
  },
  {
   "cell_type": "code",
   "execution_count": 1379,
   "metadata": {},
   "outputs": [
    {
     "data": {
      "text/plain": "-2.4266819554961137"
     },
     "execution_count": 1379,
     "metadata": {},
     "output_type": "execute_result"
    }
   ],
   "source": [
    "lasso_pipeline = make_pipeline(StandardScaler(), RidgeCV(alphas=[ 1.e-05, 1.e-04, 1.e-03, 1.e-02, 1.e-01, 1.e+00, 1.e+01, 1.e+02, 1.e+03, 1.e+04, 1.e+05]))\n",
    "lasso_pipeline.fit(learn_df, learn_y)\n",
    "lasso_pipeline_predicted = lasso_pipeline.predict(test_df)\n",
    "r2_score(test_y, lasso_pipeline_predicted)"
   ]
  },
  {
   "cell_type": "code",
   "execution_count": 1380,
   "metadata": {},
   "outputs": [
    {
     "data": {
      "text/plain": "-2.406955450974433"
     },
     "execution_count": 1380,
     "metadata": {},
     "output_type": "execute_result"
    }
   ],
   "source": [
    "lasso_pipeline = make_pipeline(MinMaxScaler(), RidgeCV(alphas=[ 1.e-05, 1.e-04, 1.e-03, 1.e-02, 1.e-01, 1.e+00, 1.e+01, 1.e+02, 1.e+03, 1.e+04, 1.e+05]))\n",
    "lasso_pipeline.fit(learn_df, learn_y)\n",
    "lasso_pipeline_predicted = lasso_pipeline.predict(test_df)\n",
    "r2_score(test_y, lasso_pipeline_predicted)"
   ]
  },
  {
   "cell_type": "code",
   "execution_count": 1381,
   "metadata": {},
   "outputs": [
    {
     "data": {
      "text/plain": "-2.429411562364625"
     },
     "execution_count": 1381,
     "metadata": {},
     "output_type": "execute_result"
    }
   ],
   "source": [
    "lasso_pipeline = make_pipeline(StandardScaler(), LassoCV(alphas=[ 1.e-05, 1.e-04, 1.e-03, 1.e-02, 1.e-01, 1.e+00, 1.e+01, 1.e+02, 1.e+03, 1.e+04, 1.e+05]))\n",
    "lasso_pipeline.fit(learn_df, learn_y)\n",
    "lasso_pipeline_predicted = lasso_pipeline.predict(test_df)\n",
    "r2_score(test_y, lasso_pipeline_predicted)"
   ]
  },
  {
   "cell_type": "code",
   "execution_count": 1382,
   "metadata": {},
   "outputs": [
    {
     "data": {
      "text/plain": "-2.423438322246543"
     },
     "execution_count": 1382,
     "metadata": {},
     "output_type": "execute_result"
    }
   ],
   "source": [
    "lasso_pipeline = make_pipeline(MinMaxScaler(), LassoCV(alphas=[ 1.e-05, 1.e-04, 1.e-03, 1.e-02, 1.e-01, 1.e+00, 1.e+01, 1.e+02, 1.e+03, 1.e+04, 1.e+05]))\n",
    "lasso_pipeline.fit(learn_df, learn_y)\n",
    "lasso_pipeline_predicted = lasso_pipeline.predict(test_df)\n",
    "r2_score(test_y, lasso_pipeline_predicted)"
   ]
  },
  {
   "cell_type": "markdown",
   "metadata": {},
   "source": [
    "6. Добавьте попарные произведения признаков и их квадраты (используйте PolynomialFeatures) на масштабированных признаках, посчитайте R2 и сравните с предыдущими результатами. Напишите как изменился результат"
   ]
  },
  {
   "cell_type": "code",
   "execution_count": 1383,
   "metadata": {},
   "outputs": [
    {
     "data": {
      "text/plain": "-2.4699656935499763"
     },
     "execution_count": 1383,
     "metadata": {},
     "output_type": "execute_result"
    }
   ],
   "source": [
    "pp = Pipeline(steps=[('scaler', StandardScaler()),('transform', PolynomialFeatures()), ('RidgeCV', RidgeCV())])\n",
    "pp.fit(learn_df, learn_y)\n",
    "predicted = pp.predict(test_df)\n",
    "r2_score(test_y, predicted)\n"
   ]
  },
  {
   "cell_type": "code",
   "execution_count": 1384,
   "metadata": {},
   "outputs": [
    {
     "data": {
      "text/plain": "-2.2477921581491196"
     },
     "execution_count": 1384,
     "metadata": {},
     "output_type": "execute_result"
    }
   ],
   "source": [
    "pp = Pipeline(steps=[('scaler', MinMaxScaler()),('transform', PolynomialFeatures()), ('RidgeCV', RidgeCV())])\n",
    "pp.fit(learn_df, learn_y)\n",
    "predicted = pp.predict(test_df)\n",
    "r2_score(test_y, predicted)\n"
   ]
  },
  {
   "cell_type": "code",
   "execution_count": 1385,
   "metadata": {},
   "outputs": [
    {
     "name": "stderr",
     "output_type": "stream",
     "text": [
      "/Users/17299765/git/github/ds-practise/ds-practise/lib/python3.9/site-packages/sklearn/linear_model/_coordinate_descent.py:634: ConvergenceWarning: Objective did not converge. You might want to increase the number of iterations. Duality gap: 4.575143383903196, tolerance: 3.1607934413580248\n",
      "  model = cd_fast.enet_coordinate_descent_gram(\n",
      "/Users/17299765/git/github/ds-practise/ds-practise/lib/python3.9/site-packages/sklearn/linear_model/_coordinate_descent.py:634: ConvergenceWarning: Objective did not converge. You might want to increase the number of iterations. Duality gap: 4.23448858237316, tolerance: 3.1607934413580248\n",
      "  model = cd_fast.enet_coordinate_descent_gram(\n",
      "/Users/17299765/git/github/ds-practise/ds-practise/lib/python3.9/site-packages/sklearn/linear_model/_coordinate_descent.py:634: ConvergenceWarning: Objective did not converge. You might want to increase the number of iterations. Duality gap: 4.058399545570865, tolerance: 3.1607934413580248\n",
      "  model = cd_fast.enet_coordinate_descent_gram(\n",
      "/Users/17299765/git/github/ds-practise/ds-practise/lib/python3.9/site-packages/sklearn/linear_model/_coordinate_descent.py:634: ConvergenceWarning: Objective did not converge. You might want to increase the number of iterations. Duality gap: 4.843132142079412, tolerance: 3.1607934413580248\n",
      "  model = cd_fast.enet_coordinate_descent_gram(\n",
      "/Users/17299765/git/github/ds-practise/ds-practise/lib/python3.9/site-packages/sklearn/linear_model/_coordinate_descent.py:634: ConvergenceWarning: Objective did not converge. You might want to increase the number of iterations. Duality gap: 5.4663517825138115, tolerance: 3.1607934413580248\n",
      "  model = cd_fast.enet_coordinate_descent_gram(\n",
      "/Users/17299765/git/github/ds-practise/ds-practise/lib/python3.9/site-packages/sklearn/linear_model/_coordinate_descent.py:634: ConvergenceWarning: Objective did not converge. You might want to increase the number of iterations. Duality gap: 5.809215632256382, tolerance: 3.1607934413580248\n",
      "  model = cd_fast.enet_coordinate_descent_gram(\n",
      "/Users/17299765/git/github/ds-practise/ds-practise/lib/python3.9/site-packages/sklearn/linear_model/_coordinate_descent.py:634: ConvergenceWarning: Objective did not converge. You might want to increase the number of iterations. Duality gap: 6.20921990541683, tolerance: 3.1607934413580248\n",
      "  model = cd_fast.enet_coordinate_descent_gram(\n",
      "/Users/17299765/git/github/ds-practise/ds-practise/lib/python3.9/site-packages/sklearn/linear_model/_coordinate_descent.py:634: ConvergenceWarning: Objective did not converge. You might want to increase the number of iterations. Duality gap: 5.5492788625415415, tolerance: 3.1607934413580248\n",
      "  model = cd_fast.enet_coordinate_descent_gram(\n",
      "/Users/17299765/git/github/ds-practise/ds-practise/lib/python3.9/site-packages/sklearn/linear_model/_coordinate_descent.py:634: ConvergenceWarning: Objective did not converge. You might want to increase the number of iterations. Duality gap: 5.257593974001793, tolerance: 3.1607934413580248\n",
      "  model = cd_fast.enet_coordinate_descent_gram(\n",
      "/Users/17299765/git/github/ds-practise/ds-practise/lib/python3.9/site-packages/sklearn/linear_model/_coordinate_descent.py:634: ConvergenceWarning: Objective did not converge. You might want to increase the number of iterations. Duality gap: 4.983993267345795, tolerance: 3.1607934413580248\n",
      "  model = cd_fast.enet_coordinate_descent_gram(\n",
      "/Users/17299765/git/github/ds-practise/ds-practise/lib/python3.9/site-packages/sklearn/linear_model/_coordinate_descent.py:634: ConvergenceWarning: Objective did not converge. You might want to increase the number of iterations. Duality gap: 4.884220206826285, tolerance: 3.1607934413580248\n",
      "  model = cd_fast.enet_coordinate_descent_gram(\n",
      "/Users/17299765/git/github/ds-practise/ds-practise/lib/python3.9/site-packages/sklearn/linear_model/_coordinate_descent.py:634: ConvergenceWarning: Objective did not converge. You might want to increase the number of iterations. Duality gap: 4.097972908311931, tolerance: 3.1607934413580248\n",
      "  model = cd_fast.enet_coordinate_descent_gram(\n",
      "/Users/17299765/git/github/ds-practise/ds-practise/lib/python3.9/site-packages/sklearn/linear_model/_coordinate_descent.py:634: ConvergenceWarning: Objective did not converge. You might want to increase the number of iterations. Duality gap: 39.55211927392156, tolerance: 3.1607934413580248\n",
      "  model = cd_fast.enet_coordinate_descent_gram(\n",
      "/Users/17299765/git/github/ds-practise/ds-practise/lib/python3.9/site-packages/sklearn/linear_model/_coordinate_descent.py:634: ConvergenceWarning: Objective did not converge. You might want to increase the number of iterations. Duality gap: 95.70401015095558, tolerance: 3.1607934413580248\n",
      "  model = cd_fast.enet_coordinate_descent_gram(\n",
      "/Users/17299765/git/github/ds-practise/ds-practise/lib/python3.9/site-packages/sklearn/linear_model/_coordinate_descent.py:634: ConvergenceWarning: Objective did not converge. You might want to increase the number of iterations. Duality gap: 126.08488662079617, tolerance: 3.1607934413580248\n",
      "  model = cd_fast.enet_coordinate_descent_gram(\n",
      "/Users/17299765/git/github/ds-practise/ds-practise/lib/python3.9/site-packages/sklearn/linear_model/_coordinate_descent.py:634: ConvergenceWarning: Objective did not converge. You might want to increase the number of iterations. Duality gap: 140.05072661321174, tolerance: 3.1607934413580248\n",
      "  model = cd_fast.enet_coordinate_descent_gram(\n",
      "/Users/17299765/git/github/ds-practise/ds-practise/lib/python3.9/site-packages/sklearn/linear_model/_coordinate_descent.py:634: ConvergenceWarning: Objective did not converge. You might want to increase the number of iterations. Duality gap: 143.86377231012375, tolerance: 3.1607934413580248\n",
      "  model = cd_fast.enet_coordinate_descent_gram(\n",
      "/Users/17299765/git/github/ds-practise/ds-practise/lib/python3.9/site-packages/sklearn/linear_model/_coordinate_descent.py:634: ConvergenceWarning: Objective did not converge. You might want to increase the number of iterations. Duality gap: 132.26680417349053, tolerance: 3.1607934413580248\n",
      "  model = cd_fast.enet_coordinate_descent_gram(\n",
      "/Users/17299765/git/github/ds-practise/ds-practise/lib/python3.9/site-packages/sklearn/linear_model/_coordinate_descent.py:634: ConvergenceWarning: Objective did not converge. You might want to increase the number of iterations. Duality gap: 128.96382371784784, tolerance: 3.1607934413580248\n",
      "  model = cd_fast.enet_coordinate_descent_gram(\n",
      "/Users/17299765/git/github/ds-practise/ds-practise/lib/python3.9/site-packages/sklearn/linear_model/_coordinate_descent.py:634: ConvergenceWarning: Objective did not converge. You might want to increase the number of iterations. Duality gap: 128.9068457989015, tolerance: 3.1607934413580248\n",
      "  model = cd_fast.enet_coordinate_descent_gram(\n",
      "/Users/17299765/git/github/ds-practise/ds-practise/lib/python3.9/site-packages/sklearn/linear_model/_coordinate_descent.py:634: ConvergenceWarning: Objective did not converge. You might want to increase the number of iterations. Duality gap: 138.24149175678394, tolerance: 3.1607934413580248\n",
      "  model = cd_fast.enet_coordinate_descent_gram(\n",
      "/Users/17299765/git/github/ds-practise/ds-practise/lib/python3.9/site-packages/sklearn/linear_model/_coordinate_descent.py:634: ConvergenceWarning: Objective did not converge. You might want to increase the number of iterations. Duality gap: 159.05134115049805, tolerance: 3.1607934413580248\n",
      "  model = cd_fast.enet_coordinate_descent_gram(\n",
      "/Users/17299765/git/github/ds-practise/ds-practise/lib/python3.9/site-packages/sklearn/linear_model/_coordinate_descent.py:634: ConvergenceWarning: Objective did not converge. You might want to increase the number of iterations. Duality gap: 3.79743328531913, tolerance: 3.0368624043209875\n",
      "  model = cd_fast.enet_coordinate_descent_gram(\n",
      "/Users/17299765/git/github/ds-practise/ds-practise/lib/python3.9/site-packages/sklearn/linear_model/_coordinate_descent.py:634: ConvergenceWarning: Objective did not converge. You might want to increase the number of iterations. Duality gap: 6.238660272723791, tolerance: 3.0368624043209875\n",
      "  model = cd_fast.enet_coordinate_descent_gram(\n",
      "/Users/17299765/git/github/ds-practise/ds-practise/lib/python3.9/site-packages/sklearn/linear_model/_coordinate_descent.py:634: ConvergenceWarning: Objective did not converge. You might want to increase the number of iterations. Duality gap: 5.3447972721733095, tolerance: 3.0368624043209875\n",
      "  model = cd_fast.enet_coordinate_descent_gram(\n",
      "/Users/17299765/git/github/ds-practise/ds-practise/lib/python3.9/site-packages/sklearn/linear_model/_coordinate_descent.py:634: ConvergenceWarning: Objective did not converge. You might want to increase the number of iterations. Duality gap: 4.8626041343704856, tolerance: 3.0368624043209875\n",
      "  model = cd_fast.enet_coordinate_descent_gram(\n",
      "/Users/17299765/git/github/ds-practise/ds-practise/lib/python3.9/site-packages/sklearn/linear_model/_coordinate_descent.py:634: ConvergenceWarning: Objective did not converge. You might want to increase the number of iterations. Duality gap: 4.474332231453445, tolerance: 3.0368624043209875\n",
      "  model = cd_fast.enet_coordinate_descent_gram(\n",
      "/Users/17299765/git/github/ds-practise/ds-practise/lib/python3.9/site-packages/sklearn/linear_model/_coordinate_descent.py:634: ConvergenceWarning: Objective did not converge. You might want to increase the number of iterations. Duality gap: 4.411750509498233, tolerance: 3.0368624043209875\n",
      "  model = cd_fast.enet_coordinate_descent_gram(\n",
      "/Users/17299765/git/github/ds-practise/ds-practise/lib/python3.9/site-packages/sklearn/linear_model/_coordinate_descent.py:634: ConvergenceWarning: Objective did not converge. You might want to increase the number of iterations. Duality gap: 4.335206288458721, tolerance: 3.0368624043209875\n",
      "  model = cd_fast.enet_coordinate_descent_gram(\n",
      "/Users/17299765/git/github/ds-practise/ds-practise/lib/python3.9/site-packages/sklearn/linear_model/_coordinate_descent.py:634: ConvergenceWarning: Objective did not converge. You might want to increase the number of iterations. Duality gap: 4.364237797562964, tolerance: 3.0368624043209875\n",
      "  model = cd_fast.enet_coordinate_descent_gram(\n",
      "/Users/17299765/git/github/ds-practise/ds-practise/lib/python3.9/site-packages/sklearn/linear_model/_coordinate_descent.py:634: ConvergenceWarning: Objective did not converge. You might want to increase the number of iterations. Duality gap: 4.504229151032632, tolerance: 3.0368624043209875\n",
      "  model = cd_fast.enet_coordinate_descent_gram(\n",
      "/Users/17299765/git/github/ds-practise/ds-practise/lib/python3.9/site-packages/sklearn/linear_model/_coordinate_descent.py:634: ConvergenceWarning: Objective did not converge. You might want to increase the number of iterations. Duality gap: 5.045055533289997, tolerance: 3.0368624043209875\n",
      "  model = cd_fast.enet_coordinate_descent_gram(\n",
      "/Users/17299765/git/github/ds-practise/ds-practise/lib/python3.9/site-packages/sklearn/linear_model/_coordinate_descent.py:634: ConvergenceWarning: Objective did not converge. You might want to increase the number of iterations. Duality gap: 19.93542890241588, tolerance: 3.0368624043209875\n",
      "  model = cd_fast.enet_coordinate_descent_gram(\n",
      "/Users/17299765/git/github/ds-practise/ds-practise/lib/python3.9/site-packages/sklearn/linear_model/_coordinate_descent.py:634: ConvergenceWarning: Objective did not converge. You might want to increase the number of iterations. Duality gap: 26.86741469513072, tolerance: 3.0368624043209875\n",
      "  model = cd_fast.enet_coordinate_descent_gram(\n",
      "/Users/17299765/git/github/ds-practise/ds-practise/lib/python3.9/site-packages/sklearn/linear_model/_coordinate_descent.py:634: ConvergenceWarning: Objective did not converge. You might want to increase the number of iterations. Duality gap: 31.07281502053229, tolerance: 3.0368624043209875\n",
      "  model = cd_fast.enet_coordinate_descent_gram(\n",
      "/Users/17299765/git/github/ds-practise/ds-practise/lib/python3.9/site-packages/sklearn/linear_model/_coordinate_descent.py:634: ConvergenceWarning: Objective did not converge. You might want to increase the number of iterations. Duality gap: 37.81849637655978, tolerance: 3.0368624043209875\n",
      "  model = cd_fast.enet_coordinate_descent_gram(\n",
      "/Users/17299765/git/github/ds-practise/ds-practise/lib/python3.9/site-packages/sklearn/linear_model/_coordinate_descent.py:634: ConvergenceWarning: Objective did not converge. You might want to increase the number of iterations. Duality gap: 41.47049765961128, tolerance: 3.0368624043209875\n",
      "  model = cd_fast.enet_coordinate_descent_gram(\n",
      "/Users/17299765/git/github/ds-practise/ds-practise/lib/python3.9/site-packages/sklearn/linear_model/_coordinate_descent.py:634: ConvergenceWarning: Objective did not converge. You might want to increase the number of iterations. Duality gap: 37.1458282073836, tolerance: 3.0368624043209875\n",
      "  model = cd_fast.enet_coordinate_descent_gram(\n",
      "/Users/17299765/git/github/ds-practise/ds-practise/lib/python3.9/site-packages/sklearn/linear_model/_coordinate_descent.py:634: ConvergenceWarning: Objective did not converge. You might want to increase the number of iterations. Duality gap: 36.30788371532253, tolerance: 3.0368624043209875\n",
      "  model = cd_fast.enet_coordinate_descent_gram(\n",
      "/Users/17299765/git/github/ds-practise/ds-practise/lib/python3.9/site-packages/sklearn/linear_model/_coordinate_descent.py:634: ConvergenceWarning: Objective did not converge. You might want to increase the number of iterations. Duality gap: 80.53210680354096, tolerance: 3.0368624043209875\n",
      "  model = cd_fast.enet_coordinate_descent_gram(\n",
      "/Users/17299765/git/github/ds-practise/ds-practise/lib/python3.9/site-packages/sklearn/linear_model/_coordinate_descent.py:634: ConvergenceWarning: Objective did not converge. You might want to increase the number of iterations. Duality gap: 161.9981978148753, tolerance: 3.0368624043209875\n",
      "  model = cd_fast.enet_coordinate_descent_gram(\n",
      "/Users/17299765/git/github/ds-practise/ds-practise/lib/python3.9/site-packages/sklearn/linear_model/_coordinate_descent.py:634: ConvergenceWarning: Objective did not converge. You might want to increase the number of iterations. Duality gap: 220.5667568004792, tolerance: 3.0368624043209875\n",
      "  model = cd_fast.enet_coordinate_descent_gram(\n",
      "/Users/17299765/git/github/ds-practise/ds-practise/lib/python3.9/site-packages/sklearn/linear_model/_coordinate_descent.py:634: ConvergenceWarning: Objective did not converge. You might want to increase the number of iterations. Duality gap: 254.37695237820844, tolerance: 3.0368624043209875\n",
      "  model = cd_fast.enet_coordinate_descent_gram(\n",
      "/Users/17299765/git/github/ds-practise/ds-practise/lib/python3.9/site-packages/sklearn/linear_model/_coordinate_descent.py:634: ConvergenceWarning: Objective did not converge. You might want to increase the number of iterations. Duality gap: 270.9202250301878, tolerance: 3.0368624043209875\n",
      "  model = cd_fast.enet_coordinate_descent_gram(\n",
      "/Users/17299765/git/github/ds-practise/ds-practise/lib/python3.9/site-packages/sklearn/linear_model/_coordinate_descent.py:634: ConvergenceWarning: Objective did not converge. You might want to increase the number of iterations. Duality gap: 134.409379667115, tolerance: 3.0368624043209875\n",
      "  model = cd_fast.enet_coordinate_descent_gram(\n",
      "/Users/17299765/git/github/ds-practise/ds-practise/lib/python3.9/site-packages/sklearn/linear_model/_coordinate_descent.py:634: ConvergenceWarning: Objective did not converge. You might want to increase the number of iterations. Duality gap: 134.12500193106098, tolerance: 3.0368624043209875\n",
      "  model = cd_fast.enet_coordinate_descent_gram(\n",
      "/Users/17299765/git/github/ds-practise/ds-practise/lib/python3.9/site-packages/sklearn/linear_model/_coordinate_descent.py:634: ConvergenceWarning: Objective did not converge. You might want to increase the number of iterations. Duality gap: 146.32524834502692, tolerance: 3.0368624043209875\n",
      "  model = cd_fast.enet_coordinate_descent_gram(\n",
      "/Users/17299765/git/github/ds-practise/ds-practise/lib/python3.9/site-packages/sklearn/linear_model/_coordinate_descent.py:634: ConvergenceWarning: Objective did not converge. You might want to increase the number of iterations. Duality gap: 215.62006932954137, tolerance: 3.0368624043209875\n",
      "  model = cd_fast.enet_coordinate_descent_gram(\n",
      "/Users/17299765/git/github/ds-practise/ds-practise/lib/python3.9/site-packages/sklearn/linear_model/_coordinate_descent.py:634: ConvergenceWarning: Objective did not converge. You might want to increase the number of iterations. Duality gap: 276.5489452375423, tolerance: 3.0368624043209875\n",
      "  model = cd_fast.enet_coordinate_descent_gram(\n",
      "/Users/17299765/git/github/ds-practise/ds-practise/lib/python3.9/site-packages/sklearn/linear_model/_coordinate_descent.py:634: ConvergenceWarning: Objective did not converge. You might want to increase the number of iterations. Duality gap: 3.406413719028933, tolerance: 2.38577024691358\n",
      "  model = cd_fast.enet_coordinate_descent_gram(\n",
      "/Users/17299765/git/github/ds-practise/ds-practise/lib/python3.9/site-packages/sklearn/linear_model/_coordinate_descent.py:634: ConvergenceWarning: Objective did not converge. You might want to increase the number of iterations. Duality gap: 3.722294619619788, tolerance: 2.38577024691358\n",
      "  model = cd_fast.enet_coordinate_descent_gram(\n",
      "/Users/17299765/git/github/ds-practise/ds-practise/lib/python3.9/site-packages/sklearn/linear_model/_coordinate_descent.py:634: ConvergenceWarning: Objective did not converge. You might want to increase the number of iterations. Duality gap: 3.839972389196191, tolerance: 2.38577024691358\n",
      "  model = cd_fast.enet_coordinate_descent_gram(\n",
      "/Users/17299765/git/github/ds-practise/ds-practise/lib/python3.9/site-packages/sklearn/linear_model/_coordinate_descent.py:634: ConvergenceWarning: Objective did not converge. You might want to increase the number of iterations. Duality gap: 3.8279350269713177, tolerance: 2.38577024691358\n",
      "  model = cd_fast.enet_coordinate_descent_gram(\n",
      "/Users/17299765/git/github/ds-practise/ds-practise/lib/python3.9/site-packages/sklearn/linear_model/_coordinate_descent.py:634: ConvergenceWarning: Objective did not converge. You might want to increase the number of iterations. Duality gap: 3.921040008914133, tolerance: 2.38577024691358\n",
      "  model = cd_fast.enet_coordinate_descent_gram(\n",
      "/Users/17299765/git/github/ds-practise/ds-practise/lib/python3.9/site-packages/sklearn/linear_model/_coordinate_descent.py:634: ConvergenceWarning: Objective did not converge. You might want to increase the number of iterations. Duality gap: 2.414466768685088, tolerance: 2.38577024691358\n",
      "  model = cd_fast.enet_coordinate_descent_gram(\n",
      "/Users/17299765/git/github/ds-practise/ds-practise/lib/python3.9/site-packages/sklearn/linear_model/_coordinate_descent.py:634: ConvergenceWarning: Objective did not converge. You might want to increase the number of iterations. Duality gap: 2.4120326731535897, tolerance: 2.38577024691358\n",
      "  model = cd_fast.enet_coordinate_descent_gram(\n",
      "/Users/17299765/git/github/ds-practise/ds-practise/lib/python3.9/site-packages/sklearn/linear_model/_coordinate_descent.py:634: ConvergenceWarning: Objective did not converge. You might want to increase the number of iterations. Duality gap: 2.414518492505522, tolerance: 2.38577024691358\n",
      "  model = cd_fast.enet_coordinate_descent_gram(\n",
      "/Users/17299765/git/github/ds-practise/ds-practise/lib/python3.9/site-packages/sklearn/linear_model/_coordinate_descent.py:634: ConvergenceWarning: Objective did not converge. You might want to increase the number of iterations. Duality gap: 2.395059291035068, tolerance: 2.38577024691358\n",
      "  model = cd_fast.enet_coordinate_descent_gram(\n",
      "/Users/17299765/git/github/ds-practise/ds-practise/lib/python3.9/site-packages/sklearn/linear_model/_coordinate_descent.py:634: ConvergenceWarning: Objective did not converge. You might want to increase the number of iterations. Duality gap: 2.892132746976131, tolerance: 2.38577024691358\n",
      "  model = cd_fast.enet_coordinate_descent_gram(\n",
      "/Users/17299765/git/github/ds-practise/ds-practise/lib/python3.9/site-packages/sklearn/linear_model/_coordinate_descent.py:634: ConvergenceWarning: Objective did not converge. You might want to increase the number of iterations. Duality gap: 2.7831179992626858, tolerance: 2.38577024691358\n",
      "  model = cd_fast.enet_coordinate_descent_gram(\n",
      "/Users/17299765/git/github/ds-practise/ds-practise/lib/python3.9/site-packages/sklearn/linear_model/_coordinate_descent.py:634: ConvergenceWarning: Objective did not converge. You might want to increase the number of iterations. Duality gap: 2.8973619085118116, tolerance: 2.38577024691358\n",
      "  model = cd_fast.enet_coordinate_descent_gram(\n",
      "/Users/17299765/git/github/ds-practise/ds-practise/lib/python3.9/site-packages/sklearn/linear_model/_coordinate_descent.py:634: ConvergenceWarning: Objective did not converge. You might want to increase the number of iterations. Duality gap: 2.792892789346297, tolerance: 2.38577024691358\n",
      "  model = cd_fast.enet_coordinate_descent_gram(\n",
      "/Users/17299765/git/github/ds-practise/ds-practise/lib/python3.9/site-packages/sklearn/linear_model/_coordinate_descent.py:634: ConvergenceWarning: Objective did not converge. You might want to increase the number of iterations. Duality gap: 2.708689627022977, tolerance: 2.38577024691358\n",
      "  model = cd_fast.enet_coordinate_descent_gram(\n",
      "/Users/17299765/git/github/ds-practise/ds-practise/lib/python3.9/site-packages/sklearn/linear_model/_coordinate_descent.py:634: ConvergenceWarning: Objective did not converge. You might want to increase the number of iterations. Duality gap: 16.345948464138928, tolerance: 2.38577024691358\n",
      "  model = cd_fast.enet_coordinate_descent_gram(\n",
      "/Users/17299765/git/github/ds-practise/ds-practise/lib/python3.9/site-packages/sklearn/linear_model/_coordinate_descent.py:634: ConvergenceWarning: Objective did not converge. You might want to increase the number of iterations. Duality gap: 47.213320986922554, tolerance: 2.38577024691358\n",
      "  model = cd_fast.enet_coordinate_descent_gram(\n",
      "/Users/17299765/git/github/ds-practise/ds-practise/lib/python3.9/site-packages/sklearn/linear_model/_coordinate_descent.py:634: ConvergenceWarning: Objective did not converge. You might want to increase the number of iterations. Duality gap: 129.90658678563705, tolerance: 2.38577024691358\n",
      "  model = cd_fast.enet_coordinate_descent_gram(\n",
      "/Users/17299765/git/github/ds-practise/ds-practise/lib/python3.9/site-packages/sklearn/linear_model/_coordinate_descent.py:634: ConvergenceWarning: Objective did not converge. You might want to increase the number of iterations. Duality gap: 202.81938245894344, tolerance: 2.38577024691358\n",
      "  model = cd_fast.enet_coordinate_descent_gram(\n",
      "/Users/17299765/git/github/ds-practise/ds-practise/lib/python3.9/site-packages/sklearn/linear_model/_coordinate_descent.py:634: ConvergenceWarning: Objective did not converge. You might want to increase the number of iterations. Duality gap: 256.44281883288204, tolerance: 2.38577024691358\n",
      "  model = cd_fast.enet_coordinate_descent_gram(\n",
      "/Users/17299765/git/github/ds-practise/ds-practise/lib/python3.9/site-packages/sklearn/linear_model/_coordinate_descent.py:634: ConvergenceWarning: Objective did not converge. You might want to increase the number of iterations. Duality gap: 278.6829342541114, tolerance: 2.38577024691358\n",
      "  model = cd_fast.enet_coordinate_descent_gram(\n",
      "/Users/17299765/git/github/ds-practise/ds-practise/lib/python3.9/site-packages/sklearn/linear_model/_coordinate_descent.py:634: ConvergenceWarning: Objective did not converge. You might want to increase the number of iterations. Duality gap: 294.0378987087988, tolerance: 2.38577024691358\n",
      "  model = cd_fast.enet_coordinate_descent_gram(\n",
      "/Users/17299765/git/github/ds-practise/ds-practise/lib/python3.9/site-packages/sklearn/linear_model/_coordinate_descent.py:634: ConvergenceWarning: Objective did not converge. You might want to increase the number of iterations. Duality gap: 307.7389484251016, tolerance: 2.38577024691358\n",
      "  model = cd_fast.enet_coordinate_descent_gram(\n",
      "/Users/17299765/git/github/ds-practise/ds-practise/lib/python3.9/site-packages/sklearn/linear_model/_coordinate_descent.py:634: ConvergenceWarning: Objective did not converge. You might want to increase the number of iterations. Duality gap: 6.293306640061928, tolerance: 2.7054198024691356\n",
      "  model = cd_fast.enet_coordinate_descent_gram(\n",
      "/Users/17299765/git/github/ds-practise/ds-practise/lib/python3.9/site-packages/sklearn/linear_model/_coordinate_descent.py:634: ConvergenceWarning: Objective did not converge. You might want to increase the number of iterations. Duality gap: 14.36770504074957, tolerance: 2.7054198024691356\n",
      "  model = cd_fast.enet_coordinate_descent_gram(\n",
      "/Users/17299765/git/github/ds-practise/ds-practise/lib/python3.9/site-packages/sklearn/linear_model/_coordinate_descent.py:634: ConvergenceWarning: Objective did not converge. You might want to increase the number of iterations. Duality gap: 23.116366409914917, tolerance: 2.7054198024691356\n",
      "  model = cd_fast.enet_coordinate_descent_gram(\n",
      "/Users/17299765/git/github/ds-practise/ds-practise/lib/python3.9/site-packages/sklearn/linear_model/_coordinate_descent.py:634: ConvergenceWarning: Objective did not converge. You might want to increase the number of iterations. Duality gap: 32.80481265569324, tolerance: 2.7054198024691356\n",
      "  model = cd_fast.enet_coordinate_descent_gram(\n",
      "/Users/17299765/git/github/ds-practise/ds-practise/lib/python3.9/site-packages/sklearn/linear_model/_coordinate_descent.py:634: ConvergenceWarning: Objective did not converge. You might want to increase the number of iterations. Duality gap: 5.421993747757369, tolerance: 2.7054198024691356\n",
      "  model = cd_fast.enet_coordinate_descent_gram(\n",
      "/Users/17299765/git/github/ds-practise/ds-practise/lib/python3.9/site-packages/sklearn/linear_model/_coordinate_descent.py:634: ConvergenceWarning: Objective did not converge. You might want to increase the number of iterations. Duality gap: 5.450190213603491, tolerance: 2.7054198024691356\n",
      "  model = cd_fast.enet_coordinate_descent_gram(\n",
      "/Users/17299765/git/github/ds-practise/ds-practise/lib/python3.9/site-packages/sklearn/linear_model/_coordinate_descent.py:634: ConvergenceWarning: Objective did not converge. You might want to increase the number of iterations. Duality gap: 24.32075180476386, tolerance: 2.7054198024691356\n",
      "  model = cd_fast.enet_coordinate_descent_gram(\n",
      "/Users/17299765/git/github/ds-practise/ds-practise/lib/python3.9/site-packages/sklearn/linear_model/_coordinate_descent.py:634: ConvergenceWarning: Objective did not converge. You might want to increase the number of iterations. Duality gap: 8.493503477220656, tolerance: 2.7054198024691356\n",
      "  model = cd_fast.enet_coordinate_descent_gram(\n",
      "/Users/17299765/git/github/ds-practise/ds-practise/lib/python3.9/site-packages/sklearn/linear_model/_coordinate_descent.py:634: ConvergenceWarning: Objective did not converge. You might want to increase the number of iterations. Duality gap: 8.918312604590028, tolerance: 2.7054198024691356\n",
      "  model = cd_fast.enet_coordinate_descent_gram(\n",
      "/Users/17299765/git/github/ds-practise/ds-practise/lib/python3.9/site-packages/sklearn/linear_model/_coordinate_descent.py:634: ConvergenceWarning: Objective did not converge. You might want to increase the number of iterations. Duality gap: 7.212225955288886, tolerance: 2.7054198024691356\n",
      "  model = cd_fast.enet_coordinate_descent_gram(\n",
      "/Users/17299765/git/github/ds-practise/ds-practise/lib/python3.9/site-packages/sklearn/linear_model/_coordinate_descent.py:634: ConvergenceWarning: Objective did not converge. You might want to increase the number of iterations. Duality gap: 6.139375231592567, tolerance: 2.7054198024691356\n",
      "  model = cd_fast.enet_coordinate_descent_gram(\n",
      "/Users/17299765/git/github/ds-practise/ds-practise/lib/python3.9/site-packages/sklearn/linear_model/_coordinate_descent.py:634: ConvergenceWarning: Objective did not converge. You might want to increase the number of iterations. Duality gap: 7.8200307617516955, tolerance: 2.7054198024691356\n",
      "  model = cd_fast.enet_coordinate_descent_gram(\n",
      "/Users/17299765/git/github/ds-practise/ds-practise/lib/python3.9/site-packages/sklearn/linear_model/_coordinate_descent.py:634: ConvergenceWarning: Objective did not converge. You might want to increase the number of iterations. Duality gap: 26.07134490779572, tolerance: 2.7054198024691356\n",
      "  model = cd_fast.enet_coordinate_descent_gram(\n",
      "/Users/17299765/git/github/ds-practise/ds-practise/lib/python3.9/site-packages/sklearn/linear_model/_coordinate_descent.py:634: ConvergenceWarning: Objective did not converge. You might want to increase the number of iterations. Duality gap: 30.363048416282254, tolerance: 2.7054198024691356\n",
      "  model = cd_fast.enet_coordinate_descent_gram(\n",
      "/Users/17299765/git/github/ds-practise/ds-practise/lib/python3.9/site-packages/sklearn/linear_model/_coordinate_descent.py:634: ConvergenceWarning: Objective did not converge. You might want to increase the number of iterations. Duality gap: 32.716042294341605, tolerance: 2.7054198024691356\n",
      "  model = cd_fast.enet_coordinate_descent_gram(\n",
      "/Users/17299765/git/github/ds-practise/ds-practise/lib/python3.9/site-packages/sklearn/linear_model/_coordinate_descent.py:634: ConvergenceWarning: Objective did not converge. You might want to increase the number of iterations. Duality gap: 31.965005030826433, tolerance: 2.7054198024691356\n",
      "  model = cd_fast.enet_coordinate_descent_gram(\n",
      "/Users/17299765/git/github/ds-practise/ds-practise/lib/python3.9/site-packages/sklearn/linear_model/_coordinate_descent.py:634: ConvergenceWarning: Objective did not converge. You might want to increase the number of iterations. Duality gap: 31.082588863206183, tolerance: 2.7054198024691356\n",
      "  model = cd_fast.enet_coordinate_descent_gram(\n",
      "/Users/17299765/git/github/ds-practise/ds-practise/lib/python3.9/site-packages/sklearn/linear_model/_coordinate_descent.py:634: ConvergenceWarning: Objective did not converge. You might want to increase the number of iterations. Duality gap: 30.202972659259103, tolerance: 2.7054198024691356\n",
      "  model = cd_fast.enet_coordinate_descent_gram(\n",
      "/Users/17299765/git/github/ds-practise/ds-practise/lib/python3.9/site-packages/sklearn/linear_model/_coordinate_descent.py:634: ConvergenceWarning: Objective did not converge. You might want to increase the number of iterations. Duality gap: 25.883937270042225, tolerance: 2.7054198024691356\n",
      "  model = cd_fast.enet_coordinate_descent_gram(\n",
      "/Users/17299765/git/github/ds-practise/ds-practise/lib/python3.9/site-packages/sklearn/linear_model/_coordinate_descent.py:634: ConvergenceWarning: Objective did not converge. You might want to increase the number of iterations. Duality gap: 25.954202151428035, tolerance: 2.7054198024691356\n",
      "  model = cd_fast.enet_coordinate_descent_gram(\n",
      "/Users/17299765/git/github/ds-practise/ds-practise/lib/python3.9/site-packages/sklearn/linear_model/_coordinate_descent.py:634: ConvergenceWarning: Objective did not converge. You might want to increase the number of iterations. Duality gap: 515.0303342022562, tolerance: 2.7054198024691356\n",
      "  model = cd_fast.enet_coordinate_descent_gram(\n",
      "/Users/17299765/git/github/ds-practise/ds-practise/lib/python3.9/site-packages/sklearn/linear_model/_coordinate_descent.py:634: ConvergenceWarning: Objective did not converge. You might want to increase the number of iterations. Duality gap: 1210.6004922519824, tolerance: 2.7054198024691356\n",
      "  model = cd_fast.enet_coordinate_descent_gram(\n",
      "/Users/17299765/git/github/ds-practise/ds-practise/lib/python3.9/site-packages/sklearn/linear_model/_coordinate_descent.py:634: ConvergenceWarning: Objective did not converge. You might want to increase the number of iterations. Duality gap: 1596.865778312309, tolerance: 2.7054198024691356\n",
      "  model = cd_fast.enet_coordinate_descent_gram(\n",
      "/Users/17299765/git/github/ds-practise/ds-practise/lib/python3.9/site-packages/sklearn/linear_model/_coordinate_descent.py:634: ConvergenceWarning: Objective did not converge. You might want to increase the number of iterations. Duality gap: 1769.1845036165269, tolerance: 2.7054198024691356\n",
      "  model = cd_fast.enet_coordinate_descent_gram(\n",
      "/Users/17299765/git/github/ds-practise/ds-practise/lib/python3.9/site-packages/sklearn/linear_model/_coordinate_descent.py:634: ConvergenceWarning: Objective did not converge. You might want to increase the number of iterations. Duality gap: 1849.464016962138, tolerance: 2.7054198024691356\n",
      "  model = cd_fast.enet_coordinate_descent_gram(\n",
      "/Users/17299765/git/github/ds-practise/ds-practise/lib/python3.9/site-packages/sklearn/linear_model/_coordinate_descent.py:634: ConvergenceWarning: Objective did not converge. You might want to increase the number of iterations. Duality gap: 5.624299837407307, tolerance: 2.4347806172839506\n",
      "  model = cd_fast.enet_coordinate_descent_gram(\n",
      "/Users/17299765/git/github/ds-practise/ds-practise/lib/python3.9/site-packages/sklearn/linear_model/_coordinate_descent.py:634: ConvergenceWarning: Objective did not converge. You might want to increase the number of iterations. Duality gap: 2.449240041349185, tolerance: 2.4347806172839506\n",
      "  model = cd_fast.enet_coordinate_descent_gram(\n",
      "/Users/17299765/git/github/ds-practise/ds-practise/lib/python3.9/site-packages/sklearn/linear_model/_coordinate_descent.py:634: ConvergenceWarning: Objective did not converge. You might want to increase the number of iterations. Duality gap: 4.769116205385217, tolerance: 2.4347806172839506\n",
      "  model = cd_fast.enet_coordinate_descent_gram(\n",
      "/Users/17299765/git/github/ds-practise/ds-practise/lib/python3.9/site-packages/sklearn/linear_model/_coordinate_descent.py:634: ConvergenceWarning: Objective did not converge. You might want to increase the number of iterations. Duality gap: 3.508595645736932, tolerance: 2.4347806172839506\n",
      "  model = cd_fast.enet_coordinate_descent_gram(\n",
      "/Users/17299765/git/github/ds-practise/ds-practise/lib/python3.9/site-packages/sklearn/linear_model/_coordinate_descent.py:634: ConvergenceWarning: Objective did not converge. You might want to increase the number of iterations. Duality gap: 4.617275763208454, tolerance: 2.4347806172839506\n",
      "  model = cd_fast.enet_coordinate_descent_gram(\n",
      "/Users/17299765/git/github/ds-practise/ds-practise/lib/python3.9/site-packages/sklearn/linear_model/_coordinate_descent.py:634: ConvergenceWarning: Objective did not converge. You might want to increase the number of iterations. Duality gap: 8.338235360643012, tolerance: 2.4347806172839506\n",
      "  model = cd_fast.enet_coordinate_descent_gram(\n",
      "/Users/17299765/git/github/ds-practise/ds-practise/lib/python3.9/site-packages/sklearn/linear_model/_coordinate_descent.py:634: ConvergenceWarning: Objective did not converge. You might want to increase the number of iterations. Duality gap: 30.905024518646314, tolerance: 2.4347806172839506\n",
      "  model = cd_fast.enet_coordinate_descent_gram(\n",
      "/Users/17299765/git/github/ds-practise/ds-practise/lib/python3.9/site-packages/sklearn/linear_model/_coordinate_descent.py:634: ConvergenceWarning: Objective did not converge. You might want to increase the number of iterations. Duality gap: 32.67377733288777, tolerance: 2.4347806172839506\n",
      "  model = cd_fast.enet_coordinate_descent_gram(\n",
      "/Users/17299765/git/github/ds-practise/ds-practise/lib/python3.9/site-packages/sklearn/linear_model/_coordinate_descent.py:634: ConvergenceWarning: Objective did not converge. You might want to increase the number of iterations. Duality gap: 32.27351414576151, tolerance: 2.4347806172839506\n",
      "  model = cd_fast.enet_coordinate_descent_gram(\n",
      "/Users/17299765/git/github/ds-practise/ds-practise/lib/python3.9/site-packages/sklearn/linear_model/_coordinate_descent.py:634: ConvergenceWarning: Objective did not converge. You might want to increase the number of iterations. Duality gap: 36.55586221528756, tolerance: 2.4347806172839506\n",
      "  model = cd_fast.enet_coordinate_descent_gram(\n",
      "/Users/17299765/git/github/ds-practise/ds-practise/lib/python3.9/site-packages/sklearn/linear_model/_coordinate_descent.py:634: ConvergenceWarning: Objective did not converge. You might want to increase the number of iterations. Duality gap: 47.884964401326215, tolerance: 2.4347806172839506\n",
      "  model = cd_fast.enet_coordinate_descent_gram(\n",
      "/Users/17299765/git/github/ds-practise/ds-practise/lib/python3.9/site-packages/sklearn/linear_model/_coordinate_descent.py:634: ConvergenceWarning: Objective did not converge. You might want to increase the number of iterations. Duality gap: 80.96245569910388, tolerance: 2.4347806172839506\n",
      "  model = cd_fast.enet_coordinate_descent_gram(\n",
      "/Users/17299765/git/github/ds-practise/ds-practise/lib/python3.9/site-packages/sklearn/linear_model/_coordinate_descent.py:634: ConvergenceWarning: Objective did not converge. You might want to increase the number of iterations. Duality gap: 105.25073104771582, tolerance: 2.4347806172839506\n",
      "  model = cd_fast.enet_coordinate_descent_gram(\n",
      "/Users/17299765/git/github/ds-practise/ds-practise/lib/python3.9/site-packages/sklearn/linear_model/_coordinate_descent.py:634: ConvergenceWarning: Objective did not converge. You might want to increase the number of iterations. Duality gap: 121.53137142725245, tolerance: 2.4347806172839506\n",
      "  model = cd_fast.enet_coordinate_descent_gram(\n",
      "/Users/17299765/git/github/ds-practise/ds-practise/lib/python3.9/site-packages/sklearn/linear_model/_coordinate_descent.py:634: ConvergenceWarning: Objective did not converge. You might want to increase the number of iterations. Duality gap: 124.63170737954533, tolerance: 2.4347806172839506\n",
      "  model = cd_fast.enet_coordinate_descent_gram(\n",
      "/Users/17299765/git/github/ds-practise/ds-practise/lib/python3.9/site-packages/sklearn/linear_model/_coordinate_descent.py:634: ConvergenceWarning: Objective did not converge. You might want to increase the number of iterations. Duality gap: 125.43895359544695, tolerance: 2.4347806172839506\n",
      "  model = cd_fast.enet_coordinate_descent_gram(\n",
      "/Users/17299765/git/github/ds-practise/ds-practise/lib/python3.9/site-packages/sklearn/linear_model/_coordinate_descent.py:634: ConvergenceWarning: Objective did not converge. You might want to increase the number of iterations. Duality gap: 122.87658563646983, tolerance: 2.4347806172839506\n",
      "  model = cd_fast.enet_coordinate_descent_gram(\n",
      "/Users/17299765/git/github/ds-practise/ds-practise/lib/python3.9/site-packages/sklearn/linear_model/_coordinate_descent.py:634: ConvergenceWarning: Objective did not converge. You might want to increase the number of iterations. Duality gap: 119.44695813679937, tolerance: 2.4347806172839506\n",
      "  model = cd_fast.enet_coordinate_descent_gram(\n",
      "/Users/17299765/git/github/ds-practise/ds-practise/lib/python3.9/site-packages/sklearn/linear_model/_coordinate_descent.py:634: ConvergenceWarning: Objective did not converge. You might want to increase the number of iterations. Duality gap: 124.93066914250448, tolerance: 2.4347806172839506\n",
      "  model = cd_fast.enet_coordinate_descent_gram(\n",
      "/Users/17299765/git/github/ds-practise/ds-practise/lib/python3.9/site-packages/sklearn/linear_model/_coordinate_descent.py:634: ConvergenceWarning: Objective did not converge. You might want to increase the number of iterations. Duality gap: 116.28994175302068, tolerance: 2.4347806172839506\n",
      "  model = cd_fast.enet_coordinate_descent_gram(\n",
      "/Users/17299765/git/github/ds-practise/ds-practise/lib/python3.9/site-packages/sklearn/linear_model/_coordinate_descent.py:634: ConvergenceWarning: Objective did not converge. You might want to increase the number of iterations. Duality gap: 83.89282175966582, tolerance: 2.4347806172839506\n",
      "  model = cd_fast.enet_coordinate_descent_gram(\n",
      "/Users/17299765/git/github/ds-practise/ds-practise/lib/python3.9/site-packages/sklearn/linear_model/_coordinate_descent.py:634: ConvergenceWarning: Objective did not converge. You might want to increase the number of iterations. Duality gap: 121.34206484022434, tolerance: 2.4347806172839506\n",
      "  model = cd_fast.enet_coordinate_descent_gram(\n",
      "/Users/17299765/git/github/ds-practise/ds-practise/lib/python3.9/site-packages/sklearn/linear_model/_coordinate_descent.py:634: ConvergenceWarning: Objective did not converge. You might want to increase the number of iterations. Duality gap: 159.66742499001157, tolerance: 2.4347806172839506\n",
      "  model = cd_fast.enet_coordinate_descent_gram(\n"
     ]
    },
    {
     "data": {
      "text/plain": "-2.429411562364625"
     },
     "execution_count": 1385,
     "metadata": {},
     "output_type": "execute_result"
    }
   ],
   "source": [
    "pp = Pipeline(steps=[('scaler', StandardScaler()),('transform', PolynomialFeatures()), ('LassoCV', LassoCV())])\n",
    "pp.fit(learn_df, learn_y)\n",
    "predicted = pp.predict(test_df)\n",
    "r2_score(test_y, predicted)"
   ]
  },
  {
   "cell_type": "code",
   "execution_count": 1386,
   "metadata": {},
   "outputs": [
    {
     "name": "stderr",
     "output_type": "stream",
     "text": [
      "/Users/17299765/git/github/ds-practise/ds-practise/lib/python3.9/site-packages/sklearn/linear_model/_coordinate_descent.py:634: ConvergenceWarning: Objective did not converge. You might want to increase the number of iterations. Duality gap: 15.60232512096627, tolerance: 3.1607934413580248\n",
      "  model = cd_fast.enet_coordinate_descent_gram(\n",
      "/Users/17299765/git/github/ds-practise/ds-practise/lib/python3.9/site-packages/sklearn/linear_model/_coordinate_descent.py:634: ConvergenceWarning: Objective did not converge. You might want to increase the number of iterations. Duality gap: 27.510849290953047, tolerance: 3.1607934413580248\n",
      "  model = cd_fast.enet_coordinate_descent_gram(\n",
      "/Users/17299765/git/github/ds-practise/ds-practise/lib/python3.9/site-packages/sklearn/linear_model/_coordinate_descent.py:634: ConvergenceWarning: Objective did not converge. You might want to increase the number of iterations. Duality gap: 19.684963618812617, tolerance: 3.1607934413580248\n",
      "  model = cd_fast.enet_coordinate_descent_gram(\n",
      "/Users/17299765/git/github/ds-practise/ds-practise/lib/python3.9/site-packages/sklearn/linear_model/_coordinate_descent.py:634: ConvergenceWarning: Objective did not converge. You might want to increase the number of iterations. Duality gap: 35.13862760073971, tolerance: 3.1607934413580248\n",
      "  model = cd_fast.enet_coordinate_descent_gram(\n",
      "/Users/17299765/git/github/ds-practise/ds-practise/lib/python3.9/site-packages/sklearn/linear_model/_coordinate_descent.py:634: ConvergenceWarning: Objective did not converge. You might want to increase the number of iterations. Duality gap: 79.34211305413555, tolerance: 3.1607934413580248\n",
      "  model = cd_fast.enet_coordinate_descent_gram(\n",
      "/Users/17299765/git/github/ds-practise/ds-practise/lib/python3.9/site-packages/sklearn/linear_model/_coordinate_descent.py:634: ConvergenceWarning: Objective did not converge. You might want to increase the number of iterations. Duality gap: 84.35114663372224, tolerance: 3.1607934413580248\n",
      "  model = cd_fast.enet_coordinate_descent_gram(\n",
      "/Users/17299765/git/github/ds-practise/ds-practise/lib/python3.9/site-packages/sklearn/linear_model/_coordinate_descent.py:634: ConvergenceWarning: Objective did not converge. You might want to increase the number of iterations. Duality gap: 105.63274821865343, tolerance: 3.1607934413580248\n",
      "  model = cd_fast.enet_coordinate_descent_gram(\n",
      "/Users/17299765/git/github/ds-practise/ds-practise/lib/python3.9/site-packages/sklearn/linear_model/_coordinate_descent.py:634: ConvergenceWarning: Objective did not converge. You might want to increase the number of iterations. Duality gap: 97.82269711956178, tolerance: 3.1607934413580248\n",
      "  model = cd_fast.enet_coordinate_descent_gram(\n",
      "/Users/17299765/git/github/ds-practise/ds-practise/lib/python3.9/site-packages/sklearn/linear_model/_coordinate_descent.py:634: ConvergenceWarning: Objective did not converge. You might want to increase the number of iterations. Duality gap: 120.22996718469221, tolerance: 3.1607934413580248\n",
      "  model = cd_fast.enet_coordinate_descent_gram(\n",
      "/Users/17299765/git/github/ds-practise/ds-practise/lib/python3.9/site-packages/sklearn/linear_model/_coordinate_descent.py:634: ConvergenceWarning: Objective did not converge. You might want to increase the number of iterations. Duality gap: 234.38010862358715, tolerance: 3.1607934413580248\n",
      "  model = cd_fast.enet_coordinate_descent_gram(\n",
      "/Users/17299765/git/github/ds-practise/ds-practise/lib/python3.9/site-packages/sklearn/linear_model/_coordinate_descent.py:634: ConvergenceWarning: Objective did not converge. You might want to increase the number of iterations. Duality gap: 405.88893536632895, tolerance: 3.1607934413580248\n",
      "  model = cd_fast.enet_coordinate_descent_gram(\n",
      "/Users/17299765/git/github/ds-practise/ds-practise/lib/python3.9/site-packages/sklearn/linear_model/_coordinate_descent.py:634: ConvergenceWarning: Objective did not converge. You might want to increase the number of iterations. Duality gap: 669.5366456453958, tolerance: 3.1607934413580248\n",
      "  model = cd_fast.enet_coordinate_descent_gram(\n",
      "/Users/17299765/git/github/ds-practise/ds-practise/lib/python3.9/site-packages/sklearn/linear_model/_coordinate_descent.py:634: ConvergenceWarning: Objective did not converge. You might want to increase the number of iterations. Duality gap: 944.0073238564546, tolerance: 3.1607934413580248\n",
      "  model = cd_fast.enet_coordinate_descent_gram(\n",
      "/Users/17299765/git/github/ds-practise/ds-practise/lib/python3.9/site-packages/sklearn/linear_model/_coordinate_descent.py:634: ConvergenceWarning: Objective did not converge. You might want to increase the number of iterations. Duality gap: 920.952306332696, tolerance: 3.1607934413580248\n",
      "  model = cd_fast.enet_coordinate_descent_gram(\n",
      "/Users/17299765/git/github/ds-practise/ds-practise/lib/python3.9/site-packages/sklearn/linear_model/_coordinate_descent.py:634: ConvergenceWarning: Objective did not converge. You might want to increase the number of iterations. Duality gap: 1089.609029175168, tolerance: 3.1607934413580248\n",
      "  model = cd_fast.enet_coordinate_descent_gram(\n",
      "/Users/17299765/git/github/ds-practise/ds-practise/lib/python3.9/site-packages/sklearn/linear_model/_coordinate_descent.py:634: ConvergenceWarning: Objective did not converge. You might want to increase the number of iterations. Duality gap: 1149.831337047901, tolerance: 3.1607934413580248\n",
      "  model = cd_fast.enet_coordinate_descent_gram(\n",
      "/Users/17299765/git/github/ds-practise/ds-practise/lib/python3.9/site-packages/sklearn/linear_model/_coordinate_descent.py:634: ConvergenceWarning: Objective did not converge. You might want to increase the number of iterations. Duality gap: 1063.6537930809282, tolerance: 3.1607934413580248\n",
      "  model = cd_fast.enet_coordinate_descent_gram(\n",
      "/Users/17299765/git/github/ds-practise/ds-practise/lib/python3.9/site-packages/sklearn/linear_model/_coordinate_descent.py:634: ConvergenceWarning: Objective did not converge. You might want to increase the number of iterations. Duality gap: 994.8326019957531, tolerance: 3.1607934413580248\n",
      "  model = cd_fast.enet_coordinate_descent_gram(\n",
      "/Users/17299765/git/github/ds-practise/ds-practise/lib/python3.9/site-packages/sklearn/linear_model/_coordinate_descent.py:634: ConvergenceWarning: Objective did not converge. You might want to increase the number of iterations. Duality gap: 1117.170022283688, tolerance: 3.1607934413580248\n",
      "  model = cd_fast.enet_coordinate_descent_gram(\n",
      "/Users/17299765/git/github/ds-practise/ds-practise/lib/python3.9/site-packages/sklearn/linear_model/_coordinate_descent.py:634: ConvergenceWarning: Objective did not converge. You might want to increase the number of iterations. Duality gap: 768.3922972059408, tolerance: 3.1607934413580248\n",
      "  model = cd_fast.enet_coordinate_descent_gram(\n",
      "/Users/17299765/git/github/ds-practise/ds-practise/lib/python3.9/site-packages/sklearn/linear_model/_coordinate_descent.py:634: ConvergenceWarning: Objective did not converge. You might want to increase the number of iterations. Duality gap: 818.9103189626039, tolerance: 3.1607934413580248\n",
      "  model = cd_fast.enet_coordinate_descent_gram(\n",
      "/Users/17299765/git/github/ds-practise/ds-practise/lib/python3.9/site-packages/sklearn/linear_model/_coordinate_descent.py:634: ConvergenceWarning: Objective did not converge. You might want to increase the number of iterations. Duality gap: 1008.248765055414, tolerance: 3.1607934413580248\n",
      "  model = cd_fast.enet_coordinate_descent_gram(\n",
      "/Users/17299765/git/github/ds-practise/ds-practise/lib/python3.9/site-packages/sklearn/linear_model/_coordinate_descent.py:634: ConvergenceWarning: Objective did not converge. You might want to increase the number of iterations. Duality gap: 1061.3502359719241, tolerance: 3.1607934413580248\n",
      "  model = cd_fast.enet_coordinate_descent_gram(\n",
      "/Users/17299765/git/github/ds-practise/ds-practise/lib/python3.9/site-packages/sklearn/linear_model/_coordinate_descent.py:634: ConvergenceWarning: Objective did not converge. You might want to increase the number of iterations. Duality gap: 1379.643986693798, tolerance: 3.1607934413580248\n",
      "  model = cd_fast.enet_coordinate_descent_gram(\n",
      "/Users/17299765/git/github/ds-practise/ds-practise/lib/python3.9/site-packages/sklearn/linear_model/_coordinate_descent.py:634: ConvergenceWarning: Objective did not converge. You might want to increase the number of iterations. Duality gap: 1665.5259029505723, tolerance: 3.1607934413580248\n",
      "  model = cd_fast.enet_coordinate_descent_gram(\n",
      "/Users/17299765/git/github/ds-practise/ds-practise/lib/python3.9/site-packages/sklearn/linear_model/_coordinate_descent.py:634: ConvergenceWarning: Objective did not converge. You might want to increase the number of iterations. Duality gap: 1851.530482905384, tolerance: 3.1607934413580248\n",
      "  model = cd_fast.enet_coordinate_descent_gram(\n",
      "/Users/17299765/git/github/ds-practise/ds-practise/lib/python3.9/site-packages/sklearn/linear_model/_coordinate_descent.py:634: ConvergenceWarning: Objective did not converge. You might want to increase the number of iterations. Duality gap: 1415.3890035133809, tolerance: 3.1607934413580248\n",
      "  model = cd_fast.enet_coordinate_descent_gram(\n",
      "/Users/17299765/git/github/ds-practise/ds-practise/lib/python3.9/site-packages/sklearn/linear_model/_coordinate_descent.py:634: ConvergenceWarning: Objective did not converge. You might want to increase the number of iterations. Duality gap: 1539.6375265594852, tolerance: 3.1607934413580248\n",
      "  model = cd_fast.enet_coordinate_descent_gram(\n",
      "/Users/17299765/git/github/ds-practise/ds-practise/lib/python3.9/site-packages/sklearn/linear_model/_coordinate_descent.py:634: ConvergenceWarning: Objective did not converge. You might want to increase the number of iterations. Duality gap: 1966.1618737164245, tolerance: 3.1607934413580248\n",
      "  model = cd_fast.enet_coordinate_descent_gram(\n",
      "/Users/17299765/git/github/ds-practise/ds-practise/lib/python3.9/site-packages/sklearn/linear_model/_coordinate_descent.py:634: ConvergenceWarning: Objective did not converge. You might want to increase the number of iterations. Duality gap: 2037.722410048409, tolerance: 3.1607934413580248\n",
      "  model = cd_fast.enet_coordinate_descent_gram(\n",
      "/Users/17299765/git/github/ds-practise/ds-practise/lib/python3.9/site-packages/sklearn/linear_model/_coordinate_descent.py:634: ConvergenceWarning: Objective did not converge. You might want to increase the number of iterations. Duality gap: 1625.8386012044102, tolerance: 3.1607934413580248\n",
      "  model = cd_fast.enet_coordinate_descent_gram(\n",
      "/Users/17299765/git/github/ds-practise/ds-practise/lib/python3.9/site-packages/sklearn/linear_model/_coordinate_descent.py:634: ConvergenceWarning: Objective did not converge. You might want to increase the number of iterations. Duality gap: 1567.3011696094145, tolerance: 3.1607934413580248\n",
      "  model = cd_fast.enet_coordinate_descent_gram(\n",
      "/Users/17299765/git/github/ds-practise/ds-practise/lib/python3.9/site-packages/sklearn/linear_model/_coordinate_descent.py:634: ConvergenceWarning: Objective did not converge. You might want to increase the number of iterations. Duality gap: 1965.5953036663159, tolerance: 3.1607934413580248\n",
      "  model = cd_fast.enet_coordinate_descent_gram(\n",
      "/Users/17299765/git/github/ds-practise/ds-practise/lib/python3.9/site-packages/sklearn/linear_model/_coordinate_descent.py:634: ConvergenceWarning: Objective did not converge. You might want to increase the number of iterations. Duality gap: 2427.23566759162, tolerance: 3.1607934413580248\n",
      "  model = cd_fast.enet_coordinate_descent_gram(\n",
      "/Users/17299765/git/github/ds-practise/ds-practise/lib/python3.9/site-packages/sklearn/linear_model/_coordinate_descent.py:634: ConvergenceWarning: Objective did not converge. You might want to increase the number of iterations. Duality gap: 2878.4904451231832, tolerance: 3.1607934413580248\n",
      "  model = cd_fast.enet_coordinate_descent_gram(\n",
      "/Users/17299765/git/github/ds-practise/ds-practise/lib/python3.9/site-packages/sklearn/linear_model/_coordinate_descent.py:634: ConvergenceWarning: Objective did not converge. You might want to increase the number of iterations. Duality gap: 3141.0795819423984, tolerance: 3.1607934413580248\n",
      "  model = cd_fast.enet_coordinate_descent_gram(\n",
      "/Users/17299765/git/github/ds-practise/ds-practise/lib/python3.9/site-packages/sklearn/linear_model/_coordinate_descent.py:634: ConvergenceWarning: Objective did not converge. You might want to increase the number of iterations. Duality gap: 3377.4709512595164, tolerance: 3.1607934413580248\n",
      "  model = cd_fast.enet_coordinate_descent_gram(\n",
      "/Users/17299765/git/github/ds-practise/ds-practise/lib/python3.9/site-packages/sklearn/linear_model/_coordinate_descent.py:634: ConvergenceWarning: Objective did not converge. You might want to increase the number of iterations. Duality gap: 3613.6914839729416, tolerance: 3.1607934413580248\n",
      "  model = cd_fast.enet_coordinate_descent_gram(\n",
      "/Users/17299765/git/github/ds-practise/ds-practise/lib/python3.9/site-packages/sklearn/linear_model/_coordinate_descent.py:634: ConvergenceWarning: Objective did not converge. You might want to increase the number of iterations. Duality gap: 3528.3801825082264, tolerance: 3.1607934413580248\n",
      "  model = cd_fast.enet_coordinate_descent_gram(\n",
      "/Users/17299765/git/github/ds-practise/ds-practise/lib/python3.9/site-packages/sklearn/linear_model/_coordinate_descent.py:634: ConvergenceWarning: Objective did not converge. You might want to increase the number of iterations. Duality gap: 3462.3898137532615, tolerance: 3.1607934413580248\n",
      "  model = cd_fast.enet_coordinate_descent_gram(\n",
      "/Users/17299765/git/github/ds-practise/ds-practise/lib/python3.9/site-packages/sklearn/linear_model/_coordinate_descent.py:634: ConvergenceWarning: Objective did not converge. You might want to increase the number of iterations. Duality gap: 3782.2264560439453, tolerance: 3.1607934413580248\n",
      "  model = cd_fast.enet_coordinate_descent_gram(\n",
      "/Users/17299765/git/github/ds-practise/ds-practise/lib/python3.9/site-packages/sklearn/linear_model/_coordinate_descent.py:634: ConvergenceWarning: Objective did not converge. You might want to increase the number of iterations. Duality gap: 4015.585316758711, tolerance: 3.1607934413580248\n",
      "  model = cd_fast.enet_coordinate_descent_gram(\n",
      "/Users/17299765/git/github/ds-practise/ds-practise/lib/python3.9/site-packages/sklearn/linear_model/_coordinate_descent.py:634: ConvergenceWarning: Objective did not converge. You might want to increase the number of iterations. Duality gap: 4192.826232171622, tolerance: 3.1607934413580248\n",
      "  model = cd_fast.enet_coordinate_descent_gram(\n",
      "/Users/17299765/git/github/ds-practise/ds-practise/lib/python3.9/site-packages/sklearn/linear_model/_coordinate_descent.py:634: ConvergenceWarning: Objective did not converge. You might want to increase the number of iterations. Duality gap: 8.649193488199671, tolerance: 3.0368624043209875\n",
      "  model = cd_fast.enet_coordinate_descent_gram(\n",
      "/Users/17299765/git/github/ds-practise/ds-practise/lib/python3.9/site-packages/sklearn/linear_model/_coordinate_descent.py:634: ConvergenceWarning: Objective did not converge. You might want to increase the number of iterations. Duality gap: 15.150765987425984, tolerance: 3.0368624043209875\n",
      "  model = cd_fast.enet_coordinate_descent_gram(\n",
      "/Users/17299765/git/github/ds-practise/ds-practise/lib/python3.9/site-packages/sklearn/linear_model/_coordinate_descent.py:634: ConvergenceWarning: Objective did not converge. You might want to increase the number of iterations. Duality gap: 10.823250316334452, tolerance: 3.0368624043209875\n",
      "  model = cd_fast.enet_coordinate_descent_gram(\n",
      "/Users/17299765/git/github/ds-practise/ds-practise/lib/python3.9/site-packages/sklearn/linear_model/_coordinate_descent.py:634: ConvergenceWarning: Objective did not converge. You might want to increase the number of iterations. Duality gap: 8.258259102320153, tolerance: 3.0368624043209875\n",
      "  model = cd_fast.enet_coordinate_descent_gram(\n",
      "/Users/17299765/git/github/ds-practise/ds-practise/lib/python3.9/site-packages/sklearn/linear_model/_coordinate_descent.py:634: ConvergenceWarning: Objective did not converge. You might want to increase the number of iterations. Duality gap: 7.608035711073171, tolerance: 3.0368624043209875\n",
      "  model = cd_fast.enet_coordinate_descent_gram(\n",
      "/Users/17299765/git/github/ds-practise/ds-practise/lib/python3.9/site-packages/sklearn/linear_model/_coordinate_descent.py:634: ConvergenceWarning: Objective did not converge. You might want to increase the number of iterations. Duality gap: 7.685882765454153, tolerance: 3.0368624043209875\n",
      "  model = cd_fast.enet_coordinate_descent_gram(\n",
      "/Users/17299765/git/github/ds-practise/ds-practise/lib/python3.9/site-packages/sklearn/linear_model/_coordinate_descent.py:634: ConvergenceWarning: Objective did not converge. You might want to increase the number of iterations. Duality gap: 20.893987583142007, tolerance: 3.0368624043209875\n",
      "  model = cd_fast.enet_coordinate_descent_gram(\n",
      "/Users/17299765/git/github/ds-practise/ds-practise/lib/python3.9/site-packages/sklearn/linear_model/_coordinate_descent.py:634: ConvergenceWarning: Objective did not converge. You might want to increase the number of iterations. Duality gap: 110.48225513776197, tolerance: 3.0368624043209875\n",
      "  model = cd_fast.enet_coordinate_descent_gram(\n",
      "/Users/17299765/git/github/ds-practise/ds-practise/lib/python3.9/site-packages/sklearn/linear_model/_coordinate_descent.py:634: ConvergenceWarning: Objective did not converge. You might want to increase the number of iterations. Duality gap: 194.14875335989927, tolerance: 3.0368624043209875\n",
      "  model = cd_fast.enet_coordinate_descent_gram(\n",
      "/Users/17299765/git/github/ds-practise/ds-practise/lib/python3.9/site-packages/sklearn/linear_model/_coordinate_descent.py:634: ConvergenceWarning: Objective did not converge. You might want to increase the number of iterations. Duality gap: 254.6449252518869, tolerance: 3.0368624043209875\n",
      "  model = cd_fast.enet_coordinate_descent_gram(\n",
      "/Users/17299765/git/github/ds-practise/ds-practise/lib/python3.9/site-packages/sklearn/linear_model/_coordinate_descent.py:634: ConvergenceWarning: Objective did not converge. You might want to increase the number of iterations. Duality gap: 287.2455663471301, tolerance: 3.0368624043209875\n",
      "  model = cd_fast.enet_coordinate_descent_gram(\n",
      "/Users/17299765/git/github/ds-practise/ds-practise/lib/python3.9/site-packages/sklearn/linear_model/_coordinate_descent.py:634: ConvergenceWarning: Objective did not converge. You might want to increase the number of iterations. Duality gap: 502.03421087999595, tolerance: 3.0368624043209875\n",
      "  model = cd_fast.enet_coordinate_descent_gram(\n",
      "/Users/17299765/git/github/ds-practise/ds-practise/lib/python3.9/site-packages/sklearn/linear_model/_coordinate_descent.py:634: ConvergenceWarning: Objective did not converge. You might want to increase the number of iterations. Duality gap: 506.41995523430523, tolerance: 3.0368624043209875\n",
      "  model = cd_fast.enet_coordinate_descent_gram(\n",
      "/Users/17299765/git/github/ds-practise/ds-practise/lib/python3.9/site-packages/sklearn/linear_model/_coordinate_descent.py:634: ConvergenceWarning: Objective did not converge. You might want to increase the number of iterations. Duality gap: 505.6439751734979, tolerance: 3.0368624043209875\n",
      "  model = cd_fast.enet_coordinate_descent_gram(\n",
      "/Users/17299765/git/github/ds-practise/ds-practise/lib/python3.9/site-packages/sklearn/linear_model/_coordinate_descent.py:634: ConvergenceWarning: Objective did not converge. You might want to increase the number of iterations. Duality gap: 481.6759201856221, tolerance: 3.0368624043209875\n",
      "  model = cd_fast.enet_coordinate_descent_gram(\n",
      "/Users/17299765/git/github/ds-practise/ds-practise/lib/python3.9/site-packages/sklearn/linear_model/_coordinate_descent.py:634: ConvergenceWarning: Objective did not converge. You might want to increase the number of iterations. Duality gap: 501.17986988011035, tolerance: 3.0368624043209875\n",
      "  model = cd_fast.enet_coordinate_descent_gram(\n",
      "/Users/17299765/git/github/ds-practise/ds-practise/lib/python3.9/site-packages/sklearn/linear_model/_coordinate_descent.py:634: ConvergenceWarning: Objective did not converge. You might want to increase the number of iterations. Duality gap: 534.6498890001712, tolerance: 3.0368624043209875\n",
      "  model = cd_fast.enet_coordinate_descent_gram(\n",
      "/Users/17299765/git/github/ds-practise/ds-practise/lib/python3.9/site-packages/sklearn/linear_model/_coordinate_descent.py:634: ConvergenceWarning: Objective did not converge. You might want to increase the number of iterations. Duality gap: 820.782494957246, tolerance: 3.0368624043209875\n",
      "  model = cd_fast.enet_coordinate_descent_gram(\n",
      "/Users/17299765/git/github/ds-practise/ds-practise/lib/python3.9/site-packages/sklearn/linear_model/_coordinate_descent.py:634: ConvergenceWarning: Objective did not converge. You might want to increase the number of iterations. Duality gap: 1089.6506593324266, tolerance: 3.0368624043209875\n",
      "  model = cd_fast.enet_coordinate_descent_gram(\n",
      "/Users/17299765/git/github/ds-practise/ds-practise/lib/python3.9/site-packages/sklearn/linear_model/_coordinate_descent.py:634: ConvergenceWarning: Objective did not converge. You might want to increase the number of iterations. Duality gap: 1278.6752730517146, tolerance: 3.0368624043209875\n",
      "  model = cd_fast.enet_coordinate_descent_gram(\n",
      "/Users/17299765/git/github/ds-practise/ds-practise/lib/python3.9/site-packages/sklearn/linear_model/_coordinate_descent.py:634: ConvergenceWarning: Objective did not converge. You might want to increase the number of iterations. Duality gap: 1288.3026346165243, tolerance: 3.0368624043209875\n",
      "  model = cd_fast.enet_coordinate_descent_gram(\n",
      "/Users/17299765/git/github/ds-practise/ds-practise/lib/python3.9/site-packages/sklearn/linear_model/_coordinate_descent.py:634: ConvergenceWarning: Objective did not converge. You might want to increase the number of iterations. Duality gap: 1304.6804962810384, tolerance: 3.0368624043209875\n",
      "  model = cd_fast.enet_coordinate_descent_gram(\n",
      "/Users/17299765/git/github/ds-practise/ds-practise/lib/python3.9/site-packages/sklearn/linear_model/_coordinate_descent.py:634: ConvergenceWarning: Objective did not converge. You might want to increase the number of iterations. Duality gap: 1251.9854117881132, tolerance: 3.0368624043209875\n",
      "  model = cd_fast.enet_coordinate_descent_gram(\n",
      "/Users/17299765/git/github/ds-practise/ds-practise/lib/python3.9/site-packages/sklearn/linear_model/_coordinate_descent.py:634: ConvergenceWarning: Objective did not converge. You might want to increase the number of iterations. Duality gap: 1190.2207453981246, tolerance: 3.0368624043209875\n",
      "  model = cd_fast.enet_coordinate_descent_gram(\n",
      "/Users/17299765/git/github/ds-practise/ds-practise/lib/python3.9/site-packages/sklearn/linear_model/_coordinate_descent.py:634: ConvergenceWarning: Objective did not converge. You might want to increase the number of iterations. Duality gap: 1202.3702490587493, tolerance: 3.0368624043209875\n",
      "  model = cd_fast.enet_coordinate_descent_gram(\n",
      "/Users/17299765/git/github/ds-practise/ds-practise/lib/python3.9/site-packages/sklearn/linear_model/_coordinate_descent.py:634: ConvergenceWarning: Objective did not converge. You might want to increase the number of iterations. Duality gap: 1204.9042513084041, tolerance: 3.0368624043209875\n",
      "  model = cd_fast.enet_coordinate_descent_gram(\n",
      "/Users/17299765/git/github/ds-practise/ds-practise/lib/python3.9/site-packages/sklearn/linear_model/_coordinate_descent.py:634: ConvergenceWarning: Objective did not converge. You might want to increase the number of iterations. Duality gap: 904.1832171035494, tolerance: 3.0368624043209875\n",
      "  model = cd_fast.enet_coordinate_descent_gram(\n",
      "/Users/17299765/git/github/ds-practise/ds-practise/lib/python3.9/site-packages/sklearn/linear_model/_coordinate_descent.py:634: ConvergenceWarning: Objective did not converge. You might want to increase the number of iterations. Duality gap: 942.6347894128121, tolerance: 3.0368624043209875\n",
      "  model = cd_fast.enet_coordinate_descent_gram(\n",
      "/Users/17299765/git/github/ds-practise/ds-practise/lib/python3.9/site-packages/sklearn/linear_model/_coordinate_descent.py:634: ConvergenceWarning: Objective did not converge. You might want to increase the number of iterations. Duality gap: 1331.485623131719, tolerance: 3.0368624043209875\n",
      "  model = cd_fast.enet_coordinate_descent_gram(\n",
      "/Users/17299765/git/github/ds-practise/ds-practise/lib/python3.9/site-packages/sklearn/linear_model/_coordinate_descent.py:634: ConvergenceWarning: Objective did not converge. You might want to increase the number of iterations. Duality gap: 1784.9414708327986, tolerance: 3.0368624043209875\n",
      "  model = cd_fast.enet_coordinate_descent_gram(\n",
      "/Users/17299765/git/github/ds-practise/ds-practise/lib/python3.9/site-packages/sklearn/linear_model/_coordinate_descent.py:634: ConvergenceWarning: Objective did not converge. You might want to increase the number of iterations. Duality gap: 1984.9390833979596, tolerance: 3.0368624043209875\n",
      "  model = cd_fast.enet_coordinate_descent_gram(\n",
      "/Users/17299765/git/github/ds-practise/ds-practise/lib/python3.9/site-packages/sklearn/linear_model/_coordinate_descent.py:634: ConvergenceWarning: Objective did not converge. You might want to increase the number of iterations. Duality gap: 2191.3605422696237, tolerance: 3.0368624043209875\n",
      "  model = cd_fast.enet_coordinate_descent_gram(\n",
      "/Users/17299765/git/github/ds-practise/ds-practise/lib/python3.9/site-packages/sklearn/linear_model/_coordinate_descent.py:634: ConvergenceWarning: Objective did not converge. You might want to increase the number of iterations. Duality gap: 2427.912994497452, tolerance: 3.0368624043209875\n",
      "  model = cd_fast.enet_coordinate_descent_gram(\n",
      "/Users/17299765/git/github/ds-practise/ds-practise/lib/python3.9/site-packages/sklearn/linear_model/_coordinate_descent.py:634: ConvergenceWarning: Objective did not converge. You might want to increase the number of iterations. Duality gap: 2540.9143067155674, tolerance: 3.0368624043209875\n",
      "  model = cd_fast.enet_coordinate_descent_gram(\n",
      "/Users/17299765/git/github/ds-practise/ds-practise/lib/python3.9/site-packages/sklearn/linear_model/_coordinate_descent.py:634: ConvergenceWarning: Objective did not converge. You might want to increase the number of iterations. Duality gap: 2415.6550462068644, tolerance: 3.0368624043209875\n",
      "  model = cd_fast.enet_coordinate_descent_gram(\n",
      "/Users/17299765/git/github/ds-practise/ds-practise/lib/python3.9/site-packages/sklearn/linear_model/_coordinate_descent.py:634: ConvergenceWarning: Objective did not converge. You might want to increase the number of iterations. Duality gap: 2356.697658479263, tolerance: 3.0368624043209875\n",
      "  model = cd_fast.enet_coordinate_descent_gram(\n",
      "/Users/17299765/git/github/ds-practise/ds-practise/lib/python3.9/site-packages/sklearn/linear_model/_coordinate_descent.py:634: ConvergenceWarning: Objective did not converge. You might want to increase the number of iterations. Duality gap: 2257.6321870673873, tolerance: 3.0368624043209875\n",
      "  model = cd_fast.enet_coordinate_descent_gram(\n",
      "/Users/17299765/git/github/ds-practise/ds-practise/lib/python3.9/site-packages/sklearn/linear_model/_coordinate_descent.py:634: ConvergenceWarning: Objective did not converge. You might want to increase the number of iterations. Duality gap: 2104.4534793154016, tolerance: 3.0368624043209875\n",
      "  model = cd_fast.enet_coordinate_descent_gram(\n",
      "/Users/17299765/git/github/ds-practise/ds-practise/lib/python3.9/site-packages/sklearn/linear_model/_coordinate_descent.py:634: ConvergenceWarning: Objective did not converge. You might want to increase the number of iterations. Duality gap: 2422.76305449973, tolerance: 3.0368624043209875\n",
      "  model = cd_fast.enet_coordinate_descent_gram(\n",
      "/Users/17299765/git/github/ds-practise/ds-practise/lib/python3.9/site-packages/sklearn/linear_model/_coordinate_descent.py:634: ConvergenceWarning: Objective did not converge. You might want to increase the number of iterations. Duality gap: 2676.525515809195, tolerance: 3.0368624043209875\n",
      "  model = cd_fast.enet_coordinate_descent_gram(\n",
      "/Users/17299765/git/github/ds-practise/ds-practise/lib/python3.9/site-packages/sklearn/linear_model/_coordinate_descent.py:634: ConvergenceWarning: Objective did not converge. You might want to increase the number of iterations. Duality gap: 2919.6750869204607, tolerance: 3.0368624043209875\n",
      "  model = cd_fast.enet_coordinate_descent_gram(\n",
      "/Users/17299765/git/github/ds-practise/ds-practise/lib/python3.9/site-packages/sklearn/linear_model/_coordinate_descent.py:634: ConvergenceWarning: Objective did not converge. You might want to increase the number of iterations. Duality gap: 3041.9023708541135, tolerance: 3.0368624043209875\n",
      "  model = cd_fast.enet_coordinate_descent_gram(\n",
      "/Users/17299765/git/github/ds-practise/ds-practise/lib/python3.9/site-packages/sklearn/linear_model/_coordinate_descent.py:634: ConvergenceWarning: Objective did not converge. You might want to increase the number of iterations. Duality gap: 3133.495761006854, tolerance: 3.0368624043209875\n",
      "  model = cd_fast.enet_coordinate_descent_gram(\n",
      "/Users/17299765/git/github/ds-practise/ds-practise/lib/python3.9/site-packages/sklearn/linear_model/_coordinate_descent.py:634: ConvergenceWarning: Objective did not converge. You might want to increase the number of iterations. Duality gap: 3118.641479308959, tolerance: 3.0368624043209875\n",
      "  model = cd_fast.enet_coordinate_descent_gram(\n",
      "/Users/17299765/git/github/ds-practise/ds-practise/lib/python3.9/site-packages/sklearn/linear_model/_coordinate_descent.py:634: ConvergenceWarning: Objective did not converge. You might want to increase the number of iterations. Duality gap: 3068.635540340061, tolerance: 3.0368624043209875\n",
      "  model = cd_fast.enet_coordinate_descent_gram(\n",
      "/Users/17299765/git/github/ds-practise/ds-practise/lib/python3.9/site-packages/sklearn/linear_model/_coordinate_descent.py:634: ConvergenceWarning: Objective did not converge. You might want to increase the number of iterations. Duality gap: 2992.1448912647065, tolerance: 3.0368624043209875\n",
      "  model = cd_fast.enet_coordinate_descent_gram(\n",
      "/Users/17299765/git/github/ds-practise/ds-practise/lib/python3.9/site-packages/sklearn/linear_model/_coordinate_descent.py:634: ConvergenceWarning: Objective did not converge. You might want to increase the number of iterations. Duality gap: 3053.8918964523255, tolerance: 3.0368624043209875\n",
      "  model = cd_fast.enet_coordinate_descent_gram(\n",
      "/Users/17299765/git/github/ds-practise/ds-practise/lib/python3.9/site-packages/sklearn/linear_model/_coordinate_descent.py:634: ConvergenceWarning: Objective did not converge. You might want to increase the number of iterations. Duality gap: 3.502291336990311, tolerance: 2.38577024691358\n",
      "  model = cd_fast.enet_coordinate_descent_gram(\n",
      "/Users/17299765/git/github/ds-practise/ds-practise/lib/python3.9/site-packages/sklearn/linear_model/_coordinate_descent.py:634: ConvergenceWarning: Objective did not converge. You might want to increase the number of iterations. Duality gap: 3.2479503706126707, tolerance: 2.38577024691358\n",
      "  model = cd_fast.enet_coordinate_descent_gram(\n",
      "/Users/17299765/git/github/ds-practise/ds-practise/lib/python3.9/site-packages/sklearn/linear_model/_coordinate_descent.py:634: ConvergenceWarning: Objective did not converge. You might want to increase the number of iterations. Duality gap: 6.0177560627198545, tolerance: 2.38577024691358\n",
      "  model = cd_fast.enet_coordinate_descent_gram(\n",
      "/Users/17299765/git/github/ds-practise/ds-practise/lib/python3.9/site-packages/sklearn/linear_model/_coordinate_descent.py:634: ConvergenceWarning: Objective did not converge. You might want to increase the number of iterations. Duality gap: 33.306375710719294, tolerance: 2.38577024691358\n",
      "  model = cd_fast.enet_coordinate_descent_gram(\n",
      "/Users/17299765/git/github/ds-practise/ds-practise/lib/python3.9/site-packages/sklearn/linear_model/_coordinate_descent.py:634: ConvergenceWarning: Objective did not converge. You might want to increase the number of iterations. Duality gap: 77.46385890058082, tolerance: 2.38577024691358\n",
      "  model = cd_fast.enet_coordinate_descent_gram(\n",
      "/Users/17299765/git/github/ds-practise/ds-practise/lib/python3.9/site-packages/sklearn/linear_model/_coordinate_descent.py:634: ConvergenceWarning: Objective did not converge. You might want to increase the number of iterations. Duality gap: 114.18105556500086, tolerance: 2.38577024691358\n",
      "  model = cd_fast.enet_coordinate_descent_gram(\n",
      "/Users/17299765/git/github/ds-practise/ds-practise/lib/python3.9/site-packages/sklearn/linear_model/_coordinate_descent.py:634: ConvergenceWarning: Objective did not converge. You might want to increase the number of iterations. Duality gap: 137.5097015787287, tolerance: 2.38577024691358\n",
      "  model = cd_fast.enet_coordinate_descent_gram(\n",
      "/Users/17299765/git/github/ds-practise/ds-practise/lib/python3.9/site-packages/sklearn/linear_model/_coordinate_descent.py:634: ConvergenceWarning: Objective did not converge. You might want to increase the number of iterations. Duality gap: 235.7693731007821, tolerance: 2.38577024691358\n",
      "  model = cd_fast.enet_coordinate_descent_gram(\n",
      "/Users/17299765/git/github/ds-practise/ds-practise/lib/python3.9/site-packages/sklearn/linear_model/_coordinate_descent.py:634: ConvergenceWarning: Objective did not converge. You might want to increase the number of iterations. Duality gap: 282.7595642800479, tolerance: 2.38577024691358\n",
      "  model = cd_fast.enet_coordinate_descent_gram(\n",
      "/Users/17299765/git/github/ds-practise/ds-practise/lib/python3.9/site-packages/sklearn/linear_model/_coordinate_descent.py:634: ConvergenceWarning: Objective did not converge. You might want to increase the number of iterations. Duality gap: 371.92725220321154, tolerance: 2.38577024691358\n",
      "  model = cd_fast.enet_coordinate_descent_gram(\n",
      "/Users/17299765/git/github/ds-practise/ds-practise/lib/python3.9/site-packages/sklearn/linear_model/_coordinate_descent.py:634: ConvergenceWarning: Objective did not converge. You might want to increase the number of iterations. Duality gap: 410.9845143331768, tolerance: 2.38577024691358\n",
      "  model = cd_fast.enet_coordinate_descent_gram(\n",
      "/Users/17299765/git/github/ds-practise/ds-practise/lib/python3.9/site-packages/sklearn/linear_model/_coordinate_descent.py:634: ConvergenceWarning: Objective did not converge. You might want to increase the number of iterations. Duality gap: 388.1544398478145, tolerance: 2.38577024691358\n",
      "  model = cd_fast.enet_coordinate_descent_gram(\n",
      "/Users/17299765/git/github/ds-practise/ds-practise/lib/python3.9/site-packages/sklearn/linear_model/_coordinate_descent.py:634: ConvergenceWarning: Objective did not converge. You might want to increase the number of iterations. Duality gap: 373.09421347425086, tolerance: 2.38577024691358\n",
      "  model = cd_fast.enet_coordinate_descent_gram(\n",
      "/Users/17299765/git/github/ds-practise/ds-practise/lib/python3.9/site-packages/sklearn/linear_model/_coordinate_descent.py:634: ConvergenceWarning: Objective did not converge. You might want to increase the number of iterations. Duality gap: 442.31000124608, tolerance: 2.38577024691358\n",
      "  model = cd_fast.enet_coordinate_descent_gram(\n",
      "/Users/17299765/git/github/ds-practise/ds-practise/lib/python3.9/site-packages/sklearn/linear_model/_coordinate_descent.py:634: ConvergenceWarning: Objective did not converge. You might want to increase the number of iterations. Duality gap: 525.6394996916933, tolerance: 2.38577024691358\n",
      "  model = cd_fast.enet_coordinate_descent_gram(\n",
      "/Users/17299765/git/github/ds-practise/ds-practise/lib/python3.9/site-packages/sklearn/linear_model/_coordinate_descent.py:634: ConvergenceWarning: Objective did not converge. You might want to increase the number of iterations. Duality gap: 607.9117416160116, tolerance: 2.38577024691358\n",
      "  model = cd_fast.enet_coordinate_descent_gram(\n",
      "/Users/17299765/git/github/ds-practise/ds-practise/lib/python3.9/site-packages/sklearn/linear_model/_coordinate_descent.py:634: ConvergenceWarning: Objective did not converge. You might want to increase the number of iterations. Duality gap: 920.8053687025204, tolerance: 2.38577024691358\n",
      "  model = cd_fast.enet_coordinate_descent_gram(\n",
      "/Users/17299765/git/github/ds-practise/ds-practise/lib/python3.9/site-packages/sklearn/linear_model/_coordinate_descent.py:634: ConvergenceWarning: Objective did not converge. You might want to increase the number of iterations. Duality gap: 941.1028434455056, tolerance: 2.38577024691358\n",
      "  model = cd_fast.enet_coordinate_descent_gram(\n",
      "/Users/17299765/git/github/ds-practise/ds-practise/lib/python3.9/site-packages/sklearn/linear_model/_coordinate_descent.py:634: ConvergenceWarning: Objective did not converge. You might want to increase the number of iterations. Duality gap: 1082.4829753408922, tolerance: 2.38577024691358\n",
      "  model = cd_fast.enet_coordinate_descent_gram(\n",
      "/Users/17299765/git/github/ds-practise/ds-practise/lib/python3.9/site-packages/sklearn/linear_model/_coordinate_descent.py:634: ConvergenceWarning: Objective did not converge. You might want to increase the number of iterations. Duality gap: 1145.773556168111, tolerance: 2.38577024691358\n",
      "  model = cd_fast.enet_coordinate_descent_gram(\n",
      "/Users/17299765/git/github/ds-practise/ds-practise/lib/python3.9/site-packages/sklearn/linear_model/_coordinate_descent.py:634: ConvergenceWarning: Objective did not converge. You might want to increase the number of iterations. Duality gap: 962.9653590526686, tolerance: 2.38577024691358\n",
      "  model = cd_fast.enet_coordinate_descent_gram(\n",
      "/Users/17299765/git/github/ds-practise/ds-practise/lib/python3.9/site-packages/sklearn/linear_model/_coordinate_descent.py:634: ConvergenceWarning: Objective did not converge. You might want to increase the number of iterations. Duality gap: 641.0732013977849, tolerance: 2.38577024691358\n",
      "  model = cd_fast.enet_coordinate_descent_gram(\n",
      "/Users/17299765/git/github/ds-practise/ds-practise/lib/python3.9/site-packages/sklearn/linear_model/_coordinate_descent.py:634: ConvergenceWarning: Objective did not converge. You might want to increase the number of iterations. Duality gap: 594.8795584543404, tolerance: 2.38577024691358\n",
      "  model = cd_fast.enet_coordinate_descent_gram(\n",
      "/Users/17299765/git/github/ds-practise/ds-practise/lib/python3.9/site-packages/sklearn/linear_model/_coordinate_descent.py:634: ConvergenceWarning: Objective did not converge. You might want to increase the number of iterations. Duality gap: 606.9587709845582, tolerance: 2.38577024691358\n",
      "  model = cd_fast.enet_coordinate_descent_gram(\n",
      "/Users/17299765/git/github/ds-practise/ds-practise/lib/python3.9/site-packages/sklearn/linear_model/_coordinate_descent.py:634: ConvergenceWarning: Objective did not converge. You might want to increase the number of iterations. Duality gap: 690.2565273994442, tolerance: 2.38577024691358\n",
      "  model = cd_fast.enet_coordinate_descent_gram(\n",
      "/Users/17299765/git/github/ds-practise/ds-practise/lib/python3.9/site-packages/sklearn/linear_model/_coordinate_descent.py:634: ConvergenceWarning: Objective did not converge. You might want to increase the number of iterations. Duality gap: 812.3025882913462, tolerance: 2.38577024691358\n",
      "  model = cd_fast.enet_coordinate_descent_gram(\n",
      "/Users/17299765/git/github/ds-practise/ds-practise/lib/python3.9/site-packages/sklearn/linear_model/_coordinate_descent.py:634: ConvergenceWarning: Objective did not converge. You might want to increase the number of iterations. Duality gap: 906.7839618223534, tolerance: 2.38577024691358\n",
      "  model = cd_fast.enet_coordinate_descent_gram(\n",
      "/Users/17299765/git/github/ds-practise/ds-practise/lib/python3.9/site-packages/sklearn/linear_model/_coordinate_descent.py:634: ConvergenceWarning: Objective did not converge. You might want to increase the number of iterations. Duality gap: 993.4022135979267, tolerance: 2.38577024691358\n",
      "  model = cd_fast.enet_coordinate_descent_gram(\n",
      "/Users/17299765/git/github/ds-practise/ds-practise/lib/python3.9/site-packages/sklearn/linear_model/_coordinate_descent.py:634: ConvergenceWarning: Objective did not converge. You might want to increase the number of iterations. Duality gap: 1136.1373341720755, tolerance: 2.38577024691358\n",
      "  model = cd_fast.enet_coordinate_descent_gram(\n",
      "/Users/17299765/git/github/ds-practise/ds-practise/lib/python3.9/site-packages/sklearn/linear_model/_coordinate_descent.py:634: ConvergenceWarning: Objective did not converge. You might want to increase the number of iterations. Duality gap: 1292.9667701836406, tolerance: 2.38577024691358\n",
      "  model = cd_fast.enet_coordinate_descent_gram(\n",
      "/Users/17299765/git/github/ds-practise/ds-practise/lib/python3.9/site-packages/sklearn/linear_model/_coordinate_descent.py:634: ConvergenceWarning: Objective did not converge. You might want to increase the number of iterations. Duality gap: 1295.201903505018, tolerance: 2.38577024691358\n",
      "  model = cd_fast.enet_coordinate_descent_gram(\n",
      "/Users/17299765/git/github/ds-practise/ds-practise/lib/python3.9/site-packages/sklearn/linear_model/_coordinate_descent.py:634: ConvergenceWarning: Objective did not converge. You might want to increase the number of iterations. Duality gap: 1236.9232803540708, tolerance: 2.38577024691358\n",
      "  model = cd_fast.enet_coordinate_descent_gram(\n",
      "/Users/17299765/git/github/ds-practise/ds-practise/lib/python3.9/site-packages/sklearn/linear_model/_coordinate_descent.py:634: ConvergenceWarning: Objective did not converge. You might want to increase the number of iterations. Duality gap: 1178.438059961065, tolerance: 2.38577024691358\n",
      "  model = cd_fast.enet_coordinate_descent_gram(\n",
      "/Users/17299765/git/github/ds-practise/ds-practise/lib/python3.9/site-packages/sklearn/linear_model/_coordinate_descent.py:634: ConvergenceWarning: Objective did not converge. You might want to increase the number of iterations. Duality gap: 1141.0044259285387, tolerance: 2.38577024691358\n",
      "  model = cd_fast.enet_coordinate_descent_gram(\n",
      "/Users/17299765/git/github/ds-practise/ds-practise/lib/python3.9/site-packages/sklearn/linear_model/_coordinate_descent.py:634: ConvergenceWarning: Objective did not converge. You might want to increase the number of iterations. Duality gap: 1131.8700297357736, tolerance: 2.38577024691358\n",
      "  model = cd_fast.enet_coordinate_descent_gram(\n",
      "/Users/17299765/git/github/ds-practise/ds-practise/lib/python3.9/site-packages/sklearn/linear_model/_coordinate_descent.py:634: ConvergenceWarning: Objective did not converge. You might want to increase the number of iterations. Duality gap: 1294.038489972134, tolerance: 2.38577024691358\n",
      "  model = cd_fast.enet_coordinate_descent_gram(\n",
      "/Users/17299765/git/github/ds-practise/ds-practise/lib/python3.9/site-packages/sklearn/linear_model/_coordinate_descent.py:634: ConvergenceWarning: Objective did not converge. You might want to increase the number of iterations. Duality gap: 1356.4328007143868, tolerance: 2.38577024691358\n",
      "  model = cd_fast.enet_coordinate_descent_gram(\n",
      "/Users/17299765/git/github/ds-practise/ds-practise/lib/python3.9/site-packages/sklearn/linear_model/_coordinate_descent.py:634: ConvergenceWarning: Objective did not converge. You might want to increase the number of iterations. Duality gap: 1887.5545354638252, tolerance: 2.38577024691358\n",
      "  model = cd_fast.enet_coordinate_descent_gram(\n",
      "/Users/17299765/git/github/ds-practise/ds-practise/lib/python3.9/site-packages/sklearn/linear_model/_coordinate_descent.py:634: ConvergenceWarning: Objective did not converge. You might want to increase the number of iterations. Duality gap: 2216.214744100823, tolerance: 2.38577024691358\n",
      "  model = cd_fast.enet_coordinate_descent_gram(\n",
      "/Users/17299765/git/github/ds-practise/ds-practise/lib/python3.9/site-packages/sklearn/linear_model/_coordinate_descent.py:634: ConvergenceWarning: Objective did not converge. You might want to increase the number of iterations. Duality gap: 2449.2796300957525, tolerance: 2.38577024691358\n",
      "  model = cd_fast.enet_coordinate_descent_gram(\n",
      "/Users/17299765/git/github/ds-practise/ds-practise/lib/python3.9/site-packages/sklearn/linear_model/_coordinate_descent.py:634: ConvergenceWarning: Objective did not converge. You might want to increase the number of iterations. Duality gap: 3.92588686362069, tolerance: 2.7054198024691356\n",
      "  model = cd_fast.enet_coordinate_descent_gram(\n",
      "/Users/17299765/git/github/ds-practise/ds-practise/lib/python3.9/site-packages/sklearn/linear_model/_coordinate_descent.py:634: ConvergenceWarning: Objective did not converge. You might want to increase the number of iterations. Duality gap: 8.710347359556181, tolerance: 2.7054198024691356\n",
      "  model = cd_fast.enet_coordinate_descent_gram(\n",
      "/Users/17299765/git/github/ds-practise/ds-practise/lib/python3.9/site-packages/sklearn/linear_model/_coordinate_descent.py:634: ConvergenceWarning: Objective did not converge. You might want to increase the number of iterations. Duality gap: 18.50242838721897, tolerance: 2.7054198024691356\n",
      "  model = cd_fast.enet_coordinate_descent_gram(\n",
      "/Users/17299765/git/github/ds-practise/ds-practise/lib/python3.9/site-packages/sklearn/linear_model/_coordinate_descent.py:634: ConvergenceWarning: Objective did not converge. You might want to increase the number of iterations. Duality gap: 32.7745709943556, tolerance: 2.7054198024691356\n",
      "  model = cd_fast.enet_coordinate_descent_gram(\n",
      "/Users/17299765/git/github/ds-practise/ds-practise/lib/python3.9/site-packages/sklearn/linear_model/_coordinate_descent.py:634: ConvergenceWarning: Objective did not converge. You might want to increase the number of iterations. Duality gap: 33.276484366386285, tolerance: 2.7054198024691356\n",
      "  model = cd_fast.enet_coordinate_descent_gram(\n",
      "/Users/17299765/git/github/ds-practise/ds-practise/lib/python3.9/site-packages/sklearn/linear_model/_coordinate_descent.py:634: ConvergenceWarning: Objective did not converge. You might want to increase the number of iterations. Duality gap: 26.020360598387924, tolerance: 2.7054198024691356\n",
      "  model = cd_fast.enet_coordinate_descent_gram(\n",
      "/Users/17299765/git/github/ds-practise/ds-practise/lib/python3.9/site-packages/sklearn/linear_model/_coordinate_descent.py:634: ConvergenceWarning: Objective did not converge. You might want to increase the number of iterations. Duality gap: 44.83164276615207, tolerance: 2.7054198024691356\n",
      "  model = cd_fast.enet_coordinate_descent_gram(\n",
      "/Users/17299765/git/github/ds-practise/ds-practise/lib/python3.9/site-packages/sklearn/linear_model/_coordinate_descent.py:634: ConvergenceWarning: Objective did not converge. You might want to increase the number of iterations. Duality gap: 59.707144284344395, tolerance: 2.7054198024691356\n",
      "  model = cd_fast.enet_coordinate_descent_gram(\n",
      "/Users/17299765/git/github/ds-practise/ds-practise/lib/python3.9/site-packages/sklearn/linear_model/_coordinate_descent.py:634: ConvergenceWarning: Objective did not converge. You might want to increase the number of iterations. Duality gap: 164.86964964355138, tolerance: 2.7054198024691356\n",
      "  model = cd_fast.enet_coordinate_descent_gram(\n",
      "/Users/17299765/git/github/ds-practise/ds-practise/lib/python3.9/site-packages/sklearn/linear_model/_coordinate_descent.py:634: ConvergenceWarning: Objective did not converge. You might want to increase the number of iterations. Duality gap: 137.3518998527761, tolerance: 2.7054198024691356\n",
      "  model = cd_fast.enet_coordinate_descent_gram(\n",
      "/Users/17299765/git/github/ds-practise/ds-practise/lib/python3.9/site-packages/sklearn/linear_model/_coordinate_descent.py:634: ConvergenceWarning: Objective did not converge. You might want to increase the number of iterations. Duality gap: 106.57206069056338, tolerance: 2.7054198024691356\n",
      "  model = cd_fast.enet_coordinate_descent_gram(\n",
      "/Users/17299765/git/github/ds-practise/ds-practise/lib/python3.9/site-packages/sklearn/linear_model/_coordinate_descent.py:634: ConvergenceWarning: Objective did not converge. You might want to increase the number of iterations. Duality gap: 153.73997505894295, tolerance: 2.7054198024691356\n",
      "  model = cd_fast.enet_coordinate_descent_gram(\n",
      "/Users/17299765/git/github/ds-practise/ds-practise/lib/python3.9/site-packages/sklearn/linear_model/_coordinate_descent.py:634: ConvergenceWarning: Objective did not converge. You might want to increase the number of iterations. Duality gap: 208.94070814515726, tolerance: 2.7054198024691356\n",
      "  model = cd_fast.enet_coordinate_descent_gram(\n",
      "/Users/17299765/git/github/ds-practise/ds-practise/lib/python3.9/site-packages/sklearn/linear_model/_coordinate_descent.py:634: ConvergenceWarning: Objective did not converge. You might want to increase the number of iterations. Duality gap: 220.6268915826513, tolerance: 2.7054198024691356\n",
      "  model = cd_fast.enet_coordinate_descent_gram(\n",
      "/Users/17299765/git/github/ds-practise/ds-practise/lib/python3.9/site-packages/sklearn/linear_model/_coordinate_descent.py:634: ConvergenceWarning: Objective did not converge. You might want to increase the number of iterations. Duality gap: 182.64604703206714, tolerance: 2.7054198024691356\n",
      "  model = cd_fast.enet_coordinate_descent_gram(\n",
      "/Users/17299765/git/github/ds-practise/ds-practise/lib/python3.9/site-packages/sklearn/linear_model/_coordinate_descent.py:634: ConvergenceWarning: Objective did not converge. You might want to increase the number of iterations. Duality gap: 152.23309541934213, tolerance: 2.7054198024691356\n",
      "  model = cd_fast.enet_coordinate_descent_gram(\n",
      "/Users/17299765/git/github/ds-practise/ds-practise/lib/python3.9/site-packages/sklearn/linear_model/_coordinate_descent.py:634: ConvergenceWarning: Objective did not converge. You might want to increase the number of iterations. Duality gap: 167.7458396925431, tolerance: 2.7054198024691356\n",
      "  model = cd_fast.enet_coordinate_descent_gram(\n",
      "/Users/17299765/git/github/ds-practise/ds-practise/lib/python3.9/site-packages/sklearn/linear_model/_coordinate_descent.py:634: ConvergenceWarning: Objective did not converge. You might want to increase the number of iterations. Duality gap: 202.50373848593517, tolerance: 2.7054198024691356\n",
      "  model = cd_fast.enet_coordinate_descent_gram(\n",
      "/Users/17299765/git/github/ds-practise/ds-practise/lib/python3.9/site-packages/sklearn/linear_model/_coordinate_descent.py:634: ConvergenceWarning: Objective did not converge. You might want to increase the number of iterations. Duality gap: 222.76712352751565, tolerance: 2.7054198024691356\n",
      "  model = cd_fast.enet_coordinate_descent_gram(\n",
      "/Users/17299765/git/github/ds-practise/ds-practise/lib/python3.9/site-packages/sklearn/linear_model/_coordinate_descent.py:634: ConvergenceWarning: Objective did not converge. You might want to increase the number of iterations. Duality gap: 284.32918417040855, tolerance: 2.7054198024691356\n",
      "  model = cd_fast.enet_coordinate_descent_gram(\n",
      "/Users/17299765/git/github/ds-practise/ds-practise/lib/python3.9/site-packages/sklearn/linear_model/_coordinate_descent.py:634: ConvergenceWarning: Objective did not converge. You might want to increase the number of iterations. Duality gap: 326.7090617888716, tolerance: 2.7054198024691356\n",
      "  model = cd_fast.enet_coordinate_descent_gram(\n",
      "/Users/17299765/git/github/ds-practise/ds-practise/lib/python3.9/site-packages/sklearn/linear_model/_coordinate_descent.py:634: ConvergenceWarning: Objective did not converge. You might want to increase the number of iterations. Duality gap: 350.51366015114945, tolerance: 2.7054198024691356\n",
      "  model = cd_fast.enet_coordinate_descent_gram(\n",
      "/Users/17299765/git/github/ds-practise/ds-practise/lib/python3.9/site-packages/sklearn/linear_model/_coordinate_descent.py:634: ConvergenceWarning: Objective did not converge. You might want to increase the number of iterations. Duality gap: 448.382721412152, tolerance: 2.7054198024691356\n",
      "  model = cd_fast.enet_coordinate_descent_gram(\n",
      "/Users/17299765/git/github/ds-practise/ds-practise/lib/python3.9/site-packages/sklearn/linear_model/_coordinate_descent.py:634: ConvergenceWarning: Objective did not converge. You might want to increase the number of iterations. Duality gap: 712.1404877765162, tolerance: 2.7054198024691356\n",
      "  model = cd_fast.enet_coordinate_descent_gram(\n",
      "/Users/17299765/git/github/ds-practise/ds-practise/lib/python3.9/site-packages/sklearn/linear_model/_coordinate_descent.py:634: ConvergenceWarning: Objective did not converge. You might want to increase the number of iterations. Duality gap: 1004.8599901402958, tolerance: 2.7054198024691356\n",
      "  model = cd_fast.enet_coordinate_descent_gram(\n",
      "/Users/17299765/git/github/ds-practise/ds-practise/lib/python3.9/site-packages/sklearn/linear_model/_coordinate_descent.py:634: ConvergenceWarning: Objective did not converge. You might want to increase the number of iterations. Duality gap: 1229.7567337309902, tolerance: 2.7054198024691356\n",
      "  model = cd_fast.enet_coordinate_descent_gram(\n",
      "/Users/17299765/git/github/ds-practise/ds-practise/lib/python3.9/site-packages/sklearn/linear_model/_coordinate_descent.py:634: ConvergenceWarning: Objective did not converge. You might want to increase the number of iterations. Duality gap: 1484.32576472268, tolerance: 2.7054198024691356\n",
      "  model = cd_fast.enet_coordinate_descent_gram(\n",
      "/Users/17299765/git/github/ds-practise/ds-practise/lib/python3.9/site-packages/sklearn/linear_model/_coordinate_descent.py:634: ConvergenceWarning: Objective did not converge. You might want to increase the number of iterations. Duality gap: 2008.8504320292195, tolerance: 2.7054198024691356\n",
      "  model = cd_fast.enet_coordinate_descent_gram(\n",
      "/Users/17299765/git/github/ds-practise/ds-practise/lib/python3.9/site-packages/sklearn/linear_model/_coordinate_descent.py:634: ConvergenceWarning: Objective did not converge. You might want to increase the number of iterations. Duality gap: 2463.460460802522, tolerance: 2.7054198024691356\n",
      "  model = cd_fast.enet_coordinate_descent_gram(\n",
      "/Users/17299765/git/github/ds-practise/ds-practise/lib/python3.9/site-packages/sklearn/linear_model/_coordinate_descent.py:634: ConvergenceWarning: Objective did not converge. You might want to increase the number of iterations. Duality gap: 2749.633597061096, tolerance: 2.7054198024691356\n",
      "  model = cd_fast.enet_coordinate_descent_gram(\n",
      "/Users/17299765/git/github/ds-practise/ds-practise/lib/python3.9/site-packages/sklearn/linear_model/_coordinate_descent.py:634: ConvergenceWarning: Objective did not converge. You might want to increase the number of iterations. Duality gap: 2978.466878932467, tolerance: 2.7054198024691356\n",
      "  model = cd_fast.enet_coordinate_descent_gram(\n",
      "/Users/17299765/git/github/ds-practise/ds-practise/lib/python3.9/site-packages/sklearn/linear_model/_coordinate_descent.py:634: ConvergenceWarning: Objective did not converge. You might want to increase the number of iterations. Duality gap: 3241.6465877333676, tolerance: 2.7054198024691356\n",
      "  model = cd_fast.enet_coordinate_descent_gram(\n",
      "/Users/17299765/git/github/ds-practise/ds-practise/lib/python3.9/site-packages/sklearn/linear_model/_coordinate_descent.py:634: ConvergenceWarning: Objective did not converge. You might want to increase the number of iterations. Duality gap: 3274.1821999814256, tolerance: 2.7054198024691356\n",
      "  model = cd_fast.enet_coordinate_descent_gram(\n",
      "/Users/17299765/git/github/ds-practise/ds-practise/lib/python3.9/site-packages/sklearn/linear_model/_coordinate_descent.py:634: ConvergenceWarning: Objective did not converge. You might want to increase the number of iterations. Duality gap: 2998.0773606530856, tolerance: 2.7054198024691356\n",
      "  model = cd_fast.enet_coordinate_descent_gram(\n",
      "/Users/17299765/git/github/ds-practise/ds-practise/lib/python3.9/site-packages/sklearn/linear_model/_coordinate_descent.py:634: ConvergenceWarning: Objective did not converge. You might want to increase the number of iterations. Duality gap: 2671.944511907468, tolerance: 2.7054198024691356\n",
      "  model = cd_fast.enet_coordinate_descent_gram(\n",
      "/Users/17299765/git/github/ds-practise/ds-practise/lib/python3.9/site-packages/sklearn/linear_model/_coordinate_descent.py:634: ConvergenceWarning: Objective did not converge. You might want to increase the number of iterations. Duality gap: 2502.999287334449, tolerance: 2.7054198024691356\n",
      "  model = cd_fast.enet_coordinate_descent_gram(\n",
      "/Users/17299765/git/github/ds-practise/ds-practise/lib/python3.9/site-packages/sklearn/linear_model/_coordinate_descent.py:634: ConvergenceWarning: Objective did not converge. You might want to increase the number of iterations. Duality gap: 2526.9247046948312, tolerance: 2.7054198024691356\n",
      "  model = cd_fast.enet_coordinate_descent_gram(\n",
      "/Users/17299765/git/github/ds-practise/ds-practise/lib/python3.9/site-packages/sklearn/linear_model/_coordinate_descent.py:634: ConvergenceWarning: Objective did not converge. You might want to increase the number of iterations. Duality gap: 2518.647653226397, tolerance: 2.7054198024691356\n",
      "  model = cd_fast.enet_coordinate_descent_gram(\n",
      "/Users/17299765/git/github/ds-practise/ds-practise/lib/python3.9/site-packages/sklearn/linear_model/_coordinate_descent.py:634: ConvergenceWarning: Objective did not converge. You might want to increase the number of iterations. Duality gap: 2621.5995587502894, tolerance: 2.7054198024691356\n",
      "  model = cd_fast.enet_coordinate_descent_gram(\n",
      "/Users/17299765/git/github/ds-practise/ds-practise/lib/python3.9/site-packages/sklearn/linear_model/_coordinate_descent.py:634: ConvergenceWarning: Objective did not converge. You might want to increase the number of iterations. Duality gap: 2806.8746827447103, tolerance: 2.7054198024691356\n",
      "  model = cd_fast.enet_coordinate_descent_gram(\n",
      "/Users/17299765/git/github/ds-practise/ds-practise/lib/python3.9/site-packages/sklearn/linear_model/_coordinate_descent.py:634: ConvergenceWarning: Objective did not converge. You might want to increase the number of iterations. Duality gap: 3207.987844100233, tolerance: 2.7054198024691356\n",
      "  model = cd_fast.enet_coordinate_descent_gram(\n",
      "/Users/17299765/git/github/ds-practise/ds-practise/lib/python3.9/site-packages/sklearn/linear_model/_coordinate_descent.py:634: ConvergenceWarning: Objective did not converge. You might want to increase the number of iterations. Duality gap: 3574.4318515453224, tolerance: 2.7054198024691356\n",
      "  model = cd_fast.enet_coordinate_descent_gram(\n",
      "/Users/17299765/git/github/ds-practise/ds-practise/lib/python3.9/site-packages/sklearn/linear_model/_coordinate_descent.py:634: ConvergenceWarning: Objective did not converge. You might want to increase the number of iterations. Duality gap: 3869.505243952146, tolerance: 2.7054198024691356\n",
      "  model = cd_fast.enet_coordinate_descent_gram(\n",
      "/Users/17299765/git/github/ds-practise/ds-practise/lib/python3.9/site-packages/sklearn/linear_model/_coordinate_descent.py:634: ConvergenceWarning: Objective did not converge. You might want to increase the number of iterations. Duality gap: 3.9401550130751275, tolerance: 2.4347806172839506\n",
      "  model = cd_fast.enet_coordinate_descent_gram(\n",
      "/Users/17299765/git/github/ds-practise/ds-practise/lib/python3.9/site-packages/sklearn/linear_model/_coordinate_descent.py:634: ConvergenceWarning: Objective did not converge. You might want to increase the number of iterations. Duality gap: 8.320548285206314, tolerance: 2.4347806172839506\n",
      "  model = cd_fast.enet_coordinate_descent_gram(\n",
      "/Users/17299765/git/github/ds-practise/ds-practise/lib/python3.9/site-packages/sklearn/linear_model/_coordinate_descent.py:634: ConvergenceWarning: Objective did not converge. You might want to increase the number of iterations. Duality gap: 17.244080236298032, tolerance: 2.4347806172839506\n",
      "  model = cd_fast.enet_coordinate_descent_gram(\n",
      "/Users/17299765/git/github/ds-practise/ds-practise/lib/python3.9/site-packages/sklearn/linear_model/_coordinate_descent.py:634: ConvergenceWarning: Objective did not converge. You might want to increase the number of iterations. Duality gap: 15.61325002200465, tolerance: 2.4347806172839506\n",
      "  model = cd_fast.enet_coordinate_descent_gram(\n",
      "/Users/17299765/git/github/ds-practise/ds-practise/lib/python3.9/site-packages/sklearn/linear_model/_coordinate_descent.py:634: ConvergenceWarning: Objective did not converge. You might want to increase the number of iterations. Duality gap: 15.240831836137659, tolerance: 2.4347806172839506\n",
      "  model = cd_fast.enet_coordinate_descent_gram(\n",
      "/Users/17299765/git/github/ds-practise/ds-practise/lib/python3.9/site-packages/sklearn/linear_model/_coordinate_descent.py:634: ConvergenceWarning: Objective did not converge. You might want to increase the number of iterations. Duality gap: 22.562085056903015, tolerance: 2.4347806172839506\n",
      "  model = cd_fast.enet_coordinate_descent_gram(\n",
      "/Users/17299765/git/github/ds-practise/ds-practise/lib/python3.9/site-packages/sklearn/linear_model/_coordinate_descent.py:634: ConvergenceWarning: Objective did not converge. You might want to increase the number of iterations. Duality gap: 50.53885696882571, tolerance: 2.4347806172839506\n",
      "  model = cd_fast.enet_coordinate_descent_gram(\n",
      "/Users/17299765/git/github/ds-practise/ds-practise/lib/python3.9/site-packages/sklearn/linear_model/_coordinate_descent.py:634: ConvergenceWarning: Objective did not converge. You might want to increase the number of iterations. Duality gap: 67.31584281460891, tolerance: 2.4347806172839506\n",
      "  model = cd_fast.enet_coordinate_descent_gram(\n",
      "/Users/17299765/git/github/ds-practise/ds-practise/lib/python3.9/site-packages/sklearn/linear_model/_coordinate_descent.py:634: ConvergenceWarning: Objective did not converge. You might want to increase the number of iterations. Duality gap: 44.30775088213704, tolerance: 2.4347806172839506\n",
      "  model = cd_fast.enet_coordinate_descent_gram(\n",
      "/Users/17299765/git/github/ds-practise/ds-practise/lib/python3.9/site-packages/sklearn/linear_model/_coordinate_descent.py:634: ConvergenceWarning: Objective did not converge. You might want to increase the number of iterations. Duality gap: 70.26725672995599, tolerance: 2.4347806172839506\n",
      "  model = cd_fast.enet_coordinate_descent_gram(\n",
      "/Users/17299765/git/github/ds-practise/ds-practise/lib/python3.9/site-packages/sklearn/linear_model/_coordinate_descent.py:634: ConvergenceWarning: Objective did not converge. You might want to increase the number of iterations. Duality gap: 141.93936391429452, tolerance: 2.4347806172839506\n",
      "  model = cd_fast.enet_coordinate_descent_gram(\n",
      "/Users/17299765/git/github/ds-practise/ds-practise/lib/python3.9/site-packages/sklearn/linear_model/_coordinate_descent.py:634: ConvergenceWarning: Objective did not converge. You might want to increase the number of iterations. Duality gap: 126.17091509576494, tolerance: 2.4347806172839506\n",
      "  model = cd_fast.enet_coordinate_descent_gram(\n",
      "/Users/17299765/git/github/ds-practise/ds-practise/lib/python3.9/site-packages/sklearn/linear_model/_coordinate_descent.py:634: ConvergenceWarning: Objective did not converge. You might want to increase the number of iterations. Duality gap: 136.68418742596987, tolerance: 2.4347806172839506\n",
      "  model = cd_fast.enet_coordinate_descent_gram(\n",
      "/Users/17299765/git/github/ds-practise/ds-practise/lib/python3.9/site-packages/sklearn/linear_model/_coordinate_descent.py:634: ConvergenceWarning: Objective did not converge. You might want to increase the number of iterations. Duality gap: 242.0873984384598, tolerance: 2.4347806172839506\n",
      "  model = cd_fast.enet_coordinate_descent_gram(\n",
      "/Users/17299765/git/github/ds-practise/ds-practise/lib/python3.9/site-packages/sklearn/linear_model/_coordinate_descent.py:634: ConvergenceWarning: Objective did not converge. You might want to increase the number of iterations. Duality gap: 405.7142742639153, tolerance: 2.4347806172839506\n",
      "  model = cd_fast.enet_coordinate_descent_gram(\n",
      "/Users/17299765/git/github/ds-practise/ds-practise/lib/python3.9/site-packages/sklearn/linear_model/_coordinate_descent.py:634: ConvergenceWarning: Objective did not converge. You might want to increase the number of iterations. Duality gap: 586.427212026807, tolerance: 2.4347806172839506\n",
      "  model = cd_fast.enet_coordinate_descent_gram(\n",
      "/Users/17299765/git/github/ds-practise/ds-practise/lib/python3.9/site-packages/sklearn/linear_model/_coordinate_descent.py:634: ConvergenceWarning: Objective did not converge. You might want to increase the number of iterations. Duality gap: 719.892893997825, tolerance: 2.4347806172839506\n",
      "  model = cd_fast.enet_coordinate_descent_gram(\n",
      "/Users/17299765/git/github/ds-practise/ds-practise/lib/python3.9/site-packages/sklearn/linear_model/_coordinate_descent.py:634: ConvergenceWarning: Objective did not converge. You might want to increase the number of iterations. Duality gap: 752.1304517541921, tolerance: 2.4347806172839506\n",
      "  model = cd_fast.enet_coordinate_descent_gram(\n",
      "/Users/17299765/git/github/ds-practise/ds-practise/lib/python3.9/site-packages/sklearn/linear_model/_coordinate_descent.py:634: ConvergenceWarning: Objective did not converge. You might want to increase the number of iterations. Duality gap: 688.4404500065575, tolerance: 2.4347806172839506\n",
      "  model = cd_fast.enet_coordinate_descent_gram(\n",
      "/Users/17299765/git/github/ds-practise/ds-practise/lib/python3.9/site-packages/sklearn/linear_model/_coordinate_descent.py:634: ConvergenceWarning: Objective did not converge. You might want to increase the number of iterations. Duality gap: 670.5778921895726, tolerance: 2.4347806172839506\n",
      "  model = cd_fast.enet_coordinate_descent_gram(\n",
      "/Users/17299765/git/github/ds-practise/ds-practise/lib/python3.9/site-packages/sklearn/linear_model/_coordinate_descent.py:634: ConvergenceWarning: Objective did not converge. You might want to increase the number of iterations. Duality gap: 938.2520025105568, tolerance: 2.4347806172839506\n",
      "  model = cd_fast.enet_coordinate_descent_gram(\n",
      "/Users/17299765/git/github/ds-practise/ds-practise/lib/python3.9/site-packages/sklearn/linear_model/_coordinate_descent.py:634: ConvergenceWarning: Objective did not converge. You might want to increase the number of iterations. Duality gap: 884.6271016589908, tolerance: 2.4347806172839506\n",
      "  model = cd_fast.enet_coordinate_descent_gram(\n",
      "/Users/17299765/git/github/ds-practise/ds-practise/lib/python3.9/site-packages/sklearn/linear_model/_coordinate_descent.py:634: ConvergenceWarning: Objective did not converge. You might want to increase the number of iterations. Duality gap: 1013.3791439107645, tolerance: 2.4347806172839506\n",
      "  model = cd_fast.enet_coordinate_descent_gram(\n",
      "/Users/17299765/git/github/ds-practise/ds-practise/lib/python3.9/site-packages/sklearn/linear_model/_coordinate_descent.py:634: ConvergenceWarning: Objective did not converge. You might want to increase the number of iterations. Duality gap: 1200.3246712613327, tolerance: 2.4347806172839506\n",
      "  model = cd_fast.enet_coordinate_descent_gram(\n",
      "/Users/17299765/git/github/ds-practise/ds-practise/lib/python3.9/site-packages/sklearn/linear_model/_coordinate_descent.py:634: ConvergenceWarning: Objective did not converge. You might want to increase the number of iterations. Duality gap: 1365.094077655327, tolerance: 2.4347806172839506\n",
      "  model = cd_fast.enet_coordinate_descent_gram(\n",
      "/Users/17299765/git/github/ds-practise/ds-practise/lib/python3.9/site-packages/sklearn/linear_model/_coordinate_descent.py:634: ConvergenceWarning: Objective did not converge. You might want to increase the number of iterations. Duality gap: 1466.9203115171385, tolerance: 2.4347806172839506\n",
      "  model = cd_fast.enet_coordinate_descent_gram(\n",
      "/Users/17299765/git/github/ds-practise/ds-practise/lib/python3.9/site-packages/sklearn/linear_model/_coordinate_descent.py:634: ConvergenceWarning: Objective did not converge. You might want to increase the number of iterations. Duality gap: 1552.927217323624, tolerance: 2.4347806172839506\n",
      "  model = cd_fast.enet_coordinate_descent_gram(\n",
      "/Users/17299765/git/github/ds-practise/ds-practise/lib/python3.9/site-packages/sklearn/linear_model/_coordinate_descent.py:634: ConvergenceWarning: Objective did not converge. You might want to increase the number of iterations. Duality gap: 1822.4110743232977, tolerance: 2.4347806172839506\n",
      "  model = cd_fast.enet_coordinate_descent_gram(\n",
      "/Users/17299765/git/github/ds-practise/ds-practise/lib/python3.9/site-packages/sklearn/linear_model/_coordinate_descent.py:634: ConvergenceWarning: Objective did not converge. You might want to increase the number of iterations. Duality gap: 2111.4630319280623, tolerance: 2.4347806172839506\n",
      "  model = cd_fast.enet_coordinate_descent_gram(\n",
      "/Users/17299765/git/github/ds-practise/ds-practise/lib/python3.9/site-packages/sklearn/linear_model/_coordinate_descent.py:634: ConvergenceWarning: Objective did not converge. You might want to increase the number of iterations. Duality gap: 2327.9429160276723, tolerance: 2.4347806172839506\n",
      "  model = cd_fast.enet_coordinate_descent_gram(\n",
      "/Users/17299765/git/github/ds-practise/ds-practise/lib/python3.9/site-packages/sklearn/linear_model/_coordinate_descent.py:634: ConvergenceWarning: Objective did not converge. You might want to increase the number of iterations. Duality gap: 2566.564119638153, tolerance: 2.4347806172839506\n",
      "  model = cd_fast.enet_coordinate_descent_gram(\n",
      "/Users/17299765/git/github/ds-practise/ds-practise/lib/python3.9/site-packages/sklearn/linear_model/_coordinate_descent.py:634: ConvergenceWarning: Objective did not converge. You might want to increase the number of iterations. Duality gap: 2756.5209365814226, tolerance: 2.4347806172839506\n",
      "  model = cd_fast.enet_coordinate_descent_gram(\n",
      "/Users/17299765/git/github/ds-practise/ds-practise/lib/python3.9/site-packages/sklearn/linear_model/_coordinate_descent.py:634: ConvergenceWarning: Objective did not converge. You might want to increase the number of iterations. Duality gap: 2974.350972726241, tolerance: 2.4347806172839506\n",
      "  model = cd_fast.enet_coordinate_descent_gram(\n",
      "/Users/17299765/git/github/ds-practise/ds-practise/lib/python3.9/site-packages/sklearn/linear_model/_coordinate_descent.py:634: ConvergenceWarning: Objective did not converge. You might want to increase the number of iterations. Duality gap: 2985.337411964195, tolerance: 2.4347806172839506\n",
      "  model = cd_fast.enet_coordinate_descent_gram(\n",
      "/Users/17299765/git/github/ds-practise/ds-practise/lib/python3.9/site-packages/sklearn/linear_model/_coordinate_descent.py:634: ConvergenceWarning: Objective did not converge. You might want to increase the number of iterations. Duality gap: 2861.879899178144, tolerance: 2.4347806172839506\n",
      "  model = cd_fast.enet_coordinate_descent_gram(\n",
      "/Users/17299765/git/github/ds-practise/ds-practise/lib/python3.9/site-packages/sklearn/linear_model/_coordinate_descent.py:634: ConvergenceWarning: Objective did not converge. You might want to increase the number of iterations. Duality gap: 2788.4026968036997, tolerance: 2.4347806172839506\n",
      "  model = cd_fast.enet_coordinate_descent_gram(\n",
      "/Users/17299765/git/github/ds-practise/ds-practise/lib/python3.9/site-packages/sklearn/linear_model/_coordinate_descent.py:634: ConvergenceWarning: Objective did not converge. You might want to increase the number of iterations. Duality gap: 2824.065720648223, tolerance: 2.4347806172839506\n",
      "  model = cd_fast.enet_coordinate_descent_gram(\n",
      "/Users/17299765/git/github/ds-practise/ds-practise/lib/python3.9/site-packages/sklearn/linear_model/_coordinate_descent.py:634: ConvergenceWarning: Objective did not converge. You might want to increase the number of iterations. Duality gap: 2798.467010795326, tolerance: 2.4347806172839506\n",
      "  model = cd_fast.enet_coordinate_descent_gram(\n",
      "/Users/17299765/git/github/ds-practise/ds-practise/lib/python3.9/site-packages/sklearn/linear_model/_coordinate_descent.py:634: ConvergenceWarning: Objective did not converge. You might want to increase the number of iterations. Duality gap: 2752.8268744196084, tolerance: 2.4347806172839506\n",
      "  model = cd_fast.enet_coordinate_descent_gram(\n",
      "/Users/17299765/git/github/ds-practise/ds-practise/lib/python3.9/site-packages/sklearn/linear_model/_coordinate_descent.py:634: ConvergenceWarning: Objective did not converge. You might want to increase the number of iterations. Duality gap: 2639.755053523784, tolerance: 2.4347806172839506\n",
      "  model = cd_fast.enet_coordinate_descent_gram(\n",
      "/Users/17299765/git/github/ds-practise/ds-practise/lib/python3.9/site-packages/sklearn/linear_model/_coordinate_descent.py:634: ConvergenceWarning: Objective did not converge. You might want to increase the number of iterations. Duality gap: 2455.182147534724, tolerance: 2.4347806172839506\n",
      "  model = cd_fast.enet_coordinate_descent_gram(\n",
      "/Users/17299765/git/github/ds-practise/ds-practise/lib/python3.9/site-packages/sklearn/linear_model/_coordinate_descent.py:634: ConvergenceWarning: Objective did not converge. You might want to increase the number of iterations. Duality gap: 2452.8365680058796, tolerance: 2.4347806172839506\n",
      "  model = cd_fast.enet_coordinate_descent_gram(\n",
      "/Users/17299765/git/github/ds-practise/ds-practise/lib/python3.9/site-packages/sklearn/linear_model/_coordinate_descent.py:634: ConvergenceWarning: Objective did not converge. You might want to increase the number of iterations. Duality gap: 2622.308539670873, tolerance: 2.4347806172839506\n",
      "  model = cd_fast.enet_coordinate_descent_gram(\n",
      "/Users/17299765/git/github/ds-practise/ds-practise/lib/python3.9/site-packages/sklearn/linear_model/_coordinate_descent.py:634: ConvergenceWarning: Objective did not converge. You might want to increase the number of iterations. Duality gap: 2859.4119787569325, tolerance: 2.4347806172839506\n",
      "  model = cd_fast.enet_coordinate_descent_gram(\n"
     ]
    },
    {
     "data": {
      "text/plain": "-2.4388051296622266"
     },
     "execution_count": 1386,
     "metadata": {},
     "output_type": "execute_result"
    }
   ],
   "source": [
    "pp = Pipeline(steps=[('scaler', MinMaxScaler()),('transform', PolynomialFeatures()), ('LassoCV', LassoCV())])\n",
    "pp.fit(learn_df, learn_y)\n",
    "predicted = pp.predict(test_df)\n",
    "r2_score(test_y, predicted)"
   ]
  },
  {
   "cell_type": "markdown",
   "metadata": {},
   "source": [
    "7. Подберите наилучшую модель (используйте Pipeline, GridSearchSCV) подбирая тип регуляризации (L1,L2), коэффициент регуляризации, метод масштабирования и степень полинома в PolynomialFeatures. Выведите итоговые параметры и результат R2. Напишите как изменился R2 по сравнению с предыдущими экспериментами"
   ]
  },
  {
   "cell_type": "code",
   "execution_count": 1386,
   "metadata": {},
   "outputs": [],
   "source": []
  },
  {
   "cell_type": "markdown",
   "metadata": {},
   "source": [
    "http://archive.ics.uci.edu/ml/datasets/Adult"
   ]
  },
  {
   "cell_type": "code",
   "execution_count": 1387,
   "metadata": {},
   "outputs": [],
   "source": [
    "link = 'https://raw.githubusercontent.com/jbrownlee/Datasets/master/adult-all.csv'\n",
    "data = pd.read_csv(link, header=None)"
   ]
  },
  {
   "cell_type": "code",
   "execution_count": 1388,
   "metadata": {},
   "outputs": [
    {
     "data": {
      "text/plain": "   0                 1       2          3   4                   5   \\\n0  39         State-gov   77516  Bachelors  13       Never-married   \n1  50  Self-emp-not-inc   83311  Bachelors  13  Married-civ-spouse   \n2  38           Private  215646    HS-grad   9            Divorced   \n3  53           Private  234721       11th   7  Married-civ-spouse   \n4  28           Private  338409  Bachelors  13  Married-civ-spouse   \n\n                  6              7      8       9     10  11  12  \\\n0       Adm-clerical  Not-in-family  White    Male  2174   0  40   \n1    Exec-managerial        Husband  White    Male     0   0  13   \n2  Handlers-cleaners  Not-in-family  White    Male     0   0  40   \n3  Handlers-cleaners        Husband  Black    Male     0   0  40   \n4     Prof-specialty           Wife  Black  Female     0   0  40   \n\n              13     14  \n0  United-States  <=50K  \n1  United-States  <=50K  \n2  United-States  <=50K  \n3  United-States  <=50K  \n4           Cuba  <=50K  ",
      "text/html": "<div>\n<style scoped>\n    .dataframe tbody tr th:only-of-type {\n        vertical-align: middle;\n    }\n\n    .dataframe tbody tr th {\n        vertical-align: top;\n    }\n\n    .dataframe thead th {\n        text-align: right;\n    }\n</style>\n<table border=\"1\" class=\"dataframe\">\n  <thead>\n    <tr style=\"text-align: right;\">\n      <th></th>\n      <th>0</th>\n      <th>1</th>\n      <th>2</th>\n      <th>3</th>\n      <th>4</th>\n      <th>5</th>\n      <th>6</th>\n      <th>7</th>\n      <th>8</th>\n      <th>9</th>\n      <th>10</th>\n      <th>11</th>\n      <th>12</th>\n      <th>13</th>\n      <th>14</th>\n    </tr>\n  </thead>\n  <tbody>\n    <tr>\n      <th>0</th>\n      <td>39</td>\n      <td>State-gov</td>\n      <td>77516</td>\n      <td>Bachelors</td>\n      <td>13</td>\n      <td>Never-married</td>\n      <td>Adm-clerical</td>\n      <td>Not-in-family</td>\n      <td>White</td>\n      <td>Male</td>\n      <td>2174</td>\n      <td>0</td>\n      <td>40</td>\n      <td>United-States</td>\n      <td>&lt;=50K</td>\n    </tr>\n    <tr>\n      <th>1</th>\n      <td>50</td>\n      <td>Self-emp-not-inc</td>\n      <td>83311</td>\n      <td>Bachelors</td>\n      <td>13</td>\n      <td>Married-civ-spouse</td>\n      <td>Exec-managerial</td>\n      <td>Husband</td>\n      <td>White</td>\n      <td>Male</td>\n      <td>0</td>\n      <td>0</td>\n      <td>13</td>\n      <td>United-States</td>\n      <td>&lt;=50K</td>\n    </tr>\n    <tr>\n      <th>2</th>\n      <td>38</td>\n      <td>Private</td>\n      <td>215646</td>\n      <td>HS-grad</td>\n      <td>9</td>\n      <td>Divorced</td>\n      <td>Handlers-cleaners</td>\n      <td>Not-in-family</td>\n      <td>White</td>\n      <td>Male</td>\n      <td>0</td>\n      <td>0</td>\n      <td>40</td>\n      <td>United-States</td>\n      <td>&lt;=50K</td>\n    </tr>\n    <tr>\n      <th>3</th>\n      <td>53</td>\n      <td>Private</td>\n      <td>234721</td>\n      <td>11th</td>\n      <td>7</td>\n      <td>Married-civ-spouse</td>\n      <td>Handlers-cleaners</td>\n      <td>Husband</td>\n      <td>Black</td>\n      <td>Male</td>\n      <td>0</td>\n      <td>0</td>\n      <td>40</td>\n      <td>United-States</td>\n      <td>&lt;=50K</td>\n    </tr>\n    <tr>\n      <th>4</th>\n      <td>28</td>\n      <td>Private</td>\n      <td>338409</td>\n      <td>Bachelors</td>\n      <td>13</td>\n      <td>Married-civ-spouse</td>\n      <td>Prof-specialty</td>\n      <td>Wife</td>\n      <td>Black</td>\n      <td>Female</td>\n      <td>0</td>\n      <td>0</td>\n      <td>40</td>\n      <td>Cuba</td>\n      <td>&lt;=50K</td>\n    </tr>\n  </tbody>\n</table>\n</div>"
     },
     "execution_count": 1388,
     "metadata": {},
     "output_type": "execute_result"
    }
   ],
   "source": [
    "data.head()"
   ]
  },
  {
   "cell_type": "markdown",
   "metadata": {},
   "source": [
    "8. Разделите выборку на признаки и целевую переменную(колонка со зачениями {<=50K,>50K}). Замените целевую переменную на числовые значения."
   ]
  },
  {
   "cell_type": "code",
   "execution_count": 1388,
   "metadata": {},
   "outputs": [],
   "source": []
  },
  {
   "cell_type": "markdown",
   "metadata": {},
   "source": [
    "9. Выясните, присутствуют ли в данных пропуски. Заполните их самыми частыми значениями (испольуйте SimpleImputer)"
   ]
  },
  {
   "cell_type": "code",
   "execution_count": 1388,
   "metadata": {},
   "outputs": [],
   "source": []
  },
  {
   "cell_type": "markdown",
   "metadata": {},
   "source": [
    "10. Выберите колонки с числовыми и категориальными переменными."
   ]
  },
  {
   "cell_type": "code",
   "execution_count": 1388,
   "metadata": {},
   "outputs": [],
   "source": []
  },
  {
   "cell_type": "markdown",
   "metadata": {},
   "source": [
    "11. Создайте пайплайн по обработке колонок(используйте OneHotEncoder,MinMaxScaler)."
   ]
  },
  {
   "cell_type": "code",
   "execution_count": 1388,
   "metadata": {},
   "outputs": [],
   "source": []
  },
  {
   "cell_type": "markdown",
   "metadata": {},
   "source": [
    "12. Посчитайте метрики accuracy и f1_score на предсказании только самого частого класса в целевой переменной."
   ]
  },
  {
   "cell_type": "code",
   "execution_count": 1388,
   "metadata": {},
   "outputs": [],
   "source": []
  },
  {
   "cell_type": "markdown",
   "metadata": {},
   "source": [
    "13. Посчитайте cross_val_score по алгоритмам LogisticRegression, SVC, LinearSVC по метрикам accuracy и f1_score.\n",
    "Напишите удалось ли превзойти предыдущий результат."
   ]
  },
  {
   "cell_type": "code",
   "execution_count": 1388,
   "metadata": {},
   "outputs": [],
   "source": []
  },
  {
   "cell_type": "markdown",
   "metadata": {},
   "source": [
    "14. Можно заметить что в данных присутствуют значения '?', замените их самыми частыми значениями (испольуйте SimpleImputer)"
   ]
  },
  {
   "cell_type": "code",
   "execution_count": 1388,
   "metadata": {},
   "outputs": [],
   "source": []
  },
  {
   "cell_type": "markdown",
   "metadata": {},
   "source": [
    "15. Посчитайте cross_val_score на новых данных. Напишите удалось ли улучшить результат."
   ]
  },
  {
   "cell_type": "code",
   "execution_count": 1388,
   "metadata": {},
   "outputs": [],
   "source": []
  },
  {
   "cell_type": "markdown",
   "metadata": {},
   "source": [
    "16. Посчитайте cross_val_score, если просто удалить значения '?'. Напишите как изменился результат"
   ]
  },
  {
   "cell_type": "code",
   "execution_count": 1388,
   "metadata": {},
   "outputs": [],
   "source": []
  },
  {
   "cell_type": "markdown",
   "metadata": {},
   "source": [
    " 17. Посчитайте cross_val_score для RandomForestClassifier,GradientBoostingClassifier. Напишите как изменился результат и какой вывод можно из этого сделать."
   ]
  },
  {
   "cell_type": "code",
   "execution_count": 1388,
   "metadata": {},
   "outputs": [],
   "source": []
  },
  {
   "cell_type": "markdown",
   "metadata": {},
   "source": [
    "18. Подберите наилучшую модель, подбирая методы обработки колонок - масштабирование признаков, кодирование признаков и заполнение пропусков. Параметры алгоритмов оставьте по умолчанию. Выведите итоговые параметры и результат accuracy и f1_score."
   ]
  },
  {
   "cell_type": "code",
   "execution_count": 1388,
   "metadata": {},
   "outputs": [],
   "source": []
  }
 ],
 "metadata": {
  "kernelspec": {
   "display_name": "Python 3.9.7 ('ds-practise': venv)",
   "language": "python",
   "name": "python3"
  },
  "language_info": {
   "codemirror_mode": {
    "name": "ipython",
    "version": 3
   },
   "file_extension": ".py",
   "mimetype": "text/x-python",
   "name": "python",
   "nbconvert_exporter": "python",
   "pygments_lexer": "ipython3",
   "version": "3.9.7"
  },
  "vscode": {
   "interpreter": {
    "hash": "4676742b88cfe92009507386bd6f30f01ba523675ef5eef0cf8284a053b8305a"
   }
  }
 },
 "nbformat": 4,
 "nbformat_minor": 2
}