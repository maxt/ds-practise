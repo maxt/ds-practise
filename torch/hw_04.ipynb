{
 "cells": [
  {
   "cell_type": "markdown",
   "metadata": {},
   "source": [
    "## Домашнее задание 4\n",
    "* Сравнить LSTM, RNN и GRU на задаче предсказания части речи (качество предсказания, скорость обучения, время инференса модели)\n",
    "* *к первой задаче добавить bidirectional"
   ]
  },
  {
   "cell_type": "code",
   "execution_count": 39,
   "metadata": {},
   "outputs": [],
   "source": [
    "import time\n",
    "import warnings\n",
    "import pandas as pd\n",
    "import torch\n",
    "import torch.nn as nn\n",
    "from torch.utils.data import Dataset\n",
    "from torch.nn.utils.rnn import pad_sequence\n",
    "from torch.utils.data import DataLoader\n",
    "from os.path import exists\n",
    "warnings.filterwarnings('ignore')"
   ]
  },
  {
   "cell_type": "code",
   "execution_count": 40,
   "metadata": {},
   "outputs": [],
   "source": [
    "class DatasetSeq(Dataset):\n",
    "    def __init__(self, data_dir, train_lang='en'):\n",
    "\t#open file\n",
    "        with open(data_dir + train_lang + '.train', 'r') as f:\n",
    "            train = f.read().split('\\n\\n')\n",
    "\n",
    "        # delete extra tag markup\n",
    "        train = [x for x in train if not '_ ' in x]\n",
    "\t    #init vocabs of tokens for encoding { token:  id}\n",
    "        self.target_vocab = {} # {p: 1, a: 2, r: 3, pu: 4}\n",
    "        self.word_vocab = {} # {cat: 1, sat: 2, on: 3, mat: 4, '.': 5}\n",
    "        self.char_vocab = {} # {c: 1, a: 2, t: 3, ' ': 4, s: 5}\n",
    "\t    \n",
    "        # Cat sat on mat. -> [1, 2, 3, 4, 5]\n",
    "        # p    a  r  p pu -> [1, 2, 3, 1, 4]\n",
    "        # chars  -> [1, 2, 3, 4, 5, 2, 3, 4]\n",
    "\n",
    "\t    #init encoded sequences lists (processed data)\n",
    "        self.encoded_sequences = []\n",
    "        self.encoded_targets = []\n",
    "        self.encoded_char_sequences = []\n",
    "        # n=1 because first value is padding\n",
    "        n_word = 1\n",
    "        n_target = 1\n",
    "        n_char = 1\n",
    "        for line in train:\n",
    "            sequence = []\n",
    "            target = []\n",
    "            chars = []\n",
    "            for item in line.split('\\n'):\n",
    "                if item != '':\n",
    "                    word, label = item.split(' ')\n",
    "\n",
    "                    if self.word_vocab.get(word) is None:\n",
    "                        self.word_vocab[word] = n_word\n",
    "                        n_word += 1\n",
    "                    if self.target_vocab.get(label) is None:\n",
    "                        self.target_vocab[label] = n_target\n",
    "                        n_target += 1\n",
    "                    for char in word:\n",
    "                        if self.char_vocab.get(char) is None:\n",
    "                            self.char_vocab[char] = n_char\n",
    "                            n_char += 1\n",
    "                    sequence.append(self.word_vocab[word])\n",
    "                    target.append(self.target_vocab[label])\n",
    "                    chars.append([self.char_vocab[char] for char in word])\n",
    "            self.encoded_sequences.append(sequence)\n",
    "            self.encoded_targets.append(target)\n",
    "            self.encoded_char_sequences.append(chars)\n",
    "\n",
    "    def __len__(self):\n",
    "        return len(self.encoded_sequences)\n",
    "\n",
    "    def __getitem__(self, index):\n",
    "        return {\n",
    "            'data': self.encoded_sequences[index], # [1, 2, 3, 4, 6] len=5\n",
    "            'char': self.encoded_char_sequences[index],# [[1,2,3], [4,5], [1,2], [2,6,5,4], []] len=5\n",
    "            'target': self.encoded_targets[index], #  (1)\n",
    "        }\n",
    "\n",
    "dataset = DatasetSeq('')        "
   ]
  },
  {
   "cell_type": "code",
   "execution_count": 41,
   "metadata": {},
   "outputs": [],
   "source": [
    "def collate_fn(batch):\n",
    "    data = []\n",
    "    target = []\n",
    "    for item in batch:\n",
    "        data.append(torch.as_tensor(item['data']))\n",
    "        target.append(torch.as_tensor(item['target']))\n",
    "    data = pad_sequence(data, batch_first=True, padding_value=0)\n",
    "    target = pad_sequence(target, batch_first=True, padding_value=0)\n",
    "\n",
    "    return {'data': data, 'target': target}\n",
    "     "
   ]
  },
  {
   "cell_type": "code",
   "execution_count": 42,
   "metadata": {},
   "outputs": [],
   "source": [
    "\n",
    "class RNNPredictorV2(nn.Module):\n",
    "    # ну я тут добавил параметр, которым будет задаваться класс, модель с которым нам нужно создать\n",
    "    def __init__(self, vocab_size, emb_dim, hidden_dim, n_classes, cl):\n",
    "        super().__init__()\n",
    "        self.word_emb = nn.Embedding(vocab_size, emb_dim)\n",
    "        #TODO try to use other RNN archicetures, f.e. RNN and LSTM\n",
    "        self.word_emb = nn.Embedding(vocab_size, emb_dim)\n",
    "        # соответственно здесь - инициируется как раз объект этого класса, то есть модель в каждом случае  будет разная\n",
    "        self.rnn = cl(emb_dim, hidden_dim, batch_first=True)\n",
    "        self.clf = nn.Linear(hidden_dim, n_classes)\n",
    "        self.do = nn.Dropout(0.1)\n",
    "    \n",
    "    def forward(self, x):\n",
    "        emb = self.word_emb(x) # B x T x Emb_dim\n",
    "        hidden, _ = self.rnn(emb) # B x T x Hid, B x 1 x Hid\n",
    "        pred = self.clf(self.do(hidden)) # B x T x N_classes\n",
    "\n",
    "        return pred"
   ]
  },
  {
   "cell_type": "code",
   "execution_count": 43,
   "metadata": {},
   "outputs": [],
   "source": [
    "#hyper params\n",
    "vocab_size = len(dataset.word_vocab) + 1\n",
    "n_classes = len(dataset.target_vocab) + 1\n",
    "n_chars = len(dataset.char_vocab) + 1\n",
    "#TODO try to use other model parameters\n",
    "emb_dim = 128\n",
    "hidden = 128\n",
    "n_epochs = 10\n",
    "batch_size = 100\n",
    "device = 'cpu'"
   ]
  },
  {
   "cell_type": "code",
   "execution_count": 44,
   "metadata": {},
   "outputs": [],
   "source": [
    "# здесь я формирую три объекта модели и соответсвующего оптимизатора\n",
    "model_rnn = RNNPredictorV2(vocab_size, emb_dim, hidden, n_classes, nn.RNN).to(device)\n",
    "model_rnn.train()\n",
    "optim_rnn = torch.optim.Adam(model_rnn.parameters(), lr=0.001)\n",
    "loss_func = nn.CrossEntropyLoss()\n",
    "\n",
    "model_lstm = RNNPredictorV2(vocab_size, emb_dim, hidden, n_classes, nn.LSTM).to(device)\n",
    "model_lstm.train()\n",
    "optim_lstm = torch.optim.Adam(model_lstm.parameters(), lr=0.001)\n",
    "loss_func = nn.CrossEntropyLoss()\n",
    "\n",
    "model_gru = RNNPredictorV2(vocab_size, emb_dim, hidden, n_classes, nn.GRU).to(device)\n",
    "model_gru.train()\n",
    "optim_gru = torch.optim.Adam(model_gru.parameters(), lr=0.001)\n",
    "loss_func = nn.CrossEntropyLoss()"
   ]
  },
  {
   "cell_type": "markdown",
   "metadata": {
    "collapsed": false
   },
   "source": []
  },
  {
   "cell_type": "code",
   "execution_count": 45,
   "metadata": {
    "collapsed": false,
    "pycharm": {
     "name": "#%%\n"
    }
   },
   "outputs": [],
   "source": [
    "epoch_stats_df = pd.DataFrame(columns=['Epoch','RNN', 'LSTM', 'GRU'])"
   ]
  },
  {
   "cell_type": "code",
   "execution_count": 46,
   "metadata": {},
   "outputs": [
    {
     "name": "stdout",
     "output_type": "stream",
     "text": [
      "rnn epoch:0| rnn: 6.24646520614624, lstm epoch: 13.578176975250244, gru: 11.948695182800293\n",
      "rnn epoch:1| rnn: 6.3876729011535645, lstm epoch: 13.677088975906372, gru: 11.525660753250122\n",
      "rnn epoch:2| rnn: 6.40909481048584, lstm epoch: 13.22965407371521, gru: 11.384986162185669\n",
      "rnn epoch:3| rnn: 6.224084138870239, lstm epoch: 13.220654010772705, gru: 11.276286125183105\n",
      "rnn epoch:4| rnn: 6.17740797996521, lstm epoch: 13.328155040740967, gru: 11.572083950042725\n",
      "rnn epoch:5| rnn: 6.322181224822998, lstm epoch: 13.322430849075317, gru: 12.128712892532349\n",
      "rnn epoch:6| rnn: 6.2940521240234375, lstm epoch: 13.571205854415894, gru: 11.397433996200562\n",
      "rnn epoch:7| rnn: 6.2475950717926025, lstm epoch: 13.449328899383545, gru: 11.632580280303955\n",
      "rnn epoch:8| rnn: 6.498455047607422, lstm epoch: 13.316591024398804, gru: 11.571944236755371\n",
      "rnn epoch:9| rnn: 6.31983494758606, lstm epoch: 13.560894966125488, gru: 11.778913021087646\n",
      "here is dataframe with epoch epochs statistics\n"
     ]
    }
   ],
   "source": [
    "# служебный класс для прогона \"эпохи\"\n",
    "def process_epoch(model: nn.Module, optimizer: torch.optim.Optimizer):\n",
    "    time_before = time.time()\n",
    "    for i, batch in enumerate(dataloader):\n",
    "        optimizer.zero_grad()\n",
    "        predict = model(batch['data'].to(device))\n",
    "        loss = loss_func(predict.view(-1, n_classes),\n",
    "                         batch['target'].to(device).view(-1),\n",
    "                         )\n",
    "        loss.backward()\n",
    "        optimizer.step()\n",
    "    time_after = time.time()\n",
    "    return time_after-time_before\n",
    "\n",
    "if not exists('learning_stats.pickle'):\n",
    "# обучающий цикл. он будет один, за одну эпоху обучаем все три модели. продолжительность эпохи длякаджой модели записываем в датафрейм\n",
    "    for epoch in range(n_epochs):\n",
    "        dataloader = DataLoader(dataset, \n",
    "                                batch_size, \n",
    "                                shuffle=True, \n",
    "                                collate_fn=collate_fn,\n",
    "                                drop_last = True,\n",
    "                                )\n",
    "        ### rnn\n",
    "        rnn_epoch_duration = process_epoch(model_rnn, optim_rnn)\n",
    "        lstm_epoch_duration = process_epoch(model_lstm, optim_lstm)\n",
    "        gru_epoch_duration = process_epoch(model_gru, optim_gru)\n",
    "        print(f'rnn epoch:{epoch}| rnn: {rnn_epoch_duration}, lstm epoch: {lstm_epoch_duration}, gru: {gru_epoch_duration}')\n",
    "        epoch_stats_df = epoch_stats_df.append({'Epoch': epoch, 'RNN':rnn_epoch_duration, 'LSTM':lstm_epoch_duration, 'GRU':gru_epoch_duration},ignore_index=True)\n",
    "        torch.save(model_rnn, 'my_rnn_model.pickle')\n",
    "        torch.save(model_lstm, 'my_lstm_model.pickle')\n",
    "        torch.save(model_gru, 'my_gru_model.pickle')\n",
    "\n",
    "        epoch_stats_df.to_pickle('learning_stats.pickle')\n",
    "else:\n",
    "    epoch_stats_df = pd.read_pickle('learning_stats.pickle')\n",
    "    model_rnn = torch.load('my_rnn_model.pickle')\n",
    "    model_lstm = torch.load('my_lstm_model.pickle')\n",
    "    model_gru = torch.load('my_gru_model.pickle')\n",
    "    \n",
    "print('here is dataframe with epoch epochs statistics')\n",
    "\n"
   ]
  },
  {
   "cell_type": "code",
   "execution_count": 47,
   "metadata": {
    "collapsed": false,
    "pycharm": {
     "name": "#%%\n"
    }
   },
   "outputs": [
    {
     "data": {
      "text/html": [
       "<div>\n",
       "<style scoped>\n",
       "    .dataframe tbody tr th:only-of-type {\n",
       "        vertical-align: middle;\n",
       "    }\n",
       "\n",
       "    .dataframe tbody tr th {\n",
       "        vertical-align: top;\n",
       "    }\n",
       "\n",
       "    .dataframe thead th {\n",
       "        text-align: right;\n",
       "    }\n",
       "</style>\n",
       "<table border=\"1\" class=\"dataframe\">\n",
       "  <thead>\n",
       "    <tr style=\"text-align: right;\">\n",
       "      <th></th>\n",
       "      <th>Epoch</th>\n",
       "      <th>RNN</th>\n",
       "      <th>LSTM</th>\n",
       "      <th>GRU</th>\n",
       "    </tr>\n",
       "  </thead>\n",
       "  <tbody>\n",
       "    <tr>\n",
       "      <th>0</th>\n",
       "      <td>0.0</td>\n",
       "      <td>6.246465</td>\n",
       "      <td>13.578177</td>\n",
       "      <td>11.948695</td>\n",
       "    </tr>\n",
       "    <tr>\n",
       "      <th>1</th>\n",
       "      <td>1.0</td>\n",
       "      <td>6.387673</td>\n",
       "      <td>13.677089</td>\n",
       "      <td>11.525661</td>\n",
       "    </tr>\n",
       "    <tr>\n",
       "      <th>2</th>\n",
       "      <td>2.0</td>\n",
       "      <td>6.409095</td>\n",
       "      <td>13.229654</td>\n",
       "      <td>11.384986</td>\n",
       "    </tr>\n",
       "    <tr>\n",
       "      <th>3</th>\n",
       "      <td>3.0</td>\n",
       "      <td>6.224084</td>\n",
       "      <td>13.220654</td>\n",
       "      <td>11.276286</td>\n",
       "    </tr>\n",
       "    <tr>\n",
       "      <th>4</th>\n",
       "      <td>4.0</td>\n",
       "      <td>6.177408</td>\n",
       "      <td>13.328155</td>\n",
       "      <td>11.572084</td>\n",
       "    </tr>\n",
       "    <tr>\n",
       "      <th>5</th>\n",
       "      <td>5.0</td>\n",
       "      <td>6.322181</td>\n",
       "      <td>13.322431</td>\n",
       "      <td>12.128713</td>\n",
       "    </tr>\n",
       "    <tr>\n",
       "      <th>6</th>\n",
       "      <td>6.0</td>\n",
       "      <td>6.294052</td>\n",
       "      <td>13.571206</td>\n",
       "      <td>11.397434</td>\n",
       "    </tr>\n",
       "    <tr>\n",
       "      <th>7</th>\n",
       "      <td>7.0</td>\n",
       "      <td>6.247595</td>\n",
       "      <td>13.449329</td>\n",
       "      <td>11.632580</td>\n",
       "    </tr>\n",
       "    <tr>\n",
       "      <th>8</th>\n",
       "      <td>8.0</td>\n",
       "      <td>6.498455</td>\n",
       "      <td>13.316591</td>\n",
       "      <td>11.571944</td>\n",
       "    </tr>\n",
       "    <tr>\n",
       "      <th>9</th>\n",
       "      <td>9.0</td>\n",
       "      <td>6.319835</td>\n",
       "      <td>13.560895</td>\n",
       "      <td>11.778913</td>\n",
       "    </tr>\n",
       "  </tbody>\n",
       "</table>\n",
       "</div>"
      ],
      "text/plain": [
       "   Epoch       RNN       LSTM        GRU\n",
       "0    0.0  6.246465  13.578177  11.948695\n",
       "1    1.0  6.387673  13.677089  11.525661\n",
       "2    2.0  6.409095  13.229654  11.384986\n",
       "3    3.0  6.224084  13.220654  11.276286\n",
       "4    4.0  6.177408  13.328155  11.572084\n",
       "5    5.0  6.322181  13.322431  12.128713\n",
       "6    6.0  6.294052  13.571206  11.397434\n",
       "7    7.0  6.247595  13.449329  11.632580\n",
       "8    8.0  6.498455  13.316591  11.571944\n",
       "9    9.0  6.319835  13.560895  11.778913"
      ]
     },
     "execution_count": 47,
     "metadata": {},
     "output_type": "execute_result"
    }
   ],
   "source": [
    "epoch_stats_df"
   ]
  },
  {
   "cell_type": "code",
   "execution_count": 48,
   "metadata": {
    "collapsed": false,
    "pycharm": {
     "name": "#%%\n"
    }
   },
   "outputs": [
    {
     "data": {
      "text/plain": [
       "<AxesSubplot:title={'center':'Статистика времени обучения'}, xlabel='Epoch'>"
      ]
     },
     "execution_count": 48,
     "metadata": {},
     "output_type": "execute_result"
    },
    {
     "data": {
      "image/png": "[encoded data removed]",
      "text/plain": [
       "<Figure size 432x288 with 1 Axes>"
      ]
     },
     "metadata": {
      "needs_background": "light"
     },
     "output_type": "display_data"
    }
   ],
   "source": [
    "epoch_stats_df_with_index = epoch_stats_df.set_index('Epoch')\n",
    "epoch_stats_df_with_index.plot(title = 'Статистика времени обучения', kind='bar' )\n"
   ]
  },
  {
   "cell_type": "code",
   "execution_count": null,
   "metadata": {
    "collapsed": false,
    "pycharm": {
     "name": "#%%\n"
    }
   },
   "outputs": [],
   "source": []
  }
 ],
 "metadata": {
  "kernelspec": {
   "display_name": "Python 3.9.7 ('tensorflow')",
   "language": "python",
   "name": "python3"
  },
  "language_info": {
   "codemirror_mode": {
    "name": "ipython",
    "version": 3
   },
   "file_extension": ".py",
   "mimetype": "text/x-python",
   "name": "python",
   "nbconvert_exporter": "python",
   "pygments_lexer": "ipython3",
   "version": "3.9.7"
  },
  "orig_nbformat": 4,
  "vscode": {
   "interpreter": {
    "hash": "fa0bc865107c7062c66623b84ed7848967abd0ba5cbabe70080959ae0fa18d9a"
   }
  }
 },
 "nbformat": 4,
 "nbformat_minor": 2
}
