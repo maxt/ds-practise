{
 "cells": [
  {
   "cell_type": "markdown",
   "metadata": {},
   "source": [
    "## Домашнее задание 4\n",
    "* Сравнить LSTM, RNN и GRU на задаче предсказания части речи (качество предсказания, скорость обучения, время инференса модели)\n",
    "* *к первой задаче добавить bidirectional"
   ]
  },
  {
   "cell_type": "code",
   "execution_count": 328,
   "metadata": {},
   "outputs": [],
   "source": [
    "import time\n",
    "import warnings\n",
    "import pandas as pd\n",
    "import torch\n",
    "import torch.nn as nn\n",
    "from torch.utils.data import Dataset\n",
    "from torch.nn.utils.rnn import pad_sequence\n",
    "from torch.utils.data import DataLoader\n",
    "import numpy as np\n",
    "from os.path import exists\n",
    "warnings.filterwarnings('ignore')\n",
    "from sklearn.metrics import r2_score"
   ]
  },
  {
   "cell_type": "code",
   "execution_count": 329,
   "metadata": {},
   "outputs": [],
   "source": [
    "class DatasetSeq(Dataset):\n",
    "    def __init__(self, data_dir, train_lang='en'):\n",
    "\t#open file\n",
    "        with open(data_dir + train_lang + '.train', 'r') as f:\n",
    "            train = f.read().split('\\n\\n')\n",
    "\n",
    "        # delete extra tag markup\n",
    "        train = [x for x in train if not '_ ' in x]\n",
    "\t    #init vocabs of tokens for encoding { token:  id}\n",
    "        self.target_vocab = {} # {p: 1, a: 2, r: 3, pu: 4}\n",
    "        self.word_vocab = {} # {cat: 1, sat: 2, on: 3, mat: 4, '.': 5}\n",
    "        self.char_vocab = {} # {c: 1, a: 2, t: 3, ' ': 4, s: 5}\n",
    "\t    \n",
    "        # Cat sat on mat. -> [1, 2, 3, 4, 5]\n",
    "        # p    a  r  p pu -> [1, 2, 3, 1, 4]\n",
    "        # chars  -> [1, 2, 3, 4, 5, 2, 3, 4]\n",
    "\n",
    "\t    #init encoded sequences lists (processed data)\n",
    "        self.encoded_sequences = []\n",
    "        self.encoded_targets = []\n",
    "        self.encoded_char_sequences = []\n",
    "        # n=1 because first value is padding\n",
    "        n_word = 1\n",
    "        n_target = 1\n",
    "        n_char = 1\n",
    "        for line in train:\n",
    "            sequence = []\n",
    "            target = []\n",
    "            chars = []\n",
    "            for item in line.split('\\n'):\n",
    "                if item != '':\n",
    "                    word, label = item.split(' ')\n",
    "\n",
    "                    if self.word_vocab.get(word) is None:\n",
    "                        self.word_vocab[word] = n_word\n",
    "                        n_word += 1\n",
    "                    if self.target_vocab.get(label) is None:\n",
    "                        self.target_vocab[label] = n_target\n",
    "                        n_target += 1\n",
    "                    for char in word:\n",
    "                        if self.char_vocab.get(char) is None:\n",
    "                            self.char_vocab[char] = n_char\n",
    "                            n_char += 1\n",
    "                    sequence.append(self.word_vocab[word])\n",
    "                    target.append(self.target_vocab[label])\n",
    "                    chars.append([self.char_vocab[char] for char in word])\n",
    "            self.encoded_sequences.append(sequence)\n",
    "            self.encoded_targets.append(target)\n",
    "            self.encoded_char_sequences.append(chars)\n",
    "\n",
    "    def __len__(self):\n",
    "        return len(self.encoded_sequences)\n",
    "\n",
    "    def __getitem__(self, index):\n",
    "        return {\n",
    "            'data': self.encoded_sequences[index], # [1, 2, 3, 4, 6] len=5\n",
    "            'char': self.encoded_char_sequences[index],# [[1,2,3], [4,5], [1,2], [2,6,5,4], []] len=5\n",
    "            'target': self.encoded_targets[index], #  (1)\n",
    "        }\n",
    "\n",
    "dataset = DatasetSeq('')        "
   ]
  },
  {
   "cell_type": "code",
   "execution_count": 330,
   "metadata": {},
   "outputs": [],
   "source": [
    "def collate_fn(batch):\n",
    "    data = []\n",
    "    target = []\n",
    "    for item in batch:\n",
    "        data.append(torch.as_tensor(item['data']))\n",
    "        target.append(torch.as_tensor(item['target']))\n",
    "    data = pad_sequence(data, batch_first=True, padding_value=0)\n",
    "    target = pad_sequence(target, batch_first=True, padding_value=0)\n",
    "\n",
    "    return {'data': data, 'target': target}\n",
    "     "
   ]
  },
  {
   "cell_type": "code",
   "execution_count": 331,
   "metadata": {},
   "outputs": [],
   "source": [
    "\n",
    "class RNNPredictorV2(nn.Module):\n",
    "    # ну я тут добавил параметр, которым будет задаваться класс, модель с которым нам нужно создать\n",
    "    def __init__(self, vocab_size, emb_dim, hidden_dim, n_classes, cl):\n",
    "        super().__init__()\n",
    "        self.word_emb = nn.Embedding(vocab_size, emb_dim)\n",
    "        #TODO try to use other RNN archicetures, f.e. RNN and LSTM\n",
    "        self.word_emb = nn.Embedding(vocab_size, emb_dim)\n",
    "        # соответственно здесь - инициируется как раз объект этого класса, то есть модель в каждом случае  будет разная\n",
    "        self.rnn = cl(emb_dim, hidden_dim, batch_first=True)\n",
    "        self.clf = nn.Linear(hidden_dim, n_classes)\n",
    "        self.do = nn.Dropout(0.1)\n",
    "    \n",
    "    def forward(self, x):\n",
    "        emb = self.word_emb(x) # B x T x Emb_dim\n",
    "        hidden, _ = self.rnn(emb) # B x T x Hid, B x 1 x Hid\n",
    "        pred = self.clf(self.do(hidden)) # B x T x N_classes\n",
    "\n",
    "        return pred"
   ]
  },
  {
   "cell_type": "code",
   "execution_count": 332,
   "metadata": {},
   "outputs": [],
   "source": [
    "#hyper params\n",
    "vocab_size = len(dataset.word_vocab) + 1\n",
    "n_classes = len(dataset.target_vocab) + 1\n",
    "n_chars = len(dataset.char_vocab) + 1\n",
    "#TODO try to use other model parameters\n",
    "emb_dim = 128\n",
    "hidden = 128\n",
    "n_epochs = 10\n",
    "batch_size = 100\n",
    "device = 'cpu'"
   ]
  },
  {
   "cell_type": "code",
   "execution_count": 333,
   "metadata": {},
   "outputs": [],
   "source": [
    "# здесь я формирую три объекта модели и соответсвующего оптимизатора\n",
    "model_rnn = RNNPredictorV2(vocab_size, emb_dim, hidden, n_classes, nn.RNN).to(device)\n",
    "model_rnn.train()\n",
    "optim_rnn = torch.optim.Adam(model_rnn.parameters(), lr=0.001)\n",
    "loss_func = nn.CrossEntropyLoss()\n",
    "\n",
    "model_lstm = RNNPredictorV2(vocab_size, emb_dim, hidden, n_classes, nn.LSTM).to(device)\n",
    "model_lstm.train()\n",
    "optim_lstm = torch.optim.Adam(model_lstm.parameters(), lr=0.001)\n",
    "loss_func = nn.CrossEntropyLoss()\n",
    "\n",
    "model_gru = RNNPredictorV2(vocab_size, emb_dim, hidden, n_classes, nn.GRU).to(device)\n",
    "model_gru.train()\n",
    "optim_gru = torch.optim.Adam(model_gru.parameters(), lr=0.001)\n",
    "loss_func = nn.CrossEntropyLoss()"
   ]
  },
  {
   "cell_type": "markdown",
   "metadata": {
    "collapsed": false
   },
   "source": []
  },
  {
   "cell_type": "code",
   "execution_count": 334,
   "metadata": {
    "collapsed": false,
    "pycharm": {
     "name": "#%%\n"
    }
   },
   "outputs": [],
   "source": [
    "epoch_stats_df = pd.DataFrame(columns=['Epoch','RNN', 'LSTM', 'GRU'])"
   ]
  },
  {
   "cell_type": "code",
   "execution_count": 335,
   "outputs": [
    {
     "name": "stdout",
     "output_type": "stream",
     "text": [
      "212\n"
     ]
    }
   ],
   "source": [
    "dataloader = DataLoader(dataset, batch_size, shuffle=False, collate_fn=collate_fn, drop_last = True)\n",
    "print(len(dataloader))\n",
    "test_dataset = list()\n",
    "if exists('learning_stats.pickle'):\n",
    "    for i, batch in enumerate(dataloader):\n",
    "        if i>200:\n",
    "            test_dataset.append((i,batch))\n"
   ],
   "metadata": {
    "collapsed": false,
    "pycharm": {
     "name": "#%%\n"
    }
   }
  },
  {
   "cell_type": "code",
   "execution_count": 336,
   "metadata": {},
   "outputs": [
    {
     "name": "stdout",
     "output_type": "stream",
     "text": [
      "here is dataframe with epoch epochs statistics\n"
     ]
    }
   ],
   "source": [
    "# служебный класс для прогона \"эпохи\"\n",
    "def process_epoch(model: nn.Module, optimizer: torch.optim.Optimizer):\n",
    "    time_before = time.time()\n",
    "    for i, batch in enumerate(dataloader):\n",
    "        if i <= 200:\n",
    "            optimizer.zero_grad()\n",
    "            predict = model(batch['data'].to(device))\n",
    "            loss = loss_func(predict.view(-1, n_classes),\n",
    "                             batch['target'].to(device).view(-1),\n",
    "                           )\n",
    "            loss.backward()\n",
    "            optimizer.step()\n",
    "        elif epoch==0:\n",
    "            test_dataset.append((i,batch)) # оставляю кусок датасета для замера времени инференса и подсчета качества каждой модели.  батчи [201-212] буду использовать для теста\n",
    "    time_after = time.time()\n",
    "    return time_after-time_before\n",
    "\n",
    "if not exists('learning_stats.pickle'):\n",
    "# обучающий цикл. он будет один, за одну эпоху обучаем все три модели. продолжительность эпохи длякаджой модели записываем в датафрейм\n",
    "    for epoch in range(n_epochs):\n",
    "        ### rnn\n",
    "        rnn_epoch_duration = process_epoch(model_rnn, optim_rnn)\n",
    "        lstm_epoch_duration = process_epoch(model_lstm, optim_lstm)\n",
    "        gru_epoch_duration = process_epoch(model_gru, optim_gru)\n",
    "        print(f'rnn epoch:{epoch}| rnn: {rnn_epoch_duration}, lstm epoch: {lstm_epoch_duration}, gru: {gru_epoch_duration}')\n",
    "        epoch_stats_df = epoch_stats_df.append({'Epoch': epoch, 'RNN':rnn_epoch_duration, 'LSTM':lstm_epoch_duration, 'GRU':gru_epoch_duration},ignore_index=True)\n",
    "        torch.save(model_rnn, 'my_rnn_model.pickle')\n",
    "        torch.save(model_lstm, 'my_lstm_model.pickle')\n",
    "        torch.save(model_gru, 'my_gru_model.pickle')\n",
    "\n",
    "        epoch_stats_df.to_pickle('learning_stats.pickle')\n",
    "else:\n",
    "    epoch_stats_df = pd.read_pickle('learning_stats.pickle')\n",
    "    model_rnn = torch.load('my_rnn_model.pickle')\n",
    "    model_lstm = torch.load('my_lstm_model.pickle')\n",
    "    model_gru = torch.load('my_gru_model.pickle')\n",
    "    \n",
    "print('here is dataframe with epoch epochs statistics')\n",
    "\n"
   ]
  },
  {
   "cell_type": "code",
   "execution_count": 337,
   "metadata": {
    "collapsed": false,
    "pycharm": {
     "name": "#%%\n"
    }
   },
   "outputs": [
    {
     "data": {
      "text/plain": "   Epoch        RNN       LSTM        GRU\n0    0.0  22.023321  44.102972  33.015869\n1    1.0  13.893792  30.872998  31.322590\n2    2.0  16.637536  31.142680  26.012760\n3    3.0  21.258318  32.081172  34.237150",
      "text/html": "<div>\n<style scoped>\n    .dataframe tbody tr th:only-of-type {\n        vertical-align: middle;\n    }\n\n    .dataframe tbody tr th {\n        vertical-align: top;\n    }\n\n    .dataframe thead th {\n        text-align: right;\n    }\n</style>\n<table border=\"1\" class=\"dataframe\">\n  <thead>\n    <tr style=\"text-align: right;\">\n      <th></th>\n      <th>Epoch</th>\n      <th>RNN</th>\n      <th>LSTM</th>\n      <th>GRU</th>\n    </tr>\n  </thead>\n  <tbody>\n    <tr>\n      <th>0</th>\n      <td>0.0</td>\n      <td>22.023321</td>\n      <td>44.102972</td>\n      <td>33.015869</td>\n    </tr>\n    <tr>\n      <th>1</th>\n      <td>1.0</td>\n      <td>13.893792</td>\n      <td>30.872998</td>\n      <td>31.322590</td>\n    </tr>\n    <tr>\n      <th>2</th>\n      <td>2.0</td>\n      <td>16.637536</td>\n      <td>31.142680</td>\n      <td>26.012760</td>\n    </tr>\n    <tr>\n      <th>3</th>\n      <td>3.0</td>\n      <td>21.258318</td>\n      <td>32.081172</td>\n      <td>34.237150</td>\n    </tr>\n  </tbody>\n</table>\n</div>"
     },
     "execution_count": 337,
     "metadata": {},
     "output_type": "execute_result"
    }
   ],
   "source": [
    "epoch_stats_df"
   ]
  },
  {
   "cell_type": "code",
   "execution_count": 338,
   "metadata": {
    "collapsed": false,
    "pycharm": {
     "name": "#%%\n"
    }
   },
   "outputs": [
    {
     "data": {
      "text/plain": "<AxesSubplot: title={'center': 'Статистика времени обучения'}, xlabel='Epoch'>"
     },
     "execution_count": 338,
     "metadata": {},
     "output_type": "execute_result"
    },
    {
     "data": {
      "text/plain": "<Figure size 640x480 with 1 Axes>",
      "image/png": "[encoded data removed]"
     },
     "metadata": {},
     "output_type": "display_data"
    }
   ],
   "source": [
    "epoch_stats_df_with_index = epoch_stats_df.set_index('Epoch')\n",
    "epoch_stats_df_with_index.plot(title = 'Статистика времени обучения', kind='bar' )\n"
   ]
  },
  {
   "cell_type": "code",
   "execution_count": 339,
   "metadata": {
    "collapsed": false,
    "pycharm": {
     "name": "#%%\n"
    }
   },
   "outputs": [
    {
     "data": {
      "text/plain": "11"
     },
     "execution_count": 339,
     "metadata": {},
     "output_type": "execute_result"
    }
   ],
   "source": [
    "len(test_dataset)"
   ]
  },
  {
   "cell_type": "code",
   "execution_count": 340,
   "outputs": [],
   "source": [
    "loss_func = nn.L1Loss()\n",
    "\n",
    "def measure_inference_time(model: nn.Module, test_dataset: list):\n",
    "    result = np.zeros(len(test_dataset))\n",
    "    result_r2 = np.zeros(len(test_dataset))\n",
    "    model.eval()\n",
    "    numpy_index = 0\n",
    "    for i, batch in test_dataset:\n",
    "        time_bef = time.time()\n",
    "        cur_res = model(batch['data'].to(device))\n",
    "        exp_res = batch['target']\n",
    "        cur_res = torch.argmax(cur_res, dim=2)\n",
    "        r2 = r2_score(exp_res, cur_res)\n",
    "        result_r2[numpy_index] = r2\n",
    "        time_aft = time.time()\n",
    "        time_diff = time_aft - time_bef\n",
    "        result[numpy_index] = time_diff\n",
    "        numpy_index+=1\n",
    "    return np.average(result), np.average(result_r2)"
   ],
   "metadata": {
    "collapsed": false,
    "pycharm": {
     "name": "#%%\n"
    }
   }
  },
  {
   "cell_type": "code",
   "execution_count": 341,
   "outputs": [
    {
     "name": "stdout",
     "output_type": "stream",
     "text": [
      "Here is some statistics of model's inference time: \n",
      "rnn: 0.017042463476007633\n",
      "lstm: 0.05696270682594993\n",
      "gru: 0.042004173452203926\n",
      "Here is some statistic about quality of difference models (comparing by r2_score):\n",
      "rnn r2: 0.6143374167176283\n",
      "lstm_r2: 0.8183681064890176\n",
      "gru_r2: 0.8553043389324042\n"
     ]
    }
   ],
   "source": [
    "rnn_res = measure_inference_time(model_rnn, test_dataset)\n",
    "inference_rnn = rnn_res[0]\n",
    "r2_rnn = rnn_res[1]\n",
    "lstm_res = measure_inference_time(model_lstm, test_dataset)\n",
    "inference_lstm = lstm_res[0]\n",
    "r2_lstm = lstm_res[1]\n",
    "gru_res = measure_inference_time(model_gru, test_dataset)\n",
    "inference_gru = gru_res[0]\n",
    "r2_gru = gru_res[1]\n",
    "\n",
    "print('Here is some statistics of model\\'s inference time: ')\n",
    "print(f'rnn: {inference_rnn}')\n",
    "print(f'lstm: {inference_lstm}')\n",
    "print(f'gru: {inference_gru}')\n",
    "\n",
    "print('Here is some statistic about quality of difference models (comparing by r2_score):')\n",
    "print(f'rnn r2: {r2_rnn}')\n",
    "print(f'lstm_r2: {r2_lstm}')\n",
    "print(f'gru_r2: {r2_gru}')"
   ],
   "metadata": {
    "collapsed": false,
    "pycharm": {
     "name": "#%%\n"
    }
   }
  }
 ],
 "metadata": {
  "kernelspec": {
   "display_name": "Python 3.9.7 ('tensorflow')",
   "language": "python",
   "name": "python3"
  },
  "language_info": {
   "codemirror_mode": {
    "name": "ipython",
    "version": 3
   },
   "file_extension": ".py",
   "mimetype": "text/x-python",
   "name": "python",
   "nbconvert_exporter": "python",
   "pygments_lexer": "ipython3",
   "version": "3.9.7"
  },
  "orig_nbformat": 4,
  "vscode": {
   "interpreter": {
    "hash": "fa0bc865107c7062c66623b84ed7848967abd0ba5cbabe70080959ae0fa18d9a"
   }
  }
 },
 "nbformat": 4,
 "nbformat_minor": 2
}