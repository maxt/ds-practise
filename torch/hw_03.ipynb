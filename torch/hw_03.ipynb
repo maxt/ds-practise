{
 "cells": [
  {
   "cell_type": "markdown",
   "metadata": {},
   "source": [
    "### Домашнее задание 3\n",
    "* Обучить AE собственной архитектуры на MNIST\n",
    "* Обучить VAE собственной архитектуры на MNIST\n",
    "* *Обучить VAE с переносом стиля на MNIST (на вход декодеру подавать hidden c таргетным значением, чтобы можно было нарисовать заданную цифру в заданном стиле)"
   ]
  },
  {
   "cell_type": "markdown",
   "source": [
    "## AE собственной архитектуры (из ДЗ2)"
   ],
   "metadata": {
    "collapsed": false
   }
  },
  {
   "cell_type": "code",
   "execution_count": 7,
   "outputs": [],
   "source": [
    "import numpy\n",
    "import torch\n",
    "import torch.nn as nn\n",
    "import torchvision.models as models\n",
    "from torchvision import datasets\n",
    "from torch.utils.data import DataLoader\n",
    "import matplotlib.pyplot as plt"
   ],
   "metadata": {
    "collapsed": false,
    "pycharm": {
     "name": "#%%\n"
    }
   }
  },
  {
   "cell_type": "code",
   "execution_count": 8,
   "outputs": [],
   "source": [
    "dataset = datasets.MNIST('.', download=True)"
   ],
   "metadata": {
    "collapsed": false,
    "pycharm": {
     "name": "#%%\n"
    }
   }
  },
  {
   "cell_type": "code",
   "execution_count": 9,
   "outputs": [],
   "source": [
    "# hyperparams\n",
    "in_chan = 1\n",
    "hidden_ch = 64\n",
    "out_ch = 1\n",
    "device_id = -1\n",
    "device = 'cpu' if device_id == -1 else f'cuda:{device_id}'\n",
    "n_epochs = 10\n",
    "batch_size = 128"
   ],
   "metadata": {
    "collapsed": false,
    "pycharm": {
     "name": "#%%\n"
    }
   }
  },
  {
   "cell_type": "code",
   "execution_count": 10,
   "outputs": [],
   "source": [
    "class Encoder(nn.Module):\n",
    "  #28x28 -> 14x14 -> 7x7\n",
    "  def __init__(self, in_chan, hidden_ch, out_ch):\n",
    "    super().__init__()\n",
    "    #TODO modify architecture as you wish. Add more layers, make hidden smaller, etc\n",
    "    self.conv1 = nn.Conv2d(in_chan, hidden_ch, kernel_size=5, stride=1, padding=2)\n",
    "    self.pool1 = nn.MaxPool2d(2, 2) # 14 x 14\n",
    "    self.do1 = nn.Dropout(0.1)\n",
    "    self.conv2 = nn.Conv2d(hidden_ch, hidden_ch, kernel_size=3, stride=1, padding=1)\n",
    "    self.pool2 = nn.MaxPool2d(2, 2) # 7 x 7\n",
    "    self.do2 = nn.Dropout(0.1)\n",
    "    self.conv3 = nn.Conv2d(hidden_ch, out_ch, kernel_size=3, stride=1, padding=1)\n",
    "    self.activ = nn.ReLU()\n",
    "\n",
    "  def forward(self, x):\n",
    "    x = self.do1(self.activ(self.pool1(self.conv1(x))))\n",
    "    x = self.do2(self.activ(self.pool2(self.conv2(x))))\n",
    "    x = self.conv3(x)\n",
    "\n",
    "    return x\n",
    "\n",
    "class Decoder(nn.Module):\n",
    "  #hidden_out-> hidden -> 28*28\n",
    "  def __init__(self, in_chan, hidden_ch, out_ch):\n",
    "    super().__init__()\n",
    "    #TODO modify architecture as you wish. Add more layers, make hidden smaller, etc\n",
    "    self.conv1 = nn.Conv2d(out_ch, hidden_ch, kernel_size=3, stride=1, padding=1)\n",
    "    self.upsample1 = nn.UpsamplingNearest2d(scale_factor=2) # 14 x 14\n",
    "    self.do1 = nn.Dropout(0.1)\n",
    "    self.conv2 = nn.Conv2d(hidden_ch, hidden_ch, kernel_size=3, stride=1, padding=1)\n",
    "    self.upsample2 = nn.UpsamplingNearest2d(scale_factor=2) # 28 x 28\n",
    "    self.do2 = nn.Dropout(0.1)\n",
    "    self.conv3 = nn.Conv2d(hidden_ch, in_chan, kernel_size=5, stride=1, padding=2)\n",
    "    self.activ = nn.ReLU()\n",
    "\n",
    "  def forward(self, x):\n",
    "    x = self.do1(self.activ(self.upsample1(self.conv1(x))))\n",
    "    x = self.do2(self.activ(self.upsample2(self.conv2(x))))\n",
    "    x = self.conv3(x)\n",
    "\n",
    "    return x\n",
    "\n",
    "class ConvAutoEncoder(nn.Module):\n",
    "  def __init__(self, in_chan, hidden_ch, out_ch):\n",
    "    super().__init__()\n",
    "    self.encoder = Encoder(in_chan, hidden_ch, out_ch)\n",
    "    self.decoder = Decoder(in_chan, hidden_ch, out_ch)\n",
    "\n",
    "  def forward(self, x):\n",
    "    hidden = self.encoder(x)\n",
    "    x_ = self.decoder(hidden)\n",
    "\n",
    "    return x_"
   ],
   "metadata": {
    "collapsed": false,
    "pycharm": {
     "name": "#%%\n"
    }
   }
  },
  {
   "cell_type": "code",
   "execution_count": 11,
   "outputs": [],
   "source": [
    "def collate_fn_conv(data: list):\n",
    "  # data = [(pic, target)...]\n",
    "  pics = []\n",
    "  target = []\n",
    "  for item in data:\n",
    "    pics.append(numpy.array(item[0]))\n",
    "    target.append(item[1])\n",
    "  pics = torch.from_numpy(numpy.array(pics)).float() / 255 # B x W x H\n",
    "  target = torch.from_numpy(numpy.array(target))\n",
    "\n",
    "  return {\n",
    "      'data': pics.unsqueeze(1), # B x 1 x W x H\n",
    "      'target': target.long(),\n",
    "      }"
   ],
   "metadata": {
    "collapsed": false,
    "pycharm": {
     "name": "#%%\n"
    }
   }
  },
  {
   "cell_type": "code",
   "execution_count": 12,
   "outputs": [],
   "source": [
    "model_conv = ConvAutoEncoder(in_chan, hidden_ch, out_ch).to(device)\n",
    "optim = torch.optim.Adam(model_conv.parameters())\n",
    "loss_func = nn.L1Loss()"
   ],
   "metadata": {
    "collapsed": false,
    "pycharm": {
     "name": "#%%\n"
    }
   }
  },
  {
   "cell_type": "code",
   "execution_count": null,
   "outputs": [
    {
     "name": "stdout",
     "output_type": "stream",
     "text": [
      "epoch: 0, step: 0, loss: 0.16765087842941284\n",
      "epoch: 0, step: 200, loss: 0.05996495485305786\n",
      "epoch: 0, step: 400, loss: 0.05037703737616539\n"
     ]
    },
    {
     "data": {
      "text/plain": "<Figure size 640x480 with 1 Axes>",
      "image/png": "[encoded data removed]"
     },
     "metadata": {},
     "output_type": "display_data"
    },
    {
     "name": "stdout",
     "output_type": "stream",
     "text": [
      "epoch: 1, step: 0, loss: 0.046568550169467926\n",
      "epoch: 1, step: 200, loss: 0.04471932724118233\n",
      "epoch: 1, step: 400, loss: 0.0432002991437912\n"
     ]
    },
    {
     "data": {
      "text/plain": "<Figure size 640x480 with 1 Axes>",
      "image/png": "[encoded data removed]"
     },
     "metadata": {},
     "output_type": "display_data"
    },
    {
     "name": "stdout",
     "output_type": "stream",
     "text": [
      "epoch: 2, step: 0, loss: 0.043887365609407425\n",
      "epoch: 2, step: 200, loss: 0.04170225188136101\n",
      "epoch: 2, step: 400, loss: 0.04154348373413086\n"
     ]
    },
    {
     "data": {
      "text/plain": "<Figure size 640x480 with 1 Axes>",
      "image/png": "[encoded data removed]"
     },
     "metadata": {},
     "output_type": "display_data"
    },
    {
     "name": "stdout",
     "output_type": "stream",
     "text": [
      "epoch: 3, step: 0, loss: 0.0419844351708889\n",
      "epoch: 3, step: 200, loss: 0.039969202131032944\n"
     ]
    }
   ],
   "source": [
    "for epoch in range(n_epochs):\n",
    "  dataloader = DataLoader(dataset,\n",
    "                          batch_size,\n",
    "                          shuffle=True,\n",
    "                          collate_fn=collate_fn_conv,\n",
    "                          drop_last = True,\n",
    "                          )\n",
    "  for i, batch in enumerate(dataloader):\n",
    "    optim.zero_grad()\n",
    "\n",
    "    predict = model_conv(batch['data'].to(device))\n",
    "    loss = loss_func(predict, batch['data'].to(device))\n",
    "    loss.backward()\n",
    "    optim.step()\n",
    "    if i % 200 == 0:\n",
    "      print(f'epoch: {epoch}, step: {i}, loss: {loss.item()}')\n",
    "  item = dataset.data[1234].unsqueeze(0).unsqueeze(0).float()/255\n",
    "  plt.imshow(model_conv(item.to(device)).squeeze().cpu().detach().numpy())\n",
    "  plt.show()\n",
    "  torch.save(model_conv.state_dict(), f'./conv_ae_chkpt_conv_{epoch}.pth')"
   ],
   "metadata": {
    "collapsed": false,
    "pycharm": {
     "name": "#%%\n",
     "is_executing": true
    }
   }
  }
 ],
 "metadata": {
  "interpreter": {
   "hash": "6fc55ed373d92b6188de35eb53d397898ac09fa3c37b2bef065edc744c9c4670"
  },
  "kernelspec": {
   "display_name": "Python 3.9.12 ('ds-practise': venv)",
   "language": "python",
   "name": "python3"
  },
  "language_info": {
   "name": "python",
   "version": "3.9.12"
  },
  "orig_nbformat": 4,
  "vscode": {
   "interpreter": {
    "hash": "4676742b88cfe92009507386bd6f30f01ba523675ef5eef0cf8284a053b8305a"
   }
  }
 },
 "nbformat": 4,
 "nbformat_minor": 2
}