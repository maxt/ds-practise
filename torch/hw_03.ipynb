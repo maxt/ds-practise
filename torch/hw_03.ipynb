{
 "cells": [
  {
   "cell_type": "markdown",
   "metadata": {},
   "source": [
    "### Домашнее задание 3\n",
    "* Обучить AE собственной архитектуры на MNIST\n",
    "* Обучить VAE собственной архитектуры на MNIST\n",
    "* *Обучить VAE с переносом стиля на MNIST (на вход декодеру подавать hidden c таргетным значением, чтобы можно было нарисовать заданную цифру в заданном стиле)"
   ]
  },
  {
   "cell_type": "markdown",
   "source": [
    "## AE собственной архитектуры (из ДЗ2)"
   ],
   "metadata": {
    "collapsed": false
   }
  },
  {
   "cell_type": "code",
   "execution_count": null,
   "outputs": [],
   "source": [
    "import numpy\n",
    "import torch\n",
    "import torch.nn as nn\n",
    "import torchvision.models as models\n",
    "from torchvision import datasets\n",
    "from torch.utils.data import DataLoader"
   ],
   "metadata": {
    "collapsed": false,
    "pycharm": {
     "name": "#%%\n"
    }
   }
  },
  {
   "cell_type": "code",
   "execution_count": null,
   "outputs": [],
   "source": [
    "dataset = datasets.MNIST('.', download=True)"
   ],
   "metadata": {
    "collapsed": false,
    "pycharm": {
     "name": "#%%\n"
    }
   }
  }
 ],
 "metadata": {
  "interpreter": {
   "hash": "6fc55ed373d92b6188de35eb53d397898ac09fa3c37b2bef065edc744c9c4670"
  },
  "kernelspec": {
   "display_name": "Python 3.9.12 ('ds-practise': venv)",
   "language": "python",
   "name": "python3"
  },
  "language_info": {
   "name": "python",
   "version": "3.9.12"
  },
  "orig_nbformat": 4,
  "vscode": {
   "interpreter": {
    "hash": "4676742b88cfe92009507386bd6f30f01ba523675ef5eef0cf8284a053b8305a"
   }
  }
 },
 "nbformat": 4,
 "nbformat_minor": 2
}