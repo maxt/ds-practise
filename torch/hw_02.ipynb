{
 "cells": [
  {
   "cell_type": "markdown",
   "metadata": {},
   "source": [
    "## Домашнее задание 2\n",
    "* Обучить полносвязную модель на MNIST\n",
    "* Обучить глубокую сверточную сеть на MNIST\n",
    "* *обучить с нуля глубокую сеть на небольшом датасете. Сравнить результат с дообучением предобученной модели\n",
    "\n",
    "Материалы занятия: https://github.com/BorisZH/reload_NN5/tree/master/lesson2, блокнот скопирован в lesson_02\n",
    "\n",
    "В сети помог вот этот гайд:\n",
    "https://github.com/christianversloot/machine-learning-articles/blob/main/how-to-predict-new-samples-with-your-pytorch-model.md\n"
   ]
  },
  {
   "cell_type": "code",
   "execution_count": 936,
   "metadata": {},
   "outputs": [],
   "source": [
    "import numpy\n",
    "import numpy as np\n",
    "import torch\n",
    "import torch.nn as nn\n",
    "import torchvision.models as models\n",
    "from torchvision import datasets\n",
    "from torch.utils.data import DataLoader\n",
    "import matplotlib.pyplot as plt\n",
    "from queue import Queue"
   ]
  },
  {
   "cell_type": "markdown",
   "metadata": {},
   "source": [
    "* архитектура модели + \n",
    "* загрузчик данных +\n",
    "* формирование батча +\n",
    "* инициализировать модель +\n",
    "* оптимизатор +\n",
    "* функция потерь +\n",
    "* опционально шедулеры -\n",
    "* трейн луп"
   ]
  },
  {
   "cell_type": "code",
   "execution_count": 937,
   "metadata": {},
   "outputs": [
    {
     "data": {
      "text/plain": "<Figure size 640x480 with 1 Axes>",
      "image/png": "[encoded data removed]"
     },
     "metadata": {},
     "output_type": "display_data"
    }
   ],
   "source": [
    "dataset = datasets.MNIST('.', download=True)\n",
    "plt.imshow(dataset.data[98].detach().numpy())\n",
    "plt.show()"
   ]
  },
  {
   "cell_type": "code",
   "execution_count": 938,
   "metadata": {},
   "outputs": [
    {
     "name": "stdout",
     "output_type": "stream",
     "text": [
      "Train set size: 50000, validate set size: 10000, whole dataset size: 60000\n"
     ]
    }
   ],
   "source": [
    "train_set, val_set = torch.utils.data.random_split(dataset, [50000, 10000])\n",
    "len_train = len(train_set)\n",
    "len_validate = len(val_set)\n",
    "len_all = len(dataset)\n",
    "print(f'Train set size: {len_train}, validate set size: {len_validate}, whole dataset size: {len_all}')"
   ]
  },
  {
   "cell_type": "code",
   "execution_count": 939,
   "outputs": [],
   "source": [
    "# формирование батчка as is from the lesson\n",
    "def collate_fn(data: list):\n",
    "  # data = [(pic, target)...]\n",
    "    pics = []\n",
    "    target = []\n",
    "    for item in data:\n",
    "        pics.append(numpy.array(item[0]))\n",
    "        if (len(item)>1):               # дорабатываю функцию для формирования batch без target\n",
    "            target.append(item[1])\n",
    "    pics = torch.from_numpy(numpy.array(pics)).float() / 255 # B x W x H\n",
    "    if True:\n",
    "        target = torch.from_numpy(numpy.array(target))\n",
    "        return {\n",
    "              'data': pics.view(pics.size(0), -1), # B x 7xx преобразуем матрицу 28х28 в вектор 7хх\n",
    "            'target': target,\n",
    "            }\n",
    "    # else:\n",
    "    #     return {\n",
    "    #        'data': pics.view(pics.size(0), -1)\n",
    "    #     }"
   ],
   "metadata": {
    "collapsed": false,
    "pycharm": {
     "name": "#%%\n"
    }
   }
  },
  {
   "cell_type": "code",
   "execution_count": 940,
   "outputs": [],
   "source": [
    "class LinearModel(nn.Module):\n",
    "    def __init__(self, input_dim, hidden_dim, output_dim, dropout_p=0.1):\n",
    "        super().__init__()\n",
    "        self.linear1 = nn.Linear(input_dim, hidden_dim)\n",
    "        # custom initsialisation nn.init.xavier_normal_(self.linear1.weight)\n",
    "        self.do1 = nn.Dropout(dropout_p)\n",
    "        self.linear2 = nn.Linear(hidden_dim, 100)\n",
    "\n",
    "        self.linear3 = nn.Linear(100, output_dim)\n",
    "\n",
    "        self.activation = nn.Sigmoid()\n",
    "\n",
    "    def forward(self, x):\n",
    "        # Придумал\n",
    "        x = self.linear1(x)\n",
    "        x = self.activation(x)\n",
    "        x = self.linear2(x)\n",
    "        x = self.do1(x)\n",
    "        x = self.activation(x)\n",
    "        x = self.linear3(x)\n",
    "        return x"
   ],
   "metadata": {
    "collapsed": false,
    "pycharm": {
     "name": "#%%\n"
    }
   }
  },
  {
   "cell_type": "code",
   "execution_count": 941,
   "outputs": [],
   "source": [
    "# hyperparams полносвязная модель\n",
    "inp_dim = 28 * 28\n",
    "hidden = 256\n",
    "out_dim = 10\n",
    "device_id = -1\n",
    "device = 'cpu' if device_id == -1 else f'cuda:{device_id}' # 'cuda:1' id GPU\n",
    "n_epochs = 50\n",
    "batch_size = 128\n",
    "early_stop_min_deviation = 0.0045 # минимальное отклонение среднего значения функция потерь за early_stop_queue_size эпох\n",
    "early_stop_queue_size = 3         # минимальное количество эпох. Считаем обучение завершенным, если три эпохи подряд дают разницу межды минимальным средним значением средней loss и максимальной на величину early_stop_min_deviation"
   ],
   "metadata": {
    "collapsed": false,
    "pycharm": {
     "name": "#%%\n"
    }
   }
  },
  {
   "cell_type": "code",
   "execution_count": 942,
   "outputs": [],
   "source": [
    "class ConvModel(nn.Module):\n",
    "  def __init__(self, input_ch, hidden_ch, output_dim, dropout_p=0.1):\n",
    "    super().__init__()\n",
    "        # уменьшит размер картинки в 2 раза\n",
    "    self.conv1 = nn.Conv2d(input_ch, hidden_ch, kernel_size=5, padding=2, stride=2)\n",
    "    self.bn1 = nn.BatchNorm2d(hidden_ch)\n",
    "    # self.conv2 = nn.Conv2d(hidden_ch, hidden_ch, kernel_size=3, padding=1, stride=1)\n",
    "    self.bn2 = nn.BatchNorm2d(hidden_ch)\n",
    "    self.conv3 = nn.Conv2d(hidden_ch, 5, kernel_size=3, padding=1, stride=1)\n",
    "    self.classifier = nn.Linear(5 * 14 *14, output_dim)\n",
    "    self.do1 = nn.Dropout(dropout_p)\n",
    "    # self.do2 = nn.Dropout(dropout_p)\n",
    "\n",
    "    self.polling = nn.MaxPool2d(kernel_size=3, padding=1, stride=1)\n",
    "\n",
    "    self.activation = nn.ReLU()\n",
    "\n",
    "  def forward(self, x):\n",
    "    x = self.conv1(x)\n",
    "    x = self.bn1(x)\n",
    "    x = self.activation(x)\n",
    "    x = self.do1(x)\n",
    "    x = self.polling(x)\n",
    "    # x = self.bn2(x)\n",
    "    x = self.activation(x)\n",
    "    # x = self.do2(x)\n",
    "    x = self.conv3(x)\n",
    "    x = self.classifier(x.view(x.size(0), -1))\n",
    "\n",
    "    return x"
   ],
   "metadata": {
    "collapsed": false,
    "pycharm": {
     "name": "#%%\n"
    }
   }
  },
  {
   "cell_type": "code",
   "execution_count": 943,
   "outputs": [],
   "source": [
    "# гиперпараметры сверточная модель\n",
    "input_ch = 1\n",
    "hidden_ch = 128\n",
    "out_dim = 10\n",
    "batch_size = 128"
   ],
   "metadata": {
    "collapsed": false,
    "pycharm": {
     "name": "#%%\n"
    }
   }
  },
  {
   "cell_type": "code",
   "execution_count": 944,
   "outputs": [],
   "source": [
    "def collate_fn_conv(data: list):\n",
    "  # data = [(pic, target)...]\n",
    "  pics = []\n",
    "  target = []\n",
    "  for item in data:\n",
    "    pics.append(numpy.array(item[0]))\n",
    "    target.append(item[1])\n",
    "  pics = torch.from_numpy(numpy.array(pics)).float() / 255 # B x W x H\n",
    "  target = torch.from_numpy(numpy.array(target))\n",
    "\n",
    "  return {\n",
    "      'data': pics.unsqueeze(1), # B x 1 x W x H\n",
    "      'target': target.long(),\n",
    "      }"
   ],
   "metadata": {
    "collapsed": false,
    "pycharm": {
     "name": "#%%\n"
    }
   }
  },
  {
   "cell_type": "code",
   "execution_count": 945,
   "outputs": [],
   "source": [
    "def start_train(modell: nn.Module, collate_fnn, loss_func, optim):\n",
    "    train_set, val_set = torch.utils.data.random_split(dataset, [50000, 10000])\n",
    "\n",
    "    queue = Queue(early_stop_queue_size)\n",
    "    # собираю пять средних значений (по батчам) функции потерь для эпохи на тестовом датасете\n",
    "\n",
    "    enough = False\n",
    "\n",
    "    for epoch in range(n_epochs):\n",
    "        optim.zero_grad()\n",
    "        if enough:\n",
    "            print('Enough flag is here. No reason to spin further epochs')\n",
    "            break\n",
    "        dataloader_train = DataLoader(train_set,\n",
    "                                batch_size,\n",
    "                                shuffle=True,\n",
    "                                collate_fn=collate_fnn,\n",
    "                                drop_last = True,\n",
    "                                )\n",
    "\n",
    "        dataloader_test = DataLoader(val_set,\n",
    "                                     batch_size,\n",
    "                                     shuffle=True,\n",
    "                                     collate_fn=collate_fnn,\n",
    "                                     drop_last=True)\n",
    "\n",
    "        for i, batch in enumerate(dataloader_train):\n",
    "            optim.zero_grad()\n",
    "            predict = modell(batch['data'].to(device))\n",
    "            loss = loss_func(predict, batch['target'].to(device))\n",
    "            loss.backward()\n",
    "            optim.step()\n",
    "            # прячу \"стату\" с урока\n",
    "            # if i % 200 == 0:\n",
    "            #     print(f'epoch: {epoch}, step: {i}, loss: {loss.item()}')\n",
    "\n",
    "        loss_arr_by_banches = np.array([])\n",
    "        for j, batch_test in enumerate(dataloader_test):\n",
    "            predict = modell(batch_test['data'].to(device))\n",
    "            loss = loss_func(predict, batch_test['target'].to(device))\n",
    "            loss_arr_by_banches = np.append(loss_arr_by_banches, loss.detach().numpy())\n",
    "        current_epoch_loss = np.mean(loss_arr_by_banches)\n",
    "        print(f'Epoch {epoch} mean loss for test set {current_epoch_loss}')\n",
    "        if queue.full():\n",
    "            queue.get()\n",
    "        else:\n",
    "            queue.put(current_epoch_loss)\n",
    "        if queue.full():\n",
    "            # считаем, что минимум early_stop_queue_size эпох нужно для обучения.\n",
    "            # можно вынести в гиперпараметры\n",
    "            as_arr = np.array(queue.queue)\n",
    "            arr_max = np.amax(as_arr)\n",
    "            arr_min = np.amin(as_arr)\n",
    "            if arr_max - arr_min < early_stop_min_deviation:\n",
    "                print(f'Means of loss function for the last {early_stop_queue_size} epochs: {as_arr}')\n",
    "                print(f'Min mean of loss: {np.mean(as_arr)}')\n",
    "                enough = True\n",
    "            else:\n",
    "                print(f'Current max/min difference in last {early_stop_queue_size} epochs: {arr_max-arr_min}')\n"
   ],
   "metadata": {
    "collapsed": false,
    "pycharm": {
     "name": "#%%\n"
    }
   }
  },
  {
   "cell_type": "code",
   "execution_count": 946,
   "outputs": [],
   "source": [
    "loss_func = nn.CrossEntropyLoss()"
   ],
   "metadata": {
    "collapsed": false,
    "pycharm": {
     "name": "#%%\n"
    }
   }
  },
  {
   "cell_type": "markdown",
   "source": [
    "### Запуск полносвязной модели"
   ],
   "metadata": {
    "collapsed": false
   }
  },
  {
   "cell_type": "code",
   "source": [
    "model = LinearModel(inp_dim, hidden, out_dim).to(device)\n",
    "model.train()\n",
    "optim = torch.optim.Adam(model.parameters())\n",
    "#start_train(model, collate_fn, loss_func, optim)"
   ],
   "metadata": {
    "collapsed": false,
    "pycharm": {
     "name": "#%%\n"
    }
   },
   "execution_count": 947,
   "outputs": []
  },
  {
   "cell_type": "markdown",
   "source": [
    "минимальные полученные значения loss: [0.07143388 0.06926835 0.07277913]"
   ],
   "metadata": {
    "collapsed": false
   }
  },
  {
   "cell_type": "markdown",
   "source": [],
   "metadata": {
    "collapsed": false
   }
  },
  {
   "cell_type": "code",
   "execution_count": 948,
   "outputs": [
    {
     "name": "stdout",
     "output_type": "stream",
     "text": [
      "Epoch 0 mean loss for test set 0.08649822821219762\n",
      "Epoch 1 mean loss for test set 0.08844302444217297\n",
      "Epoch 2 mean loss for test set 0.0747675126275191\n",
      "Current max/min difference in last 3 epochs: 0.013675511814653873\n"
     ]
    },
    {
     "ename": "KeyboardInterrupt",
     "evalue": "",
     "output_type": "error",
     "traceback": [
      "\u001B[0;31m---------------------------------------------------------------------------\u001B[0m",
      "\u001B[0;31mKeyboardInterrupt\u001B[0m                         Traceback (most recent call last)",
      "Cell \u001B[0;32mIn [948], line 3\u001B[0m\n\u001B[1;32m      1\u001B[0m model_conv \u001B[38;5;241m=\u001B[39m ConvModel(input_ch, hidden_ch, out_dim)\u001B[38;5;241m.\u001B[39mto(device)\n\u001B[1;32m      2\u001B[0m optim \u001B[38;5;241m=\u001B[39m torch\u001B[38;5;241m.\u001B[39moptim\u001B[38;5;241m.\u001B[39mAdam(model_conv\u001B[38;5;241m.\u001B[39mparameters())\n\u001B[0;32m----> 3\u001B[0m \u001B[43mstart_train\u001B[49m\u001B[43m(\u001B[49m\u001B[43mmodel_conv\u001B[49m\u001B[43m,\u001B[49m\u001B[43m \u001B[49m\u001B[43mcollate_fn_conv\u001B[49m\u001B[43m,\u001B[49m\u001B[43m \u001B[49m\u001B[43mloss_func\u001B[49m\u001B[43m,\u001B[49m\u001B[43m \u001B[49m\u001B[43moptim\u001B[49m\u001B[43m)\u001B[49m\n",
      "Cell \u001B[0;32mIn [945], line 41\u001B[0m, in \u001B[0;36mstart_train\u001B[0;34m(modell, collate_fnn, loss_func, optim)\u001B[0m\n\u001B[1;32m     39\u001B[0m     predict \u001B[38;5;241m=\u001B[39m modell(batch_test[\u001B[38;5;124m'\u001B[39m\u001B[38;5;124mdata\u001B[39m\u001B[38;5;124m'\u001B[39m]\u001B[38;5;241m.\u001B[39mto(device))\n\u001B[1;32m     40\u001B[0m     loss \u001B[38;5;241m=\u001B[39m loss_func(predict, batch_test[\u001B[38;5;124m'\u001B[39m\u001B[38;5;124mtarget\u001B[39m\u001B[38;5;124m'\u001B[39m]\u001B[38;5;241m.\u001B[39mto(device))\n\u001B[0;32m---> 41\u001B[0m     loss_arr_by_banches \u001B[38;5;241m=\u001B[39m \u001B[43mnp\u001B[49m\u001B[38;5;241m.\u001B[39mappend(loss_arr_by_banches, loss\u001B[38;5;241m.\u001B[39mdetach()\u001B[38;5;241m.\u001B[39mnumpy())\n\u001B[1;32m     42\u001B[0m current_epoch_loss \u001B[38;5;241m=\u001B[39m np\u001B[38;5;241m.\u001B[39mmean(loss_arr_by_banches)\n\u001B[1;32m     43\u001B[0m \u001B[38;5;28mprint\u001B[39m(\u001B[38;5;124mf\u001B[39m\u001B[38;5;124m'\u001B[39m\u001B[38;5;124mEpoch \u001B[39m\u001B[38;5;132;01m{\u001B[39;00mepoch\u001B[38;5;132;01m}\u001B[39;00m\u001B[38;5;124m mean loss for test set \u001B[39m\u001B[38;5;132;01m{\u001B[39;00mcurrent_epoch_loss\u001B[38;5;132;01m}\u001B[39;00m\u001B[38;5;124m'\u001B[39m)\n",
      "\u001B[0;31mKeyboardInterrupt\u001B[0m: "
     ]
    }
   ],
   "source": [
    "model_conv = ConvModel(input_ch, hidden_ch, out_dim).to(device)\n",
    "optim = torch.optim.Adam(model_conv.parameters())\n",
    "start_train(model_conv, collate_fn_conv, loss_func, optim)"
   ],
   "metadata": {
    "collapsed": false,
    "pycharm": {
     "name": "#%%\n"
    }
   }
  }
 ],
 "metadata": {
  "interpreter": {
   "hash": "6fc55ed373d92b6188de35eb53d397898ac09fa3c37b2bef065edc744c9c4670"
  },
  "kernelspec": {
   "display_name": "Python 3.9.12 ('ds-practise': venv)",
   "language": "python",
   "name": "python3"
  },
  "language_info": {
   "codemirror_mode": {
    "name": "ipython",
    "version": 3
   },
   "file_extension": ".py",
   "mimetype": "text/x-python",
   "name": "python",
   "nbconvert_exporter": "python",
   "pygments_lexer": "ipython3",
   "version": "3.9.12"
  },
  "orig_nbformat": 4,
  "vscode": {
   "interpreter": {
    "hash": "4676742b88cfe92009507386bd6f30f01ba523675ef5eef0cf8284a053b8305a"
   }
  }
 },
 "nbformat": 4,
 "nbformat_minor": 2
}