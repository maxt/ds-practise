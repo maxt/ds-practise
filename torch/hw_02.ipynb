{
 "cells": [
  {
   "cell_type": "markdown",
   "metadata": {},
   "source": [
    "## Домашнее задание 2\n",
    "* Обучить полносвязную модель на MNIST\n",
    "* Обучить глубокую сверточную сеть на MNIST\n",
    "* *обучить с нуля глубокую сеть на небольшом датасете. Сравнить результат с дообучением предобученной модели\n",
    "\n",
    "Материалы занятия: https://github.com/BorisZH/reload_NN5/tree/master/lesson2, блокнот скопирован в lesson_02"
   ]
  },
  {
   "cell_type": "code",
   "execution_count": 2,
   "metadata": {},
   "outputs": [],
   "source": [
    "import numpy\n",
    "import torch\n",
    "import torch.nn as nn\n",
    "import torchvision.models as models\n",
    "from torchvision import datasets\n",
    "from torch.utils.data import DataLoader\n",
    "import matplotlib.pyplot as plt"
   ]
  },
  {
   "cell_type": "markdown",
   "metadata": {},
   "source": [
    "* архитектура модели + \n",
    "* загрузчик данных +\n",
    "* формирование батча +\n",
    "* инициализировать модель +\n",
    "* оптимизатор +\n",
    "* функция потерь +\n",
    "* опционально шедулеры -\n",
    "* трейн луп"
   ]
  },
  {
   "cell_type": "code",
   "execution_count": 5,
   "metadata": {},
   "outputs": [
    {
     "data": {
      "image/png": "[encoded data removed]",
      "text/plain": [
       "<Figure size 640x480 with 1 Axes>"
      ]
     },
     "metadata": {},
     "output_type": "display_data"
    }
   ],
   "source": [
    "dataset = datasets.MNIST('.', download=True)\n",
    "plt.imshow(dataset.data[98].detach().numpy())\n",
    "print(dataset.te)\n",
    "plt.show()"
   ]
  },
  {
   "cell_type": "code",
   "execution_count": 9,
   "metadata": {},
   "outputs": [
    {
     "name": "stdout",
     "output_type": "stream",
     "text": [
      "Train set size: 50000, validate set size: 10000, whole dataset size: 60000\n"
     ]
    }
   ],
   "source": [
    "train_set, val_set = torch.utils.data.random_split(dataset, [50000, 10000])\n",
    "len_train = len(train_set)\n",
    "len_validate = len(val_set)\n",
    "len_all = len(dataset)\n",
    "print(f'Train set size: {len_train}, validate set size: {len_validate}, whole dataset size: {len_all}')"
   ]
  }
 ],
 "metadata": {
  "interpreter": {
   "hash": "6fc55ed373d92b6188de35eb53d397898ac09fa3c37b2bef065edc744c9c4670"
  },
  "kernelspec": {
   "display_name": "Python 3.9.12 ('ds-practise': venv)",
   "language": "python",
   "name": "python3"
  },
  "language_info": {
   "codemirror_mode": {
    "name": "ipython",
    "version": 3
   },
   "file_extension": ".py",
   "mimetype": "text/x-python",
   "name": "python",
   "nbconvert_exporter": "python",
   "pygments_lexer": "ipython3",
   "version": "3.9.12"
  },
  "orig_nbformat": 4,
  "vscode": {
   "interpreter": {
    "hash": "4676742b88cfe92009507386bd6f30f01ba523675ef5eef0cf8284a053b8305a"
   }
  }
 },
 "nbformat": 4,
 "nbformat_minor": 2
}
