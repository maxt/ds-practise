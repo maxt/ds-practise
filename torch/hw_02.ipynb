{
 "cells": [
  {
   "cell_type": "markdown",
   "metadata": {},
   "source": [
    "## Домашнее задание 2\n",
    "* Обучить полносвязную модель на MNIST\n",
    "* Обучить глубокую сверточную сеть на MNIST\n",
    "* *обучить с нуля глубокую сеть на небольшом датасете. Сравнить результат с дообучением предобученной модели\n",
    "\n",
    "Материалы занятия: https://github.com/BorisZH/reload_NN5/tree/master/lesson2, блокнот скопирован в lesson_02"
   ]
  }
 ],
 "metadata": {
  "kernelspec": {
   "display_name": "Python 3.9.7 ('ds-practise': venv)",
   "language": "python",
   "name": "python3"
  },
  "language_info": {
   "name": "python",
   "version": "3.9.7"
  },
  "orig_nbformat": 4,
  "vscode": {
   "interpreter": {
    "hash": "4676742b88cfe92009507386bd6f30f01ba523675ef5eef0cf8284a053b8305a"
   }
  }
 },
 "nbformat": 4,
 "nbformat_minor": 2
}
