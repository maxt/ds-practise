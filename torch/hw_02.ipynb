{
 "cells": [
  {
   "cell_type": "markdown",
   "metadata": {},
   "source": [
    "## Домашнее задание 2\n",
    "* Обучить полносвязную модель на MNIST\n",
    "* Обучить глубокую сверточную сеть на MNIST\n",
    "* *обучить с нуля глубокую сеть на небольшом датасете. Сравнить результат с дообучением предобученной модели\n",
    "\n",
    "Материалы занятия: https://github.com/BorisZH/reload_NN5/tree/master/lesson2, блокнот скопирован в lesson_02\n",
    "\n",
    "В сети помог вот этот гайд:\n",
    "https://github.com/christianversloot/machine-learning-articles/blob/main/how-to-predict-new-samples-with-your-pytorch-model.md\n"
   ]
  },
  {
   "cell_type": "code",
   "execution_count": 97,
   "metadata": {},
   "outputs": [],
   "source": [
    "import numpy as np\n",
    "import torch.nn as nn\n",
    "from torch import from_numpy\n",
    "from torch.utils.data import random_split\n",
    "from torch.backends import mps\n",
    "from torchvision import datasets\n",
    "from torch.utils.data import DataLoader\n",
    "import matplotlib.pyplot as plt\n",
    "from queue import Queue"
   ]
  },
  {
   "cell_type": "markdown",
   "metadata": {},
   "source": [
    "* архитектура модели + \n",
    "* загрузчик данных +\n",
    "* формирование батча +\n",
    "* инициализировать модель +\n",
    "* оптимизатор +\n",
    "* функция потерь +\n",
    "* опционально шедулеры -\n",
    "* трейн луп"
   ]
  },
  {
   "cell_type": "code",
   "execution_count": 98,
   "metadata": {},
   "outputs": [
    {
     "name": "stdout",
     "output_type": "stream",
     "text": [
      "Train set size: 50000, validate set size: 10000, whole dataset size: 60000\n"
     ]
    }
   ],
   "source": [
    "# пробую распилить датасет на обучующую и тестовую выборку\n",
    "dataset = datasets.MNIST('.', download=True)\n",
    "train_set, val_set = random_split(dataset, [50000, 10000])\n",
    "len_train = len(train_set)\n",
    "len_validate = len(val_set)\n",
    "len_all = len(dataset)\n",
    "print(f'Train set size: {len_train}, validate set size: {len_validate}, whole dataset size: {len_all}')"
   ]
  },
  {
   "cell_type": "code",
   "execution_count": 99,
   "metadata": {},
   "outputs": [
    {
     "name": "stdout",
     "output_type": "stream",
     "text": [
      "True\n",
      "True\n"
     ]
    }
   ],
   "source": [
    "# проверки для техники на apple silicon\n",
    "print(mps.is_available())\n",
    "print(mps.is_built())"
   ]
  },
  {
   "cell_type": "code",
   "execution_count": 100,
   "metadata": {
    "collapsed": false,
    "pycharm": {
     "name": "#%%\n"
    }
   },
   "outputs": [],
   "source": [
    "# формирование батчка as is from the lesson\n",
    "def collate_fn(data: list):\n",
    "  # data = [(pic, target)...]\n",
    "    pics = []\n",
    "    target = []\n",
    "    for item in data:\n",
    "        pics.append(np.array(item[0]))\n",
    "        if (len(item)>1):               # дорабатываю функцию для формирования batch без target\n",
    "            target.append(item[1])\n",
    "    pics = from_numpy(np.array(pics)).float() / 255 # B x W x H\n",
    "\n",
    "    target = from_numpy(np.array(target))\n",
    "    return {\n",
    "          'data': pics.view(pics.size(0), -1), # B x 7xx преобразуем матрицу 28х28 в вектор 7хх\n",
    "          'target': target,\n",
    "        }\n"
   ]
  },
  {
   "cell_type": "code",
   "execution_count": 101,
   "metadata": {
    "collapsed": false,
    "pycharm": {
     "name": "#%%\n"
    }
   },
   "outputs": [],
   "source": [
    "# придумал три линейных слоя с одним дропаутом\n",
    "class LinearModel(nn.Module):\n",
    "    def __init__(self, input_dim, hidden_dim, output_dim, dropout_p=0.1):\n",
    "        super().__init__()\n",
    "        self.linear1 = nn.Linear(input_dim, hidden_dim)\n",
    "        self.do1 = nn.Dropout(dropout_p)\n",
    "        self.linear2 = nn.Linear(hidden_dim, 100)\n",
    "        self.linear3 = nn.Linear(100, output_dim)\n",
    "        self.activation = nn.Sigmoid()\n",
    "        \n",
    "    def forward(self, x):\n",
    "        # Придумал\n",
    "        x = self.linear1(x)\n",
    "        x = self.activation(x)\n",
    "        x = self.linear2(x)\n",
    "        x = self.do1(x)\n",
    "        x = self.activation(x)\n",
    "        x = self.linear3(x)\n",
    "        return x"
   ]
  },
  {
   "cell_type": "code",
   "execution_count": 102,
   "metadata": {
    "collapsed": false,
    "pycharm": {
     "name": "#%%\n"
    }
   },
   "outputs": [],
   "source": [
    "# hyperparams полносвязная модель\n",
    "inp_dim = 28 * 28\n",
    "hidden = 256\n",
    "out_dim = 10\n",
    "device_id = -1\n",
    "device = 'cpu' if device_id == -1 else 'mps' # 'cuda:1' id GPU\n",
    "n_epochs = 20\n",
    "batch_size = 128\n",
    "early_stop_min_deviation = 0.0045 # минимальное отклонение среднего значения функция потерь за early_stop_queue_size эпох, подобрал экспериментально\n",
    "early_stop_queue_size = 3         # минимальное количество эпох. Считаем обучение завершенным, если три эпохи подряд дают разницу межды минимальным средним значением средней loss и максимальной на величину early_stop_min_deviation"
   ]
  },
  {
   "cell_type": "code",
   "execution_count": 103,
   "metadata": {
    "collapsed": false,
    "pycharm": {
     "name": "#%%\n"
    }
   },
   "outputs": [],
   "source": [
    "class ConvModel(nn.Module):\n",
    "  def __init__(self, input_ch, hidden_ch, output_dim, dropout_p=0.1):\n",
    "    super().__init__()\n",
    "        # уменьшит размер картинки в 2 раза\n",
    "    self.conv1 = nn.Conv2d(input_ch, hidden_ch, kernel_size=5, padding=2, stride=2)\n",
    "    self.bn1 = nn.BatchNorm2d(hidden_ch)\n",
    "    self.conv3 = nn.Conv2d(hidden_ch, 5, kernel_size=3, padding=1, stride=1)\n",
    "    self.classifier = nn.Linear(5 * 14 *14, output_dim)\n",
    "    self.do1 = nn.Dropout(dropout_p)\n",
    "\n",
    "    self.polling = nn.MaxPool2d(kernel_size=3, padding=1, stride=1)\n",
    "\n",
    "    self.activation = nn.ReLU()\n",
    "\n",
    "  def forward(self, x):\n",
    "    x = self.conv1(x)\n",
    "    x = self.bn1(x)\n",
    "    x = self.activation(x)\n",
    "    x = self.do1(x)\n",
    "    x = self.polling(x)         ### одного из слоев \"свертки\" поставил polling \n",
    "    x = self.activation(x)\n",
    "    x = self.conv3(x)\n",
    "    x = self.classifier(x.view(x.size(0), -1))\n",
    "    return x"
   ]
  },
  {
   "cell_type": "code",
   "execution_count": 104,
   "metadata": {
    "collapsed": false,
    "pycharm": {
     "name": "#%%\n"
    }
   },
   "outputs": [],
   "source": [
    "# гиперпараметры сверточная модель\n",
    "input_ch = 1\n",
    "hidden_ch = 128\n",
    "out_dim = 10\n",
    "batch_size = 128\n",
    "early_stop_min_deviation_conv = 0.0075"
   ]
  },
  {
   "cell_type": "code",
   "execution_count": 105,
   "metadata": {
    "collapsed": false,
    "pycharm": {
     "name": "#%%\n"
    }
   },
   "outputs": [],
   "source": [
    "def collate_fn_conv(data: list):\n",
    "  # data = [(pic, target)...]\n",
    "  pics = []\n",
    "  target = []\n",
    "  for item in data:\n",
    "    pics.append(np.array(item[0]))\n",
    "    target.append(item[1])\n",
    "  pics = from_numpy(np.array(pics)).float() / 255 # B x W x H\n",
    "  target = from_numpy(np.array(target))\n",
    "\n",
    "  return {\n",
    "      'data': pics.unsqueeze(1), # B x 1 x W x H\n",
    "      'target': target.long(),\n",
    "      }"
   ]
  },
  {
   "cell_type": "code",
   "execution_count": 106,
   "metadata": {
    "collapsed": false,
    "pycharm": {
     "name": "#%%\n"
    }
   },
   "outputs": [],
   "source": [
    "# один трейн луп для двух моделей\n",
    "def start_train(modell: nn.Module, collate_fnn, loss_func, optim, early_stop_val):\n",
    "    train_set, val_set = random_split(dataset, [50000, 10000])\n",
    "\n",
    "    queue = Queue(early_stop_queue_size)\n",
    "    # собираю пять средних значений (по батчам) функции потерь для эпохи на тестовом датасете\n",
    "\n",
    "    enough = False\n",
    "\n",
    "    for epoch in range(n_epochs):\n",
    "        optim.zero_grad()\n",
    "        if enough:\n",
    "            print('Enough flag is here. No reason to spin further epochs')\n",
    "            break\n",
    "        dataloader_train = DataLoader(train_set,\n",
    "                                batch_size,\n",
    "                                shuffle=True,\n",
    "                                collate_fn=collate_fnn,\n",
    "                                drop_last = True,\n",
    "                                )\n",
    "\n",
    "        dataloader_test = DataLoader(val_set,\n",
    "                                     batch_size,\n",
    "                                     shuffle=True,\n",
    "                                     collate_fn=collate_fnn,\n",
    "                                     drop_last=True)\n",
    "\n",
    "        for i, batch in enumerate(dataloader_train):\n",
    "            optim.zero_grad()\n",
    "            predict = modell(batch['data'].to(device))\n",
    "            loss = loss_func(predict, batch['target'].to(device))\n",
    "            loss.backward()\n",
    "            optim.step()\n",
    "            # прячу \"стату\" с урока, вывожу свою \"стату\" с результатами предсказаний в тестовом датасете\n",
    "            # if i % 200 == 0:\n",
    "            #     print(f'epoch: {epoch}, step: {i}, loss: {loss.item()}')\n",
    "\n",
    "        loss_arr_by_banches = np.array([])\n",
    "        for j, batch_test in enumerate(dataloader_test):\n",
    "            predict = modell(batch_test['data'].to(device))\n",
    "            loss = loss_func(predict, batch_test['target'].to(device))\n",
    "            loss_arr_by_banches = np.append(loss_arr_by_banches, loss.detach().numpy())\n",
    "        current_epoch_loss = np.mean(loss_arr_by_banches)\n",
    "        print(f'Epoch {epoch} mean loss for test set {current_epoch_loss}')\n",
    "        if queue.full():\n",
    "            queue.get()\n",
    "        else:\n",
    "            queue.put(current_epoch_loss)\n",
    "        if queue.full():\n",
    "            # считаем, что минимум early_stop_queue_size эпох нужно для обучения.\n",
    "            # можно вынести в гиперпараметры\n",
    "            as_arr = np.array(queue.queue)\n",
    "            arr_max = np.amax(as_arr)\n",
    "            arr_min = np.amin(as_arr)\n",
    "            if (arr_max - arr_min) < early_stop_val:\n",
    "                print(f'Means of loss function for the last {early_stop_queue_size} epochs: {as_arr}')\n",
    "                print(f'Min mean of loss: {np.mean(as_arr)}')\n",
    "                enough = True\n",
    "            else:\n",
    "                print(f'Current max/min difference in last {epoch} epochs: {arr_max-arr_min} > {early_stop_val} ')\n"
   ]
  },
  {
   "cell_type": "code",
   "execution_count": 107,
   "metadata": {
    "collapsed": false,
    "pycharm": {
     "name": "#%%\n"
    }
   },
   "outputs": [],
   "source": [
    "loss_func = nn.CrossEntropyLoss()"
   ]
  },
  {
   "cell_type": "markdown",
   "metadata": {
    "collapsed": false
   },
   "source": [
    "### Полносвязная сеть"
   ]
  },
  {
   "cell_type": "code",
   "execution_count": 108,
   "metadata": {
    "collapsed": false,
    "pycharm": {
     "name": "#%%\n"
    }
   },
   "outputs": [
    {
     "name": "stdout",
     "output_type": "stream",
     "text": [
      "Epoch 0 mean loss for test set 0.3377529468673926\n",
      "Epoch 1 mean loss for test set 0.23852944507812843\n",
      "Epoch 2 mean loss for test set 0.1906756087182424\n",
      "Current max/min difference in last 2 epochs: 0.1470773381491502 > 0.0045 \n",
      "Epoch 3 mean loss for test set 0.15880638227248803\n",
      "Epoch 4 mean loss for test set 0.1440835097947946\n",
      "Current max/min difference in last 4 epochs: 0.09444593528333384 > 0.0045 \n",
      "Epoch 5 mean loss for test set 0.12820331752300262\n",
      "Epoch 6 mean loss for test set 0.11734967158199885\n",
      "Current max/min difference in last 6 epochs: 0.07332593713624355 > 0.0045 \n",
      "Epoch 7 mean loss for test set 0.105293359929839\n",
      "Epoch 8 mean loss for test set 0.10286690168178235\n",
      "Current max/min difference in last 8 epochs: 0.04121660811301224 > 0.0045 \n",
      "Epoch 9 mean loss for test set 0.09603354479305637\n",
      "Epoch 10 mean loss for test set 0.09336514692180432\n",
      "Current max/min difference in last 10 epochs: 0.02398452466019453 > 0.0045 \n",
      "Epoch 11 mean loss for test set 0.08865941354097465\n",
      "Epoch 12 mean loss for test set 0.08313294433248349\n",
      "Current max/min difference in last 12 epochs: 0.019733957349298864 > 0.0045 \n",
      "Epoch 13 mean loss for test set 0.088601662681844\n",
      "Epoch 14 mean loss for test set 0.08492145489137141\n",
      "Current max/min difference in last 14 epochs: 0.010232202589320838 > 0.0045 \n",
      "Epoch 15 mean loss for test set 0.08593332620624167\n",
      "Epoch 16 mean loss for test set 0.08302284774776453\n",
      "Means of loss function for the last 3 epochs: [0.08313294 0.08492145 0.08302285]\n",
      "Min mean of loss: 0.08369241565720648\n",
      "Enough flag is here. No reason to spin further epochs\n"
     ]
    }
   ],
   "source": [
    "model = LinearModel(inp_dim, hidden, out_dim).to(device)\n",
    "model.train()\n",
    "optim = torch.optim.Adam(model.parameters())\n",
    "start_train(model, collate_fn, loss_func, optim, early_stop_min_deviation)"
   ]
  },
  {
   "cell_type": "markdown",
   "metadata": {
    "collapsed": false
   },
   "source": [
    "минимальные полученные значения loss: [0.07143388 0.06926835 0.07277913]"
   ]
  },
  {
   "cell_type": "markdown",
   "metadata": {
    "collapsed": false
   },
   "source": [
    "### Сверточная сеть"
   ]
  },
  {
   "cell_type": "code",
   "execution_count": 109,
   "metadata": {
    "collapsed": false,
    "pycharm": {
     "name": "#%%\n"
    }
   },
   "outputs": [
    {
     "name": "stdout",
     "output_type": "stream",
     "text": [
      "Epoch 0 mean loss for test set 0.09389385060431102\n",
      "Epoch 1 mean loss for test set 0.105854762909122\n",
      "Epoch 2 mean loss for test set 0.07231256868451452\n",
      "Current max/min difference in last 2 epochs: 0.03354219422460748 > 0.0075 \n",
      "Epoch 3 mean loss for test set 0.06396880713351166\n",
      "Epoch 4 mean loss for test set 0.06400965699830498\n",
      "Current max/min difference in last 4 epochs: 0.041845105910817026 > 0.0075 \n",
      "Epoch 5 mean loss for test set 0.06424938616318962\n",
      "Epoch 6 mean loss for test set 0.07049950200897188\n",
      "Current max/min difference in last 6 epochs: 0.008302911686209544 > 0.0075 \n",
      "Epoch 7 mean loss for test set 0.07713421336852778\n",
      "Epoch 8 mean loss for test set 0.05846636029234968\n",
      "Current max/min difference in last 8 epochs: 0.012033141716622203 > 0.0075 \n",
      "Epoch 9 mean loss for test set 0.0751232484427209\n",
      "Epoch 10 mean loss for test set 0.06112960461550989\n",
      "Current max/min difference in last 10 epochs: 0.012033141716622203 > 0.0075 \n",
      "Epoch 11 mean loss for test set 0.06281717661887598\n",
      "Epoch 12 mean loss for test set 0.07033937940827738\n",
      "Current max/min difference in last 12 epochs: 0.011873019115927697 > 0.0075 \n",
      "Epoch 13 mean loss for test set 0.06980248419448543\n",
      "Epoch 14 mean loss for test set 0.06986578753910577\n",
      "Current max/min difference in last 14 epochs: 0.009209774792767488 > 0.0075 \n",
      "Epoch 15 mean loss for test set 0.06510800592980395\n",
      "Epoch 16 mean loss for test set 0.0702592067551823\n",
      "Means of loss function for the last 3 epochs: [0.07033938 0.06986579 0.07025921]\n",
      "Min mean of loss: 0.07015479123418848\n",
      "Enough flag is here. No reason to spin further epochs\n"
     ]
    }
   ],
   "source": [
    "model_conv = ConvModel(input_ch, hidden_ch, out_dim).to(device)\n",
    "optim = torch.optim.Adam(model_conv.parameters())\n",
    "start_train(model_conv, collate_fn_conv, loss_func, optim, early_stop_min_deviation_conv)"
   ]
  }
 ],
 "metadata": {
  "kernelspec": {
   "display_name": "Python 3.9.7 ('tensorflow')",
   "language": "python",
   "name": "python3"
  },
  "language_info": {
   "codemirror_mode": {
    "name": "ipython",
    "version": 3
   },
   "file_extension": ".py",
   "mimetype": "text/x-python",
   "name": "python",
   "nbconvert_exporter": "python",
   "pygments_lexer": "ipython3",
   "version": "3.9.7"
  },
  "orig_nbformat": 4,
  "vscode": {
   "interpreter": {
    "hash": "fa0bc865107c7062c66623b84ed7848967abd0ba5cbabe70080959ae0fa18d9a"
   }
  }
 },
 "nbformat": 4,
 "nbformat_minor": 2
}
