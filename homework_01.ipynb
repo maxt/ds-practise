{
 "cells": [
  {
   "cell_type": "code",
   "execution_count": 1,
   "metadata": {
    "collapsed": true,
    "pycharm": {
     "name": "#%%\n"
    }
   },
   "outputs": [],
   "source": [
    "import requests\n",
    "from tqdm import tqdm"
   ]
  },
  {
   "cell_type": "markdown",
   "metadata": {
    "collapsed": false
   },
   "source": [
    "## Hometask #1\n",
    "\n",
    "### Maksim Sorokin <maxt.coder@gmail.com>"
   ]
  },
  {
   "cell_type": "code",
   "execution_count": 2,
   "metadata": {
    "collapsed": false,
    "pycharm": {
     "name": "#%%\n"
    }
   },
   "outputs": [],
   "source": [
    "def getTotal():\n",
    "    url = f'https://xn--80az8a.xn--d1aqf.xn--p1ai/%D1%81%D0%B5%D1%80%D0%B2%D0%B8%D1%81%D1%8B/api/kn/object?offset=1&limit=100&sortField=devId.devShortCleanNm&sortType=asc&objStatus=0'\n",
    "    res = requests.get(url)\n",
    "    return res.json().get('data').get('total')"
   ]
  },
  {
   "cell_type": "code",
   "execution_count": 3,
   "metadata": {
    "collapsed": false,
    "pycharm": {
     "name": "#%%\n"
    }
   },
   "outputs": [
    {
     "name": "stdout",
     "output_type": "stream",
     "text": [
      "Всего объектов: 10660\n"
     ]
    }
   ],
   "source": [
    "print('Всего объектов: '+ str(getTotal()))"
   ]
  },
  {
   "cell_type": "code",
   "execution_count": 4,
   "metadata": {
    "collapsed": false,
    "pycharm": {
     "name": "#%%\n"
    }
   },
   "outputs": [],
   "source": [
    "def getIds(offset_ = 1, limit_ = 100):\n",
    "    url = f'https://xn--80az8a.xn--d1aqf.xn--p1ai/%D1%81%D0%B5%D1%80%D0%B2%D0%B8%D1%81%D1%8B/api/kn/object?offset={offset_}&limit={limit_}&sortField=devId.devShortCleanNm&sortType=asc&objStatus=0'\n",
    "    res = requests.get(url)\n",
    "    objects_data = res.json()\n",
    "    objects_data.get('data').get('list')[0]\n",
    "    objects_list = objects_data.get('data').get('list')\n",
    "    l = list()\n",
    "    for a in objects_list:\n",
    "        l.append(a['objId'])\n",
    "    return l"
   ]
  },
  {
   "cell_type": "code",
   "execution_count": 5,
   "metadata": {
    "collapsed": false,
    "pycharm": {
     "name": "#%%\n"
    }
   },
   "outputs": [
    {
     "name": "stdout",
     "output_type": "stream",
     "text": [
      "Expected iterations count: \n"
     ]
    },
    {
     "name": "stderr",
     "output_type": "stream",
     "text": [
      "100%|██████████| 107/107 [02:06<00:00,  1.18s/it]"
     ]
    },
    {
     "name": "stdout",
     "output_type": "stream",
     "text": [
      "Loaded 10660 entries, total 10660\n"
     ]
    },
    {
     "name": "stderr",
     "output_type": "stream",
     "text": [
      "\n"
     ]
    }
   ],
   "source": [
    "all_objects_list = list()\n",
    "work_in_progress = True\n",
    "offset = 1\n",
    "total_objects =  getTotal()\n",
    "iterations = total_objects // 100\n",
    "print('Expected iterations count: ')\n",
    "if (total_objects % 100) > 0:\n",
    "    iterations+=1\n",
    "\n",
    "for a in tqdm(range(iterations)):\n",
    "    all_objects_list.extend(getIds(a*100))\n",
    "\n",
    "assert len(all_objects_list) == total_objects, 'Didn\\'t load the whole dataset'\n",
    "print('Loaded '+str(len(all_objects_list)) + ' entries, total '+str(total_objects))\n"
   ]
  },
  {
   "cell_type": "code",
   "execution_count": 7,
   "metadata": {
    "collapsed": false,
    "pycharm": {
     "name": "#%%\n"
    }
   },
   "outputs": [],
   "source": [
    "    def get_object_by_id(id):\n",
    "        url = f'https://xn--80az8a.xn--d1aqf.xn--p1ai/%D1%81%D0%B5%D1%80%D0%B2%D0%B8%D1%81%D1%8B/api/object/{id}'\n",
    "        answ = requests.get(url)\n",
    "        return answ.json()"
   ]
  },
  {
   "cell_type": "code",
   "execution_count": 8,
   "metadata": {
    "collapsed": false,
    "pycharm": {
     "name": "#%%\n"
    }
   },
   "outputs": [
    {
     "name": "stderr",
     "output_type": "stream",
     "text": [
      "100%|██████████| 10660/10660 [23:16<00:00,  7.63it/s] \n"
     ]
    },
    {
     "name": "stdout",
     "output_type": "stream",
     "text": [
      "Additional processing of failed ids\n"
     ]
    },
    {
     "name": "stderr",
     "output_type": "stream",
     "text": [
      "0it [00:00, ?it/s]\n"
     ]
    }
   ],
   "source": [
    "all_objects_full_list = list()\n",
    "ids_with_errors = list()\n",
    "for a in tqdm(all_objects_list):\n",
    "    try:\n",
    "        all_objects_full_list.append(get_object_by_id(a))\n",
    "    except:\n",
    "        ids_with_errors.append(a)\n",
    "\n",
    "print('Additional processing of failed ids')\n",
    "for b in tqdm(ids_with_errors):\n",
    "    all_objects_full_list.append(get_object_by_id(b))\n",
    "\n",
    "assert len(all_objects_full_list) == total_objects, 'Didn\\'t load the whole dataset'"
   ]
  },
  {
   "cell_type": "code",
   "execution_count": 9,
   "metadata": {
    "collapsed": false,
    "pycharm": {
     "name": "#%%\n"
    }
   },
   "outputs": [
    {
     "data": {
      "text/plain": [
       "10660"
      ]
     },
     "execution_count": 9,
     "metadata": {},
     "output_type": "execute_result"
    }
   ],
   "source": [
    "len(all_objects_full_list)"
   ]
  },
  {
   "cell_type": "code",
   "execution_count": 10,
   "metadata": {
    "collapsed": false,
    "pycharm": {
     "name": "#%%\n"
    }
   },
   "outputs": [
    {
     "name": "stderr",
     "output_type": "stream",
     "text": [
      "100%|██████████| 10660/10660 [00:59<00:00, 177.92it/s]\n"
     ]
    },
    {
     "data": {
      "text/html": [
       "<div>\n",
       "<style scoped>\n",
       "    .dataframe tbody tr th:only-of-type {\n",
       "        vertical-align: middle;\n",
       "    }\n",
       "\n",
       "    .dataframe tbody tr th {\n",
       "        vertical-align: top;\n",
       "    }\n",
       "\n",
       "    .dataframe thead th {\n",
       "        text-align: right;\n",
       "    }\n",
       "</style>\n",
       "<table border=\"1\" class=\"dataframe\">\n",
       "  <thead>\n",
       "    <tr style=\"text-align: right;\">\n",
       "      <th></th>\n",
       "      <th>id</th>\n",
       "      <th>pdId</th>\n",
       "      <th>region</th>\n",
       "      <th>address</th>\n",
       "      <th>objElemLivingCnt</th>\n",
       "      <th>objReady100PercDt</th>\n",
       "      <th>wallMaterialShortDesc</th>\n",
       "      <th>objLkFinishTypeDesc</th>\n",
       "      <th>objLkFreePlanDesc</th>\n",
       "      <th>objElemParkingCnt</th>\n",
       "      <th>...</th>\n",
       "      <th>generalContractorNm</th>\n",
       "      <th>nonlivFirstFloor</th>\n",
       "      <th>objLkSaleDepEmail</th>\n",
       "      <th>transportDistIndex</th>\n",
       "      <th>transportDistIndexValue</th>\n",
       "      <th>nameObj</th>\n",
       "      <th>greenAreaIndexValue</th>\n",
       "      <th>airQualityIndexValue</th>\n",
       "      <th>complexShortNm</th>\n",
       "      <th>metro</th>\n",
       "    </tr>\n",
       "  </thead>\n",
       "  <tbody>\n",
       "    <tr>\n",
       "      <th>0</th>\n",
       "      <td>29679</td>\n",
       "      <td>124647</td>\n",
       "      <td>61</td>\n",
       "      <td>г Таганрог</td>\n",
       "      <td>18</td>\n",
       "      <td>2020-03-31</td>\n",
       "      <td>Другое</td>\n",
       "      <td>Под ключ</td>\n",
       "      <td>Есть</td>\n",
       "      <td>0</td>\n",
       "      <td>...</td>\n",
       "      <td>NaN</td>\n",
       "      <td>NaN</td>\n",
       "      <td>NaN</td>\n",
       "      <td>NaN</td>\n",
       "      <td>NaN</td>\n",
       "      <td>NaN</td>\n",
       "      <td>NaN</td>\n",
       "      <td>NaN</td>\n",
       "      <td>NaN</td>\n",
       "      <td>NaN</td>\n",
       "    </tr>\n",
       "    <tr>\n",
       "      <th>1</th>\n",
       "      <td>13397</td>\n",
       "      <td>28141</td>\n",
       "      <td>72</td>\n",
       "      <td>г Тюмень, ул Профсоюзная, д. 56</td>\n",
       "      <td>65</td>\n",
       "      <td>2024-12-31</td>\n",
       "      <td>Другое</td>\n",
       "      <td>Без отделки</td>\n",
       "      <td>Нет</td>\n",
       "      <td>0</td>\n",
       "      <td>...</td>\n",
       "      <td>ООО Транспромжилстрой-2005 (ИНН: 7204097730)</td>\n",
       "      <td>0.0</td>\n",
       "      <td>info@2mengroup.ru</td>\n",
       "      <td>NaN</td>\n",
       "      <td>NaN</td>\n",
       "      <td>NaN</td>\n",
       "      <td>NaN</td>\n",
       "      <td>NaN</td>\n",
       "      <td>NaN</td>\n",
       "      <td>NaN</td>\n",
       "    </tr>\n",
       "    <tr>\n",
       "      <th>2</th>\n",
       "      <td>13398</td>\n",
       "      <td>28141</td>\n",
       "      <td>72</td>\n",
       "      <td>г Тюмень, ул Профсоюзная, д. 56</td>\n",
       "      <td>43</td>\n",
       "      <td>2024-12-31</td>\n",
       "      <td>Другое</td>\n",
       "      <td>Без отделки</td>\n",
       "      <td>Нет</td>\n",
       "      <td>0</td>\n",
       "      <td>...</td>\n",
       "      <td>ООО Транспромжилстрой-2005 (ИНН: 7204097730)</td>\n",
       "      <td>0.0</td>\n",
       "      <td>info@2mengroup.ru</td>\n",
       "      <td>NaN</td>\n",
       "      <td>NaN</td>\n",
       "      <td>NaN</td>\n",
       "      <td>NaN</td>\n",
       "      <td>NaN</td>\n",
       "      <td>NaN</td>\n",
       "      <td>NaN</td>\n",
       "    </tr>\n",
       "    <tr>\n",
       "      <th>3</th>\n",
       "      <td>13383</td>\n",
       "      <td>28105</td>\n",
       "      <td>72</td>\n",
       "      <td>г Тюмень</td>\n",
       "      <td>68</td>\n",
       "      <td>2022-12-31</td>\n",
       "      <td>Другое</td>\n",
       "      <td>По желанию заказчика</td>\n",
       "      <td>Есть</td>\n",
       "      <td>31</td>\n",
       "      <td>...</td>\n",
       "      <td>ООО Транспромжилстрой-2005 (ИНН: 7204097730)</td>\n",
       "      <td>1.0</td>\n",
       "      <td>info@2mengroup.ru</td>\n",
       "      <td>NaN</td>\n",
       "      <td>NaN</td>\n",
       "      <td>NaN</td>\n",
       "      <td>NaN</td>\n",
       "      <td>NaN</td>\n",
       "      <td>NaN</td>\n",
       "      <td>NaN</td>\n",
       "    </tr>\n",
       "    <tr>\n",
       "      <th>4</th>\n",
       "      <td>13399</td>\n",
       "      <td>28141</td>\n",
       "      <td>72</td>\n",
       "      <td>г Тюмень, ул Профсоюзная, д. 56</td>\n",
       "      <td>0</td>\n",
       "      <td>2024-12-31</td>\n",
       "      <td>Другое</td>\n",
       "      <td>Без отделки</td>\n",
       "      <td>Нет</td>\n",
       "      <td>125</td>\n",
       "      <td>...</td>\n",
       "      <td>ООО Транспромжилстрой-2005 (ИНН: 7204097730)</td>\n",
       "      <td>1.0</td>\n",
       "      <td>info@2mengroup.ru</td>\n",
       "      <td>NaN</td>\n",
       "      <td>NaN</td>\n",
       "      <td>NaN</td>\n",
       "      <td>NaN</td>\n",
       "      <td>NaN</td>\n",
       "      <td>NaN</td>\n",
       "      <td>NaN</td>\n",
       "    </tr>\n",
       "    <tr>\n",
       "      <th>...</th>\n",
       "      <td>...</td>\n",
       "      <td>...</td>\n",
       "      <td>...</td>\n",
       "      <td>...</td>\n",
       "      <td>...</td>\n",
       "      <td>...</td>\n",
       "      <td>...</td>\n",
       "      <td>...</td>\n",
       "      <td>...</td>\n",
       "      <td>...</td>\n",
       "      <td>...</td>\n",
       "      <td>...</td>\n",
       "      <td>...</td>\n",
       "      <td>...</td>\n",
       "      <td>...</td>\n",
       "      <td>...</td>\n",
       "      <td>...</td>\n",
       "      <td>...</td>\n",
       "      <td>...</td>\n",
       "      <td>...</td>\n",
       "      <td>...</td>\n",
       "    </tr>\n",
       "    <tr>\n",
       "      <th>10655</th>\n",
       "      <td>28074</td>\n",
       "      <td>96537</td>\n",
       "      <td>50</td>\n",
       "      <td>г Котельники, район мкр.Ковровый, д.1-5, 24-29...</td>\n",
       "      <td>600</td>\n",
       "      <td>2023-06-30</td>\n",
       "      <td>Другое</td>\n",
       "      <td>Под ключ</td>\n",
       "      <td>Нет</td>\n",
       "      <td>0</td>\n",
       "      <td>...</td>\n",
       "      <td>NaN</td>\n",
       "      <td>1.0</td>\n",
       "      <td>info@bw-estate.ru</td>\n",
       "      <td>NaN</td>\n",
       "      <td>NaN</td>\n",
       "      <td>Жилой комплекс\"Томилинский бульвар\"</td>\n",
       "      <td>NaN</td>\n",
       "      <td>8.0</td>\n",
       "      <td>NaN</td>\n",
       "      <td>NaN</td>\n",
       "    </tr>\n",
       "    <tr>\n",
       "      <th>10656</th>\n",
       "      <td>28072</td>\n",
       "      <td>96379</td>\n",
       "      <td>50</td>\n",
       "      <td>г Котельники, район мкр.Ковровый, д.1-5, 24-29...</td>\n",
       "      <td>312</td>\n",
       "      <td>2024-06-30</td>\n",
       "      <td>Другое</td>\n",
       "      <td>Под ключ</td>\n",
       "      <td>Нет</td>\n",
       "      <td>0</td>\n",
       "      <td>...</td>\n",
       "      <td>NaN</td>\n",
       "      <td>1.0</td>\n",
       "      <td>info@bw-estate.ru</td>\n",
       "      <td>NaN</td>\n",
       "      <td>NaN</td>\n",
       "      <td>Жилой комплекс\"Томилинский бульвар\"</td>\n",
       "      <td>NaN</td>\n",
       "      <td>7.0</td>\n",
       "      <td>NaN</td>\n",
       "      <td>NaN</td>\n",
       "    </tr>\n",
       "    <tr>\n",
       "      <th>10657</th>\n",
       "      <td>28070</td>\n",
       "      <td>99487</td>\n",
       "      <td>50</td>\n",
       "      <td>г Котельники, район мкр.Ковровый, д.1-5, 24-29...</td>\n",
       "      <td>768</td>\n",
       "      <td>2024-06-30</td>\n",
       "      <td>Другое</td>\n",
       "      <td>Под ключ</td>\n",
       "      <td>Нет</td>\n",
       "      <td>0</td>\n",
       "      <td>...</td>\n",
       "      <td>NaN</td>\n",
       "      <td>1.0</td>\n",
       "      <td>info@bw-estate.ru</td>\n",
       "      <td>NaN</td>\n",
       "      <td>NaN</td>\n",
       "      <td>Жилой комплекс\"Томилинский бульвар\"</td>\n",
       "      <td>NaN</td>\n",
       "      <td>7.0</td>\n",
       "      <td>NaN</td>\n",
       "      <td>NaN</td>\n",
       "    </tr>\n",
       "    <tr>\n",
       "      <th>10658</th>\n",
       "      <td>44447</td>\n",
       "      <td>475093</td>\n",
       "      <td>76</td>\n",
       "      <td>г Ярославль, Фрунзенский район, территория в р...</td>\n",
       "      <td>127</td>\n",
       "      <td>2022-12-31</td>\n",
       "      <td>Кирпич</td>\n",
       "      <td>Другое</td>\n",
       "      <td>Нет</td>\n",
       "      <td>0</td>\n",
       "      <td>...</td>\n",
       "      <td>АО Специализированный застройщик \"Горстройзака...</td>\n",
       "      <td>0.0</td>\n",
       "      <td>yarzak@mail.ru</td>\n",
       "      <td>NaN</td>\n",
       "      <td>NaN</td>\n",
       "      <td>NaN</td>\n",
       "      <td>NaN</td>\n",
       "      <td>NaN</td>\n",
       "      <td>NaN</td>\n",
       "      <td>NaN</td>\n",
       "    </tr>\n",
       "    <tr>\n",
       "      <th>10659</th>\n",
       "      <td>45321</td>\n",
       "      <td>516648</td>\n",
       "      <td>32</td>\n",
       "      <td>г Брянск, улица Молодой Гвардии, строение Поз.1</td>\n",
       "      <td>90</td>\n",
       "      <td>2023-03-31</td>\n",
       "      <td>Монолит-кирпич</td>\n",
       "      <td>Без отделки</td>\n",
       "      <td>Нет</td>\n",
       "      <td>0</td>\n",
       "      <td>...</td>\n",
       "      <td>NaN</td>\n",
       "      <td>0.0</td>\n",
       "      <td>saks_br@mail.ru</td>\n",
       "      <td>NaN</td>\n",
       "      <td>NaN</td>\n",
       "      <td>NaN</td>\n",
       "      <td>NaN</td>\n",
       "      <td>NaN</td>\n",
       "      <td>NaN</td>\n",
       "      <td>NaN</td>\n",
       "    </tr>\n",
       "  </tbody>\n",
       "</table>\n",
       "<p>10660 rows × 67 columns</p>\n",
       "</div>"
      ],
      "text/plain": [
       "          id    pdId  region  \\\n",
       "0      29679  124647      61   \n",
       "1      13397   28141      72   \n",
       "2      13398   28141      72   \n",
       "3      13383   28105      72   \n",
       "4      13399   28141      72   \n",
       "...      ...     ...     ...   \n",
       "10655  28074   96537      50   \n",
       "10656  28072   96379      50   \n",
       "10657  28070   99487      50   \n",
       "10658  44447  475093      76   \n",
       "10659  45321  516648      32   \n",
       "\n",
       "                                                 address  objElemLivingCnt  \\\n",
       "0                                             г Таганрог                18   \n",
       "1                        г Тюмень, ул Профсоюзная, д. 56                65   \n",
       "2                        г Тюмень, ул Профсоюзная, д. 56                43   \n",
       "3                                               г Тюмень                68   \n",
       "4                        г Тюмень, ул Профсоюзная, д. 56                 0   \n",
       "...                                                  ...               ...   \n",
       "10655  г Котельники, район мкр.Ковровый, д.1-5, 24-29...               600   \n",
       "10656  г Котельники, район мкр.Ковровый, д.1-5, 24-29...               312   \n",
       "10657  г Котельники, район мкр.Ковровый, д.1-5, 24-29...               768   \n",
       "10658  г Ярославль, Фрунзенский район, территория в р...               127   \n",
       "10659    г Брянск, улица Молодой Гвардии, строение Поз.1                90   \n",
       "\n",
       "      objReady100PercDt wallMaterialShortDesc   objLkFinishTypeDesc  \\\n",
       "0            2020-03-31                Другое              Под ключ   \n",
       "1            2024-12-31                Другое           Без отделки   \n",
       "2            2024-12-31                Другое           Без отделки   \n",
       "3            2022-12-31                Другое  По желанию заказчика   \n",
       "4            2024-12-31                Другое           Без отделки   \n",
       "...                 ...                   ...                   ...   \n",
       "10655        2023-06-30                Другое              Под ключ   \n",
       "10656        2024-06-30                Другое              Под ключ   \n",
       "10657        2024-06-30                Другое              Под ключ   \n",
       "10658        2022-12-31                Кирпич                Другое   \n",
       "10659        2023-03-31        Монолит-кирпич           Без отделки   \n",
       "\n",
       "      objLkFreePlanDesc  objElemParkingCnt  ...  \\\n",
       "0                  Есть                  0  ...   \n",
       "1                   Нет                  0  ...   \n",
       "2                   Нет                  0  ...   \n",
       "3                  Есть                 31  ...   \n",
       "4                   Нет                125  ...   \n",
       "...                 ...                ...  ...   \n",
       "10655               Нет                  0  ...   \n",
       "10656               Нет                  0  ...   \n",
       "10657               Нет                  0  ...   \n",
       "10658               Нет                  0  ...   \n",
       "10659               Нет                  0  ...   \n",
       "\n",
       "                                     generalContractorNm nonlivFirstFloor  \\\n",
       "0                                                    NaN              NaN   \n",
       "1           ООО Транспромжилстрой-2005 (ИНН: 7204097730)              0.0   \n",
       "2           ООО Транспромжилстрой-2005 (ИНН: 7204097730)              0.0   \n",
       "3           ООО Транспромжилстрой-2005 (ИНН: 7204097730)              1.0   \n",
       "4           ООО Транспромжилстрой-2005 (ИНН: 7204097730)              1.0   \n",
       "...                                                  ...              ...   \n",
       "10655                                                NaN              1.0   \n",
       "10656                                                NaN              1.0   \n",
       "10657                                                NaN              1.0   \n",
       "10658  АО Специализированный застройщик \"Горстройзака...              0.0   \n",
       "10659                                                NaN              0.0   \n",
       "\n",
       "       objLkSaleDepEmail transportDistIndex transportDistIndexValue  \\\n",
       "0                    NaN                NaN                     NaN   \n",
       "1      info@2mengroup.ru                NaN                     NaN   \n",
       "2      info@2mengroup.ru                NaN                     NaN   \n",
       "3      info@2mengroup.ru                NaN                     NaN   \n",
       "4      info@2mengroup.ru                NaN                     NaN   \n",
       "...                  ...                ...                     ...   \n",
       "10655  info@bw-estate.ru                NaN                     NaN   \n",
       "10656  info@bw-estate.ru                NaN                     NaN   \n",
       "10657  info@bw-estate.ru                NaN                     NaN   \n",
       "10658     yarzak@mail.ru                NaN                     NaN   \n",
       "10659    saks_br@mail.ru                NaN                     NaN   \n",
       "\n",
       "                                   nameObj  greenAreaIndexValue  \\\n",
       "0                                      NaN                  NaN   \n",
       "1                                      NaN                  NaN   \n",
       "2                                      NaN                  NaN   \n",
       "3                                      NaN                  NaN   \n",
       "4                                      NaN                  NaN   \n",
       "...                                    ...                  ...   \n",
       "10655  Жилой комплекс\"Томилинский бульвар\"                  NaN   \n",
       "10656  Жилой комплекс\"Томилинский бульвар\"                  NaN   \n",
       "10657  Жилой комплекс\"Томилинский бульвар\"                  NaN   \n",
       "10658                                  NaN                  NaN   \n",
       "10659                                  NaN                  NaN   \n",
       "\n",
       "       airQualityIndexValue complexShortNm metro  \n",
       "0                       NaN            NaN   NaN  \n",
       "1                       NaN            NaN   NaN  \n",
       "2                       NaN            NaN   NaN  \n",
       "3                       NaN            NaN   NaN  \n",
       "4                       NaN            NaN   NaN  \n",
       "...                     ...            ...   ...  \n",
       "10655                   8.0            NaN   NaN  \n",
       "10656                   7.0            NaN   NaN  \n",
       "10657                   7.0            NaN   NaN  \n",
       "10658                   NaN            NaN   NaN  \n",
       "10659                   NaN            NaN   NaN  \n",
       "\n",
       "[10660 rows x 67 columns]"
      ]
     },
     "execution_count": 10,
     "metadata": {},
     "output_type": "execute_result"
    }
   ],
   "source": [
    "import pandas\n",
    "result_df = pandas.DataFrame()\n",
    "for c in tqdm(all_objects_full_list):\n",
    "    temp_result_dict = dict(c.get('data'))\n",
    "    developer_dict = temp_result_dict.get('developer')\n",
    "    if developer_dict:\n",
    "        devId = developer_dict.get('devId')\n",
    "        del temp_result_dict['developer']\n",
    "        temp_result_dict['devId'] = devId\n",
    "    temp_df = pandas.DataFrame([temp_result_dict])\n",
    "    result_df = result_df = pandas.concat([result_df,temp_df], ignore_index = True)\n",
    "result_df"
   ]
  },
  {
   "cell_type": "code",
   "execution_count": 13,
   "metadata": {
    "collapsed": false,
    "pycharm": {
     "name": "#%%\n"
    }
   },
   "outputs": [],
   "source": [
    "import openpyxl\n",
    "result_df.to_excel('output/dom_objects.xlsx')"
   ]
  },
  {
   "cell_type": "code",
   "execution_count": 14,
   "metadata": {
    "collapsed": false,
    "pycharm": {
     "name": "#%%\n"
    }
   },
   "outputs": [],
   "source": [
    "result_df.to_pickle(\"output/dom_objeckts.pkl\")"
   ]
  },
  {
   "cell_type": "code",
   "execution_count": 15,
   "metadata": {
    "collapsed": false,
    "pycharm": {
     "name": "#%%\n"
    }
   },
   "outputs": [
    {
     "name": "stdout",
     "output_type": "stream",
     "text": [
      "(10660,)\n"
     ]
    }
   ],
   "source": [
    "from sqlalchemy import create_engine\n",
    "result_df_str =  result_df.applymap(str)\n",
    "engine = create_engine('sqlite://', echo=False)\n",
    "result_df_str.to_sql('dom_objects', con=engine)\n",
    "for row in engine.execute(\"select count(*) from dom_objects\"):\n",
    "    print(row)"
   ]
  }
 ],
 "metadata": {
  "kernelspec": {
   "display_name": "Python 3.9.7 ('tensorflow': conda)",
   "language": "python",
   "name": "python3"
  },
  "language_info": {
   "codemirror_mode": {
    "name": "ipython",
    "version": 3
   },
   "file_extension": ".py",
   "mimetype": "text/x-python",
   "name": "python",
   "nbconvert_exporter": "python",
   "pygments_lexer": "ipython3",
   "version": "3.9.7"
  },
  "vscode": {
   "interpreter": {
    "hash": "fa0bc865107c7062c66623b84ed7848967abd0ba5cbabe70080959ae0fa18d9a"
   }
  }
 },
 "nbformat": 4,
 "nbformat_minor": 0
}
