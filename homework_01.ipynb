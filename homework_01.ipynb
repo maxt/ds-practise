{
 "cells": [
  {
   "cell_type": "code",
   "execution_count": 44,
   "metadata": {
    "collapsed": true,
    "pycharm": {
     "name": "#%%\n"
    }
   },
   "outputs": [],
   "source": [
    "import requests\n",
    "from tqdm import tqdm"
   ]
  },
  {
   "cell_type": "markdown",
   "source": [
    "## Hometask #1\n",
    "\n",
    "### Maksim Sorokin <maxt.coder@gmail.com>"
   ],
   "metadata": {
    "collapsed": false
   }
  },
  {
   "cell_type": "code",
   "execution_count": 45,
   "outputs": [],
   "source": [
    "def getTotal():\n",
    "    url = f'https://xn--80az8a.xn--d1aqf.xn--p1ai/%D1%81%D0%B5%D1%80%D0%B2%D0%B8%D1%81%D1%8B/api/kn/object?offset=1&limit=100&sortField=devId.devShortCleanNm&sortType=asc&objStatus=0'\n",
    "    res = requests.get(url)\n",
    "    return res.json().get('data').get('total')"
   ],
   "metadata": {
    "collapsed": false,
    "pycharm": {
     "name": "#%%\n"
    }
   }
  },
  {
   "cell_type": "code",
   "execution_count": 46,
   "outputs": [
    {
     "name": "stdout",
     "output_type": "stream",
     "text": [
      "Всего объектов: 10616\n"
     ]
    }
   ],
   "source": [
    "print('Всего объектов: '+ str(getTotal()))"
   ],
   "metadata": {
    "collapsed": false,
    "pycharm": {
     "name": "#%%\n"
    }
   }
  },
  {
   "cell_type": "code",
   "execution_count": 47,
   "outputs": [],
   "source": [
    "def getIds(offset_ = 1, limit_ = 100):\n",
    "    url = f'https://xn--80az8a.xn--d1aqf.xn--p1ai/%D1%81%D0%B5%D1%80%D0%B2%D0%B8%D1%81%D1%8B/api/kn/object?offset={offset_}&limit={limit_}&sortField=devId.devShortCleanNm&sortType=asc&objStatus=0'\n",
    "    res = requests.get(url)\n",
    "    objects_data = res.json()\n",
    "    objects_data.get('data').get('list')[0]\n",
    "    objects_list = objects_data.get('data').get('list')\n",
    "    l = list()\n",
    "    for a in objects_list:\n",
    "        l.append(a['objId'])\n",
    "    return l"
   ],
   "metadata": {
    "collapsed": false,
    "pycharm": {
     "name": "#%%\n"
    }
   }
  },
  {
   "cell_type": "code",
   "execution_count": 48,
   "outputs": [
    {
     "name": "stdout",
     "output_type": "stream",
     "text": [
      "Expected iterations count: \n"
     ]
    },
    {
     "name": "stderr",
     "output_type": "stream",
     "text": [
      "100%|██████████| 107/107 [02:33<00:00,  1.43s/it]"
     ]
    },
    {
     "name": "stdout",
     "output_type": "stream",
     "text": [
      "Loaded 10616 entries, total 10616\n"
     ]
    },
    {
     "name": "stderr",
     "output_type": "stream",
     "text": [
      "\n"
     ]
    }
   ],
   "source": [
    "all_objects_list = list()\n",
    "work_in_progress = True\n",
    "offset = 1\n",
    "total_objects =  getTotal()\n",
    "iterations = total_objects // 100\n",
    "print('Expected iterations count: ')\n",
    "if (total_objects % 100) > 0:\n",
    "    iterations+=1\n",
    "\n",
    "for a in tqdm(range(iterations)):\n",
    "    all_objects_list.extend(getIds(a*100))\n",
    "\n",
    "assert len(all_objects_list) == total_objects, 'Didn\\'t load the whole dataset'\n",
    "print('Loaded '+str(len(all_objects_list)) + ' entries, total '+str(total_objects))\n"
   ],
   "metadata": {
    "collapsed": false,
    "pycharm": {
     "name": "#%%\n"
    }
   }
  },
  {
   "cell_type": "code",
   "execution_count": 50,
   "outputs": [],
   "source": [
    "    def get_object_by_id(id):\n",
    "    url = f'https://xn--80az8a.xn--d1aqf.xn--p1ai/%D1%81%D0%B5%D1%80%D0%B2%D0%B8%D1%81%D1%8B/api/object/{id}'\n",
    "    answ = requests.get(url)\n",
    "    return answ.json()"
   ],
   "metadata": {
    "collapsed": false,
    "pycharm": {
     "name": "#%%\n"
    }
   }
  },
  {
   "cell_type": "code",
   "execution_count": 52,
   "outputs": [
    {
     "name": "stderr",
     "output_type": "stream",
     "text": [
      "100%|██████████| 10616/10616 [26:10<00:00,  6.76it/s] \n"
     ]
    },
    {
     "name": "stdout",
     "output_type": "stream",
     "text": [
      "Additional processing of failed ids\n"
     ]
    },
    {
     "name": "stderr",
     "output_type": "stream",
     "text": [
      "100%|██████████| 1/1 [00:00<00:00,  8.09it/s]\n"
     ]
    }
   ],
   "source": [
    "all_objects_full_list = list()\n",
    "ids_with_errors = list()\n",
    "for a in tqdm(all_objects_list):\n",
    "    try:\n",
    "        all_objects_full_list.append(get_object_by_id(a))\n",
    "    except:\n",
    "        ids_with_errors.append(a)\n",
    "\n",
    "print('Additional processing of failed ids')\n",
    "for b in tqdm(ids_with_errors):\n",
    "    all_objects_full_list.append(get_object_by_id(b))\n",
    "\n",
    "assert len(all_objects_full_list) == total_objects, 'Didn\\'t load the whole dataset'"
   ],
   "metadata": {
    "collapsed": false,
    "pycharm": {
     "name": "#%%\n"
    }
   }
  },
  {
   "cell_type": "code",
   "execution_count": 54,
   "outputs": [
    {
     "data": {
      "text/plain": "10616"
     },
     "execution_count": 54,
     "metadata": {},
     "output_type": "execute_result"
    }
   ],
   "source": [
    "len(all_objects_full_list)"
   ],
   "metadata": {
    "collapsed": false,
    "pycharm": {
     "name": "#%%\n"
    }
   }
  },
  {
   "cell_type": "code",
   "execution_count": 76,
   "outputs": [
    {
     "name": "stderr",
     "output_type": "stream",
     "text": [
      "100%|██████████| 10616/10616 [02:37<00:00, 67.34it/s]\n"
     ]
    },
    {
     "data": {
      "text/plain": "          id    pdId  region  \\\n0      29679  124647      61   \n1      13391   28101      72   \n2      13399   28141      72   \n3      13383   28105      72   \n4      13398   28141      72   \n...      ...     ...     ...   \n10611  28072   96379      50   \n10612  28070   99487      50   \n10613  44447  475093      76   \n10614  45321  516648      32   \n10615  29414   85229      50   \n\n                                                 address  objElemLivingCnt  \\\n0                                             г Таганрог                18   \n1                               г Тюмень, ул Профсоюзная                44   \n2                        г Тюмень, ул Профсоюзная, д. 56                 0   \n3                                               г Тюмень                68   \n4                        г Тюмень, ул Профсоюзная, д. 56                43   \n...                                                  ...               ...   \n10611  г Котельники, район мкр.Ковровый, д.1-5, 24-29...               312   \n10612  г Котельники, район мкр.Ковровый, д.1-5, 24-29...               768   \n10613  г Ярославль, Фрунзенский район, территория в р...               127   \n10614    г Брянск, улица Молодой Гвардии, строение Поз.1                90   \n10615                 г Домодедово, ул Ледовская, д. 8-9               542   \n\n      objReady100PercDt wallMaterialShortDesc   objLkFinishTypeDesc  \\\n0            2020-03-31                Другое              Под ключ   \n1            2022-12-31                Другое  По желанию заказчика   \n2            2024-12-31                Другое           Без отделки   \n3            2022-12-31                Другое  По желанию заказчика   \n4            2024-12-31                Другое           Без отделки   \n...                 ...                   ...                   ...   \n10611        2024-06-30                Другое              Под ключ   \n10612        2024-06-30                Другое              Под ключ   \n10613        2022-12-31                Кирпич                Другое   \n10614        2023-03-31        Монолит-кирпич           Без отделки   \n10615        2022-12-31                Панель           Без отделки   \n\n      objLkFreePlanDesc  objElemParkingCnt  ...  \\\n0                  Есть                  0  ...   \n1                  Есть                 41  ...   \n2                   Нет                125  ...   \n3                  Есть                 31  ...   \n4                   Нет                  0  ...   \n...                 ...                ...  ...   \n10611               Нет                  0  ...   \n10612               Нет                  0  ...   \n10613               Нет                  0  ...   \n10614               Нет                  0  ...   \n10615               Нет                  0  ...   \n\n                                     generalContractorNm nonlivFirstFloor  \\\n0                                                    NaN              NaN   \n1           ООО Транспромжилстрой-2005 (ИНН: 7204097730)              1.0   \n2           ООО Транспромжилстрой-2005 (ИНН: 7204097730)              1.0   \n3           ООО Транспромжилстрой-2005 (ИНН: 7204097730)              1.0   \n4           ООО Транспромжилстрой-2005 (ИНН: 7204097730)              0.0   \n...                                                  ...              ...   \n10611                                                NaN              1.0   \n10612                                                NaN              1.0   \n10613  АО Специализированный застройщик \"Горстройзака...              0.0   \n10614                                                NaN              0.0   \n10615                                                NaN              0.0   \n\n       objLkSaleDepEmail transportDistIndex transportDistIndexValue  \\\n0                    NaN                NaN                     NaN   \n1      info@2mengroup.ru                NaN                     NaN   \n2      info@2mengroup.ru                NaN                     NaN   \n3      info@2mengroup.ru                NaN                     NaN   \n4      info@2mengroup.ru                NaN                     NaN   \n...                  ...                ...                     ...   \n10611  info@bw-estate.ru                NaN                     NaN   \n10612  info@bw-estate.ru                NaN                     NaN   \n10613     yarzak@mail.ru                NaN                     NaN   \n10614    saks_br@mail.ru                NaN                     NaN   \n10615      mail@gunai.ru                NaN                     NaN   \n\n                                   nameObj  greenAreaIndexValue  \\\n0                                      NaN                  NaN   \n1                                      NaN                  NaN   \n2                                      NaN                  NaN   \n3                                      NaN                  NaN   \n4                                      NaN                  NaN   \n...                                    ...                  ...   \n10611  Жилой комплекс\"Томилинский бульвар\"                  NaN   \n10612  Жилой комплекс\"Томилинский бульвар\"                  NaN   \n10613                                  NaN                  NaN   \n10614                                  NaN                  NaN   \n10615                                  NaN                  NaN   \n\n       airQualityIndexValue complexShortNm metro  \n0                       NaN            NaN   NaN  \n1                       NaN            NaN   NaN  \n2                       NaN            NaN   NaN  \n3                       NaN            NaN   NaN  \n4                       NaN            NaN   NaN  \n...                     ...            ...   ...  \n10611                   7.0            NaN   NaN  \n10612                   7.0            NaN   NaN  \n10613                   NaN            NaN   NaN  \n10614                   NaN            NaN   NaN  \n10615                   6.0            NaN   NaN  \n\n[10616 rows x 66 columns]",
      "text/html": "<div>\n<style scoped>\n    .dataframe tbody tr th:only-of-type {\n        vertical-align: middle;\n    }\n\n    .dataframe tbody tr th {\n        vertical-align: top;\n    }\n\n    .dataframe thead th {\n        text-align: right;\n    }\n</style>\n<table border=\"1\" class=\"dataframe\">\n  <thead>\n    <tr style=\"text-align: right;\">\n      <th></th>\n      <th>id</th>\n      <th>pdId</th>\n      <th>region</th>\n      <th>address</th>\n      <th>objElemLivingCnt</th>\n      <th>objReady100PercDt</th>\n      <th>wallMaterialShortDesc</th>\n      <th>objLkFinishTypeDesc</th>\n      <th>objLkFreePlanDesc</th>\n      <th>objElemParkingCnt</th>\n      <th>...</th>\n      <th>generalContractorNm</th>\n      <th>nonlivFirstFloor</th>\n      <th>objLkSaleDepEmail</th>\n      <th>transportDistIndex</th>\n      <th>transportDistIndexValue</th>\n      <th>nameObj</th>\n      <th>greenAreaIndexValue</th>\n      <th>airQualityIndexValue</th>\n      <th>complexShortNm</th>\n      <th>metro</th>\n    </tr>\n  </thead>\n  <tbody>\n    <tr>\n      <th>0</th>\n      <td>29679</td>\n      <td>124647</td>\n      <td>61</td>\n      <td>г Таганрог</td>\n      <td>18</td>\n      <td>2020-03-31</td>\n      <td>Другое</td>\n      <td>Под ключ</td>\n      <td>Есть</td>\n      <td>0</td>\n      <td>...</td>\n      <td>NaN</td>\n      <td>NaN</td>\n      <td>NaN</td>\n      <td>NaN</td>\n      <td>NaN</td>\n      <td>NaN</td>\n      <td>NaN</td>\n      <td>NaN</td>\n      <td>NaN</td>\n      <td>NaN</td>\n    </tr>\n    <tr>\n      <th>1</th>\n      <td>13391</td>\n      <td>28101</td>\n      <td>72</td>\n      <td>г Тюмень, ул Профсоюзная</td>\n      <td>44</td>\n      <td>2022-12-31</td>\n      <td>Другое</td>\n      <td>По желанию заказчика</td>\n      <td>Есть</td>\n      <td>41</td>\n      <td>...</td>\n      <td>ООО Транспромжилстрой-2005 (ИНН: 7204097730)</td>\n      <td>1.0</td>\n      <td>info@2mengroup.ru</td>\n      <td>NaN</td>\n      <td>NaN</td>\n      <td>NaN</td>\n      <td>NaN</td>\n      <td>NaN</td>\n      <td>NaN</td>\n      <td>NaN</td>\n    </tr>\n    <tr>\n      <th>2</th>\n      <td>13399</td>\n      <td>28141</td>\n      <td>72</td>\n      <td>г Тюмень, ул Профсоюзная, д. 56</td>\n      <td>0</td>\n      <td>2024-12-31</td>\n      <td>Другое</td>\n      <td>Без отделки</td>\n      <td>Нет</td>\n      <td>125</td>\n      <td>...</td>\n      <td>ООО Транспромжилстрой-2005 (ИНН: 7204097730)</td>\n      <td>1.0</td>\n      <td>info@2mengroup.ru</td>\n      <td>NaN</td>\n      <td>NaN</td>\n      <td>NaN</td>\n      <td>NaN</td>\n      <td>NaN</td>\n      <td>NaN</td>\n      <td>NaN</td>\n    </tr>\n    <tr>\n      <th>3</th>\n      <td>13383</td>\n      <td>28105</td>\n      <td>72</td>\n      <td>г Тюмень</td>\n      <td>68</td>\n      <td>2022-12-31</td>\n      <td>Другое</td>\n      <td>По желанию заказчика</td>\n      <td>Есть</td>\n      <td>31</td>\n      <td>...</td>\n      <td>ООО Транспромжилстрой-2005 (ИНН: 7204097730)</td>\n      <td>1.0</td>\n      <td>info@2mengroup.ru</td>\n      <td>NaN</td>\n      <td>NaN</td>\n      <td>NaN</td>\n      <td>NaN</td>\n      <td>NaN</td>\n      <td>NaN</td>\n      <td>NaN</td>\n    </tr>\n    <tr>\n      <th>4</th>\n      <td>13398</td>\n      <td>28141</td>\n      <td>72</td>\n      <td>г Тюмень, ул Профсоюзная, д. 56</td>\n      <td>43</td>\n      <td>2024-12-31</td>\n      <td>Другое</td>\n      <td>Без отделки</td>\n      <td>Нет</td>\n      <td>0</td>\n      <td>...</td>\n      <td>ООО Транспромжилстрой-2005 (ИНН: 7204097730)</td>\n      <td>0.0</td>\n      <td>info@2mengroup.ru</td>\n      <td>NaN</td>\n      <td>NaN</td>\n      <td>NaN</td>\n      <td>NaN</td>\n      <td>NaN</td>\n      <td>NaN</td>\n      <td>NaN</td>\n    </tr>\n    <tr>\n      <th>...</th>\n      <td>...</td>\n      <td>...</td>\n      <td>...</td>\n      <td>...</td>\n      <td>...</td>\n      <td>...</td>\n      <td>...</td>\n      <td>...</td>\n      <td>...</td>\n      <td>...</td>\n      <td>...</td>\n      <td>...</td>\n      <td>...</td>\n      <td>...</td>\n      <td>...</td>\n      <td>...</td>\n      <td>...</td>\n      <td>...</td>\n      <td>...</td>\n      <td>...</td>\n      <td>...</td>\n    </tr>\n    <tr>\n      <th>10611</th>\n      <td>28072</td>\n      <td>96379</td>\n      <td>50</td>\n      <td>г Котельники, район мкр.Ковровый, д.1-5, 24-29...</td>\n      <td>312</td>\n      <td>2024-06-30</td>\n      <td>Другое</td>\n      <td>Под ключ</td>\n      <td>Нет</td>\n      <td>0</td>\n      <td>...</td>\n      <td>NaN</td>\n      <td>1.0</td>\n      <td>info@bw-estate.ru</td>\n      <td>NaN</td>\n      <td>NaN</td>\n      <td>Жилой комплекс\"Томилинский бульвар\"</td>\n      <td>NaN</td>\n      <td>7.0</td>\n      <td>NaN</td>\n      <td>NaN</td>\n    </tr>\n    <tr>\n      <th>10612</th>\n      <td>28070</td>\n      <td>99487</td>\n      <td>50</td>\n      <td>г Котельники, район мкр.Ковровый, д.1-5, 24-29...</td>\n      <td>768</td>\n      <td>2024-06-30</td>\n      <td>Другое</td>\n      <td>Под ключ</td>\n      <td>Нет</td>\n      <td>0</td>\n      <td>...</td>\n      <td>NaN</td>\n      <td>1.0</td>\n      <td>info@bw-estate.ru</td>\n      <td>NaN</td>\n      <td>NaN</td>\n      <td>Жилой комплекс\"Томилинский бульвар\"</td>\n      <td>NaN</td>\n      <td>7.0</td>\n      <td>NaN</td>\n      <td>NaN</td>\n    </tr>\n    <tr>\n      <th>10613</th>\n      <td>44447</td>\n      <td>475093</td>\n      <td>76</td>\n      <td>г Ярославль, Фрунзенский район, территория в р...</td>\n      <td>127</td>\n      <td>2022-12-31</td>\n      <td>Кирпич</td>\n      <td>Другое</td>\n      <td>Нет</td>\n      <td>0</td>\n      <td>...</td>\n      <td>АО Специализированный застройщик \"Горстройзака...</td>\n      <td>0.0</td>\n      <td>yarzak@mail.ru</td>\n      <td>NaN</td>\n      <td>NaN</td>\n      <td>NaN</td>\n      <td>NaN</td>\n      <td>NaN</td>\n      <td>NaN</td>\n      <td>NaN</td>\n    </tr>\n    <tr>\n      <th>10614</th>\n      <td>45321</td>\n      <td>516648</td>\n      <td>32</td>\n      <td>г Брянск, улица Молодой Гвардии, строение Поз.1</td>\n      <td>90</td>\n      <td>2023-03-31</td>\n      <td>Монолит-кирпич</td>\n      <td>Без отделки</td>\n      <td>Нет</td>\n      <td>0</td>\n      <td>...</td>\n      <td>NaN</td>\n      <td>0.0</td>\n      <td>saks_br@mail.ru</td>\n      <td>NaN</td>\n      <td>NaN</td>\n      <td>NaN</td>\n      <td>NaN</td>\n      <td>NaN</td>\n      <td>NaN</td>\n      <td>NaN</td>\n    </tr>\n    <tr>\n      <th>10615</th>\n      <td>29414</td>\n      <td>85229</td>\n      <td>50</td>\n      <td>г Домодедово, ул Ледовская, д. 8-9</td>\n      <td>542</td>\n      <td>2022-12-31</td>\n      <td>Панель</td>\n      <td>Без отделки</td>\n      <td>Нет</td>\n      <td>0</td>\n      <td>...</td>\n      <td>NaN</td>\n      <td>0.0</td>\n      <td>mail@gunai.ru</td>\n      <td>NaN</td>\n      <td>NaN</td>\n      <td>NaN</td>\n      <td>NaN</td>\n      <td>6.0</td>\n      <td>NaN</td>\n      <td>NaN</td>\n    </tr>\n  </tbody>\n</table>\n<p>10616 rows × 66 columns</p>\n</div>"
     },
     "execution_count": 76,
     "metadata": {},
     "output_type": "execute_result"
    }
   ],
   "source": [
    "import pandas\n",
    "result_df = pandas.DataFrame()\n",
    "for c in tqdm(all_objects_full_list):\n",
    "    temp_result_dict = dict(c.get('data'))\n",
    "    developer_dict = temp_result_dict.get('developer')\n",
    "    if developer_dict:\n",
    "        devId = developer_dict.get('devId')\n",
    "        del temp_result_dict['developer']\n",
    "        temp_result_dict['devId'] = devId\n",
    "    temp_df = pandas.DataFrame([temp_result_dict])\n",
    "    result_df = result_df = pandas.concat([result_df,temp_df], ignore_index = True)\n",
    "result_df"
   ],
   "metadata": {
    "collapsed": false,
    "pycharm": {
     "name": "#%%\n"
    }
   }
  },
  {
   "cell_type": "code",
   "execution_count": 78,
   "outputs": [],
   "source": [
    "import openpyxl\n",
    "result_df.to_excel('output/dom_objects.xlsx')"
   ],
   "metadata": {
    "collapsed": false,
    "pycharm": {
     "name": "#%%\n"
    }
   }
  },
  {
   "cell_type": "code",
   "execution_count": 79,
   "outputs": [],
   "source": [
    "result_df.to_pickle(\"output/dom_objeckts.pkl\")"
   ],
   "metadata": {
    "collapsed": false,
    "pycharm": {
     "name": "#%%\n"
    }
   }
  },
  {
   "cell_type": "code",
   "execution_count": 84,
   "outputs": [
    {
     "name": "stdout",
     "output_type": "stream",
     "text": [
      "(10616,)\n"
     ]
    }
   ],
   "source": [
    "from sqlalchemy import create_engine\n",
    "result_df_str =  result_df.applymap(str)\n",
    "engine = create_engine('sqlite://', echo=False)\n",
    "result_df_str.to_sql('dom_objects', con=engine)\n",
    "for row in engine.execute(\"select count(*) from dom_objects\"):\n",
    "    print(row)"
   ],
   "metadata": {
    "collapsed": false,
    "pycharm": {
     "name": "#%%\n"
    }
   }
  },
  {
   "cell_type": "code",
   "execution_count": null,
   "outputs": [],
   "source": [],
   "metadata": {
    "collapsed": false,
    "pycharm": {
     "name": "#%%\n"
    }
   }
  }
 ],
 "metadata": {
  "kernelspec": {
   "display_name": "Python 3",
   "language": "python",
   "name": "python3"
  },
  "language_info": {
   "codemirror_mode": {
    "name": "ipython",
    "version": 2
   },
   "file_extension": ".py",
   "mimetype": "text/x-python",
   "name": "python",
   "nbconvert_exporter": "python",
   "pygments_lexer": "ipython2",
   "version": "2.7.6"
  }
 },
 "nbformat": 4,
 "nbformat_minor": 0
}